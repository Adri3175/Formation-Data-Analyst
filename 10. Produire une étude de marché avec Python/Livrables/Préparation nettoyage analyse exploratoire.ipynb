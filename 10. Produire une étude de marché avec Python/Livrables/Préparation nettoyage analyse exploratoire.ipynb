{
 "cells": [
  {
   "cell_type": "markdown",
   "metadata": {},
   "source": [
    "<div style=\"display: flex; background-color: RGB(255,154,100);\" >\n",
    "  <h1 style=\"margin: auto; padding: 30px; text-align: center;\">\n",
    "    <span>ETUDE DE MARCHÉ / LA POULE QUI CHANTE</span><br>\n",
    "    <span>Nettoyage des données</span>\n",
    "  </h1>\n",
    "</div>"
   ]
  },
  {
   "cell_type": "markdown",
   "metadata": {},
   "source": [
    "# OBJECTIFS DE CE NOTEBOOK\n",
    "#### - Importer les données issues de différentes sources\n",
    "#### - Comprendre et maîtriser le jeu de données\n",
    "#### - Uniformiser et consolider les données\n",
    "#### - Exporter un fichier avec des données propres et complètes"
   ]
  },
  {
   "cell_type": "markdown",
   "metadata": {},
   "source": [
    "## Sommaire\n",
    "\n",
    "- [Etape 1 - Importation des librairies et chargement des fichiers](#etape-1)\n",
    "  - [1.1 Importation des librairies](#1-1)\n",
    "  - [1.2 Importation des fichiers](#1-2)\n",
    "- [Etape 2 - Analyse exploratoire des fichiers](#etape-2)\n",
    "  - [2.1 Fichier Population](#2-1)\n",
    "  - [2.2 Fichier PIB/habitant](#2-2)\n",
    "  - [2.3 Fichier Stabilité politique](#2-3)\n",
    "  - [2.4 Fichier Performance logistique](#2-4)\n",
    "  - [2.5 Fichier Imposition sociétés](#2-5)\n",
    "  - [2.6 Fichier Disponibilité alimentaire](#2-6)\n",
    "- [Etape 3 - Jonction des fichiers](#etape-3)\n",
    "  - [3.1 Jonction des fichiers issus de la banque mondiale](#3-1)\n",
    "  - [3.2 Harmonisation des noms des pays](#3-2)\n",
    "  - [3.3 Jointure finale avec les données FAO](#3-3)\n",
    "- [Etape 4 - Finalisation de la base de données](#etape-4)\n",
    "  - [4.1 Création des dernières colonnes calculées](#4-1)\n",
    "  - [4.2 Analyse exploratoire des colonnes calculées](#4-2)\n",
    "  - [4.3 Derniers ajustements](#4-3)\n",
    "- [Etape 5 - Exportation des données](#etape-5)"
   ]
  },
  {
   "cell_type": "markdown",
   "metadata": {},
   "source": [
    "<div style=\"background-color: RGB(255,164,100);\">\n",
    "    <h2 id=\"etape-1\" style=\"margin: auto; padding: 20px;\">Etape 1 - Importation des librairies et chargement des fichiers</h2>\n",
    "</div>"
   ]
  },
  {
   "cell_type": "markdown",
   "metadata": {},
   "source": [
    "<div style=\"border: 1px solid RGB(255,184,100);\" >\n",
    "  <h3 id=\"1-1\" style=\"margin: auto; padding: 20px; color: RGB(255,184,100);\">1.1 - Importation des librairies</h3>\n",
    "</div>\n"
   ]
  },
  {
   "cell_type": "code",
   "execution_count": 63,
   "metadata": {},
   "outputs": [],
   "source": [
    "# Importation de la librairie Pandas\n",
    "import pandas as pd\n",
    "# Importation de la librairie Matplotlib\n",
    "import matplotlib.pyplot as plt\n",
    "# Importation de la librairie Seaborn\n",
    "import seaborn as sns\n",
    "# Importation de la librairie Plotly\n",
    "import plotly.express as px\n",
    "# Importation de la librairie Numpy\n",
    "import numpy as np\n",
    "# Importation de la librairie Networkx\n",
    "import networkx as nx"
   ]
  },
  {
   "cell_type": "code",
   "execution_count": 64,
   "metadata": {},
   "outputs": [
    {
     "name": "stdout",
     "output_type": "stream",
     "text": [
      "Requirement already satisfied: pandas in /opt/anaconda3/lib/python3.11/site-packages (2.2.2)\n",
      "Requirement already satisfied: numpy>=1.23.2 in /opt/anaconda3/lib/python3.11/site-packages (from pandas) (1.26.4)\n",
      "Requirement already satisfied: python-dateutil>=2.8.2 in /opt/anaconda3/lib/python3.11/site-packages (from pandas) (2.8.2)\n",
      "Requirement already satisfied: pytz>=2020.1 in /opt/anaconda3/lib/python3.11/site-packages (from pandas) (2023.3.post1)\n",
      "Requirement already satisfied: tzdata>=2022.7 in /opt/anaconda3/lib/python3.11/site-packages (from pandas) (2023.3)\n",
      "Requirement already satisfied: six>=1.5 in /opt/anaconda3/lib/python3.11/site-packages (from python-dateutil>=2.8.2->pandas) (1.16.0)\n",
      "Requirement already satisfied: xlrd in /opt/anaconda3/lib/python3.11/site-packages (2.0.1)\n"
     ]
    }
   ],
   "source": [
    "!pip install pandas\n",
    "!pip install xlrd"
   ]
  },
  {
   "cell_type": "markdown",
   "metadata": {},
   "source": [
    "Liste des librairies utilisés :\n",
    "- pandas (2.2.2)\n",
    "- numpy (1.26.4)\n",
    "- python-dateutil (2.8.2)\n",
    "- pytz (2023.3.post1)\n",
    "- tzdata (2023.3)\n",
    "- six (1.16.0)"
   ]
  },
  {
   "cell_type": "markdown",
   "metadata": {},
   "source": [
    "<div style=\"border: 1px solid RGB(255,184,100);\" >\n",
    "  <h3 id=\"1-2\" style=\"margin: auto; padding: 20px; color: RGB(255,184,100);\">1.2 - Importation des fichiers</h3>\n",
    "</div>"
   ]
  },
  {
   "cell_type": "code",
   "execution_count": 65,
   "metadata": {},
   "outputs": [],
   "source": [
    "# Importation du fichier Population\n",
    "chemin_fichier_population = '/Users/adrianaguilera/Desktop/P11/Data utilisée/BM population.xls'\n",
    "population = pd.read_excel(chemin_fichier_population)\n",
    "# Importation du fichier Pib/habitant\n",
    "chemin_fichier_pib = '/Users/adrianaguilera/Desktop/P11/Data utilisée/BM PIB par habitant.xls'\n",
    "pib = pd.read_excel(chemin_fichier_pib)\n",
    "# Importation du fichier Stabilité politique\n",
    "chemin_fichier_stab_pol = '/Users/adrianaguilera/Desktop/P11/Data utilisée/BM stabilité politique.xls'\n",
    "stab_pol = pd.read_excel(chemin_fichier_stab_pol)\n",
    "# Importation du fichier Performance logistique\n",
    "chemin_fichier_performance_logistique = '/Users/adrianaguilera/Desktop/P11/Data utilisée/BM indice performance logistique.xls'\n",
    "performance_logistique = pd.read_excel(chemin_fichier_performance_logistique)\n",
    "# Importation du fichier Imposition sociétés\n",
    "chemin_fichier_imposition = '/Users/adrianaguilera/Desktop/P11/Data utilisée/BM Imposition sociétés.xls'\n",
    "fiscalite = pd.read_excel(chemin_fichier_imposition)\n",
    "# Importation du fichier Disponibilité alimentaire\n",
    "chemin_fichier_dispo_alimentaire = '/Users/adrianaguilera/Desktop/P11/Data utilisée/FAOSTAT_disponibilité alimentaire.xls'\n",
    "dispo_alimentaire = pd.read_excel(chemin_fichier_dispo_alimentaire)"
   ]
  },
  {
   "cell_type": "markdown",
   "metadata": {},
   "source": [
    "<div style=\"background-color: RGB(255,164,100);\" >\n",
    "  <h2 id=\"etape-2\" style=\"margin: auto; padding: 20px;\">Etape 2 - Analyse exploratoire des fichiers</h2>\n",
    "</div>"
   ]
  },
  {
   "cell_type": "markdown",
   "metadata": {},
   "source": [
    "<div style=\"border: 1px solid RGB(255,184,100);\" >\n",
    "  <h3 id=\"2-1\" style=\"margin: auto; padding: 20px; color: RGB(255,184,100);\">2.1 - Fichier population</h3>\n",
    "</div>"
   ]
  },
  {
   "cell_type": "code",
   "execution_count": 66,
   "metadata": {},
   "outputs": [
    {
     "data": {
      "text/html": [
       "<div>\n",
       "<style scoped>\n",
       "    .dataframe tbody tr th:only-of-type {\n",
       "        vertical-align: middle;\n",
       "    }\n",
       "\n",
       "    .dataframe tbody tr th {\n",
       "        vertical-align: top;\n",
       "    }\n",
       "\n",
       "    .dataframe thead th {\n",
       "        text-align: right;\n",
       "    }\n",
       "</style>\n",
       "<table border=\"1\" class=\"dataframe\">\n",
       "  <thead>\n",
       "    <tr style=\"text-align: right;\">\n",
       "      <th></th>\n",
       "      <th>Data Source</th>\n",
       "      <th>Indicateurs du développement dans le monde</th>\n",
       "      <th>Unnamed: 2</th>\n",
       "      <th>Unnamed: 3</th>\n",
       "      <th>Unnamed: 4</th>\n",
       "      <th>Unnamed: 5</th>\n",
       "      <th>Unnamed: 6</th>\n",
       "      <th>Unnamed: 7</th>\n",
       "      <th>Unnamed: 8</th>\n",
       "      <th>Unnamed: 9</th>\n",
       "      <th>...</th>\n",
       "      <th>Unnamed: 58</th>\n",
       "      <th>Unnamed: 59</th>\n",
       "      <th>Unnamed: 60</th>\n",
       "      <th>Unnamed: 61</th>\n",
       "      <th>Unnamed: 62</th>\n",
       "      <th>Unnamed: 63</th>\n",
       "      <th>Unnamed: 64</th>\n",
       "      <th>Unnamed: 65</th>\n",
       "      <th>Unnamed: 66</th>\n",
       "      <th>Unnamed: 67</th>\n",
       "    </tr>\n",
       "  </thead>\n",
       "  <tbody>\n",
       "    <tr>\n",
       "      <th>0</th>\n",
       "      <td>Last Updated Date</td>\n",
       "      <td>2024-12-16 00:00:00</td>\n",
       "      <td>NaN</td>\n",
       "      <td>NaN</td>\n",
       "      <td>NaN</td>\n",
       "      <td>NaN</td>\n",
       "      <td>NaN</td>\n",
       "      <td>NaN</td>\n",
       "      <td>NaN</td>\n",
       "      <td>NaN</td>\n",
       "      <td>...</td>\n",
       "      <td>NaN</td>\n",
       "      <td>NaN</td>\n",
       "      <td>NaN</td>\n",
       "      <td>NaN</td>\n",
       "      <td>NaN</td>\n",
       "      <td>NaN</td>\n",
       "      <td>NaN</td>\n",
       "      <td>NaN</td>\n",
       "      <td>NaN</td>\n",
       "      <td>NaN</td>\n",
       "    </tr>\n",
       "    <tr>\n",
       "      <th>1</th>\n",
       "      <td>NaN</td>\n",
       "      <td>NaN</td>\n",
       "      <td>NaN</td>\n",
       "      <td>NaN</td>\n",
       "      <td>NaN</td>\n",
       "      <td>NaN</td>\n",
       "      <td>NaN</td>\n",
       "      <td>NaN</td>\n",
       "      <td>NaN</td>\n",
       "      <td>NaN</td>\n",
       "      <td>...</td>\n",
       "      <td>NaN</td>\n",
       "      <td>NaN</td>\n",
       "      <td>NaN</td>\n",
       "      <td>NaN</td>\n",
       "      <td>NaN</td>\n",
       "      <td>NaN</td>\n",
       "      <td>NaN</td>\n",
       "      <td>NaN</td>\n",
       "      <td>NaN</td>\n",
       "      <td>NaN</td>\n",
       "    </tr>\n",
       "    <tr>\n",
       "      <th>2</th>\n",
       "      <td>Country Name</td>\n",
       "      <td>Country Code</td>\n",
       "      <td>Indicator Name</td>\n",
       "      <td>Indicator Code</td>\n",
       "      <td>1960.0</td>\n",
       "      <td>1961.0</td>\n",
       "      <td>1962.0</td>\n",
       "      <td>1963.0</td>\n",
       "      <td>1964.0</td>\n",
       "      <td>1965.0</td>\n",
       "      <td>...</td>\n",
       "      <td>2014.0</td>\n",
       "      <td>2015.0</td>\n",
       "      <td>2016.0</td>\n",
       "      <td>2017.0</td>\n",
       "      <td>2018.0</td>\n",
       "      <td>2019.0</td>\n",
       "      <td>2020.0</td>\n",
       "      <td>2021.0</td>\n",
       "      <td>2022.0</td>\n",
       "      <td>2023.0</td>\n",
       "    </tr>\n",
       "    <tr>\n",
       "      <th>3</th>\n",
       "      <td>Aruba</td>\n",
       "      <td>ABW</td>\n",
       "      <td>Population, total</td>\n",
       "      <td>SP.POP.TOTL</td>\n",
       "      <td>54922.0</td>\n",
       "      <td>55578.0</td>\n",
       "      <td>56320.0</td>\n",
       "      <td>57002.0</td>\n",
       "      <td>57619.0</td>\n",
       "      <td>58190.0</td>\n",
       "      <td>...</td>\n",
       "      <td>106807.0</td>\n",
       "      <td>107906.0</td>\n",
       "      <td>108727.0</td>\n",
       "      <td>108735.0</td>\n",
       "      <td>108908.0</td>\n",
       "      <td>109203.0</td>\n",
       "      <td>108587.0</td>\n",
       "      <td>107700.0</td>\n",
       "      <td>107310.0</td>\n",
       "      <td>107359.0</td>\n",
       "    </tr>\n",
       "    <tr>\n",
       "      <th>4</th>\n",
       "      <td>NaN</td>\n",
       "      <td>AFE</td>\n",
       "      <td>Population, total</td>\n",
       "      <td>SP.POP.TOTL</td>\n",
       "      <td>130072080.0</td>\n",
       "      <td>133534923.0</td>\n",
       "      <td>137171659.0</td>\n",
       "      <td>140945536.0</td>\n",
       "      <td>144904094.0</td>\n",
       "      <td>149033472.0</td>\n",
       "      <td>...</td>\n",
       "      <td>590968990.0</td>\n",
       "      <td>607123269.0</td>\n",
       "      <td>623369401.0</td>\n",
       "      <td>640058741.0</td>\n",
       "      <td>657801085.0</td>\n",
       "      <td>675950189.0</td>\n",
       "      <td>694446100.0</td>\n",
       "      <td>713090928.0</td>\n",
       "      <td>731821393.0</td>\n",
       "      <td>750503764.0</td>\n",
       "    </tr>\n",
       "  </tbody>\n",
       "</table>\n",
       "<p>5 rows × 68 columns</p>\n",
       "</div>"
      ],
      "text/plain": [
       "         Data Source Indicateurs du développement dans le monde  \\\n",
       "0  Last Updated Date                        2024-12-16 00:00:00   \n",
       "1                NaN                                        NaN   \n",
       "2       Country Name                               Country Code   \n",
       "3              Aruba                                        ABW   \n",
       "4                NaN                                        AFE   \n",
       "\n",
       "          Unnamed: 2      Unnamed: 3   Unnamed: 4   Unnamed: 5   Unnamed: 6  \\\n",
       "0                NaN             NaN          NaN          NaN          NaN   \n",
       "1                NaN             NaN          NaN          NaN          NaN   \n",
       "2     Indicator Name  Indicator Code       1960.0       1961.0       1962.0   \n",
       "3  Population, total     SP.POP.TOTL      54922.0      55578.0      56320.0   \n",
       "4  Population, total     SP.POP.TOTL  130072080.0  133534923.0  137171659.0   \n",
       "\n",
       "    Unnamed: 7   Unnamed: 8   Unnamed: 9  ...  Unnamed: 58  Unnamed: 59  \\\n",
       "0          NaN          NaN          NaN  ...          NaN          NaN   \n",
       "1          NaN          NaN          NaN  ...          NaN          NaN   \n",
       "2       1963.0       1964.0       1965.0  ...       2014.0       2015.0   \n",
       "3      57002.0      57619.0      58190.0  ...     106807.0     107906.0   \n",
       "4  140945536.0  144904094.0  149033472.0  ...  590968990.0  607123269.0   \n",
       "\n",
       "   Unnamed: 60  Unnamed: 61  Unnamed: 62  Unnamed: 63  Unnamed: 64  \\\n",
       "0          NaN          NaN          NaN          NaN          NaN   \n",
       "1          NaN          NaN          NaN          NaN          NaN   \n",
       "2       2016.0       2017.0       2018.0       2019.0       2020.0   \n",
       "3     108727.0     108735.0     108908.0     109203.0     108587.0   \n",
       "4  623369401.0  640058741.0  657801085.0  675950189.0  694446100.0   \n",
       "\n",
       "   Unnamed: 65  Unnamed: 66  Unnamed: 67  \n",
       "0          NaN          NaN          NaN  \n",
       "1          NaN          NaN          NaN  \n",
       "2       2021.0       2022.0       2023.0  \n",
       "3     107700.0     107310.0     107359.0  \n",
       "4  713090928.0  731821393.0  750503764.0  \n",
       "\n",
       "[5 rows x 68 columns]"
      ]
     },
     "execution_count": 66,
     "metadata": {},
     "output_type": "execute_result"
    }
   ],
   "source": [
    "# Aperçu de la df\n",
    "population.head()"
   ]
  },
  {
   "cell_type": "code",
   "execution_count": 67,
   "metadata": {},
   "outputs": [
    {
     "name": "stdout",
     "output_type": "stream",
     "text": [
      "\n",
      "=== Analyse de Population ===\n",
      "Le tableau comporte 266 observation(s) ou article(s)\n",
      "Le tableau comporte 2 colonne(s).\n",
      "\n",
      "Nature des données dans chacune des colonnes :\n",
      "Pays          object\n",
      "Population     int64\n",
      "dtype: object\n",
      "\n",
      "Nombre de valeurs présentes dans chacune des colonnes :\n",
      "Pays          264\n",
      "Population    266\n",
      "dtype: int64\n",
      "\n",
      "Nombre de valeurs uniques dans chacune des colonnes :\n",
      "Pays          264\n",
      "Population    264\n",
      "dtype: int64\n",
      "\n",
      "Nombre de doublons présents dans chacune des colonnes :\n",
      "Pays          0\n",
      "Population    2\n",
      "dtype: int64\n",
      "\n",
      "Nombre de valeurs nulles présentes dans chacune des colonnes :\n",
      "Pays          2\n",
      "Population    0\n",
      "dtype: int64\n",
      "\n",
      "Aperçu des 5 premières lignes de la table :\n",
      "          Pays  Population\n",
      "0        Aruba      107359\n",
      "1          NaN   750503764\n",
      "2  Afghanistan    41454761\n",
      "3          NaN   509398589\n",
      "4       Angola    36749906\n"
     ]
    }
   ],
   "source": [
    "# Définir la troisième ligne comme noms des colonnes\n",
    "population.columns = population.iloc[2]  \n",
    "# Supprimer les trois premières lignes et réindexer\n",
    "population = population[3:].reset_index(drop=True)\n",
    "# Ne garder que les colonnes \"Pays\" et \"Population\" (année 2023)\n",
    "population = population[[\"Country Name\", 2023.0]].rename(columns={\"Country Name\": \"Pays\", 2023.0: \"Population\"})\n",
    "population.columns = [\"Pays\", \"Population\"]\n",
    "# Modifier le type de la colonne population\n",
    "population[\"Population\"] = population[\"Population\"].fillna(0).astype(int)\n",
    "# Afficher une brève analyse de la df\n",
    "from fonctions_universelles import analyser_dataframe\n",
    "analyser_dataframe(population, \"Population\")"
   ]
  },
  {
   "cell_type": "code",
   "execution_count": 68,
   "metadata": {},
   "outputs": [
    {
     "name": "stdout",
     "output_type": "stream",
     "text": [
      "  Pays  Population\n",
      "1  NaN   750503764\n",
      "3  NaN   509398589\n",
      "['Aruba', 'Afghanistan', 'Angola', 'Albanie', 'Andorre', 'Le monde arabe', 'Émirats arabes unis', 'Argentine', 'Arménie', 'Samoa américaines', 'Antigua-et-Barbuda', 'Australie', 'Autriche', 'Azerbaïdjan', 'Burundi', 'Belgique', 'Bénin', 'Burkina Faso', 'Bangladesh', 'Bulgarie', 'Bahreïn', 'Bahamas', 'Bosnie-Herzégovine', 'Bélarus', 'Belize', 'Bermudes', 'Bolivie', 'Brésil', 'Barbade', 'Brunéi Darussalam', 'Bhoutan', 'Botswana', 'République centrafricaine', 'Canada', 'Europe centrale et les pays baltes', 'Suisse', 'Îles Anglo-Normandes', 'Chili', 'Chine', \"Côte d'Ivoire\", 'Cameroun', 'Congo, République démocratique du', 'Congo, République du', 'Colombie', 'Comores', 'Cabo Verde', 'Costa Rica', 'Petits états des Caraïbes', 'Cuba', 'Curacao', 'Îles Caïmans', 'Chypre', 'République tchèque', 'Allemagne', 'Djibouti', 'Dominique', 'Danemark', 'République dominicaine', 'Algérie', 'Asie de l’Est et Pacifique (hors revenu élevé)', 'de dividende précoce démographique', 'Asie de l’Est et Pacifique', 'Europe et Asie centrale (hors revenu élevé)', 'Europe et Asie centrale', 'Équateur', 'Égypte, République arabe d’', 'Zone euro', 'Érythrée', 'Espagne', 'Estonie', 'Éthiopie', 'Union européenne', 'Fragile et les situations de conflit touchées', 'Finlande', 'Fidji', 'France', 'Îles Féroé', 'Micronésie, États fédérés de', 'Gabon', 'Royaume-Uni', 'Géorgie', 'Ghana', 'Gibraltar', 'Guinée', 'Gambie', 'Guinée-Bissau', 'Guinée équatoriale', 'Grèce', 'Grenade', 'Groenland', 'Guatemala', 'Guam', 'Guyana', 'Revenu élevé', 'Chine, RAS de Hong Kong', 'Honduras', 'Pays pauvres très endettés (PPTE)', 'Croatie', 'Haïti', 'Hongrie', 'BIRD seulement', 'BIRD et IDA', 'IDA totale', 'IDA mélange', 'Indonésie', 'IDA seulement', 'Île de Man', 'Inde', 'Non classifié', 'Irlande', 'Iran, République islamique d’', 'Iraq', 'Islande', 'Israël', 'Italie', 'Jamaïque', 'Jordanie', 'Japon', 'Kazakhstan', 'Kenya', 'République kirghize', 'Cambodge', 'Kiribati', 'Saint-Kitts-et-Nevis', 'Corée, République de', 'Koweït', 'Amérique latine et Caraïbes (hors revenu élevé)', 'République démocratique populaire lao', 'Liban', 'Libéria', 'Libye', 'Sainte-Lucie', 'Amérique latine et Caraïbes', 'Pays les moins avancés: classement de l’ONU', 'Faible revenu', 'Liechtenstein', 'Sri Lanka', 'Revenu intermédiaire, tranche inférieure', 'Revenu faible et intermédiaire', 'Lesotho', 'de dividende tardif démographique', 'Lituanie', 'Luxembourg', 'Lettonie', 'Région administrative spéciale de Macao, Chine', 'Saint-Martin (fr)', 'Maroc', 'Monaco', 'Moldova', 'Madagascar', 'Maldives', 'Afrique du Nord et Moyen-Orient', 'Mexique', 'Îles Marshall', 'Revenu intermédiaire', 'Macédoine du Nord', 'Mali', 'Malte', 'Myanmar', 'Afrique du Nord et Moyen-Orient (hors revenu élevé)', 'Monténégro', 'Mongolie', 'Mariannes', 'Mozambique', 'Mauritanie', 'Maurice', 'Malawi', 'Malaisie', 'Amérique du Nord', 'Namibie', 'Nouvelle-Calédonie', 'Niger', 'Nigéria', 'Nicaragua', 'Pays-Bas', 'Norvège', 'Népal', 'Nauru', 'Nouvelle-Zélande', \"Pays membres de l'OCDE\", 'Oman', 'Autres petits états', 'Pakistan', 'Panama', 'Pérou', 'Philippines', 'Palaos', 'Papouasie-Nouvelle-Guinée', 'Pologne', 'de Pré-dividende démographique', 'Porto Rico', 'Corée, République démocratique de', 'Portugal', 'Paraguay', 'Cisjordanie et Gaza', 'Petits états insulaires du Pacifique', 'de Post-dividende démographique', 'Polynésie française', 'Qatar', 'Roumanie', 'Fédération de Russie', 'Rwanda', 'Asie du Sud', 'Arabie saoudite', 'Soudan', 'Sénégal', 'Singapour', 'Îles Salomon', 'Sierra Leone', 'El Salvador', 'Saint-Marin', 'Somalie', 'Serbie', 'Afrique subsaharienne (hors revenu élevé)', 'Soudan du Sud', 'Afrique subsaharienne', 'Petits états', 'Sao Tomé-et-Principe', 'Suriname', 'République slovaque', 'Slovénie', 'Suède', 'Eswatini', 'Sint Maarten (Dutch part)', 'Seychelles', 'République arabe syrienne', 'Îles Turques-et-Caïques', 'Tchad', 'Asie de l’Est et Pacifique (BIRD et IDA)', 'Europe et Asie centrale (BIRD et IDA)', 'Togo', 'Thaïlande', 'Tadjikistan', 'Turkménistan', 'Amérique latine et Caraïbes (BIRD et IDA)', 'Timor-Leste', 'Afrique du Nord et Moyen-Orient (BIRD et IDA)', 'Tonga', 'Asie du Sud (BIRD et IDA)', 'Afrique subsaharienne (BIRD et IDA)', 'Trinité-et-Tobago', 'Tunisie', 'Turquie', 'Tuvalu', 'Tanzanie', 'Ouganda', 'Ukraine', 'Revenu intermédiaire, tranche supérieure', 'Uruguay', 'États-Unis', 'Ouzbékistan', 'Saint-Vincent-et-les Grenadines', 'Venezuela', 'Îles Vierges britanniques', 'Îles Vierges (EU)', 'Viet Nam', 'Vanuatu', 'Monde', 'Samoa', 'Kosovo', 'Yémen, Rép. du', 'Afrique du Sud', 'Zambie', 'Zimbabwe']\n"
     ]
    }
   ],
   "source": [
    "# Nombre initial de lignes\n",
    "pop_lignes = len(population)\n",
    "# Afficher les pays non renseignés\n",
    "print(population[population.isna().any(axis=1)])\n",
    "# Supprimer les pays non renseignés\n",
    "population = population.dropna()\n",
    "# Nombre de lignes après suppression des noms de pays non renseignés\n",
    "pop_lignes2 = len(population)\n",
    "# Vérifier la liste de pays afin d'éliminer les régions et les erreurs\n",
    "print(population[\"Pays\"].tolist())"
   ]
  },
  {
   "cell_type": "code",
   "execution_count": 69,
   "metadata": {},
   "outputs": [
    {
     "name": "stdout",
     "output_type": "stream",
     "text": [
      "Pays          213\n",
      "Population    213\n",
      "dtype: int64\n"
     ]
    },
    {
     "data": {
      "text/html": [
       "<div>\n",
       "<style scoped>\n",
       "    .dataframe tbody tr th:only-of-type {\n",
       "        vertical-align: middle;\n",
       "    }\n",
       "\n",
       "    .dataframe tbody tr th {\n",
       "        vertical-align: top;\n",
       "    }\n",
       "\n",
       "    .dataframe thead th {\n",
       "        text-align: right;\n",
       "    }\n",
       "</style>\n",
       "<table border=\"1\" class=\"dataframe\">\n",
       "  <thead>\n",
       "    <tr style=\"text-align: right;\">\n",
       "      <th></th>\n",
       "      <th>Population</th>\n",
       "    </tr>\n",
       "  </thead>\n",
       "  <tbody>\n",
       "    <tr>\n",
       "      <th>count</th>\n",
       "      <td>2.130000e+02</td>\n",
       "    </tr>\n",
       "    <tr>\n",
       "      <th>mean</th>\n",
       "      <td>3.773720e+07</td>\n",
       "    </tr>\n",
       "    <tr>\n",
       "      <th>std</th>\n",
       "      <td>1.433993e+08</td>\n",
       "    </tr>\n",
       "    <tr>\n",
       "      <th>min</th>\n",
       "      <td>9.816000e+03</td>\n",
       "    </tr>\n",
       "    <tr>\n",
       "      <th>25%</th>\n",
       "      <td>1.152944e+06</td>\n",
       "    </tr>\n",
       "    <tr>\n",
       "      <th>50%</th>\n",
       "      <td>6.844146e+06</td>\n",
       "    </tr>\n",
       "    <tr>\n",
       "      <th>75%</th>\n",
       "      <td>2.665895e+07</td>\n",
       "    </tr>\n",
       "    <tr>\n",
       "      <th>max</th>\n",
       "      <td>1.438070e+09</td>\n",
       "    </tr>\n",
       "  </tbody>\n",
       "</table>\n",
       "</div>"
      ],
      "text/plain": [
       "         Population\n",
       "count  2.130000e+02\n",
       "mean   3.773720e+07\n",
       "std    1.433993e+08\n",
       "min    9.816000e+03\n",
       "25%    1.152944e+06\n",
       "50%    6.844146e+06\n",
       "75%    2.665895e+07\n",
       "max    1.438070e+09"
      ]
     },
     "execution_count": 69,
     "metadata": {},
     "output_type": "execute_result"
    }
   ],
   "source": [
    "# Supprimer ces pays de la DataFrame\n",
    "pays_a_supprimer = [\n",
    "    'Le monde arabe', 'Europe centrale et les pays baltes', 'Îles Anglo-Normandes', \n",
    "    'Petits états des Caraïbes', 'Asie de l’Est et Pacifique (hors revenu élevé)', \n",
    "    'de dividende précoce démographique', 'Asie de l’Est et Pacifique', \n",
    "    'Europe et Asie centrale (hors revenu élevé)', 'Europe et Asie centrale', \n",
    "    'Zone euro', 'Union européenne', 'Fragile et les situations de conflit touchées', \n",
    "    'Guam', 'Revenu élevé', 'Pays pauvres très endettés (PPTE)', 'BIRD seulement', \n",
    "    'BIRD et IDA', 'IDA totale', 'IDA mélange', 'IDA seulement', 'Non classifié', \n",
    "    'Amérique latine et Caraïbes (hors revenu élevé)', 'Amérique latine et Caraïbes', \n",
    "    'Pays les moins avancés: classement de l’ONU', 'Faible revenu', \n",
    "    'Revenu intermédiaire, tranche inférieure', 'Revenu faible et intermédiaire', \n",
    "    'de dividende tardif démographique', 'Afrique du Nord et Moyen-Orient', 'Revenu intermédiaire', \n",
    "    'Afrique du Nord et Moyen-Orient (hors revenu élevé)', 'Amérique du Nord', \n",
    "    \"Pays membres de l'OCDE\", 'Autres petits états', 'de Pré-dividende démographique', \n",
    "    'Petits états insulaires du Pacifique', 'de Post-dividende démographique', \n",
    "    'Afrique subsaharienne (hors revenu élevé)', 'Afrique subsaharienne', 'Petits états', \n",
    "    'Asie de l’Est et Pacifique (BIRD et IDA)', 'Europe et Asie centrale (BIRD et IDA)', \n",
    "    'Amérique latine et Caraïbes (BIRD et IDA)', 'Afrique du Nord et Moyen-Orient (BIRD et IDA)', \n",
    "    'Asie du Sud (BIRD et IDA)', 'Afrique subsaharienne (BIRD et IDA)', \n",
    "    'Revenu intermédiaire, tranche supérieure', 'Îles Vierges (EU)', \n",
    "    'Îles Vierges britanniques', 'Monde', 'Asie du Sud'\n",
    "]\n",
    "population = population[~population[\"Pays\"].isin(pays_a_supprimer)].reset_index(drop=True)\n",
    "# Vérifier si les pays sont supprimés\n",
    "print(population.count())\n",
    "# Nombre de lignes après suppression groupes de pays\n",
    "pop_lignes3 = len(population)\n",
    "# Afficher un aperçu rapide des données\n",
    "population.describe()"
   ]
  },
  {
   "cell_type": "code",
   "execution_count": 70,
   "metadata": {},
   "outputs": [
    {
     "name": "stdout",
     "output_type": "stream",
     "text": [
      "📊 Nettoyage des données :\n",
      "Départ : 266 lignes\n",
      " ├── Suppression des pays sans nom   ➝  264 lignes  (-2)\n",
      " └── Suppression des groupes de pays ➝  213 lignes  (-51)\n",
      "Arrivée : 213 lignes restantes\n"
     ]
    }
   ],
   "source": [
    "print(\"📊 Nettoyage des données :\")\n",
    "print(f\"Départ : {pop_lignes} lignes\")\n",
    "print(f\" ├── Suppression des pays sans nom   ➝  {pop_lignes2} lignes  (-{pop_lignes - pop_lignes2})\")\n",
    "print(f\" └── Suppression des groupes de pays ➝  {pop_lignes3} lignes  (-{pop_lignes2 - pop_lignes3})\")\n",
    "print(f\"Arrivée : {pop_lignes3} lignes restantes\")"
   ]
  },
  {
   "cell_type": "code",
   "execution_count": 71,
   "metadata": {},
   "outputs": [
    {
     "name": "stdout",
     "output_type": "stream",
     "text": [
      "Nombre d'outliers : 23\n",
      "Pays concernés :\n",
      "['Bangladesh', 'Brésil', 'Chine', 'Congo, République démocratique du', 'Allemagne', 'Égypte, République arabe d’', 'Éthiopie', 'France', 'Royaume-Uni', 'Indonésie', 'Inde', 'Iran, République islamique d’', 'Japon', 'Mexique', 'Nigéria', 'Pakistan', 'Philippines', 'Fédération de Russie', 'Thaïlande', 'Turquie', 'Tanzanie', 'États-Unis', 'Viet Nam']\n"
     ]
    },
    {
     "data": {
      "image/png": "[encoded data removed]",
      "text/plain": [
       "<Figure size 2000x600 with 1 Axes>"
      ]
     },
     "metadata": {},
     "output_type": "display_data"
    }
   ],
   "source": [
    "from fonctions_universelles import boxplot_colonne\n",
    "# Afficher le boxplot pour la population\n",
    "boxplot_colonne(population, \"Population\", \"Répartition de la population des pays\")"
   ]
  },
  {
   "cell_type": "markdown",
   "metadata": {},
   "source": [
    "### Le fichier **Population** va nous informer sur le **nombre d'habitants** présents dans **213 pays**. Il y a **23 outliers** dont 2 gros : l'Inde et la Chine avec + de 1,4 millards d'habitants"
   ]
  },
  {
   "cell_type": "markdown",
   "metadata": {},
   "source": [
    "<div style=\"border: 1px solid RGB(255,184,100);\" >\n",
    "  <h3 id=\"2-2\" style=\"margin: auto; padding: 20px; color: RGB(255,184,100);\">2.2 - Fichier PIB/habitant</h3>\n",
    "</div>"
   ]
  },
  {
   "cell_type": "code",
   "execution_count": 72,
   "metadata": {},
   "outputs": [
    {
     "data": {
      "text/html": [
       "<div>\n",
       "<style scoped>\n",
       "    .dataframe tbody tr th:only-of-type {\n",
       "        vertical-align: middle;\n",
       "    }\n",
       "\n",
       "    .dataframe tbody tr th {\n",
       "        vertical-align: top;\n",
       "    }\n",
       "\n",
       "    .dataframe thead th {\n",
       "        text-align: right;\n",
       "    }\n",
       "</style>\n",
       "<table border=\"1\" class=\"dataframe\">\n",
       "  <thead>\n",
       "    <tr style=\"text-align: right;\">\n",
       "      <th></th>\n",
       "      <th>Data Source</th>\n",
       "      <th>Indicateurs du développement dans le monde</th>\n",
       "      <th>Unnamed: 2</th>\n",
       "      <th>Unnamed: 3</th>\n",
       "      <th>Unnamed: 4</th>\n",
       "      <th>Unnamed: 5</th>\n",
       "      <th>Unnamed: 6</th>\n",
       "      <th>Unnamed: 7</th>\n",
       "      <th>Unnamed: 8</th>\n",
       "      <th>Unnamed: 9</th>\n",
       "      <th>...</th>\n",
       "      <th>Unnamed: 58</th>\n",
       "      <th>Unnamed: 59</th>\n",
       "      <th>Unnamed: 60</th>\n",
       "      <th>Unnamed: 61</th>\n",
       "      <th>Unnamed: 62</th>\n",
       "      <th>Unnamed: 63</th>\n",
       "      <th>Unnamed: 64</th>\n",
       "      <th>Unnamed: 65</th>\n",
       "      <th>Unnamed: 66</th>\n",
       "      <th>Unnamed: 67</th>\n",
       "    </tr>\n",
       "  </thead>\n",
       "  <tbody>\n",
       "    <tr>\n",
       "      <th>0</th>\n",
       "      <td>Last Updated Date</td>\n",
       "      <td>2024-12-16 00:00:00</td>\n",
       "      <td>NaN</td>\n",
       "      <td>NaN</td>\n",
       "      <td>NaN</td>\n",
       "      <td>NaN</td>\n",
       "      <td>NaN</td>\n",
       "      <td>NaN</td>\n",
       "      <td>NaN</td>\n",
       "      <td>NaN</td>\n",
       "      <td>...</td>\n",
       "      <td>NaN</td>\n",
       "      <td>NaN</td>\n",
       "      <td>NaN</td>\n",
       "      <td>NaN</td>\n",
       "      <td>NaN</td>\n",
       "      <td>NaN</td>\n",
       "      <td>NaN</td>\n",
       "      <td>NaN</td>\n",
       "      <td>NaN</td>\n",
       "      <td>NaN</td>\n",
       "    </tr>\n",
       "    <tr>\n",
       "      <th>1</th>\n",
       "      <td>NaN</td>\n",
       "      <td>NaN</td>\n",
       "      <td>NaN</td>\n",
       "      <td>NaN</td>\n",
       "      <td>NaN</td>\n",
       "      <td>NaN</td>\n",
       "      <td>NaN</td>\n",
       "      <td>NaN</td>\n",
       "      <td>NaN</td>\n",
       "      <td>NaN</td>\n",
       "      <td>...</td>\n",
       "      <td>NaN</td>\n",
       "      <td>NaN</td>\n",
       "      <td>NaN</td>\n",
       "      <td>NaN</td>\n",
       "      <td>NaN</td>\n",
       "      <td>NaN</td>\n",
       "      <td>NaN</td>\n",
       "      <td>NaN</td>\n",
       "      <td>NaN</td>\n",
       "      <td>NaN</td>\n",
       "    </tr>\n",
       "    <tr>\n",
       "      <th>2</th>\n",
       "      <td>Country Name</td>\n",
       "      <td>Country Code</td>\n",
       "      <td>Indicator Name</td>\n",
       "      <td>Indicator Code</td>\n",
       "      <td>1960.000000</td>\n",
       "      <td>1961.000000</td>\n",
       "      <td>1962.000000</td>\n",
       "      <td>1963.000000</td>\n",
       "      <td>1964.000000</td>\n",
       "      <td>1965.000000</td>\n",
       "      <td>...</td>\n",
       "      <td>2014.000000</td>\n",
       "      <td>2015.000000</td>\n",
       "      <td>2016.000000</td>\n",
       "      <td>2017.000000</td>\n",
       "      <td>2018.000000</td>\n",
       "      <td>2019.000000</td>\n",
       "      <td>2020.000000</td>\n",
       "      <td>2021.000000</td>\n",
       "      <td>2022.000000</td>\n",
       "      <td>2023.00000</td>\n",
       "    </tr>\n",
       "    <tr>\n",
       "      <th>3</th>\n",
       "      <td>Aruba</td>\n",
       "      <td>ABW</td>\n",
       "      <td>PIB par habitant ($ US courants)</td>\n",
       "      <td>NY.GDP.PCAP.CD</td>\n",
       "      <td>NaN</td>\n",
       "      <td>NaN</td>\n",
       "      <td>NaN</td>\n",
       "      <td>NaN</td>\n",
       "      <td>NaN</td>\n",
       "      <td>NaN</td>\n",
       "      <td>...</td>\n",
       "      <td>26129.839062</td>\n",
       "      <td>27458.225331</td>\n",
       "      <td>27441.529662</td>\n",
       "      <td>28440.051964</td>\n",
       "      <td>30082.127645</td>\n",
       "      <td>31096.205074</td>\n",
       "      <td>22855.932320</td>\n",
       "      <td>27200.061079</td>\n",
       "      <td>30559.533535</td>\n",
       "      <td>33984.79062</td>\n",
       "    </tr>\n",
       "    <tr>\n",
       "      <th>4</th>\n",
       "      <td>NaN</td>\n",
       "      <td>AFE</td>\n",
       "      <td>PIB par habitant ($ US courants)</td>\n",
       "      <td>NY.GDP.PCAP.CD</td>\n",
       "      <td>186.132432</td>\n",
       "      <td>186.947182</td>\n",
       "      <td>197.408105</td>\n",
       "      <td>225.447007</td>\n",
       "      <td>209.005786</td>\n",
       "      <td>226.883067</td>\n",
       "      <td>...</td>\n",
       "      <td>1656.107642</td>\n",
       "      <td>1479.564123</td>\n",
       "      <td>1329.777824</td>\n",
       "      <td>1520.171298</td>\n",
       "      <td>1538.924188</td>\n",
       "      <td>1493.780445</td>\n",
       "      <td>1344.080962</td>\n",
       "      <td>1522.590088</td>\n",
       "      <td>1628.024526</td>\n",
       "      <td>1659.51529</td>\n",
       "    </tr>\n",
       "  </tbody>\n",
       "</table>\n",
       "<p>5 rows × 68 columns</p>\n",
       "</div>"
      ],
      "text/plain": [
       "         Data Source Indicateurs du développement dans le monde  \\\n",
       "0  Last Updated Date                        2024-12-16 00:00:00   \n",
       "1                NaN                                        NaN   \n",
       "2       Country Name                               Country Code   \n",
       "3              Aruba                                        ABW   \n",
       "4                NaN                                        AFE   \n",
       "\n",
       "                         Unnamed: 2      Unnamed: 3   Unnamed: 4   Unnamed: 5  \\\n",
       "0                               NaN             NaN          NaN          NaN   \n",
       "1                               NaN             NaN          NaN          NaN   \n",
       "2                    Indicator Name  Indicator Code  1960.000000  1961.000000   \n",
       "3  PIB par habitant ($ US courants)  NY.GDP.PCAP.CD          NaN          NaN   \n",
       "4  PIB par habitant ($ US courants)  NY.GDP.PCAP.CD   186.132432   186.947182   \n",
       "\n",
       "    Unnamed: 6   Unnamed: 7   Unnamed: 8   Unnamed: 9  ...   Unnamed: 58  \\\n",
       "0          NaN          NaN          NaN          NaN  ...           NaN   \n",
       "1          NaN          NaN          NaN          NaN  ...           NaN   \n",
       "2  1962.000000  1963.000000  1964.000000  1965.000000  ...   2014.000000   \n",
       "3          NaN          NaN          NaN          NaN  ...  26129.839062   \n",
       "4   197.408105   225.447007   209.005786   226.883067  ...   1656.107642   \n",
       "\n",
       "    Unnamed: 59   Unnamed: 60   Unnamed: 61   Unnamed: 62   Unnamed: 63  \\\n",
       "0           NaN           NaN           NaN           NaN           NaN   \n",
       "1           NaN           NaN           NaN           NaN           NaN   \n",
       "2   2015.000000   2016.000000   2017.000000   2018.000000   2019.000000   \n",
       "3  27458.225331  27441.529662  28440.051964  30082.127645  31096.205074   \n",
       "4   1479.564123   1329.777824   1520.171298   1538.924188   1493.780445   \n",
       "\n",
       "    Unnamed: 64   Unnamed: 65   Unnamed: 66  Unnamed: 67  \n",
       "0           NaN           NaN           NaN          NaN  \n",
       "1           NaN           NaN           NaN          NaN  \n",
       "2   2020.000000   2021.000000   2022.000000   2023.00000  \n",
       "3  22855.932320  27200.061079  30559.533535  33984.79062  \n",
       "4   1344.080962   1522.590088   1628.024526   1659.51529  \n",
       "\n",
       "[5 rows x 68 columns]"
      ]
     },
     "execution_count": 72,
     "metadata": {},
     "output_type": "execute_result"
    }
   ],
   "source": [
    "# Aperçu de la df\n",
    "pib.head()"
   ]
  },
  {
   "cell_type": "code",
   "execution_count": 73,
   "metadata": {},
   "outputs": [
    {
     "name": "stdout",
     "output_type": "stream",
     "text": [
      "\n",
      "=== Analyse de PIB/Hab ===\n",
      "Le tableau comporte 266 observation(s) ou article(s)\n",
      "Le tableau comporte 2 colonne(s).\n",
      "\n",
      "Nature des données dans chacune des colonnes :\n",
      "Pays       object\n",
      "PIB/Hab     int64\n",
      "dtype: object\n",
      "\n",
      "Nombre de valeurs présentes dans chacune des colonnes :\n",
      "Pays       264\n",
      "PIB/Hab    266\n",
      "dtype: int64\n",
      "\n",
      "Nombre de valeurs uniques dans chacune des colonnes :\n",
      "Pays       264\n",
      "PIB/Hab    242\n",
      "dtype: int64\n",
      "\n",
      "Nombre de doublons présents dans chacune des colonnes :\n",
      "Pays        0\n",
      "PIB/Hab    24\n",
      "dtype: int64\n",
      "\n",
      "Nombre de valeurs nulles présentes dans chacune des colonnes :\n",
      "Pays       2\n",
      "PIB/Hab    0\n",
      "dtype: int64\n",
      "\n",
      "Aperçu des 5 premières lignes de la table :\n",
      "          Pays  PIB/Hab\n",
      "0        Aruba    33984\n",
      "1          NaN     1659\n",
      "2  Afghanistan      415\n",
      "3          NaN     1568\n",
      "4       Angola     2308\n"
     ]
    }
   ],
   "source": [
    "# Définir la troisième ligne comme noms des colonnes\n",
    "pib.columns = pib.iloc[2]  \n",
    "# Supprimer les trois premières lignes et réindexer\n",
    "pib = pib[3:].reset_index(drop=True)\n",
    "# Ne garder que les colonnes \"Pays\" et \"PIB/Hab\" (année 2023)\n",
    "pib = pib[[\"Country Name\", 2023.0]].rename(columns={\"Country Name\": \"Pays\", 2023.0: \"PIB/Hab\"})\n",
    "pib.columns = [\"Pays\", \"PIB/Hab\"]\n",
    "# Modifier le type de la colonne population\n",
    "pib[\"PIB/Hab\"] = pib[\"PIB/Hab\"].fillna(0).astype(int)\n",
    "# Afficher une brève analyse de la df\n",
    "from fonctions_universelles import analyser_dataframe\n",
    "analyser_dataframe(pib, \"PIB/Hab\")"
   ]
  },
  {
   "cell_type": "code",
   "execution_count": 74,
   "metadata": {},
   "outputs": [
    {
     "name": "stdout",
     "output_type": "stream",
     "text": [
      "  Pays  PIB/Hab\n",
      "1  NaN     1659\n",
      "3  NaN     1568\n",
      "['Aruba', 'Afghanistan', 'Angola', 'Albanie', 'Andorre', 'Le monde arabe', 'Émirats arabes unis', 'Argentine', 'Arménie', 'Samoa américaines', 'Antigua-et-Barbuda', 'Australie', 'Autriche', 'Azerbaïdjan', 'Burundi', 'Belgique', 'Bénin', 'Burkina Faso', 'Bangladesh', 'Bulgarie', 'Bahreïn', 'Bahamas', 'Bosnie-Herzégovine', 'Bélarus', 'Belize', 'Bermudes', 'Bolivie', 'Brésil', 'Barbade', 'Brunéi Darussalam', 'Bhoutan', 'Botswana', 'République centrafricaine', 'Canada', 'Europe centrale et les pays baltes', 'Suisse', 'Îles Anglo-Normandes', 'Chili', 'Chine', \"Côte d'Ivoire\", 'Cameroun', 'Congo, République démocratique du', 'Congo, République du', 'Colombie', 'Comores', 'Cabo Verde', 'Costa Rica', 'Petits états des Caraïbes', 'Cuba', 'Curacao', 'Îles Caïmans', 'Chypre', 'République tchèque', 'Allemagne', 'Djibouti', 'Dominique', 'Danemark', 'République dominicaine', 'Algérie', 'Asie de l’Est et Pacifique (hors revenu élevé)', 'de dividende précoce démographique', 'Asie de l’Est et Pacifique', 'Europe et Asie centrale (hors revenu élevé)', 'Europe et Asie centrale', 'Équateur', 'Égypte, République arabe d’', 'Zone euro', 'Érythrée', 'Espagne', 'Estonie', 'Éthiopie', 'Union européenne', 'Fragile et les situations de conflit touchées', 'Finlande', 'Fidji', 'France', 'Îles Féroé', 'Micronésie, États fédérés de', 'Gabon', 'Royaume-Uni', 'Géorgie', 'Ghana', 'Gibraltar', 'Guinée', 'Gambie', 'Guinée-Bissau', 'Guinée équatoriale', 'Grèce', 'Grenade', 'Groenland', 'Guatemala', 'Guam', 'Guyana', 'Revenu élevé', 'Chine, RAS de Hong Kong', 'Honduras', 'Pays pauvres très endettés (PPTE)', 'Croatie', 'Haïti', 'Hongrie', 'BIRD seulement', 'BIRD et IDA', 'IDA totale', 'IDA mélange', 'Indonésie', 'IDA seulement', 'Île de Man', 'Inde', 'Non classifié', 'Irlande', 'Iran, République islamique d’', 'Iraq', 'Islande', 'Israël', 'Italie', 'Jamaïque', 'Jordanie', 'Japon', 'Kazakhstan', 'Kenya', 'République kirghize', 'Cambodge', 'Kiribati', 'Saint-Kitts-et-Nevis', 'Corée, République de', 'Koweït', 'Amérique latine et Caraïbes (hors revenu élevé)', 'République démocratique populaire lao', 'Liban', 'Libéria', 'Libye', 'Sainte-Lucie', 'Amérique latine et Caraïbes', 'Pays les moins avancés: classement de l’ONU', 'Faible revenu', 'Liechtenstein', 'Sri Lanka', 'Revenu intermédiaire, tranche inférieure', 'Revenu faible et intermédiaire', 'Lesotho', 'de dividende tardif démographique', 'Lituanie', 'Luxembourg', 'Lettonie', 'Région administrative spéciale de Macao, Chine', 'Saint-Martin (fr)', 'Maroc', 'Monaco', 'Moldova', 'Madagascar', 'Maldives', 'Afrique du Nord et Moyen-Orient', 'Mexique', 'Îles Marshall', 'Revenu intermédiaire', 'Macédoine du Nord', 'Mali', 'Malte', 'Myanmar', 'Afrique du Nord et Moyen-Orient (hors revenu élevé)', 'Monténégro', 'Mongolie', 'Mariannes', 'Mozambique', 'Mauritanie', 'Maurice', 'Malawi', 'Malaisie', 'Amérique du Nord', 'Namibie', 'Nouvelle-Calédonie', 'Niger', 'Nigéria', 'Nicaragua', 'Pays-Bas', 'Norvège', 'Népal', 'Nauru', 'Nouvelle-Zélande', \"Pays membres de l'OCDE\", 'Oman', 'Autres petits états', 'Pakistan', 'Panama', 'Pérou', 'Philippines', 'Palaos', 'Papouasie-Nouvelle-Guinée', 'Pologne', 'de Pré-dividende démographique', 'Porto Rico', 'Corée, République démocratique de', 'Portugal', 'Paraguay', 'Cisjordanie et Gaza', 'Petits états insulaires du Pacifique', 'de Post-dividende démographique', 'Polynésie française', 'Qatar', 'Roumanie', 'Fédération de Russie', 'Rwanda', 'Asie du Sud', 'Arabie saoudite', 'Soudan', 'Sénégal', 'Singapour', 'Îles Salomon', 'Sierra Leone', 'El Salvador', 'Saint-Marin', 'Somalie', 'Serbie', 'Afrique subsaharienne (hors revenu élevé)', 'Soudan du Sud', 'Afrique subsaharienne', 'Petits états', 'Sao Tomé-et-Principe', 'Suriname', 'République slovaque', 'Slovénie', 'Suède', 'Eswatini', 'Sint Maarten (Dutch part)', 'Seychelles', 'République arabe syrienne', 'Îles Turques-et-Caïques', 'Tchad', 'Asie de l’Est et Pacifique (BIRD et IDA)', 'Europe et Asie centrale (BIRD et IDA)', 'Togo', 'Thaïlande', 'Tadjikistan', 'Turkménistan', 'Amérique latine et Caraïbes (BIRD et IDA)', 'Timor-Leste', 'Afrique du Nord et Moyen-Orient (BIRD et IDA)', 'Tonga', 'Asie du Sud (BIRD et IDA)', 'Afrique subsaharienne (BIRD et IDA)', 'Trinité-et-Tobago', 'Tunisie', 'Turquie', 'Tuvalu', 'Tanzanie', 'Ouganda', 'Ukraine', 'Revenu intermédiaire, tranche supérieure', 'Uruguay', 'États-Unis', 'Ouzbékistan', 'Saint-Vincent-et-les Grenadines', 'Venezuela', 'Îles Vierges britanniques', 'Îles Vierges (EU)', 'Viet Nam', 'Vanuatu', 'Monde', 'Samoa', 'Kosovo', 'Yémen, Rép. du', 'Afrique du Sud', 'Zambie', 'Zimbabwe']\n"
     ]
    }
   ],
   "source": [
    "# Nombre initial de lignes\n",
    "pib_lignes = len(pib)\n",
    "# Afficher les pays non renseignés\n",
    "print(pib[pib.isna().any(axis=1)])\n",
    "# Supprimer les pays non renseignés\n",
    "pib = pib.dropna()\n",
    "# Nombre de lignes après suppression des noms de pays non renseignés\n",
    "pib_lignes2 = len(pib)\n",
    "# Vérifier la liste de pays afin d'éliminer les régions et les erreurs\n",
    "print(pib[\"Pays\"].tolist())"
   ]
  },
  {
   "cell_type": "code",
   "execution_count": 75,
   "metadata": {},
   "outputs": [
    {
     "name": "stdout",
     "output_type": "stream",
     "text": [
      "Pays       213\n",
      "PIB/Hab    213\n",
      "dtype: int64\n"
     ]
    },
    {
     "data": {
      "text/html": [
       "<div>\n",
       "<style scoped>\n",
       "    .dataframe tbody tr th:only-of-type {\n",
       "        vertical-align: middle;\n",
       "    }\n",
       "\n",
       "    .dataframe tbody tr th {\n",
       "        vertical-align: top;\n",
       "    }\n",
       "\n",
       "    .dataframe thead th {\n",
       "        text-align: right;\n",
       "    }\n",
       "</style>\n",
       "<table border=\"1\" class=\"dataframe\">\n",
       "  <thead>\n",
       "    <tr style=\"text-align: right;\">\n",
       "      <th></th>\n",
       "      <th>PIB/Hab</th>\n",
       "    </tr>\n",
       "  </thead>\n",
       "  <tbody>\n",
       "    <tr>\n",
       "      <th>count</th>\n",
       "      <td>213.000000</td>\n",
       "    </tr>\n",
       "    <tr>\n",
       "      <th>mean</th>\n",
       "      <td>18451.901408</td>\n",
       "    </tr>\n",
       "    <tr>\n",
       "      <th>std</th>\n",
       "      <td>29472.088611</td>\n",
       "    </tr>\n",
       "    <tr>\n",
       "      <th>min</th>\n",
       "      <td>0.000000</td>\n",
       "    </tr>\n",
       "    <tr>\n",
       "      <th>25%</th>\n",
       "      <td>1706.000000</td>\n",
       "    </tr>\n",
       "    <tr>\n",
       "      <th>50%</th>\n",
       "      <td>6609.000000</td>\n",
       "    </tr>\n",
       "    <tr>\n",
       "      <th>75%</th>\n",
       "      <td>22573.000000</td>\n",
       "    </tr>\n",
       "    <tr>\n",
       "      <th>max</th>\n",
       "      <td>256580.000000</td>\n",
       "    </tr>\n",
       "  </tbody>\n",
       "</table>\n",
       "</div>"
      ],
      "text/plain": [
       "             PIB/Hab\n",
       "count     213.000000\n",
       "mean    18451.901408\n",
       "std     29472.088611\n",
       "min         0.000000\n",
       "25%      1706.000000\n",
       "50%      6609.000000\n",
       "75%     22573.000000\n",
       "max    256580.000000"
      ]
     },
     "execution_count": 75,
     "metadata": {},
     "output_type": "execute_result"
    }
   ],
   "source": [
    "# Supprimer ces pays de la DataFrame\n",
    "pib = pib[~pib[\"Pays\"].isin(pays_a_supprimer)].reset_index(drop=True)\n",
    "# Vérifier si les pays sont supprimés\n",
    "print(pib.count())\n",
    "# Nombre de lignes après suppression des groupes de pays\n",
    "pib_lignes3 = len(pib)\n",
    "# Afficher un aperçu rapide des données\n",
    "pib.describe()"
   ]
  },
  {
   "cell_type": "code",
   "execution_count": 76,
   "metadata": {},
   "outputs": [
    {
     "name": "stdout",
     "output_type": "stream",
     "text": [
      "                                  Pays  PIB/Hab\n",
      "8                    Samoa américaines        0\n",
      "29                             Bhoutan        0\n",
      "44                                Cuba        0\n",
      "57                            Érythrée        0\n",
      "70                           Gibraltar        0\n",
      "77                           Groenland        0\n",
      "86                          Île de Man        0\n",
      "106                              Liban        0\n",
      "110                      Liechtenstein        0\n",
      "117                  Saint-Martin (fr)        0\n",
      "131                          Mariannes        0\n",
      "138                 Nouvelle-Calédonie        0\n",
      "156  Corée, République démocratique de        0\n",
      "160                Polynésie française        0\n",
      "172                        Saint-Marin        0\n",
      "175                      Soudan du Sud        0\n",
      "184          République arabe syrienne        0\n",
      "192                              Tonga        0\n",
      "204                          Venezuela        0\n",
      "13                             Burundi      193\n",
      "Pays       194\n",
      "PIB/Hab    194\n",
      "dtype: int64\n"
     ]
    }
   ],
   "source": [
    "# Afficher les pays avec un PIB/Hab égal à zéro\n",
    "print(pib.nsmallest(20, 'PIB/Hab')[['Pays', 'PIB/Hab']])\n",
    "# Supprimer les pays avec un PIB/Hab égal à zéro\n",
    "pib = pib[pib['PIB/Hab'] != 0]\n",
    "# Vérifier si les pays sont supprimés\n",
    "print(pib.count())\n",
    "# Nombre de lignes après suppression des pays avec un pib/hab nul\n",
    "pib_lignes4 = len(pib)"
   ]
  },
  {
   "cell_type": "code",
   "execution_count": 77,
   "metadata": {},
   "outputs": [
    {
     "name": "stdout",
     "output_type": "stream",
     "text": [
      "📊 Nettoyage des données :\n",
      "Départ : 266 lignes\n",
      " ├── Suppression des pays sans nom         ➝  264 lignes  (-2)\n",
      " └── Suppression des groupes de pays       ➝  213 lignes  (-51)\n",
      " └── Suppression des pays avec pib/hab nul ➝  194 lignes  (-19)\n",
      "Arrivée : 194 lignes restantes\n"
     ]
    }
   ],
   "source": [
    "print(\"📊 Nettoyage des données :\")\n",
    "print(f\"Départ : {pib_lignes} lignes\")\n",
    "print(f\" ├── Suppression des pays sans nom         ➝  {pib_lignes2} lignes  (-{pib_lignes - pib_lignes2})\")\n",
    "print(f\" └── Suppression des groupes de pays       ➝  {pib_lignes3} lignes  (-{pib_lignes2 - pib_lignes3})\")\n",
    "print(f\" └── Suppression des pays avec pib/hab nul ➝  {pib_lignes4} lignes  (-{pib_lignes3 - pib_lignes4})\")\n",
    "print(f\"Arrivée : {pib_lignes4} lignes restantes\")"
   ]
  },
  {
   "cell_type": "code",
   "execution_count": 78,
   "metadata": {},
   "outputs": [
    {
     "name": "stdout",
     "output_type": "stream",
     "text": [
      "Nombre d'outliers : 16\n",
      "Pays concernés :\n",
      "['Australie', 'Bermudes', 'Suisse', 'Îles Caïmans', 'Danemark', 'Îles Féroé', 'Irlande', 'Islande', 'Luxembourg', 'Région administrative spéciale de Macao, Chine', 'Monaco', 'Pays-Bas', 'Norvège', 'Qatar', 'Singapour', 'États-Unis']\n"
     ]
    },
    {
     "data": {
      "image/png": "[encoded data removed]",
      "text/plain": [
       "<Figure size 2000x600 with 1 Axes>"
      ]
     },
     "metadata": {},
     "output_type": "display_data"
    }
   ],
   "source": [
    "from fonctions_universelles import boxplot_colonne\n",
    "# Afficher le boxplot pour le PIB/hab\n",
    "boxplot_colonne(pib, \"PIB/Hab\", \"Répartition du PIB/hab par pays\")"
   ]
  },
  {
   "cell_type": "markdown",
   "metadata": {},
   "source": [
    "### Le fichier **PIB/Hab** va nous informer sur le **PIB par habitants** dans **194 pays**. Il y a **16 outliers** dont une partie sont des paradis fiscaux."
   ]
  },
  {
   "cell_type": "markdown",
   "metadata": {
    "vscode": {
     "languageId": "html"
    }
   },
   "source": [
    "<div style=\"border: 1px solid RGB(255,184,100);\" >\n",
    "  <h3 id=\"2-3\" style=\"margin: auto; padding: 20px; color: RGB(255,184,100);\">2.3 - Fichier Stabilité politique</h3>\n",
    "</div>"
   ]
  },
  {
   "cell_type": "code",
   "execution_count": 79,
   "metadata": {},
   "outputs": [
    {
     "data": {
      "text/html": [
       "<div>\n",
       "<style scoped>\n",
       "    .dataframe tbody tr th:only-of-type {\n",
       "        vertical-align: middle;\n",
       "    }\n",
       "\n",
       "    .dataframe tbody tr th {\n",
       "        vertical-align: top;\n",
       "    }\n",
       "\n",
       "    .dataframe thead th {\n",
       "        text-align: right;\n",
       "    }\n",
       "</style>\n",
       "<table border=\"1\" class=\"dataframe\">\n",
       "  <thead>\n",
       "    <tr style=\"text-align: right;\">\n",
       "      <th></th>\n",
       "      <th>Data Source</th>\n",
       "      <th>Indicateurs du développement dans le monde</th>\n",
       "      <th>Unnamed: 2</th>\n",
       "      <th>Unnamed: 3</th>\n",
       "      <th>Unnamed: 4</th>\n",
       "      <th>Unnamed: 5</th>\n",
       "      <th>Unnamed: 6</th>\n",
       "      <th>Unnamed: 7</th>\n",
       "      <th>Unnamed: 8</th>\n",
       "      <th>Unnamed: 9</th>\n",
       "      <th>...</th>\n",
       "      <th>Unnamed: 58</th>\n",
       "      <th>Unnamed: 59</th>\n",
       "      <th>Unnamed: 60</th>\n",
       "      <th>Unnamed: 61</th>\n",
       "      <th>Unnamed: 62</th>\n",
       "      <th>Unnamed: 63</th>\n",
       "      <th>Unnamed: 64</th>\n",
       "      <th>Unnamed: 65</th>\n",
       "      <th>Unnamed: 66</th>\n",
       "      <th>Unnamed: 67</th>\n",
       "    </tr>\n",
       "  </thead>\n",
       "  <tbody>\n",
       "    <tr>\n",
       "      <th>0</th>\n",
       "      <td>Last Updated Date</td>\n",
       "      <td>2024-12-16 00:00:00</td>\n",
       "      <td>NaN</td>\n",
       "      <td>NaN</td>\n",
       "      <td>NaN</td>\n",
       "      <td>NaN</td>\n",
       "      <td>NaN</td>\n",
       "      <td>NaN</td>\n",
       "      <td>NaN</td>\n",
       "      <td>NaN</td>\n",
       "      <td>...</td>\n",
       "      <td>NaN</td>\n",
       "      <td>NaN</td>\n",
       "      <td>NaN</td>\n",
       "      <td>NaN</td>\n",
       "      <td>NaN</td>\n",
       "      <td>NaN</td>\n",
       "      <td>NaN</td>\n",
       "      <td>NaN</td>\n",
       "      <td>NaN</td>\n",
       "      <td>NaN</td>\n",
       "    </tr>\n",
       "    <tr>\n",
       "      <th>1</th>\n",
       "      <td>NaN</td>\n",
       "      <td>NaN</td>\n",
       "      <td>NaN</td>\n",
       "      <td>NaN</td>\n",
       "      <td>NaN</td>\n",
       "      <td>NaN</td>\n",
       "      <td>NaN</td>\n",
       "      <td>NaN</td>\n",
       "      <td>NaN</td>\n",
       "      <td>NaN</td>\n",
       "      <td>...</td>\n",
       "      <td>NaN</td>\n",
       "      <td>NaN</td>\n",
       "      <td>NaN</td>\n",
       "      <td>NaN</td>\n",
       "      <td>NaN</td>\n",
       "      <td>NaN</td>\n",
       "      <td>NaN</td>\n",
       "      <td>NaN</td>\n",
       "      <td>NaN</td>\n",
       "      <td>NaN</td>\n",
       "    </tr>\n",
       "    <tr>\n",
       "      <th>2</th>\n",
       "      <td>Country Name</td>\n",
       "      <td>Country Code</td>\n",
       "      <td>Indicator Name</td>\n",
       "      <td>Indicator Code</td>\n",
       "      <td>1960.0</td>\n",
       "      <td>1961.0</td>\n",
       "      <td>1962.0</td>\n",
       "      <td>1963.0</td>\n",
       "      <td>1964.0</td>\n",
       "      <td>1965.0</td>\n",
       "      <td>...</td>\n",
       "      <td>2014.000000</td>\n",
       "      <td>2015.00000</td>\n",
       "      <td>2016.000000</td>\n",
       "      <td>2017.000000</td>\n",
       "      <td>2018.00000</td>\n",
       "      <td>2019.000000</td>\n",
       "      <td>2020.000000</td>\n",
       "      <td>2021.000000</td>\n",
       "      <td>2022.00000</td>\n",
       "      <td>2023.000000</td>\n",
       "    </tr>\n",
       "    <tr>\n",
       "      <th>3</th>\n",
       "      <td>Aruba</td>\n",
       "      <td>ABW</td>\n",
       "      <td>Political Stability and Absence of Violence/Te...</td>\n",
       "      <td>PV.EST</td>\n",
       "      <td>NaN</td>\n",
       "      <td>NaN</td>\n",
       "      <td>NaN</td>\n",
       "      <td>NaN</td>\n",
       "      <td>NaN</td>\n",
       "      <td>NaN</td>\n",
       "      <td>...</td>\n",
       "      <td>1.164568</td>\n",
       "      <td>1.21024</td>\n",
       "      <td>1.260759</td>\n",
       "      <td>1.313846</td>\n",
       "      <td>1.33751</td>\n",
       "      <td>1.335807</td>\n",
       "      <td>1.371591</td>\n",
       "      <td>1.431727</td>\n",
       "      <td>1.48308</td>\n",
       "      <td>1.432525</td>\n",
       "    </tr>\n",
       "    <tr>\n",
       "      <th>4</th>\n",
       "      <td>NaN</td>\n",
       "      <td>AFE</td>\n",
       "      <td>Political Stability and Absence of Violence/Te...</td>\n",
       "      <td>PV.EST</td>\n",
       "      <td>NaN</td>\n",
       "      <td>NaN</td>\n",
       "      <td>NaN</td>\n",
       "      <td>NaN</td>\n",
       "      <td>NaN</td>\n",
       "      <td>NaN</td>\n",
       "      <td>...</td>\n",
       "      <td>NaN</td>\n",
       "      <td>NaN</td>\n",
       "      <td>NaN</td>\n",
       "      <td>NaN</td>\n",
       "      <td>NaN</td>\n",
       "      <td>NaN</td>\n",
       "      <td>NaN</td>\n",
       "      <td>NaN</td>\n",
       "      <td>NaN</td>\n",
       "      <td>NaN</td>\n",
       "    </tr>\n",
       "  </tbody>\n",
       "</table>\n",
       "<p>5 rows × 68 columns</p>\n",
       "</div>"
      ],
      "text/plain": [
       "         Data Source Indicateurs du développement dans le monde  \\\n",
       "0  Last Updated Date                        2024-12-16 00:00:00   \n",
       "1                NaN                                        NaN   \n",
       "2       Country Name                               Country Code   \n",
       "3              Aruba                                        ABW   \n",
       "4                NaN                                        AFE   \n",
       "\n",
       "                                          Unnamed: 2      Unnamed: 3  \\\n",
       "0                                                NaN             NaN   \n",
       "1                                                NaN             NaN   \n",
       "2                                     Indicator Name  Indicator Code   \n",
       "3  Political Stability and Absence of Violence/Te...          PV.EST   \n",
       "4  Political Stability and Absence of Violence/Te...          PV.EST   \n",
       "\n",
       "   Unnamed: 4  Unnamed: 5  Unnamed: 6  Unnamed: 7  Unnamed: 8  Unnamed: 9  \\\n",
       "0         NaN         NaN         NaN         NaN         NaN         NaN   \n",
       "1         NaN         NaN         NaN         NaN         NaN         NaN   \n",
       "2      1960.0      1961.0      1962.0      1963.0      1964.0      1965.0   \n",
       "3         NaN         NaN         NaN         NaN         NaN         NaN   \n",
       "4         NaN         NaN         NaN         NaN         NaN         NaN   \n",
       "\n",
       "   ...  Unnamed: 58  Unnamed: 59  Unnamed: 60  Unnamed: 61  Unnamed: 62  \\\n",
       "0  ...          NaN          NaN          NaN          NaN          NaN   \n",
       "1  ...          NaN          NaN          NaN          NaN          NaN   \n",
       "2  ...  2014.000000   2015.00000  2016.000000  2017.000000   2018.00000   \n",
       "3  ...     1.164568      1.21024     1.260759     1.313846      1.33751   \n",
       "4  ...          NaN          NaN          NaN          NaN          NaN   \n",
       "\n",
       "   Unnamed: 63  Unnamed: 64  Unnamed: 65  Unnamed: 66  Unnamed: 67  \n",
       "0          NaN          NaN          NaN          NaN          NaN  \n",
       "1          NaN          NaN          NaN          NaN          NaN  \n",
       "2  2019.000000  2020.000000  2021.000000   2022.00000  2023.000000  \n",
       "3     1.335807     1.371591     1.431727      1.48308     1.432525  \n",
       "4          NaN          NaN          NaN          NaN          NaN  \n",
       "\n",
       "[5 rows x 68 columns]"
      ]
     },
     "execution_count": 79,
     "metadata": {},
     "output_type": "execute_result"
    }
   ],
   "source": [
    "# Aperçu de la df\n",
    "stab_pol.head()"
   ]
  },
  {
   "cell_type": "code",
   "execution_count": 80,
   "metadata": {},
   "outputs": [
    {
     "name": "stdout",
     "output_type": "stream",
     "text": [
      "\n",
      "=== Analyse de Stabilité_politique ===\n",
      "Le tableau comporte 266 observation(s) ou article(s)\n",
      "Le tableau comporte 2 colonne(s).\n",
      "\n",
      "Nature des données dans chacune des colonnes :\n",
      "Pays                    object\n",
      "Stabilité_politique    float64\n",
      "dtype: object\n",
      "\n",
      "Nombre de valeurs présentes dans chacune des colonnes :\n",
      "Pays                   264\n",
      "Stabilité_politique    205\n",
      "dtype: int64\n",
      "\n",
      "Nombre de valeurs uniques dans chacune des colonnes :\n",
      "Pays                   264\n",
      "Stabilité_politique    199\n",
      "dtype: int64\n",
      "\n",
      "Nombre de doublons présents dans chacune des colonnes :\n",
      "Pays                   0\n",
      "Stabilité_politique    6\n",
      "dtype: int64\n",
      "\n",
      "Nombre de valeurs nulles présentes dans chacune des colonnes :\n",
      "Pays                    2\n",
      "Stabilité_politique    61\n",
      "dtype: int64\n",
      "\n",
      "Aperçu des 5 premières lignes de la table :\n",
      "          Pays  Stabilité_politique\n",
      "0        Aruba             1.432525\n",
      "1          NaN                  NaN\n",
      "2  Afghanistan            -2.484081\n",
      "3          NaN                  NaN\n",
      "4       Angola            -0.341505\n"
     ]
    }
   ],
   "source": [
    "# Définir la troisième ligne comme noms des colonnes\n",
    "stab_pol.columns = stab_pol.iloc[2]  \n",
    "# Supprimer les trois premières lignes et réindexer\n",
    "stab_pol = stab_pol[3:].reset_index(drop=True)\n",
    "# Ne garder que les colonnes \"Pays\" et \"Stabilité_politique\" (année 2023)\n",
    "stab_pol = stab_pol[[\"Country Name\", 2023.0]].rename(columns={\"Country Name\": \"Pays\", 2023.0: \"Stabilité_politique\"})\n",
    "stab_pol.columns = [\"Pays\", \"Stabilité_politique\"]\n",
    "# Afficher une brève analyse de la df\n",
    "from fonctions_universelles import analyser_dataframe\n",
    "analyser_dataframe(stab_pol, \"Stabilité_politique\")"
   ]
  },
  {
   "cell_type": "code",
   "execution_count": 81,
   "metadata": {},
   "outputs": [
    {
     "name": "stdout",
     "output_type": "stream",
     "text": [
      "                                         Pays  Stabilité_politique\n",
      "1                                         NaN                  NaN\n",
      "3                                         NaN                  NaN\n",
      "7                              Le monde arabe                  NaN\n",
      "36         Europe centrale et les pays baltes                  NaN\n",
      "38                       Îles Anglo-Normandes                  NaN\n",
      "..                                        ...                  ...\n",
      "240                 Asie du Sud (BIRD et IDA)                  NaN\n",
      "241       Afrique subsaharienne (BIRD et IDA)                  NaN\n",
      "249  Revenu intermédiaire, tranche supérieure                  NaN\n",
      "255                 Îles Vierges britanniques                  NaN\n",
      "259                                     Monde                  NaN\n",
      "\n",
      "[61 rows x 2 columns]\n",
      "['Aruba', 'Afghanistan', 'Angola', 'Albanie', 'Andorre', 'Émirats arabes unis', 'Argentine', 'Arménie', 'Samoa américaines', 'Antigua-et-Barbuda', 'Australie', 'Autriche', 'Azerbaïdjan', 'Burundi', 'Belgique', 'Bénin', 'Burkina Faso', 'Bangladesh', 'Bulgarie', 'Bahreïn', 'Bahamas', 'Bosnie-Herzégovine', 'Bélarus', 'Belize', 'Bermudes', 'Bolivie', 'Brésil', 'Barbade', 'Brunéi Darussalam', 'Bhoutan', 'Botswana', 'République centrafricaine', 'Canada', 'Suisse', 'Chili', 'Chine', \"Côte d'Ivoire\", 'Cameroun', 'Congo, République démocratique du', 'Congo, République du', 'Colombie', 'Comores', 'Cabo Verde', 'Costa Rica', 'Cuba', 'Îles Caïmans', 'Chypre', 'République tchèque', 'Allemagne', 'Djibouti', 'Dominique', 'Danemark', 'République dominicaine', 'Algérie', 'Équateur', 'Égypte, République arabe d’', 'Érythrée', 'Espagne', 'Estonie', 'Éthiopie', 'Finlande', 'Fidji', 'France', 'Micronésie, États fédérés de', 'Gabon', 'Royaume-Uni', 'Géorgie', 'Ghana', 'Guinée', 'Gambie', 'Guinée-Bissau', 'Guinée équatoriale', 'Grèce', 'Grenade', 'Groenland', 'Guatemala', 'Guam', 'Guyana', 'Chine, RAS de Hong Kong', 'Honduras', 'Croatie', 'Haïti', 'Hongrie', 'Indonésie', 'Inde', 'Irlande', 'Iran, République islamique d’', 'Iraq', 'Islande', 'Israël', 'Italie', 'Jamaïque', 'Jordanie', 'Japon', 'Kazakhstan', 'Kenya', 'République kirghize', 'Cambodge', 'Kiribati', 'Saint-Kitts-et-Nevis', 'Corée, République de', 'Koweït', 'République démocratique populaire lao', 'Liban', 'Libéria', 'Libye', 'Sainte-Lucie', 'Liechtenstein', 'Sri Lanka', 'Lesotho', 'Lituanie', 'Luxembourg', 'Lettonie', 'Région administrative spéciale de Macao, Chine', 'Maroc', 'Monaco', 'Moldova', 'Madagascar', 'Maldives', 'Mexique', 'Îles Marshall', 'Macédoine du Nord', 'Mali', 'Malte', 'Myanmar', 'Monténégro', 'Mongolie', 'Mozambique', 'Mauritanie', 'Maurice', 'Malawi', 'Malaisie', 'Namibie', 'Niger', 'Nigéria', 'Nicaragua', 'Pays-Bas', 'Norvège', 'Népal', 'Nauru', 'Nouvelle-Zélande', 'Oman', 'Pakistan', 'Panama', 'Pérou', 'Philippines', 'Palaos', 'Papouasie-Nouvelle-Guinée', 'Pologne', 'Porto Rico', 'Corée, République démocratique de', 'Portugal', 'Paraguay', 'Cisjordanie et Gaza', 'Qatar', 'Roumanie', 'Fédération de Russie', 'Rwanda', 'Arabie saoudite', 'Soudan', 'Sénégal', 'Singapour', 'Îles Salomon', 'Sierra Leone', 'El Salvador', 'Saint-Marin', 'Somalie', 'Serbie', 'Soudan du Sud', 'Sao Tomé-et-Principe', 'Suriname', 'République slovaque', 'Slovénie', 'Suède', 'Eswatini', 'Seychelles', 'République arabe syrienne', 'Tchad', 'Togo', 'Thaïlande', 'Tadjikistan', 'Turkménistan', 'Timor-Leste', 'Tonga', 'Trinité-et-Tobago', 'Tunisie', 'Turquie', 'Tuvalu', 'Tanzanie', 'Ouganda', 'Ukraine', 'Uruguay', 'États-Unis', 'Ouzbékistan', 'Saint-Vincent-et-les Grenadines', 'Venezuela', 'Îles Vierges (EU)', 'Viet Nam', 'Vanuatu', 'Samoa', 'Kosovo', 'Yémen, Rép. du', 'Afrique du Sud', 'Zambie', 'Zimbabwe']\n"
     ]
    }
   ],
   "source": [
    "# Nombre initial de lignes\n",
    "stab_pol_lignes = len(stab_pol)\n",
    "# Afficher les pays non renseignés\n",
    "print(stab_pol[stab_pol.isna().any(axis=1)])\n",
    "# Supprimer les pays non renseignés\n",
    "stab_pol = stab_pol.dropna()\n",
    "# Nombre de lignes après suppression des pays non renseignés\n",
    "stab_pol_lignes2 = len(stab_pol)\n",
    "# Vérifier la liste de pays afin d'éliminer les régions et les erreurs\n",
    "print(stab_pol[\"Pays\"].tolist())"
   ]
  },
  {
   "cell_type": "code",
   "execution_count": 82,
   "metadata": {},
   "outputs": [
    {
     "name": "stdout",
     "output_type": "stream",
     "text": [
      "Pays                   203\n",
      "Stabilité_politique    203\n",
      "dtype: int64\n"
     ]
    }
   ],
   "source": [
    "# Supprimer ces pays de la DataFrame\n",
    "stab_pol = stab_pol[~stab_pol[\"Pays\"].isin(pays_a_supprimer)].reset_index(drop=True)\n",
    "# Vérifier si les pays sont supprimés\n",
    "print(stab_pol.count())\n",
    "# Afficher un aperçu rapide des données\n",
    "stab_pol.describe()\n",
    "# Nombre de lignes après suppression des pays non renseignés\n",
    "stab_pol_lignes3 = len(stab_pol)"
   ]
  },
  {
   "cell_type": "code",
   "execution_count": 83,
   "metadata": {},
   "outputs": [
    {
     "name": "stdout",
     "output_type": "stream",
     "text": [
      "📊 Nettoyage des données :\n",
      "Départ : 266 lignes\n",
      " ├── Suppression des pays non renseignés ➝  205 lignes  (-61)\n",
      " └── Suppression des groupes de pays     ➝  203 lignes  (-2)\n",
      "Arrivée : 203 lignes restantes\n"
     ]
    }
   ],
   "source": [
    "print(\"📊 Nettoyage des données :\")\n",
    "print(f\"Départ : {stab_pol_lignes} lignes\")\n",
    "print(f\" ├── Suppression des pays non renseignés ➝  {stab_pol_lignes2} lignes  (-{stab_pol_lignes - stab_pol_lignes2})\")\n",
    "print(f\" └── Suppression des groupes de pays     ➝  {stab_pol_lignes3} lignes  (-{stab_pol_lignes2 - stab_pol_lignes3})\")\n",
    "print(f\"Arrivée : {stab_pol_lignes3} lignes restantes\")"
   ]
  },
  {
   "cell_type": "code",
   "execution_count": 84,
   "metadata": {},
   "outputs": [
    {
     "name": "stdout",
     "output_type": "stream",
     "text": [
      "Nombre d'outliers : 3\n",
      "Pays concernés :\n",
      "['Mali', 'République arabe syrienne', 'Yémen, Rép. du']\n"
     ]
    },
    {
     "data": {
      "image/png": "[encoded data removed]",
      "text/plain": [
       "<Figure size 2000x600 with 1 Axes>"
      ]
     },
     "metadata": {},
     "output_type": "display_data"
    }
   ],
   "source": [
    "from fonctions_universelles import boxplot_colonne\n",
    "\n",
    "# Afficher le boxplot pour la Stabilité_politique\n",
    "boxplot_colonne(stab_pol, \"Stabilité_politique\", \"Répartition de la Stabilité_politique par pays\")"
   ]
  },
  {
   "cell_type": "markdown",
   "metadata": {},
   "source": [
    "### Le fichier **Stabilité politique** va nous informer sur l'**indice de stabilité politique** de **203 pays**. Il y a **3 outliers** : le Mali, le Yémen et la Syrie."
   ]
  },
  {
   "cell_type": "markdown",
   "metadata": {},
   "source": [
    "<div style=\"border: 1px solid RGB(255,184,100);\" >\n",
    "  <h3 id=\"2-4\" style=\"margin: auto; padding: 20px; color: RGB(255,184,100);\">2.4 - Fichier Performance logistique</h3>\n",
    "</div>"
   ]
  },
  {
   "cell_type": "code",
   "execution_count": 85,
   "metadata": {},
   "outputs": [
    {
     "data": {
      "text/html": [
       "<div>\n",
       "<style scoped>\n",
       "    .dataframe tbody tr th:only-of-type {\n",
       "        vertical-align: middle;\n",
       "    }\n",
       "\n",
       "    .dataframe tbody tr th {\n",
       "        vertical-align: top;\n",
       "    }\n",
       "\n",
       "    .dataframe thead th {\n",
       "        text-align: right;\n",
       "    }\n",
       "</style>\n",
       "<table border=\"1\" class=\"dataframe\">\n",
       "  <thead>\n",
       "    <tr style=\"text-align: right;\">\n",
       "      <th></th>\n",
       "      <th>Data Source</th>\n",
       "      <th>Indicateurs du développement dans le monde</th>\n",
       "      <th>Unnamed: 2</th>\n",
       "      <th>Unnamed: 3</th>\n",
       "      <th>Unnamed: 4</th>\n",
       "      <th>Unnamed: 5</th>\n",
       "      <th>Unnamed: 6</th>\n",
       "      <th>Unnamed: 7</th>\n",
       "      <th>Unnamed: 8</th>\n",
       "      <th>Unnamed: 9</th>\n",
       "      <th>...</th>\n",
       "      <th>Unnamed: 58</th>\n",
       "      <th>Unnamed: 59</th>\n",
       "      <th>Unnamed: 60</th>\n",
       "      <th>Unnamed: 61</th>\n",
       "      <th>Unnamed: 62</th>\n",
       "      <th>Unnamed: 63</th>\n",
       "      <th>Unnamed: 64</th>\n",
       "      <th>Unnamed: 65</th>\n",
       "      <th>Unnamed: 66</th>\n",
       "      <th>Unnamed: 67</th>\n",
       "    </tr>\n",
       "  </thead>\n",
       "  <tbody>\n",
       "    <tr>\n",
       "      <th>0</th>\n",
       "      <td>Last Updated Date</td>\n",
       "      <td>2024-12-16 00:00:00</td>\n",
       "      <td>NaN</td>\n",
       "      <td>NaN</td>\n",
       "      <td>NaN</td>\n",
       "      <td>NaN</td>\n",
       "      <td>NaN</td>\n",
       "      <td>NaN</td>\n",
       "      <td>NaN</td>\n",
       "      <td>NaN</td>\n",
       "      <td>...</td>\n",
       "      <td>NaN</td>\n",
       "      <td>NaN</td>\n",
       "      <td>NaN</td>\n",
       "      <td>NaN</td>\n",
       "      <td>NaN</td>\n",
       "      <td>NaN</td>\n",
       "      <td>NaN</td>\n",
       "      <td>NaN</td>\n",
       "      <td>NaN</td>\n",
       "      <td>NaN</td>\n",
       "    </tr>\n",
       "    <tr>\n",
       "      <th>1</th>\n",
       "      <td>NaN</td>\n",
       "      <td>NaN</td>\n",
       "      <td>NaN</td>\n",
       "      <td>NaN</td>\n",
       "      <td>NaN</td>\n",
       "      <td>NaN</td>\n",
       "      <td>NaN</td>\n",
       "      <td>NaN</td>\n",
       "      <td>NaN</td>\n",
       "      <td>NaN</td>\n",
       "      <td>...</td>\n",
       "      <td>NaN</td>\n",
       "      <td>NaN</td>\n",
       "      <td>NaN</td>\n",
       "      <td>NaN</td>\n",
       "      <td>NaN</td>\n",
       "      <td>NaN</td>\n",
       "      <td>NaN</td>\n",
       "      <td>NaN</td>\n",
       "      <td>NaN</td>\n",
       "      <td>NaN</td>\n",
       "    </tr>\n",
       "    <tr>\n",
       "      <th>2</th>\n",
       "      <td>Country Name</td>\n",
       "      <td>Country Code</td>\n",
       "      <td>Indicator Name</td>\n",
       "      <td>Indicator Code</td>\n",
       "      <td>1960.0</td>\n",
       "      <td>1961.0</td>\n",
       "      <td>1962.0</td>\n",
       "      <td>1963.0</td>\n",
       "      <td>1964.0</td>\n",
       "      <td>1965.0</td>\n",
       "      <td>...</td>\n",
       "      <td>2014.000000</td>\n",
       "      <td>2015.0</td>\n",
       "      <td>2016.000000</td>\n",
       "      <td>2017.0</td>\n",
       "      <td>2018.000000</td>\n",
       "      <td>2019.0</td>\n",
       "      <td>2020.0</td>\n",
       "      <td>2021.0</td>\n",
       "      <td>2022.000000</td>\n",
       "      <td>2023.0</td>\n",
       "    </tr>\n",
       "    <tr>\n",
       "      <th>3</th>\n",
       "      <td>Aruba</td>\n",
       "      <td>ABW</td>\n",
       "      <td>Indice de performance logistique : performance...</td>\n",
       "      <td>LP.LPI.OVRL.XQ</td>\n",
       "      <td>NaN</td>\n",
       "      <td>NaN</td>\n",
       "      <td>NaN</td>\n",
       "      <td>NaN</td>\n",
       "      <td>NaN</td>\n",
       "      <td>NaN</td>\n",
       "      <td>...</td>\n",
       "      <td>NaN</td>\n",
       "      <td>NaN</td>\n",
       "      <td>NaN</td>\n",
       "      <td>NaN</td>\n",
       "      <td>NaN</td>\n",
       "      <td>NaN</td>\n",
       "      <td>NaN</td>\n",
       "      <td>NaN</td>\n",
       "      <td>NaN</td>\n",
       "      <td>NaN</td>\n",
       "    </tr>\n",
       "    <tr>\n",
       "      <th>4</th>\n",
       "      <td>NaN</td>\n",
       "      <td>AFE</td>\n",
       "      <td>Indice de performance logistique : performance...</td>\n",
       "      <td>LP.LPI.OVRL.XQ</td>\n",
       "      <td>NaN</td>\n",
       "      <td>NaN</td>\n",
       "      <td>NaN</td>\n",
       "      <td>NaN</td>\n",
       "      <td>NaN</td>\n",
       "      <td>NaN</td>\n",
       "      <td>...</td>\n",
       "      <td>2.469728</td>\n",
       "      <td>NaN</td>\n",
       "      <td>2.578623</td>\n",
       "      <td>NaN</td>\n",
       "      <td>2.492222</td>\n",
       "      <td>NaN</td>\n",
       "      <td>NaN</td>\n",
       "      <td>NaN</td>\n",
       "      <td>2.618182</td>\n",
       "      <td>NaN</td>\n",
       "    </tr>\n",
       "  </tbody>\n",
       "</table>\n",
       "<p>5 rows × 68 columns</p>\n",
       "</div>"
      ],
      "text/plain": [
       "         Data Source Indicateurs du développement dans le monde  \\\n",
       "0  Last Updated Date                        2024-12-16 00:00:00   \n",
       "1                NaN                                        NaN   \n",
       "2       Country Name                               Country Code   \n",
       "3              Aruba                                        ABW   \n",
       "4                NaN                                        AFE   \n",
       "\n",
       "                                          Unnamed: 2      Unnamed: 3  \\\n",
       "0                                                NaN             NaN   \n",
       "1                                                NaN             NaN   \n",
       "2                                     Indicator Name  Indicator Code   \n",
       "3  Indice de performance logistique : performance...  LP.LPI.OVRL.XQ   \n",
       "4  Indice de performance logistique : performance...  LP.LPI.OVRL.XQ   \n",
       "\n",
       "   Unnamed: 4  Unnamed: 5  Unnamed: 6  Unnamed: 7  Unnamed: 8  Unnamed: 9  \\\n",
       "0         NaN         NaN         NaN         NaN         NaN         NaN   \n",
       "1         NaN         NaN         NaN         NaN         NaN         NaN   \n",
       "2      1960.0      1961.0      1962.0      1963.0      1964.0      1965.0   \n",
       "3         NaN         NaN         NaN         NaN         NaN         NaN   \n",
       "4         NaN         NaN         NaN         NaN         NaN         NaN   \n",
       "\n",
       "   ...  Unnamed: 58  Unnamed: 59  Unnamed: 60  Unnamed: 61  Unnamed: 62  \\\n",
       "0  ...          NaN          NaN          NaN          NaN          NaN   \n",
       "1  ...          NaN          NaN          NaN          NaN          NaN   \n",
       "2  ...  2014.000000       2015.0  2016.000000       2017.0  2018.000000   \n",
       "3  ...          NaN          NaN          NaN          NaN          NaN   \n",
       "4  ...     2.469728          NaN     2.578623          NaN     2.492222   \n",
       "\n",
       "   Unnamed: 63  Unnamed: 64  Unnamed: 65  Unnamed: 66  Unnamed: 67  \n",
       "0          NaN          NaN          NaN          NaN          NaN  \n",
       "1          NaN          NaN          NaN          NaN          NaN  \n",
       "2       2019.0       2020.0       2021.0  2022.000000       2023.0  \n",
       "3          NaN          NaN          NaN          NaN          NaN  \n",
       "4          NaN          NaN          NaN     2.618182          NaN  \n",
       "\n",
       "[5 rows x 68 columns]"
      ]
     },
     "execution_count": 85,
     "metadata": {},
     "output_type": "execute_result"
    }
   ],
   "source": [
    "# Aperçu de la df\n",
    "performance_logistique.head()"
   ]
  },
  {
   "cell_type": "code",
   "execution_count": 86,
   "metadata": {},
   "outputs": [
    {
     "name": "stdout",
     "output_type": "stream",
     "text": [
      "\n",
      "=== Analyse de Performance_logistique ===\n",
      "Le tableau comporte 266 observation(s) ou article(s)\n",
      "Le tableau comporte 2 colonne(s).\n",
      "\n",
      "Nature des données dans chacune des colonnes :\n",
      "Pays                       object\n",
      "Performance_logistique    float64\n",
      "dtype: object\n",
      "\n",
      "Nombre de valeurs présentes dans chacune des colonnes :\n",
      "Pays                      264\n",
      "Performance_logistique    186\n",
      "dtype: int64\n",
      "\n",
      "Nombre de valeurs uniques dans chacune des colonnes :\n",
      "Pays                      264\n",
      "Performance_logistique     65\n",
      "dtype: int64\n",
      "\n",
      "Nombre de doublons présents dans chacune des colonnes :\n",
      "Pays                        0\n",
      "Performance_logistique    121\n",
      "dtype: int64\n",
      "\n",
      "Nombre de valeurs nulles présentes dans chacune des colonnes :\n",
      "Pays                       2\n",
      "Performance_logistique    80\n",
      "dtype: int64\n",
      "\n",
      "Aperçu des 5 premières lignes de la table :\n",
      "          Pays  Performance_logistique\n",
      "0        Aruba                     NaN\n",
      "1          NaN                2.618182\n",
      "2  Afghanistan                1.900000\n",
      "3          NaN                2.473333\n",
      "4       Angola                2.100000\n"
     ]
    }
   ],
   "source": [
    "# Définir la troisième ligne comme noms des colonnes\n",
    "performance_logistique.columns = performance_logistique.iloc[2]  \n",
    "# Supprimer les trois premières lignes et réindexer\n",
    "performance_logistique = performance_logistique[3:].reset_index(drop=True)\n",
    "# Ne garder que les colonnes \"Pays\" et \"Performance_logistique\" (année 2022)\n",
    "performance_logistique = performance_logistique[[\"Country Name\", 2022.0]].rename(columns={\"Country Name\": \"Pays\", 2022.0: \"Performance_logistique\"})\n",
    "performance_logistique.columns = [\"Pays\", \"Performance_logistique\"]\n",
    "# Afficher une brève analyse de la df\n",
    "from fonctions_universelles import analyser_dataframe\n",
    "analyser_dataframe(performance_logistique, \"Performance_logistique\")"
   ]
  },
  {
   "cell_type": "code",
   "execution_count": 87,
   "metadata": {},
   "outputs": [
    {
     "name": "stdout",
     "output_type": "stream",
     "text": [
      "                  Pays  Performance_logistique\n",
      "0                Aruba                     NaN\n",
      "1                  NaN                2.618182\n",
      "3                  NaN                2.473333\n",
      "6              Andorre                     NaN\n",
      "11   Samoa américaines                     NaN\n",
      "..                 ...                     ...\n",
      "256  Îles Vierges (EU)                     NaN\n",
      "258            Vanuatu                     NaN\n",
      "260              Samoa                     NaN\n",
      "261             Kosovo                     NaN\n",
      "264             Zambie                     NaN\n",
      "\n",
      "[82 rows x 2 columns]\n",
      "['Afghanistan', 'Angola', 'Albanie', 'Le monde arabe', 'Émirats arabes unis', 'Argentine', 'Arménie', 'Antigua-et-Barbuda', 'Australie', 'Autriche', 'Belgique', 'Bénin', 'Burkina Faso', 'Bangladesh', 'Bulgarie', 'Bahreïn', 'Bahamas', 'Bosnie-Herzégovine', 'Bélarus', 'Bolivie', 'Brésil', 'Bhoutan', 'Botswana', 'République centrafricaine', 'Canada', 'Europe centrale et les pays baltes', 'Suisse', 'Chili', 'Chine', 'Cameroun', 'Congo, République démocratique du', 'Congo, République du', 'Colombie', 'Costa Rica', 'Petits états des Caraïbes', 'Cuba', 'Chypre', 'République tchèque', 'Allemagne', 'Djibouti', 'Danemark', 'République dominicaine', 'Algérie', 'Asie de l’Est et Pacifique (hors revenu élevé)', 'de dividende précoce démographique', 'Asie de l’Est et Pacifique', 'Europe et Asie centrale (hors revenu élevé)', 'Europe et Asie centrale', 'Égypte, République arabe d’', 'Zone euro', 'Espagne', 'Estonie', 'Union européenne', 'Fragile et les situations de conflit touchées', 'Finlande', 'Fidji', 'France', 'Gabon', 'Royaume-Uni', 'Géorgie', 'Ghana', 'Guinée', 'Gambie', 'Guinée-Bissau', 'Grèce', 'Grenade', 'Guatemala', 'Guyana', 'Revenu élevé', 'Chine, RAS de Hong Kong', 'Honduras', 'Pays pauvres très endettés (PPTE)', 'Croatie', 'Haïti', 'Hongrie', 'BIRD seulement', 'BIRD et IDA', 'IDA totale', 'IDA mélange', 'Indonésie', 'IDA seulement', 'Inde', 'Irlande', 'Iran, République islamique d’', 'Iraq', 'Islande', 'Israël', 'Italie', 'Jamaïque', 'Japon', 'Kazakhstan', 'République kirghize', 'Cambodge', 'Corée, République de', 'Koweït', 'Amérique latine et Caraïbes (hors revenu élevé)', 'République démocratique populaire lao', 'Libéria', 'Libye', 'Amérique latine et Caraïbes', 'Pays les moins avancés: classement de l’ONU', 'Faible revenu', 'Sri Lanka', 'Revenu intermédiaire, tranche inférieure', 'Revenu faible et intermédiaire', 'de dividende tardif démographique', 'Lituanie', 'Luxembourg', 'Lettonie', 'Moldova', 'Madagascar', 'Afrique du Nord et Moyen-Orient', 'Mexique', 'Revenu intermédiaire', 'Macédoine du Nord', 'Mali', 'Malte', 'Afrique du Nord et Moyen-Orient (hors revenu élevé)', 'Monténégro', 'Mongolie', 'Mauritanie', 'Maurice', 'Malaisie', 'Amérique du Nord', 'Namibie', 'Nigéria', 'Nicaragua', 'Pays-Bas', 'Norvège', 'Nouvelle-Zélande', \"Pays membres de l'OCDE\", 'Oman', 'Autres petits états', 'Panama', 'Pérou', 'Philippines', 'Papouasie-Nouvelle-Guinée', 'Pologne', 'de Pré-dividende démographique', 'Portugal', 'Paraguay', 'Petits états insulaires du Pacifique', 'de Post-dividende démographique', 'Qatar', 'Roumanie', 'Fédération de Russie', 'Rwanda', 'Asie du Sud', 'Arabie saoudite', 'Soudan', 'Singapour', 'Îles Salomon', 'El Salvador', 'Somalie', 'Serbie', 'Afrique subsaharienne (hors revenu élevé)', 'Afrique subsaharienne', 'Petits états', 'République slovaque', 'Slovénie', 'Suède', 'République arabe syrienne', 'Asie de l’Est et Pacifique (BIRD et IDA)', 'Europe et Asie centrale (BIRD et IDA)', 'Togo', 'Thaïlande', 'Tadjikistan', 'Amérique latine et Caraïbes (BIRD et IDA)', 'Afrique du Nord et Moyen-Orient (BIRD et IDA)', 'Asie du Sud (BIRD et IDA)', 'Afrique subsaharienne (BIRD et IDA)', 'Trinité-et-Tobago', 'Turquie', 'Ukraine', 'Revenu intermédiaire, tranche supérieure', 'Uruguay', 'États-Unis', 'Ouzbékistan', 'Venezuela', 'Viet Nam', 'Monde', 'Yémen, Rép. du', 'Afrique du Sud', 'Zimbabwe']\n"
     ]
    }
   ],
   "source": [
    "# Nombre initial de lignes\n",
    "performance_logistique_lignes = len(performance_logistique)\n",
    "# Afficher les pays non renseignés\n",
    "print(performance_logistique[performance_logistique.isna().any(axis=1)])\n",
    "# Supprimer les pays non renseignés\n",
    "performance_logistique = performance_logistique.dropna()\n",
    "# Nombre de lignes après suppression des pays non renseignés\n",
    "performance_logistique_lignes2 = len(performance_logistique)\n",
    "# Vérifier la liste de pays afin d'éliminer les régions et les erreurs\n",
    "print(performance_logistique[\"Pays\"].tolist())"
   ]
  },
  {
   "cell_type": "code",
   "execution_count": 88,
   "metadata": {},
   "outputs": [
    {
     "name": "stdout",
     "output_type": "stream",
     "text": [
      "Pays                      138\n",
      "Performance_logistique    138\n",
      "dtype: int64\n"
     ]
    }
   ],
   "source": [
    "# Supprimer ces pays de la DataFrame\n",
    "performance_logistique = performance_logistique[~performance_logistique[\"Pays\"].isin(pays_a_supprimer)].reset_index(drop=True)\n",
    "# Vérifier si les pays sont supprimés\n",
    "print(performance_logistique.count())\n",
    "# Afficher un aperçu rapide des données\n",
    "performance_logistique.describe()\n",
    "# Nombre de lignes après suppression des groupes de pays\n",
    "performance_logistique_lignes3 = len(performance_logistique)"
   ]
  },
  {
   "cell_type": "code",
   "execution_count": 89,
   "metadata": {},
   "outputs": [
    {
     "name": "stdout",
     "output_type": "stream",
     "text": [
      "📊 Nettoyage des données :\n",
      "Départ : 266 lignes\n",
      " ├── Suppression des pays non renseignés ➝  184 lignes  (-82)\n",
      " └── Suppression des groupes de pays     ➝  138 lignes  (-46)\n",
      "Arrivée : 138 lignes restantes\n"
     ]
    }
   ],
   "source": [
    "print(\"📊 Nettoyage des données :\")\n",
    "print(f\"Départ : {performance_logistique_lignes} lignes\")\n",
    "print(f\" ├── Suppression des pays non renseignés ➝  {performance_logistique_lignes2} lignes  (-{performance_logistique_lignes - performance_logistique_lignes2})\")\n",
    "print(f\" └── Suppression des groupes de pays     ➝  {performance_logistique_lignes3} lignes  (-{performance_logistique_lignes2 - performance_logistique_lignes3})\")\n",
    "print(f\"Arrivée : {performance_logistique_lignes3} lignes restantes\")"
   ]
  },
  {
   "cell_type": "code",
   "execution_count": 90,
   "metadata": {},
   "outputs": [
    {
     "name": "stdout",
     "output_type": "stream",
     "text": [
      "Nombre d'outliers : 0\n"
     ]
    },
    {
     "data": {
      "image/png": "[encoded data removed]",
      "text/plain": [
       "<Figure size 2000x600 with 1 Axes>"
      ]
     },
     "metadata": {},
     "output_type": "display_data"
    }
   ],
   "source": [
    "from fonctions_universelles import boxplot_colonne\n",
    "\n",
    "# Afficher le boxplot pour la Performance_logistique\n",
    "boxplot_colonne(performance_logistique, \"Performance_logistique\", \"Répartition de la Performance logistique par pays\")"
   ]
  },
  {
   "cell_type": "markdown",
   "metadata": {},
   "source": [
    "### Le fichier **Performance logistique** va nous informer sur l'**indice de performance logistique** de **138 pays**. Il n'y a **aucun outlier**."
   ]
  },
  {
   "cell_type": "markdown",
   "metadata": {},
   "source": [
    "<div style=\"border: 1px solid RGB(255,184,100);\" >\n",
    "  <h3 id=\"2-5\" style=\"margin: auto; padding: 20px; color: RGB(255,184,100);\">2.5 - Fichier Imposition sociétés </h3>\n",
    "</div>"
   ]
  },
  {
   "cell_type": "code",
   "execution_count": 91,
   "metadata": {},
   "outputs": [
    {
     "data": {
      "text/html": [
       "<div>\n",
       "<style scoped>\n",
       "    .dataframe tbody tr th:only-of-type {\n",
       "        vertical-align: middle;\n",
       "    }\n",
       "\n",
       "    .dataframe tbody tr th {\n",
       "        vertical-align: top;\n",
       "    }\n",
       "\n",
       "    .dataframe thead th {\n",
       "        text-align: right;\n",
       "    }\n",
       "</style>\n",
       "<table border=\"1\" class=\"dataframe\">\n",
       "  <thead>\n",
       "    <tr style=\"text-align: right;\">\n",
       "      <th></th>\n",
       "      <th>Data Source</th>\n",
       "      <th>Indicateurs du développement dans le monde</th>\n",
       "      <th>Unnamed: 2</th>\n",
       "      <th>Unnamed: 3</th>\n",
       "      <th>Unnamed: 4</th>\n",
       "      <th>Unnamed: 5</th>\n",
       "      <th>Unnamed: 6</th>\n",
       "      <th>Unnamed: 7</th>\n",
       "      <th>Unnamed: 8</th>\n",
       "      <th>Unnamed: 9</th>\n",
       "      <th>...</th>\n",
       "      <th>Unnamed: 58</th>\n",
       "      <th>Unnamed: 59</th>\n",
       "      <th>Unnamed: 60</th>\n",
       "      <th>Unnamed: 61</th>\n",
       "      <th>Unnamed: 62</th>\n",
       "      <th>Unnamed: 63</th>\n",
       "      <th>Unnamed: 64</th>\n",
       "      <th>Unnamed: 65</th>\n",
       "      <th>Unnamed: 66</th>\n",
       "      <th>Unnamed: 67</th>\n",
       "    </tr>\n",
       "  </thead>\n",
       "  <tbody>\n",
       "    <tr>\n",
       "      <th>0</th>\n",
       "      <td>Last Updated Date</td>\n",
       "      <td>2025-01-28 00:00:00</td>\n",
       "      <td>NaN</td>\n",
       "      <td>NaN</td>\n",
       "      <td>NaN</td>\n",
       "      <td>NaN</td>\n",
       "      <td>NaN</td>\n",
       "      <td>NaN</td>\n",
       "      <td>NaN</td>\n",
       "      <td>NaN</td>\n",
       "      <td>...</td>\n",
       "      <td>NaN</td>\n",
       "      <td>NaN</td>\n",
       "      <td>NaN</td>\n",
       "      <td>NaN</td>\n",
       "      <td>NaN</td>\n",
       "      <td>NaN</td>\n",
       "      <td>NaN</td>\n",
       "      <td>NaN</td>\n",
       "      <td>NaN</td>\n",
       "      <td>NaN</td>\n",
       "    </tr>\n",
       "    <tr>\n",
       "      <th>1</th>\n",
       "      <td>NaN</td>\n",
       "      <td>NaN</td>\n",
       "      <td>NaN</td>\n",
       "      <td>NaN</td>\n",
       "      <td>NaN</td>\n",
       "      <td>NaN</td>\n",
       "      <td>NaN</td>\n",
       "      <td>NaN</td>\n",
       "      <td>NaN</td>\n",
       "      <td>NaN</td>\n",
       "      <td>...</td>\n",
       "      <td>NaN</td>\n",
       "      <td>NaN</td>\n",
       "      <td>NaN</td>\n",
       "      <td>NaN</td>\n",
       "      <td>NaN</td>\n",
       "      <td>NaN</td>\n",
       "      <td>NaN</td>\n",
       "      <td>NaN</td>\n",
       "      <td>NaN</td>\n",
       "      <td>NaN</td>\n",
       "    </tr>\n",
       "    <tr>\n",
       "      <th>2</th>\n",
       "      <td>Country Name</td>\n",
       "      <td>Country Code</td>\n",
       "      <td>Indicator Name</td>\n",
       "      <td>Indicator Code</td>\n",
       "      <td>1960.0</td>\n",
       "      <td>1961.0</td>\n",
       "      <td>1962.0</td>\n",
       "      <td>1963.0</td>\n",
       "      <td>1964.0</td>\n",
       "      <td>1965.0</td>\n",
       "      <td>...</td>\n",
       "      <td>2014.000</td>\n",
       "      <td>2015.000</td>\n",
       "      <td>2016.000</td>\n",
       "      <td>2017.000</td>\n",
       "      <td>2018.00</td>\n",
       "      <td>2019.000</td>\n",
       "      <td>2020.0</td>\n",
       "      <td>2021.0</td>\n",
       "      <td>2022.0</td>\n",
       "      <td>2023.0</td>\n",
       "    </tr>\n",
       "    <tr>\n",
       "      <th>3</th>\n",
       "      <td>Aruba</td>\n",
       "      <td>ABW</td>\n",
       "      <td>Taux d'imposition et cotisations du travail (%...</td>\n",
       "      <td>IC.TAX.LABR.CP.ZS</td>\n",
       "      <td>NaN</td>\n",
       "      <td>NaN</td>\n",
       "      <td>NaN</td>\n",
       "      <td>NaN</td>\n",
       "      <td>NaN</td>\n",
       "      <td>NaN</td>\n",
       "      <td>...</td>\n",
       "      <td>NaN</td>\n",
       "      <td>NaN</td>\n",
       "      <td>NaN</td>\n",
       "      <td>NaN</td>\n",
       "      <td>NaN</td>\n",
       "      <td>NaN</td>\n",
       "      <td>NaN</td>\n",
       "      <td>NaN</td>\n",
       "      <td>NaN</td>\n",
       "      <td>NaN</td>\n",
       "    </tr>\n",
       "    <tr>\n",
       "      <th>4</th>\n",
       "      <td>NaN</td>\n",
       "      <td>AFE</td>\n",
       "      <td>Taux d'imposition et cotisations du travail (%...</td>\n",
       "      <td>IC.TAX.LABR.CP.ZS</td>\n",
       "      <td>NaN</td>\n",
       "      <td>NaN</td>\n",
       "      <td>NaN</td>\n",
       "      <td>NaN</td>\n",
       "      <td>NaN</td>\n",
       "      <td>NaN</td>\n",
       "      <td>...</td>\n",
       "      <td>7.768</td>\n",
       "      <td>7.912</td>\n",
       "      <td>8.012</td>\n",
       "      <td>8.052</td>\n",
       "      <td>8.08</td>\n",
       "      <td>8.084</td>\n",
       "      <td>NaN</td>\n",
       "      <td>NaN</td>\n",
       "      <td>NaN</td>\n",
       "      <td>NaN</td>\n",
       "    </tr>\n",
       "  </tbody>\n",
       "</table>\n",
       "<p>5 rows × 68 columns</p>\n",
       "</div>"
      ],
      "text/plain": [
       "         Data Source Indicateurs du développement dans le monde  \\\n",
       "0  Last Updated Date                        2025-01-28 00:00:00   \n",
       "1                NaN                                        NaN   \n",
       "2       Country Name                               Country Code   \n",
       "3              Aruba                                        ABW   \n",
       "4                NaN                                        AFE   \n",
       "\n",
       "                                          Unnamed: 2         Unnamed: 3  \\\n",
       "0                                                NaN                NaN   \n",
       "1                                                NaN                NaN   \n",
       "2                                     Indicator Name     Indicator Code   \n",
       "3  Taux d'imposition et cotisations du travail (%...  IC.TAX.LABR.CP.ZS   \n",
       "4  Taux d'imposition et cotisations du travail (%...  IC.TAX.LABR.CP.ZS   \n",
       "\n",
       "   Unnamed: 4  Unnamed: 5  Unnamed: 6  Unnamed: 7  Unnamed: 8  Unnamed: 9  \\\n",
       "0         NaN         NaN         NaN         NaN         NaN         NaN   \n",
       "1         NaN         NaN         NaN         NaN         NaN         NaN   \n",
       "2      1960.0      1961.0      1962.0      1963.0      1964.0      1965.0   \n",
       "3         NaN         NaN         NaN         NaN         NaN         NaN   \n",
       "4         NaN         NaN         NaN         NaN         NaN         NaN   \n",
       "\n",
       "   ...  Unnamed: 58  Unnamed: 59  Unnamed: 60  Unnamed: 61  Unnamed: 62  \\\n",
       "0  ...          NaN          NaN          NaN          NaN          NaN   \n",
       "1  ...          NaN          NaN          NaN          NaN          NaN   \n",
       "2  ...     2014.000     2015.000     2016.000     2017.000      2018.00   \n",
       "3  ...          NaN          NaN          NaN          NaN          NaN   \n",
       "4  ...        7.768        7.912        8.012        8.052         8.08   \n",
       "\n",
       "   Unnamed: 63  Unnamed: 64  Unnamed: 65  Unnamed: 66  Unnamed: 67  \n",
       "0          NaN          NaN          NaN          NaN          NaN  \n",
       "1          NaN          NaN          NaN          NaN          NaN  \n",
       "2     2019.000       2020.0       2021.0       2022.0       2023.0  \n",
       "3          NaN          NaN          NaN          NaN          NaN  \n",
       "4        8.084          NaN          NaN          NaN          NaN  \n",
       "\n",
       "[5 rows x 68 columns]"
      ]
     },
     "execution_count": 91,
     "metadata": {},
     "output_type": "execute_result"
    }
   ],
   "source": [
    "# Aperçu de la df\n",
    "fiscalite.head()"
   ]
  },
  {
   "cell_type": "code",
   "execution_count": 92,
   "metadata": {},
   "outputs": [
    {
     "name": "stdout",
     "output_type": "stream",
     "text": [
      "\n",
      "=== Analyse de Fiscalite ===\n",
      "Le tableau comporte 266 observation(s) ou article(s)\n",
      "Le tableau comporte 2 colonne(s).\n",
      "\n",
      "Nature des données dans chacune des colonnes :\n",
      "Pays          object\n",
      "Fiscalite    float64\n",
      "dtype: object\n",
      "\n",
      "Nombre de valeurs présentes dans chacune des colonnes :\n",
      "Pays         264\n",
      "Fiscalite    237\n",
      "dtype: int64\n",
      "\n",
      "Nombre de valeurs uniques dans chacune des colonnes :\n",
      "Pays         264\n",
      "Fiscalite    170\n",
      "dtype: int64\n",
      "\n",
      "Nombre de doublons présents dans chacune des colonnes :\n",
      "Pays          0\n",
      "Fiscalite    67\n",
      "dtype: int64\n",
      "\n",
      "Nombre de valeurs nulles présentes dans chacune des colonnes :\n",
      "Pays          2\n",
      "Fiscalite    29\n",
      "dtype: int64\n",
      "\n",
      "Aperçu des 5 premières lignes de la table :\n",
      "          Pays  Fiscalite\n",
      "0        Aruba        NaN\n",
      "1          NaN   8.084000\n",
      "2  Afghanistan   0.000000\n",
      "3          NaN  21.477273\n",
      "4       Angola   9.000000\n"
     ]
    }
   ],
   "source": [
    "# Définir la troisième ligne comme noms des colonnes\n",
    "fiscalite.columns = fiscalite.iloc[2]  \n",
    "# Supprimer les trois premières lignes et réindexer\n",
    "fiscalite = fiscalite[3:].reset_index(drop=True)\n",
    "# Ne garder que les colonnes \"Pays\" et \"Fiscalité\" (année 2019)\n",
    "fiscalite = fiscalite[[\"Country Name\", 2019.0]].rename(columns={\"Country Name\": \"Pays\", 2019.0: \"Fiscalite\"})\n",
    "fiscalite.columns = [\"Pays\", \"Fiscalite\"]\n",
    "# Afficher une brève analyse de la df\n",
    "from fonctions_universelles import analyser_dataframe\n",
    "analyser_dataframe(fiscalite, \"Fiscalite\")"
   ]
  },
  {
   "cell_type": "code",
   "execution_count": 93,
   "metadata": {},
   "outputs": [
    {
     "name": "stdout",
     "output_type": "stream",
     "text": [
      "                                               Pays  Fiscalite\n",
      "0                                             Aruba        NaN\n",
      "1                                               NaN   8.084000\n",
      "3                                               NaN  21.477273\n",
      "6                                           Andorre        NaN\n",
      "11                                Samoa américaines        NaN\n",
      "27                                         Bermudes        NaN\n",
      "38                             Îles Anglo-Normandes        NaN\n",
      "50                                             Cuba        NaN\n",
      "51                                          Curacao        NaN\n",
      "52                                     Îles Caïmans        NaN\n",
      "78                                       Îles Féroé        NaN\n",
      "84                                        Gibraltar        NaN\n",
      "91                                        Groenland        NaN\n",
      "93                                             Guam        NaN\n",
      "108                                      Île de Man        NaN\n",
      "110                                   Non classifié        NaN\n",
      "146  Région administrative spéciale de Macao, Chine        NaN\n",
      "147                               Saint-Martin (fr)        NaN\n",
      "149                                          Monaco        NaN\n",
      "164                                       Mariannes        NaN\n",
      "172                              Nouvelle-Calédonie        NaN\n",
      "179                                           Nauru        NaN\n",
      "193               Corée, République démocratique de        NaN\n",
      "199                             Polynésie française        NaN\n",
      "213                                         Somalie        NaN\n",
      "225                       Sint Maarten (Dutch part)        NaN\n",
      "228                         Îles Turques-et-Caïques        NaN\n",
      "235                                    Turkménistan        NaN\n",
      "245                                          Tuvalu        NaN\n",
      "255                       Îles Vierges britanniques        NaN\n",
      "256                               Îles Vierges (EU)        NaN\n",
      "['Afghanistan', 'Angola', 'Albanie', 'Le monde arabe', 'Émirats arabes unis', 'Argentine', 'Arménie', 'Antigua-et-Barbuda', 'Australie', 'Autriche', 'Azerbaïdjan', 'Burundi', 'Belgique', 'Bénin', 'Burkina Faso', 'Bangladesh', 'Bulgarie', 'Bahreïn', 'Bahamas', 'Bosnie-Herzégovine', 'Bélarus', 'Belize', 'Bolivie', 'Brésil', 'Barbade', 'Brunéi Darussalam', 'Bhoutan', 'Botswana', 'République centrafricaine', 'Canada', 'Europe centrale et les pays baltes', 'Suisse', 'Chili', 'Chine', \"Côte d'Ivoire\", 'Cameroun', 'Congo, République démocratique du', 'Congo, République du', 'Colombie', 'Comores', 'Cabo Verde', 'Costa Rica', 'Petits états des Caraïbes', 'Chypre', 'République tchèque', 'Allemagne', 'Djibouti', 'Dominique', 'Danemark', 'République dominicaine', 'Algérie', 'Asie de l’Est et Pacifique (hors revenu élevé)', 'de dividende précoce démographique', 'Asie de l’Est et Pacifique', 'Europe et Asie centrale (hors revenu élevé)', 'Europe et Asie centrale', 'Équateur', 'Égypte, République arabe d’', 'Zone euro', 'Érythrée', 'Espagne', 'Estonie', 'Éthiopie', 'Union européenne', 'Fragile et les situations de conflit touchées', 'Finlande', 'Fidji', 'France', 'Micronésie, États fédérés de', 'Gabon', 'Royaume-Uni', 'Géorgie', 'Ghana', 'Guinée', 'Gambie', 'Guinée-Bissau', 'Guinée équatoriale', 'Grèce', 'Grenade', 'Guatemala', 'Guyana', 'Revenu élevé', 'Chine, RAS de Hong Kong', 'Honduras', 'Pays pauvres très endettés (PPTE)', 'Croatie', 'Haïti', 'Hongrie', 'BIRD seulement', 'BIRD et IDA', 'IDA totale', 'IDA mélange', 'Indonésie', 'IDA seulement', 'Inde', 'Irlande', 'Iran, République islamique d’', 'Iraq', 'Islande', 'Israël', 'Italie', 'Jamaïque', 'Jordanie', 'Japon', 'Kazakhstan', 'Kenya', 'République kirghize', 'Cambodge', 'Kiribati', 'Saint-Kitts-et-Nevis', 'Corée, République de', 'Koweït', 'Amérique latine et Caraïbes (hors revenu élevé)', 'République démocratique populaire lao', 'Liban', 'Libéria', 'Libye', 'Sainte-Lucie', 'Amérique latine et Caraïbes', 'Pays les moins avancés: classement de l’ONU', 'Faible revenu', 'Liechtenstein', 'Sri Lanka', 'Revenu intermédiaire, tranche inférieure', 'Revenu faible et intermédiaire', 'Lesotho', 'de dividende tardif démographique', 'Lituanie', 'Luxembourg', 'Lettonie', 'Maroc', 'Moldova', 'Madagascar', 'Maldives', 'Afrique du Nord et Moyen-Orient', 'Mexique', 'Îles Marshall', 'Revenu intermédiaire', 'Macédoine du Nord', 'Mali', 'Malte', 'Myanmar', 'Afrique du Nord et Moyen-Orient (hors revenu élevé)', 'Monténégro', 'Mongolie', 'Mozambique', 'Mauritanie', 'Maurice', 'Malawi', 'Malaisie', 'Amérique du Nord', 'Namibie', 'Niger', 'Nigéria', 'Nicaragua', 'Pays-Bas', 'Norvège', 'Népal', 'Nouvelle-Zélande', \"Pays membres de l'OCDE\", 'Oman', 'Autres petits états', 'Pakistan', 'Panama', 'Pérou', 'Philippines', 'Palaos', 'Papouasie-Nouvelle-Guinée', 'Pologne', 'de Pré-dividende démographique', 'Porto Rico', 'Portugal', 'Paraguay', 'Cisjordanie et Gaza', 'Petits états insulaires du Pacifique', 'de Post-dividende démographique', 'Qatar', 'Roumanie', 'Fédération de Russie', 'Rwanda', 'Asie du Sud', 'Arabie saoudite', 'Soudan', 'Sénégal', 'Singapour', 'Îles Salomon', 'Sierra Leone', 'El Salvador', 'Saint-Marin', 'Serbie', 'Afrique subsaharienne (hors revenu élevé)', 'Soudan du Sud', 'Afrique subsaharienne', 'Petits états', 'Sao Tomé-et-Principe', 'Suriname', 'République slovaque', 'Slovénie', 'Suède', 'Eswatini', 'Seychelles', 'République arabe syrienne', 'Tchad', 'Asie de l’Est et Pacifique (BIRD et IDA)', 'Europe et Asie centrale (BIRD et IDA)', 'Togo', 'Thaïlande', 'Tadjikistan', 'Amérique latine et Caraïbes (BIRD et IDA)', 'Timor-Leste', 'Afrique du Nord et Moyen-Orient (BIRD et IDA)', 'Tonga', 'Asie du Sud (BIRD et IDA)', 'Afrique subsaharienne (BIRD et IDA)', 'Trinité-et-Tobago', 'Tunisie', 'Turquie', 'Tanzanie', 'Ouganda', 'Ukraine', 'Revenu intermédiaire, tranche supérieure', 'Uruguay', 'États-Unis', 'Ouzbékistan', 'Saint-Vincent-et-les Grenadines', 'Venezuela', 'Viet Nam', 'Vanuatu', 'Monde', 'Samoa', 'Kosovo', 'Yémen, Rép. du', 'Afrique du Sud', 'Zambie', 'Zimbabwe']\n"
     ]
    }
   ],
   "source": [
    "# Nombre initial de lignes\n",
    "fiscalite_lignes = len(fiscalite)\n",
    "# Afficher les pays non renseignés\n",
    "print(fiscalite[fiscalite.isna().any(axis=1)])\n",
    "# Supprimer les pays non renseignés\n",
    "fiscalite = fiscalite.dropna()\n",
    "# Vérifier la liste de pays afin d'éliminer les régions et les erreurs\n",
    "print(fiscalite[\"Pays\"].tolist())\n",
    "# Nombre de lignes après suppression des pays non renseignés\n",
    "fiscalite_lignes2 = len(fiscalite)"
   ]
  },
  {
   "cell_type": "code",
   "execution_count": 94,
   "metadata": {},
   "outputs": [
    {
     "name": "stdout",
     "output_type": "stream",
     "text": [
      "Pays         189\n",
      "Fiscalite    189\n",
      "dtype: int64\n"
     ]
    },
    {
     "data": {
      "text/html": [
       "<div>\n",
       "<style scoped>\n",
       "    .dataframe tbody tr th:only-of-type {\n",
       "        vertical-align: middle;\n",
       "    }\n",
       "\n",
       "    .dataframe tbody tr th {\n",
       "        vertical-align: top;\n",
       "    }\n",
       "\n",
       "    .dataframe thead th {\n",
       "        text-align: right;\n",
       "    }\n",
       "</style>\n",
       "<table border=\"1\" class=\"dataframe\">\n",
       "  <thead>\n",
       "    <tr style=\"text-align: right;\">\n",
       "      <th></th>\n",
       "      <th>Fiscalite</th>\n",
       "    </tr>\n",
       "  </thead>\n",
       "  <tbody>\n",
       "    <tr>\n",
       "      <th>count</th>\n",
       "      <td>189.000000</td>\n",
       "    </tr>\n",
       "    <tr>\n",
       "      <th>mean</th>\n",
       "      <td>16.265079</td>\n",
       "    </tr>\n",
       "    <tr>\n",
       "      <th>std</th>\n",
       "      <td>10.746684</td>\n",
       "    </tr>\n",
       "    <tr>\n",
       "      <th>min</th>\n",
       "      <td>0.000000</td>\n",
       "    </tr>\n",
       "    <tr>\n",
       "      <th>25%</th>\n",
       "      <td>8.500000</td>\n",
       "    </tr>\n",
       "    <tr>\n",
       "      <th>50%</th>\n",
       "      <td>13.700000</td>\n",
       "    </tr>\n",
       "    <tr>\n",
       "      <th>75%</th>\n",
       "      <td>23.100000</td>\n",
       "    </tr>\n",
       "    <tr>\n",
       "      <th>max</th>\n",
       "      <td>50.000000</td>\n",
       "    </tr>\n",
       "  </tbody>\n",
       "</table>\n",
       "</div>"
      ],
      "text/plain": [
       "        Fiscalite\n",
       "count  189.000000\n",
       "mean    16.265079\n",
       "std     10.746684\n",
       "min      0.000000\n",
       "25%      8.500000\n",
       "50%     13.700000\n",
       "75%     23.100000\n",
       "max     50.000000"
      ]
     },
     "execution_count": 94,
     "metadata": {},
     "output_type": "execute_result"
    }
   ],
   "source": [
    "# Supprimer ces pays de la DataFrame\n",
    "fiscalite = fiscalite[~fiscalite[\"Pays\"].isin(pays_a_supprimer)].reset_index(drop=True)\n",
    "# Vérifier si les pays sont supprimés\n",
    "print(fiscalite.count())\n",
    "# Nombre de lignes après suppression des groupes de pays\n",
    "fiscalite_lignes3 = len(fiscalite)\n",
    "# Afficher un aperçu rapide des données\n",
    "fiscalite.describe()"
   ]
  },
  {
   "cell_type": "code",
   "execution_count": 95,
   "metadata": {},
   "outputs": [
    {
     "name": "stdout",
     "output_type": "stream",
     "text": [
      "                    Pays  Fiscalite\n",
      "0            Afghanistan        0.0\n",
      "5                Arménie        0.0\n",
      "14            Bangladesh        0.0\n",
      "25               Bhoutan        0.0\n",
      "26              Botswana        0.0\n",
      "37               Comores        0.0\n",
      "50              Érythrée        0.0\n",
      "60               Géorgie        0.0\n",
      "101              Lesotho        0.0\n",
      "111    Macédoine du Nord        0.0\n",
      "141  Cisjordanie et Gaza        0.0\n",
      "157             Suriname        0.0\n"
     ]
    }
   ],
   "source": [
    "# Afficher les pays ayant une fiscalité égale à zéro\n",
    "print(fiscalite[fiscalite[\"Fiscalite\"] == 0])\n",
    "# Supprimer ces pays\n",
    "fiscalite = fiscalite.loc[fiscalite[\"Fiscalite\"] != 0]\n",
    "# Nombre de lignes après suppression des pays avec une fiscalité égale à zéro\n",
    "fiscalite_lignes4 = len(fiscalite)"
   ]
  },
  {
   "cell_type": "code",
   "execution_count": 96,
   "metadata": {},
   "outputs": [
    {
     "name": "stdout",
     "output_type": "stream",
     "text": [
      "📊 Nettoyage des données :\n",
      "Départ : 266 lignes\n",
      " ├── Suppression des pays non renseignés       ➝  235 lignes  (-31)\n",
      " └── Suppression des groupes de pays           ➝  189 lignes  (-46)\n",
      " └── Suppression des pays avec fiscalité nulle ➝  177 lignes  (-12)\n",
      "Arrivée : 177 lignes restantes\n"
     ]
    }
   ],
   "source": [
    "print(\"📊 Nettoyage des données :\")\n",
    "print(f\"Départ : {fiscalite_lignes} lignes\")\n",
    "print(f\" ├── Suppression des pays non renseignés       ➝  {fiscalite_lignes2} lignes  (-{fiscalite_lignes - fiscalite_lignes2})\")\n",
    "print(f\" └── Suppression des groupes de pays           ➝  {fiscalite_lignes3} lignes  (-{fiscalite_lignes2 - fiscalite_lignes3})\")\n",
    "print(f\" └── Suppression des pays avec fiscalité nulle ➝  {fiscalite_lignes4} lignes  (-{fiscalite_lignes3 - fiscalite_lignes4})\")\n",
    "print(f\"Arrivée : {fiscalite_lignes4} lignes restantes\")"
   ]
  },
  {
   "cell_type": "code",
   "execution_count": 97,
   "metadata": {},
   "outputs": [
    {
     "name": "stdout",
     "output_type": "stream",
     "text": [
      "Nombre d'outliers : 3\n",
      "Pays concernés :\n",
      "['Belgique', 'Chine', 'France']\n"
     ]
    },
    {
     "data": {
      "image/png": "[encoded data removed]",
      "text/plain": [
       "<Figure size 2000x600 with 1 Axes>"
      ]
     },
     "metadata": {},
     "output_type": "display_data"
    }
   ],
   "source": [
    "from fonctions_universelles import boxplot_colonne\n",
    "\n",
    "# Afficher le boxplot pour la Fiscalité\n",
    "boxplot_colonne(fiscalite, \"Fiscalite\", \"Répartition de l'imposition des sociétés par pays\")"
   ]
  },
  {
   "cell_type": "markdown",
   "metadata": {},
   "source": [
    "### Le fichier **Imposition sociétés** va nous informer sur le **taux d'imposition sur les bénéfices commerciaux** de **177 pays**. Il y a **3 outliers** : la France, la Chine et la Belgique."
   ]
  },
  {
   "cell_type": "markdown",
   "metadata": {},
   "source": [
    "<div style=\"border: 1px solid RGB(255,184,100);\" >\n",
    "  <h3 id=\"2-6\" style=\"margin: auto; padding: 20px; color: RGB(255,184,100);\">2.6 - Fichier Disponibilité Alimentaire </h3>\n",
    "</div>"
   ]
  },
  {
   "cell_type": "code",
   "execution_count": 98,
   "metadata": {},
   "outputs": [
    {
     "data": {
      "text/html": [
       "<div>\n",
       "<style scoped>\n",
       "    .dataframe tbody tr th:only-of-type {\n",
       "        vertical-align: middle;\n",
       "    }\n",
       "\n",
       "    .dataframe tbody tr th {\n",
       "        vertical-align: top;\n",
       "    }\n",
       "\n",
       "    .dataframe thead th {\n",
       "        text-align: right;\n",
       "    }\n",
       "</style>\n",
       "<table border=\"1\" class=\"dataframe\">\n",
       "  <thead>\n",
       "    <tr style=\"text-align: right;\">\n",
       "      <th></th>\n",
       "      <th>Code Domaine</th>\n",
       "      <th>Domaine</th>\n",
       "      <th>Code zone (M49)</th>\n",
       "      <th>Zone</th>\n",
       "      <th>Code Élément</th>\n",
       "      <th>Élément</th>\n",
       "      <th>Code Produit (FBS)</th>\n",
       "      <th>Produit</th>\n",
       "      <th>Code année</th>\n",
       "      <th>Année</th>\n",
       "      <th>Unité</th>\n",
       "      <th>Valeur</th>\n",
       "      <th>Symbole</th>\n",
       "      <th>Description du Symbole</th>\n",
       "      <th>Note</th>\n",
       "    </tr>\n",
       "  </thead>\n",
       "  <tbody>\n",
       "    <tr>\n",
       "      <th>0</th>\n",
       "      <td>FBS</td>\n",
       "      <td>Bilans Alimentaires (2010-)</td>\n",
       "      <td>4</td>\n",
       "      <td>Afghanistan</td>\n",
       "      <td>5511</td>\n",
       "      <td>Production</td>\n",
       "      <td>S2734</td>\n",
       "      <td>Viande de Volailles</td>\n",
       "      <td>2022</td>\n",
       "      <td>2022</td>\n",
       "      <td>1000 t</td>\n",
       "      <td>29.00</td>\n",
       "      <td>I</td>\n",
       "      <td>Valeur imputée</td>\n",
       "      <td>NaN</td>\n",
       "    </tr>\n",
       "    <tr>\n",
       "      <th>1</th>\n",
       "      <td>FBS</td>\n",
       "      <td>Bilans Alimentaires (2010-)</td>\n",
       "      <td>4</td>\n",
       "      <td>Afghanistan</td>\n",
       "      <td>5611</td>\n",
       "      <td>Importations - quantité</td>\n",
       "      <td>S2734</td>\n",
       "      <td>Viande de Volailles</td>\n",
       "      <td>2022</td>\n",
       "      <td>2022</td>\n",
       "      <td>1000 t</td>\n",
       "      <td>7.00</td>\n",
       "      <td>I</td>\n",
       "      <td>Valeur imputée</td>\n",
       "      <td>NaN</td>\n",
       "    </tr>\n",
       "    <tr>\n",
       "      <th>2</th>\n",
       "      <td>FBS</td>\n",
       "      <td>Bilans Alimentaires (2010-)</td>\n",
       "      <td>4</td>\n",
       "      <td>Afghanistan</td>\n",
       "      <td>5301</td>\n",
       "      <td>Disponibilité intérieure</td>\n",
       "      <td>S2734</td>\n",
       "      <td>Viande de Volailles</td>\n",
       "      <td>2022</td>\n",
       "      <td>2022</td>\n",
       "      <td>1000 t</td>\n",
       "      <td>36.00</td>\n",
       "      <td>I</td>\n",
       "      <td>Valeur imputée</td>\n",
       "      <td>NaN</td>\n",
       "    </tr>\n",
       "    <tr>\n",
       "      <th>3</th>\n",
       "      <td>FBS</td>\n",
       "      <td>Bilans Alimentaires (2010-)</td>\n",
       "      <td>4</td>\n",
       "      <td>Afghanistan</td>\n",
       "      <td>645</td>\n",
       "      <td>Disponibilité alimentaire en quantité (kg/pers...</td>\n",
       "      <td>S2734</td>\n",
       "      <td>Viande de Volailles</td>\n",
       "      <td>2022</td>\n",
       "      <td>2022</td>\n",
       "      <td>kcal/personne</td>\n",
       "      <td>0.87</td>\n",
       "      <td>E</td>\n",
       "      <td>Valeur estimée</td>\n",
       "      <td>NaN</td>\n",
       "    </tr>\n",
       "    <tr>\n",
       "      <th>4</th>\n",
       "      <td>FBS</td>\n",
       "      <td>Bilans Alimentaires (2010-)</td>\n",
       "      <td>710</td>\n",
       "      <td>Afrique du Sud</td>\n",
       "      <td>5511</td>\n",
       "      <td>Production</td>\n",
       "      <td>S2734</td>\n",
       "      <td>Viande de Volailles</td>\n",
       "      <td>2022</td>\n",
       "      <td>2022</td>\n",
       "      <td>1000 t</td>\n",
       "      <td>1958.00</td>\n",
       "      <td>I</td>\n",
       "      <td>Valeur imputée</td>\n",
       "      <td>NaN</td>\n",
       "    </tr>\n",
       "  </tbody>\n",
       "</table>\n",
       "</div>"
      ],
      "text/plain": [
       "  Code Domaine                      Domaine  Code zone (M49)            Zone  \\\n",
       "0          FBS  Bilans Alimentaires (2010-)                4     Afghanistan   \n",
       "1          FBS  Bilans Alimentaires (2010-)                4     Afghanistan   \n",
       "2          FBS  Bilans Alimentaires (2010-)                4     Afghanistan   \n",
       "3          FBS  Bilans Alimentaires (2010-)                4     Afghanistan   \n",
       "4          FBS  Bilans Alimentaires (2010-)              710  Afrique du Sud   \n",
       "\n",
       "   Code Élément                                            Élément  \\\n",
       "0          5511                                         Production   \n",
       "1          5611                            Importations - quantité   \n",
       "2          5301                           Disponibilité intérieure   \n",
       "3           645  Disponibilité alimentaire en quantité (kg/pers...   \n",
       "4          5511                                         Production   \n",
       "\n",
       "  Code Produit (FBS)              Produit  Code année  Année          Unité  \\\n",
       "0              S2734  Viande de Volailles        2022   2022         1000 t   \n",
       "1              S2734  Viande de Volailles        2022   2022         1000 t   \n",
       "2              S2734  Viande de Volailles        2022   2022         1000 t   \n",
       "3              S2734  Viande de Volailles        2022   2022  kcal/personne   \n",
       "4              S2734  Viande de Volailles        2022   2022         1000 t   \n",
       "\n",
       "    Valeur Symbole Description du Symbole  Note  \n",
       "0    29.00       I         Valeur imputée   NaN  \n",
       "1     7.00       I         Valeur imputée   NaN  \n",
       "2    36.00       I         Valeur imputée   NaN  \n",
       "3     0.87       E         Valeur estimée   NaN  \n",
       "4  1958.00       I         Valeur imputée   NaN  "
      ]
     },
     "execution_count": 98,
     "metadata": {},
     "output_type": "execute_result"
    }
   ],
   "source": [
    "# Aperçu de la df (2022)\n",
    "dispo_alimentaire.head()"
   ]
  },
  {
   "cell_type": "code",
   "execution_count": 99,
   "metadata": {},
   "outputs": [
    {
     "data": {
      "text/html": [
       "<div>\n",
       "<style scoped>\n",
       "    .dataframe tbody tr th:only-of-type {\n",
       "        vertical-align: middle;\n",
       "    }\n",
       "\n",
       "    .dataframe tbody tr th {\n",
       "        vertical-align: top;\n",
       "    }\n",
       "\n",
       "    .dataframe thead th {\n",
       "        text-align: right;\n",
       "    }\n",
       "</style>\n",
       "<table border=\"1\" class=\"dataframe\">\n",
       "  <thead>\n",
       "    <tr style=\"text-align: right;\">\n",
       "      <th>Élément</th>\n",
       "      <th>Disponibilité intérieure</th>\n",
       "      <th>Importations - quantité</th>\n",
       "      <th>Production</th>\n",
       "    </tr>\n",
       "    <tr>\n",
       "      <th>Zone</th>\n",
       "      <th></th>\n",
       "      <th></th>\n",
       "      <th></th>\n",
       "    </tr>\n",
       "  </thead>\n",
       "  <tbody>\n",
       "    <tr>\n",
       "      <th>Afghanistan</th>\n",
       "      <td>36.0</td>\n",
       "      <td>7.0</td>\n",
       "      <td>29.0</td>\n",
       "    </tr>\n",
       "    <tr>\n",
       "      <th>Afrique du Sud</th>\n",
       "      <td>2370.0</td>\n",
       "      <td>304.0</td>\n",
       "      <td>1958.0</td>\n",
       "    </tr>\n",
       "    <tr>\n",
       "      <th>Albanie</th>\n",
       "      <td>64.0</td>\n",
       "      <td>47.0</td>\n",
       "      <td>18.0</td>\n",
       "    </tr>\n",
       "    <tr>\n",
       "      <th>Algérie</th>\n",
       "      <td>275.0</td>\n",
       "      <td>0.0</td>\n",
       "      <td>275.0</td>\n",
       "    </tr>\n",
       "    <tr>\n",
       "      <th>Allemagne</th>\n",
       "      <td>1462.0</td>\n",
       "      <td>789.0</td>\n",
       "      <td>1507.0</td>\n",
       "    </tr>\n",
       "  </tbody>\n",
       "</table>\n",
       "</div>"
      ],
      "text/plain": [
       "Élément         Disponibilité intérieure  Importations - quantité  Production\n",
       "Zone                                                                         \n",
       "Afghanistan                         36.0                      7.0        29.0\n",
       "Afrique du Sud                    2370.0                    304.0      1958.0\n",
       "Albanie                             64.0                     47.0        18.0\n",
       "Algérie                            275.0                      0.0       275.0\n",
       "Allemagne                         1462.0                    789.0      1507.0"
      ]
     },
     "execution_count": 99,
     "metadata": {},
     "output_type": "execute_result"
    }
   ],
   "source": [
    "# Sélectionner les colonnes utiles\n",
    "dispo_alimentaire = dispo_alimentaire[[\"Zone\", \"Élément\", \"Valeur\"]]\n",
    "# Pivot pour avoir les éléments en colonnes\n",
    "dispo_pivot = dispo_alimentaire.pivot(index=\"Zone\", columns=\"Élément\", values=\"Valeur\")\n",
    "# Supprimer les nouvelles colonnes inutiles\n",
    "dispo_pivot = dispo_pivot.drop(columns=[\"Disponibilité alimentaire en quantité (kg/personne/an)\", \"Exportations - quantité\"], errors='ignore')\n",
    "# Afficher un aperçu du DataFrame mis à jour\n",
    "dispo_pivot.head()"
   ]
  },
  {
   "cell_type": "code",
   "execution_count": 100,
   "metadata": {},
   "outputs": [
    {
     "data": {
      "text/html": [
       "<div>\n",
       "<style scoped>\n",
       "    .dataframe tbody tr th:only-of-type {\n",
       "        vertical-align: middle;\n",
       "    }\n",
       "\n",
       "    .dataframe tbody tr th {\n",
       "        vertical-align: top;\n",
       "    }\n",
       "\n",
       "    .dataframe thead th {\n",
       "        text-align: right;\n",
       "    }\n",
       "</style>\n",
       "<table border=\"1\" class=\"dataframe\">\n",
       "  <thead>\n",
       "    <tr style=\"text-align: right;\">\n",
       "      <th>Élément</th>\n",
       "      <th>Pays</th>\n",
       "      <th>Disponibilité intérieure</th>\n",
       "      <th>Importations - quantité</th>\n",
       "      <th>Production</th>\n",
       "    </tr>\n",
       "  </thead>\n",
       "  <tbody>\n",
       "    <tr>\n",
       "      <th>0</th>\n",
       "      <td>Afghanistan</td>\n",
       "      <td>36.0</td>\n",
       "      <td>7.0</td>\n",
       "      <td>29.0</td>\n",
       "    </tr>\n",
       "    <tr>\n",
       "      <th>1</th>\n",
       "      <td>Afrique du Sud</td>\n",
       "      <td>2370.0</td>\n",
       "      <td>304.0</td>\n",
       "      <td>1958.0</td>\n",
       "    </tr>\n",
       "    <tr>\n",
       "      <th>2</th>\n",
       "      <td>Albanie</td>\n",
       "      <td>64.0</td>\n",
       "      <td>47.0</td>\n",
       "      <td>18.0</td>\n",
       "    </tr>\n",
       "    <tr>\n",
       "      <th>3</th>\n",
       "      <td>Algérie</td>\n",
       "      <td>275.0</td>\n",
       "      <td>0.0</td>\n",
       "      <td>275.0</td>\n",
       "    </tr>\n",
       "    <tr>\n",
       "      <th>4</th>\n",
       "      <td>Allemagne</td>\n",
       "      <td>1462.0</td>\n",
       "      <td>789.0</td>\n",
       "      <td>1507.0</td>\n",
       "    </tr>\n",
       "  </tbody>\n",
       "</table>\n",
       "</div>"
      ],
      "text/plain": [
       "Élément            Pays  Disponibilité intérieure  Importations - quantité  \\\n",
       "0           Afghanistan                      36.0                      7.0   \n",
       "1        Afrique du Sud                    2370.0                    304.0   \n",
       "2               Albanie                      64.0                     47.0   \n",
       "3               Algérie                     275.0                      0.0   \n",
       "4             Allemagne                    1462.0                    789.0   \n",
       "\n",
       "Élément  Production  \n",
       "0              29.0  \n",
       "1            1958.0  \n",
       "2              18.0  \n",
       "3             275.0  \n",
       "4            1507.0  "
      ]
     },
     "execution_count": 100,
     "metadata": {},
     "output_type": "execute_result"
    }
   ],
   "source": [
    "# Réinitialiser l'index pour transformer \"Zone\" en colonne normale\n",
    "dispo_pivot = dispo_pivot.reset_index()\n",
    "# Renommer la colonne \"Zone\" en \"Pays\"\n",
    "dispo_pivot = dispo_pivot.rename(columns={\"Zone\": \"Pays\"})\n",
    "# Afficher un aperçu du df mis à jour\n",
    "dispo_pivot.head()"
   ]
  },
  {
   "cell_type": "code",
   "execution_count": 101,
   "metadata": {},
   "outputs": [
    {
     "name": "stdout",
     "output_type": "stream",
     "text": [
      "\n",
      "=== Analyse de Tables ===\n",
      "Le tableau comporte 189 observation(s) ou article(s)\n",
      "Le tableau comporte 4 colonne(s).\n",
      "\n",
      "Nature des données dans chacune des colonnes :\n",
      "Élément\n",
      "Pays                         object\n",
      "Disponibilité intérieure    float64\n",
      "Importations - quantité     float64\n",
      "Production                  float64\n",
      "dtype: object\n",
      "\n",
      "Nombre de valeurs présentes dans chacune des colonnes :\n",
      "Élément\n",
      "Pays                        189\n",
      "Disponibilité intérieure    189\n",
      "Importations - quantité     189\n",
      "Production                  186\n",
      "dtype: int64\n",
      "\n",
      "Nombre de valeurs uniques dans chacune des colonnes :\n",
      "Élément\n",
      "Pays                        189\n",
      "Disponibilité intérieure    148\n",
      "Importations - quantité      98\n",
      "Production                  133\n",
      "dtype: int64\n",
      "\n",
      "Nombre de doublons présents dans chacune des colonnes :\n",
      "Élément\n",
      "Pays                         0\n",
      "Disponibilité intérieure    41\n",
      "Importations - quantité     91\n",
      "Production                  53\n",
      "dtype: int64\n",
      "\n",
      "Nombre de valeurs nulles présentes dans chacune des colonnes :\n",
      "Élément\n",
      "Pays                        0\n",
      "Disponibilité intérieure    0\n",
      "Importations - quantité     0\n",
      "Production                  3\n",
      "dtype: int64\n",
      "\n",
      "Aperçu des 5 premières lignes de la table :\n",
      "Élément            Pays  Disponibilité intérieure  Importations - quantité  \\\n",
      "0           Afghanistan                      36.0                      7.0   \n",
      "1        Afrique du Sud                    2370.0                    304.0   \n",
      "2               Albanie                      64.0                     47.0   \n",
      "3               Algérie                     275.0                      0.0   \n",
      "4             Allemagne                    1462.0                    789.0   \n",
      "\n",
      "Élément  Production  \n",
      "0              29.0  \n",
      "1            1958.0  \n",
      "2              18.0  \n",
      "3             275.0  \n",
      "4            1507.0  \n"
     ]
    }
   ],
   "source": [
    "# Afficher une brève analyse de la df\n",
    "from fonctions_universelles import analyser_dataframe\n",
    "analyser_dataframe(dispo_pivot)"
   ]
  },
  {
   "cell_type": "code",
   "execution_count": 102,
   "metadata": {},
   "outputs": [
    {
     "name": "stdout",
     "output_type": "stream",
     "text": [
      "Élément           Pays  Disponibilité intérieure  Importations - quantité  \\\n",
      "48            Djibouti                       4.0                      4.0   \n",
      "98            Maldives                      18.0                     18.0   \n",
      "187      Îles Marshall                       3.0                      3.0   \n",
      "\n",
      "Élément  Production  \n",
      "48              NaN  \n",
      "98              NaN  \n",
      "187             NaN  \n"
     ]
    }
   ],
   "source": [
    "# Nombre initial de lignes\n",
    "dispo_pivot_lignes = len(dispo_pivot)\n",
    "# Afficher les lignes où la colonne \"Production\" a des valeurs nulles (NaN)\n",
    "pays_null_production = dispo_pivot[dispo_pivot['Production'].isnull()]\n",
    "# Afficher les résultats\n",
    "print(pays_null_production)\n",
    "# Remplacer les valeurs nulles dans la colonne \"Production\" par 0\n",
    "dispo_pivot['Production'] = dispo_pivot['Production'].fillna(0)\n",
    "# Conversion des colonnes en int64\n",
    "dispo_pivot[[\"Disponibilité intérieure\", \"Importations - quantité\", \"Production\"]] = dispo_pivot[[\"Disponibilité intérieure\", \"Importations - quantité\", \"Production\"]].astype(\"int64\")"
   ]
  },
  {
   "cell_type": "code",
   "execution_count": 103,
   "metadata": {},
   "outputs": [
    {
     "data": {
      "text/html": [
       "<div>\n",
       "<style scoped>\n",
       "    .dataframe tbody tr th:only-of-type {\n",
       "        vertical-align: middle;\n",
       "    }\n",
       "\n",
       "    .dataframe tbody tr th {\n",
       "        vertical-align: top;\n",
       "    }\n",
       "\n",
       "    .dataframe thead th {\n",
       "        text-align: right;\n",
       "    }\n",
       "</style>\n",
       "<table border=\"1\" class=\"dataframe\">\n",
       "  <thead>\n",
       "    <tr style=\"text-align: right;\">\n",
       "      <th>Élément</th>\n",
       "      <th>Disponibilité intérieure</th>\n",
       "      <th>Importations - quantité</th>\n",
       "      <th>Production</th>\n",
       "    </tr>\n",
       "  </thead>\n",
       "  <tbody>\n",
       "    <tr>\n",
       "      <th>count</th>\n",
       "      <td>189.000000</td>\n",
       "      <td>189.000000</td>\n",
       "      <td>189.000000</td>\n",
       "    </tr>\n",
       "    <tr>\n",
       "      <th>mean</th>\n",
       "      <td>858.936508</td>\n",
       "      <td>103.941799</td>\n",
       "      <td>863.804233</td>\n",
       "    </tr>\n",
       "    <tr>\n",
       "      <th>std</th>\n",
       "      <td>3002.752733</td>\n",
       "      <td>242.656073</td>\n",
       "      <td>3149.298804</td>\n",
       "    </tr>\n",
       "    <tr>\n",
       "      <th>min</th>\n",
       "      <td>0.000000</td>\n",
       "      <td>0.000000</td>\n",
       "      <td>0.000000</td>\n",
       "    </tr>\n",
       "    <tr>\n",
       "      <th>25%</th>\n",
       "      <td>31.000000</td>\n",
       "      <td>4.000000</td>\n",
       "      <td>9.000000</td>\n",
       "    </tr>\n",
       "    <tr>\n",
       "      <th>50%</th>\n",
       "      <td>116.000000</td>\n",
       "      <td>20.000000</td>\n",
       "      <td>74.000000</td>\n",
       "    </tr>\n",
       "    <tr>\n",
       "      <th>75%</th>\n",
       "      <td>374.000000</td>\n",
       "      <td>87.000000</td>\n",
       "      <td>365.000000</td>\n",
       "    </tr>\n",
       "    <tr>\n",
       "      <th>max</th>\n",
       "      <td>25364.000000</td>\n",
       "      <td>1871.000000</td>\n",
       "      <td>24194.000000</td>\n",
       "    </tr>\n",
       "  </tbody>\n",
       "</table>\n",
       "</div>"
      ],
      "text/plain": [
       "Élément  Disponibilité intérieure  Importations - quantité    Production\n",
       "count                  189.000000               189.000000    189.000000\n",
       "mean                   858.936508               103.941799    863.804233\n",
       "std                   3002.752733               242.656073   3149.298804\n",
       "min                      0.000000                 0.000000      0.000000\n",
       "25%                     31.000000                 4.000000      9.000000\n",
       "50%                    116.000000                20.000000     74.000000\n",
       "75%                    374.000000                87.000000    365.000000\n",
       "max                  25364.000000              1871.000000  24194.000000"
      ]
     },
     "execution_count": 103,
     "metadata": {},
     "output_type": "execute_result"
    }
   ],
   "source": [
    "# Afficher un aperçu rapide des données\n",
    "dispo_pivot.describe()"
   ]
  },
  {
   "cell_type": "code",
   "execution_count": 104,
   "metadata": {},
   "outputs": [
    {
     "name": "stdout",
     "output_type": "stream",
     "text": [
      "📊 Nettoyage des données :\n",
      "Départ : 189 lignes\n",
      "Arrivée : 189 lignes restantes\n"
     ]
    }
   ],
   "source": [
    "print(\"📊 Nettoyage des données :\")\n",
    "print(f\"Départ : {dispo_pivot_lignes} lignes\")\n",
    "print(f\"Arrivée : {dispo_pivot_lignes} lignes restantes\")"
   ]
  },
  {
   "cell_type": "code",
   "execution_count": 105,
   "metadata": {},
   "outputs": [
    {
     "name": "stdout",
     "output_type": "stream",
     "text": [
      "Nombre d'outliers : 32\n",
      "Pays concernés :\n",
      "['Afrique du Sud', 'Allemagne', 'Arabie saoudite', 'Argentine', 'Australie', 'Brésil', 'Canada', 'Chine', 'Chine, Taiwan Province de', 'Chine, continentale', 'Colombie', 'Espagne', 'France', 'Fédération de Russie', 'Inde', 'Indonésie', \"Iran (République islamique d')\", 'Italie', 'Japon', 'Malaisie', 'Mexique', 'Pakistan', 'Philippines', 'Pologne', 'Pérou', \"Royaume-Uni de Grande-Bretagne et d'Irlande du Nord\", 'République de Corée', 'Turquie', 'Ukraine', 'Viet Nam', 'Égypte', \"États-Unis d'Amérique\"]\n"
     ]
    },
    {
     "data": {
      "image/png": "[encoded data removed]",
      "text/plain": [
       "<Figure size 2000x600 with 1 Axes>"
      ]
     },
     "metadata": {},
     "output_type": "display_data"
    },
    {
     "name": "stdout",
     "output_type": "stream",
     "text": [
      "Nombre d'outliers : 22\n",
      "Pays concernés :\n",
      "['Afrique du Sud', 'Allemagne', 'Angola', 'Arabie saoudite', 'Belgique', 'Chine', 'Chine - RAS de Hong-Kong', 'Chine, Taiwan Province de', 'Chine, continentale', 'Cuba', 'Espagne', 'France', 'Ghana', 'Iraq', 'Japon', 'Mexique', 'Pays-Bas (Royaume des)', 'Philippines', \"Royaume-Uni de Grande-Bretagne et d'Irlande du Nord\", 'République de Corée', 'Viet Nam', 'Émirats arabes unis']\n"
     ]
    },
    {
     "data": {
      "image/png": "[encoded data removed]",
      "text/plain": [
       "<Figure size 2000x600 with 1 Axes>"
      ]
     },
     "metadata": {},
     "output_type": "display_data"
    },
    {
     "name": "stdout",
     "output_type": "stream",
     "text": [
      "Nombre d'outliers : 32\n",
      "Pays concernés :\n",
      "['Afrique du Sud', 'Allemagne', 'Arabie saoudite', 'Argentine', 'Australie', 'Brésil', 'Canada', 'Chine', 'Chine, continentale', 'Colombie', 'Espagne', 'France', 'Fédération de Russie', 'Inde', 'Indonésie', \"Iran (République islamique d')\", 'Italie', 'Japon', 'Malaisie', 'Mexique', 'Pakistan', 'Philippines', 'Pologne', 'Pérou', \"Royaume-Uni de Grande-Bretagne et d'Irlande du Nord\", 'République de Corée', 'Thaïlande', 'Turquie', 'Ukraine', 'Viet Nam', 'Égypte', \"États-Unis d'Amérique\"]\n"
     ]
    },
    {
     "data": {
      "image/png": "[encoded data removed]",
      "text/plain": [
       "<Figure size 2000x600 with 1 Axes>"
      ]
     },
     "metadata": {},
     "output_type": "display_data"
    }
   ],
   "source": [
    "from fonctions_universelles import boxplot_colonne\n",
    "# Afficher le boxplot pour la Disponibilité intérieure\n",
    "boxplot_colonne(dispo_pivot, \"Disponibilité intérieure\", \"Répartition de la Disponibilité intérieure par pays\")\n",
    "# Afficher le boxplot pour les Importations\n",
    "boxplot_colonne(dispo_pivot, \"Importations - quantité\", \"Répartition des Importations par pays\")\n",
    "# Afficher le boxplot pour la Production\n",
    "boxplot_colonne(dispo_pivot, \"Production\", \"Répartition de la Production par pays\")"
   ]
  },
  {
   "cell_type": "markdown",
   "metadata": {},
   "source": [
    "### Le fichier **Disponibilité intérieure** va nous informer sur la **Disponibilité intérieure**, les **Importations** et la **Production** en viande de volailles de **189 pays**. \n",
    "### Les **outliers ne sont pas interessants** car les grands écarts de population ne sont pas pris en compte. \n",
    "### Nous **calculerons donc ces valeurs en fonction du nombre d'habitant de chaque pays** une fois que les fichiers seront joints."
   ]
  },
  {
   "cell_type": "markdown",
   "metadata": {},
   "source": [
    "<div style=\"background-color: RGB(255,164,100);\" >\n",
    "  <h2 id=\"etape-3\" style=\"margin: auto; padding: 20px;\">Etape 3 - Jonction des fichiers</h2>\n",
    "</div>"
   ]
  },
  {
   "cell_type": "markdown",
   "metadata": {},
   "source": [
    "<div style=\"border: 1px solid RGB(255,184,100);\" >\n",
    "  <h3 id=\"3-1\" style=\"margin: auto; padding: 20px; color: RGB(255,184,100);\">3.1 - Jonction des fichiers issus de la banque mondiale</h3>\n",
    "</div>"
   ]
  },
  {
   "cell_type": "code",
   "execution_count": 106,
   "metadata": {},
   "outputs": [],
   "source": [
    "# Jonction interne des fichiers \n",
    "from functools import reduce\n",
    "jonction_BM = [population, pib, stab_pol, performance_logistique, fiscalite]\n",
    "jonction_BM_final = reduce(lambda left, right: pd.merge(left, right, on=[\"Pays\"], how=\"inner\"), jonction_BM)"
   ]
  },
  {
   "cell_type": "code",
   "execution_count": 107,
   "metadata": {},
   "outputs": [
    {
     "name": "stdout",
     "output_type": "stream",
     "text": [
      "\n",
      "=== Analyse de Tables ===\n",
      "Le tableau comporte 127 observation(s) ou article(s)\n",
      "Le tableau comporte 6 colonne(s).\n",
      "\n",
      "Nature des données dans chacune des colonnes :\n",
      "Pays                       object\n",
      "Population                  int64\n",
      "PIB/Hab                     int64\n",
      "Stabilité_politique       float64\n",
      "Performance_logistique    float64\n",
      "Fiscalite                 float64\n",
      "dtype: object\n",
      "\n",
      "Nombre de valeurs présentes dans chacune des colonnes :\n",
      "Pays                      127\n",
      "Population                127\n",
      "PIB/Hab                   127\n",
      "Stabilité_politique       127\n",
      "Performance_logistique    127\n",
      "Fiscalite                 127\n",
      "dtype: int64\n",
      "\n",
      "Nombre de valeurs uniques dans chacune des colonnes :\n",
      "Pays                      127\n",
      "Population                127\n",
      "PIB/Hab                   127\n",
      "Stabilité_politique       127\n",
      "Performance_logistique     24\n",
      "Fiscalite                 102\n",
      "dtype: int64\n",
      "\n",
      "Nombre de doublons présents dans chacune des colonnes :\n",
      "Pays                        0\n",
      "Population                  0\n",
      "PIB/Hab                     0\n",
      "Stabilité_politique         0\n",
      "Performance_logistique    103\n",
      "Fiscalite                  25\n",
      "dtype: int64\n",
      "\n",
      "Nombre de valeurs nulles présentes dans chacune des colonnes :\n",
      "Pays                      0\n",
      "Population                0\n",
      "PIB/Hab                   0\n",
      "Stabilité_politique       0\n",
      "Performance_logistique    0\n",
      "Fiscalite                 0\n",
      "dtype: int64\n",
      "\n",
      "Aperçu des 5 premières lignes de la table :\n",
      "                  Pays  Population  PIB/Hab  Stabilité_politique  \\\n",
      "0               Angola    36749906     2308            -0.341505   \n",
      "1              Albanie     2745972     8575             0.183349   \n",
      "2  Émirats arabes unis    10483751    49040             0.677531   \n",
      "3            Argentine    45538401    14187            -0.127518   \n",
      "4   Antigua-et-Barbuda       93316    21787             0.923393   \n",
      "\n",
      "   Performance_logistique  Fiscalite  \n",
      "0                     2.1        9.0  \n",
      "1                     2.5       18.8  \n",
      "2                     4.0       14.1  \n",
      "3                     2.8       29.9  \n",
      "4                     2.9       12.1  \n"
     ]
    }
   ],
   "source": [
    "# Afficher une brève analyse de la df\n",
    "from fonctions_universelles import analyser_dataframe\n",
    "analyser_dataframe(jonction_BM_final)"
   ]
  },
  {
   "cell_type": "markdown",
   "metadata": {},
   "source": [
    "### Nous avons effectué une **jointure interne** qui nous permet de garder des **données fiables et complètes**. Notre df renseigne toutes les informations pour **127 pays**."
   ]
  },
  {
   "cell_type": "markdown",
   "metadata": {},
   "source": [
    "<div style=\"border: 1px solid RGB(255,184,100);\" >\n",
    "  <h3 id=\"3-2\" style=\"margin: auto; padding: 20px; color: RGB(255,184,100);\">3.2 - Harmonisation des noms des pays</h3>\n",
    "</div>"
   ]
  },
  {
   "cell_type": "markdown",
   "metadata": {},
   "source": [
    "### Nous allons d'abord effectuer une **jointure externe** afin de repérer les pays n'ayant pas la même dénomination dans les 2 bases de données (FAO et banque mondiale)."
   ]
  },
  {
   "cell_type": "code",
   "execution_count": 108,
   "metadata": {},
   "outputs": [
    {
     "data": {
      "text/html": [
       "<div>\n",
       "<style scoped>\n",
       "    .dataframe tbody tr th:only-of-type {\n",
       "        vertical-align: middle;\n",
       "    }\n",
       "\n",
       "    .dataframe tbody tr th {\n",
       "        vertical-align: top;\n",
       "    }\n",
       "\n",
       "    .dataframe thead th {\n",
       "        text-align: right;\n",
       "    }\n",
       "</style>\n",
       "<table border=\"1\" class=\"dataframe\">\n",
       "  <thead>\n",
       "    <tr style=\"text-align: right;\">\n",
       "      <th></th>\n",
       "      <th>Pays</th>\n",
       "      <th>Disponibilité intérieure</th>\n",
       "      <th>Importations - quantité</th>\n",
       "      <th>Production</th>\n",
       "      <th>Population</th>\n",
       "      <th>PIB/Hab</th>\n",
       "      <th>Stabilité_politique</th>\n",
       "      <th>Performance_logistique</th>\n",
       "      <th>Fiscalite</th>\n",
       "      <th>_merge</th>\n",
       "    </tr>\n",
       "  </thead>\n",
       "  <tbody>\n",
       "    <tr>\n",
       "      <th>0</th>\n",
       "      <td>Afghanistan</td>\n",
       "      <td>36.0</td>\n",
       "      <td>7.0</td>\n",
       "      <td>29.0</td>\n",
       "      <td>NaN</td>\n",
       "      <td>NaN</td>\n",
       "      <td>NaN</td>\n",
       "      <td>NaN</td>\n",
       "      <td>NaN</td>\n",
       "      <td>left_only</td>\n",
       "    </tr>\n",
       "    <tr>\n",
       "      <th>1</th>\n",
       "      <td>Afrique du Sud</td>\n",
       "      <td>2370.0</td>\n",
       "      <td>304.0</td>\n",
       "      <td>1958.0</td>\n",
       "      <td>63212384.0</td>\n",
       "      <td>6022.0</td>\n",
       "      <td>-0.665642</td>\n",
       "      <td>3.7</td>\n",
       "      <td>4.0</td>\n",
       "      <td>both</td>\n",
       "    </tr>\n",
       "    <tr>\n",
       "      <th>2</th>\n",
       "      <td>Albanie</td>\n",
       "      <td>64.0</td>\n",
       "      <td>47.0</td>\n",
       "      <td>18.0</td>\n",
       "      <td>2745972.0</td>\n",
       "      <td>8575.0</td>\n",
       "      <td>0.183349</td>\n",
       "      <td>2.5</td>\n",
       "      <td>18.8</td>\n",
       "      <td>both</td>\n",
       "    </tr>\n",
       "    <tr>\n",
       "      <th>3</th>\n",
       "      <td>Algérie</td>\n",
       "      <td>275.0</td>\n",
       "      <td>0.0</td>\n",
       "      <td>275.0</td>\n",
       "      <td>46164219.0</td>\n",
       "      <td>5364.0</td>\n",
       "      <td>-0.577885</td>\n",
       "      <td>2.5</td>\n",
       "      <td>31.1</td>\n",
       "      <td>both</td>\n",
       "    </tr>\n",
       "    <tr>\n",
       "      <th>4</th>\n",
       "      <td>Allemagne</td>\n",
       "      <td>1462.0</td>\n",
       "      <td>789.0</td>\n",
       "      <td>1507.0</td>\n",
       "      <td>83280000.0</td>\n",
       "      <td>54343.0</td>\n",
       "      <td>0.586989</td>\n",
       "      <td>4.1</td>\n",
       "      <td>21.5</td>\n",
       "      <td>both</td>\n",
       "    </tr>\n",
       "  </tbody>\n",
       "</table>\n",
       "</div>"
      ],
      "text/plain": [
       "             Pays  Disponibilité intérieure  Importations - quantité  \\\n",
       "0     Afghanistan                      36.0                      7.0   \n",
       "1  Afrique du Sud                    2370.0                    304.0   \n",
       "2         Albanie                      64.0                     47.0   \n",
       "3         Algérie                     275.0                      0.0   \n",
       "4       Allemagne                    1462.0                    789.0   \n",
       "\n",
       "   Production  Population  PIB/Hab  Stabilité_politique  \\\n",
       "0        29.0         NaN      NaN                  NaN   \n",
       "1      1958.0  63212384.0   6022.0            -0.665642   \n",
       "2        18.0   2745972.0   8575.0             0.183349   \n",
       "3       275.0  46164219.0   5364.0            -0.577885   \n",
       "4      1507.0  83280000.0  54343.0             0.586989   \n",
       "\n",
       "   Performance_logistique  Fiscalite     _merge  \n",
       "0                     NaN        NaN  left_only  \n",
       "1                     3.7        4.0       both  \n",
       "2                     2.5       18.8       both  \n",
       "3                     2.5       31.1       both  \n",
       "4                     4.1       21.5       both  "
      ]
     },
     "execution_count": 108,
     "metadata": {},
     "output_type": "execute_result"
    }
   ],
   "source": [
    "# Fusionner les fichiers\n",
    "merge_test_outer = pd.merge(dispo_pivot, jonction_BM_final, on='Pays', how='outer', indicator=True)\n",
    "# Afficher le résultat\n",
    "merge_test_outer.head()"
   ]
  },
  {
   "cell_type": "code",
   "execution_count": 109,
   "metadata": {},
   "outputs": [
    {
     "name": "stdout",
     "output_type": "stream",
     "text": [
      "Nombre de lignes uniquement dans dispo_pivot ('left_only') : 78 (38.05%)\n",
      "Nombre de lignes uniquement dans jonction_BM_final ('right_only') : 16 (7.80%)\n"
     ]
    }
   ],
   "source": [
    "# Analyser des 'left_only' (présents uniquement dans dispo_pivot) et 'right_only' (présents uniquement dans jonction_BM_final)\n",
    "left_only = merge_test_outer[merge_test_outer['_merge'] == 'left_only']\n",
    "right_only = merge_test_outer[merge_test_outer['_merge'] == 'right_only']\n",
    "# Compter le nombre de lignes \"left_only\" et \"right_only\"\n",
    "merge_test_outer_left_only_nombre = len(left_only)\n",
    "merge_test_outer_right_only_nombre = len(right_only)\n",
    "# Calculer le pourcentage de lignes \"left_only\" et \"right_only\"\n",
    "total_rows = len(merge_test_outer)\n",
    "left_only_pourcentage = (merge_test_outer_left_only_nombre / total_rows) * 100\n",
    "right_only_pourcentage = (merge_test_outer_right_only_nombre / total_rows) * 100\n",
    "# Afficher les résultats\n",
    "print(f\"Nombre de lignes uniquement dans dispo_pivot ('left_only') : {merge_test_outer_left_only_nombre} ({left_only_pourcentage:.2f}%)\")\n",
    "print(f\"Nombre de lignes uniquement dans jonction_BM_final ('right_only') : {merge_test_outer_right_only_nombre} ({right_only_pourcentage:.2f}%)\")"
   ]
  },
  {
   "cell_type": "code",
   "execution_count": 110,
   "metadata": {},
   "outputs": [
    {
     "name": "stdout",
     "output_type": "stream",
     "text": [
      "['Afghanistan', 'Arménie', 'Azerbaïdjan', 'Bangladesh', 'Barbade', 'Belize', 'Bhoutan', 'Bolivie (État plurinational de)', 'Botswana', 'Burundi', 'Cabo Verde', 'Chine - RAS de Hong-Kong', 'Chine - RAS de Macao', 'Chine, Taiwan Province de', 'Chine, continentale', 'Comores', 'Congo', 'Cuba', \"Côte d'Ivoire\", 'Dominique', 'Eswatini', 'Géorgie', \"Iran (République islamique d')\", 'Jordanie', 'Kenya', 'Kirghizistan', 'Kiribati', 'Lesotho', 'Liban', 'Macédoine du Nord', 'Malawi', 'Maldives', 'Maroc', 'Micronésie (États fédérés de)', 'Mozambique', 'Myanmar', 'Nauru', 'Niger', 'Nouvelle-Calédonie', 'Népal', 'Ouganda', 'Pakistan', 'Pays-Bas (Royaume des)', 'Polynésie française', \"Royaume-Uni de Grande-Bretagne et d'Irlande du Nord\", 'République arabe syrienne', 'République de Corée', 'République de Moldova', 'République démocratique du Congo', 'République-Unie de Tanzanie', 'Saint-Kitts-et-Nevis', 'Saint-Vincent-et-les Grenadines', 'Sainte-Lucie', 'Samoa', 'Sao Tomé-et-Principe', 'Seychelles', 'Sierra Leone', 'Slovaquie', 'Somalie', 'Soudan du Sud', 'Suriname', 'Sénégal', 'Tchad', 'Tchéquie', 'Timor-Leste', 'Tonga', 'Tunisie', 'Turkménistan', 'Tuvalu', 'Vanuatu', 'Venezuela (République bolivarienne du)', 'Yémen', 'Zambie', 'Égypte', 'Équateur', \"États-Unis d'Amérique\", 'Éthiopie', 'Îles Marshall']\n"
     ]
    }
   ],
   "source": [
    "# Afficher les 78 pays présents uniquement dans les donneés de la FAO\n",
    "print(left_only[\"Pays\"].tolist())"
   ]
  },
  {
   "cell_type": "code",
   "execution_count": 111,
   "metadata": {},
   "outputs": [
    {
     "name": "stdout",
     "output_type": "stream",
     "text": [
      "['Bolivie', 'Chine, RAS de Hong Kong', 'Congo, République du', 'Congo, République démocratique du', 'Corée, République de', 'Iran, République islamique d’', 'Moldova', 'Pays-Bas', 'Royaume-Uni', 'République kirghize', 'République slovaque', 'République tchèque', 'Singapour', 'Yémen, Rép. du', 'Égypte, République arabe d’', 'États-Unis']\n"
     ]
    }
   ],
   "source": [
    "# Afficher les 16 pays présents uniquement dans les donneés de la banque mondiale\n",
    "print(right_only[\"Pays\"].tolist())"
   ]
  },
  {
   "cell_type": "code",
   "execution_count": 112,
   "metadata": {},
   "outputs": [
    {
     "name": "stdout",
     "output_type": "stream",
     "text": [
      "Pays présents uniquement dans la FAO après correction : {'Tunisie', 'Venezuela (République bolivarienne du)', 'Micronésie (États fédérés de)', 'Ouganda', 'Macédoine du Nord', 'Chine, continentale', 'Tuvalu', 'Arménie', 'Malawi', 'Liban', 'Sao Tomé-et-Principe', 'Suriname', 'Dominique', 'Mozambique', 'Barbade', 'Somalie', 'Équateur', 'Sainte-Lucie', 'République arabe syrienne', \"Côte d'Ivoire\", 'Myanmar', 'Bangladesh', 'Afghanistan', 'Lesotho', 'Tchad', 'Kenya', 'Tonga', 'République-Unie de Tanzanie', 'Zambie', 'Nauru', 'Vanuatu', 'Sierra Leone', 'Polynésie française', 'Kiribati', 'Nouvelle-Calédonie', 'Népal', 'Géorgie', 'Saint-Vincent-et-les Grenadines', 'Seychelles', 'Azerbaïdjan', 'Eswatini', 'Maldives', 'Îles Marshall', 'Jordanie', 'Chine, Taiwan Province de', 'Turkménistan', 'Samoa', 'Maroc', 'Saint-Kitts-et-Nevis', 'Sénégal', 'Burundi', 'Éthiopie', 'Comores', 'Chine - RAS de Macao', 'Pakistan', 'Bhoutan', 'Cabo Verde', 'Cuba', 'Botswana', 'Soudan du Sud', 'Timor-Leste', 'Belize', 'Niger'}\n",
      "Pays présents uniquement dans la Banque Mondiale après correction : {'Singapour'}\n"
     ]
    }
   ],
   "source": [
    "# Mise en place d'un dictionnaire de correspondance\n",
    "correspondance_pays = {\n",
    "    \"Bolivie (État plurinational de)\": \"Bolivie\",\n",
    "    \"Chine - RAS de Hong-Kong\": \"Chine, RAS de Hong Kong\",\n",
    "    \"Congo\": \"Congo, République du\",\n",
    "    \"République démocratique du Congo\": \"Congo, République démocratique du\",\n",
    "    \"République de Corée\": \"Corée, République de\",\n",
    "    \"Iran (République islamique d')\": \"Iran, République islamique d’\",\n",
    "    \"République de Moldova\": \"Moldova\",\n",
    "    \"Pays-Bas (Royaume des)\": \"Pays-Bas\",\n",
    "    \"Royaume-Uni de Grande-Bretagne et d'Irlande du Nord\": \"Royaume-Uni\",\n",
    "    \"Kirghizistan\": \"République kirghize\",\n",
    "    \"Slovaquie\": \"République slovaque\",\n",
    "    \"Tchéquie\": \"République tchèque\",\n",
    "    \"Yémen\": \"Yémen, Rép. du\",\n",
    "    \"Égypte\": \"Égypte, République arabe d’\",\n",
    "    \"États-Unis d'Amérique\": \"États-Unis\"\n",
    "}\n",
    "# Appliquer la correspondance\n",
    "dispo_pivot[\"Pays\"] = dispo_pivot[\"Pays\"].replace(correspondance_pays)\n",
    "jonction_BM_final[\"Pays\"] = jonction_BM_final[\"Pays\"].replace(correspondance_pays)\n",
    "# Afficher les pays sans correspondance\n",
    "pays_fao = set(dispo_pivot[\"Pays\"])\n",
    "pays_bm = set(jonction_BM_final[\"Pays\"])\n",
    "pays_uniques_fao = pays_fao - pays_bm\n",
    "pays_uniques_bm = pays_bm - pays_fao\n",
    "print(\"Pays présents uniquement dans la FAO après correction :\", pays_uniques_fao)\n",
    "print(\"Pays présents uniquement dans la Banque Mondiale après correction :\", pays_uniques_bm)"
   ]
  },
  {
   "cell_type": "markdown",
   "metadata": {},
   "source": [
    "### Nous avons **mis en correpondance 15 pays** dont les dénominations étaient différentes."
   ]
  },
  {
   "cell_type": "markdown",
   "metadata": {},
   "source": [
    "<div style=\"border: 1px solid RGB(255,184,100);\" >\n",
    "  <h3 id=\"3-3\" style=\"margin: auto; padding: 20px; color: RGB(255,184,100);\">3.3 - Jointure finale avec les données FAO</h3>\n",
    "</div>"
   ]
  },
  {
   "cell_type": "code",
   "execution_count": 113,
   "metadata": {},
   "outputs": [],
   "source": [
    "# Jonction interne des fichiers \n",
    "donnees = dispo_pivot.merge(jonction_BM_final, on=\"Pays\", how=\"inner\")"
   ]
  },
  {
   "cell_type": "code",
   "execution_count": 114,
   "metadata": {},
   "outputs": [
    {
     "name": "stdout",
     "output_type": "stream",
     "text": [
      "\n",
      "=== Analyse de Tables ===\n",
      "Le tableau comporte 126 observation(s) ou article(s)\n",
      "Le tableau comporte 9 colonne(s).\n",
      "\n",
      "Nature des données dans chacune des colonnes :\n",
      "Pays                         object\n",
      "Disponibilité intérieure      int64\n",
      "Importations - quantité       int64\n",
      "Production                    int64\n",
      "Population                    int64\n",
      "PIB/Hab                       int64\n",
      "Stabilité_politique         float64\n",
      "Performance_logistique      float64\n",
      "Fiscalite                   float64\n",
      "dtype: object\n",
      "\n",
      "Nombre de valeurs présentes dans chacune des colonnes :\n",
      "Pays                        126\n",
      "Disponibilité intérieure    126\n",
      "Importations - quantité     126\n",
      "Production                  126\n",
      "Population                  126\n",
      "PIB/Hab                     126\n",
      "Stabilité_politique         126\n",
      "Performance_logistique      126\n",
      "Fiscalite                   126\n",
      "dtype: int64\n",
      "\n",
      "Nombre de valeurs uniques dans chacune des colonnes :\n",
      "Pays                        126\n",
      "Disponibilité intérieure    111\n",
      "Importations - quantité      84\n",
      "Production                  102\n",
      "Population                  126\n",
      "PIB/Hab                     126\n",
      "Stabilité_politique         126\n",
      "Performance_logistique       23\n",
      "Fiscalite                   101\n",
      "dtype: int64\n",
      "\n",
      "Nombre de doublons présents dans chacune des colonnes :\n",
      "Pays                          0\n",
      "Disponibilité intérieure     15\n",
      "Importations - quantité      42\n",
      "Production                   24\n",
      "Population                    0\n",
      "PIB/Hab                       0\n",
      "Stabilité_politique           0\n",
      "Performance_logistique      103\n",
      "Fiscalite                    25\n",
      "dtype: int64\n",
      "\n",
      "Nombre de valeurs nulles présentes dans chacune des colonnes :\n",
      "Pays                        0\n",
      "Disponibilité intérieure    0\n",
      "Importations - quantité     0\n",
      "Production                  0\n",
      "Population                  0\n",
      "PIB/Hab                     0\n",
      "Stabilité_politique         0\n",
      "Performance_logistique      0\n",
      "Fiscalite                   0\n",
      "dtype: int64\n",
      "\n",
      "Aperçu des 5 premières lignes de la table :\n",
      "             Pays  Disponibilité intérieure  Importations - quantité  \\\n",
      "0  Afrique du Sud                      2370                      304   \n",
      "1         Albanie                        64                       47   \n",
      "2         Algérie                       275                        0   \n",
      "3       Allemagne                      1462                      789   \n",
      "4          Angola                       374                      316   \n",
      "\n",
      "   Production  Population  PIB/Hab  Stabilité_politique  \\\n",
      "0        1958    63212384     6022            -0.665642   \n",
      "1          18     2745972     8575             0.183349   \n",
      "2         275    46164219     5364            -0.577885   \n",
      "3        1507    83280000    54343             0.586989   \n",
      "4          59    36749906     2308            -0.341505   \n",
      "\n",
      "   Performance_logistique  Fiscalite  \n",
      "0                     3.7        4.0  \n",
      "1                     2.5       18.8  \n",
      "2                     2.5       31.1  \n",
      "3                     4.1       21.5  \n",
      "4                     2.1        9.0  \n"
     ]
    }
   ],
   "source": [
    "# Afficher une brève analyse de la df\n",
    "from fonctions_universelles import analyser_dataframe\n",
    "analyser_dataframe(donnees)"
   ]
  },
  {
   "cell_type": "code",
   "execution_count": 115,
   "metadata": {},
   "outputs": [
    {
     "name": "stdout",
     "output_type": "stream",
     "text": [
      "📊 Pourcentage de pays gardés après jointure pour chaque source de données :\n",
      "  FAO : 66.67% (126/189)\n",
      "  Banque Mondiale : 59.15% (126/213)\n"
     ]
    }
   ],
   "source": [
    "# Nombre de pays restants\n",
    "pays_restants = 126\n",
    "# Nombre de pays initiaux dans chaque source\n",
    "nb_pays_fao = 189\n",
    "nb_pays_banque_mondiale = 213\n",
    "# Calcul des pourcentages\n",
    "pct_fao = (pays_restants / nb_pays_fao) * 100\n",
    "pct_bm = (pays_restants / nb_pays_banque_mondiale) * 100\n",
    "# Affichage des résultats\n",
    "print(f\"📊 Pourcentage de pays gardés après jointure pour chaque source de données :\")\n",
    "print(f\"  FAO : {pct_fao:.2f}% ({pays_restants}/{nb_pays_fao})\")\n",
    "print(f\"  Banque Mondiale : {pct_bm:.2f}% ({pays_restants}/{nb_pays_banque_mondiale})\")"
   ]
  },
  {
   "cell_type": "markdown",
   "metadata": {},
   "source": [
    "### Nous avons effectué une **jointure interne** qui nous permet de garder des **données fiables et complètes**. Notre df finale renseigne toutes les informations pour **126 pays**."
   ]
  },
  {
   "cell_type": "markdown",
   "metadata": {},
   "source": [
    "<div style=\"background-color: RGB(255,164,100);\" >\n",
    "  <h2 id=\"etape-4\" style=\"margin: auto; padding: 20px;\">Etape 4 - Finalisation de la base de données</h2>\n",
    "</div>"
   ]
  },
  {
   "cell_type": "markdown",
   "metadata": {},
   "source": [
    "<div style=\"border: 1px solid RGB(255,184,100);\" >\n",
    "  <h3 id=\"4-1\" style=\"margin: auto; padding: 20px; color: RGB(255,184,100);\">4.1 - Création des dernières colonnes calculées</h3>\n",
    "</div>"
   ]
  },
  {
   "cell_type": "markdown",
   "metadata": {},
   "source": [
    "### Les colonnes issues des données de la FAO **\"Disponibilité intérieure\", \"Importations - quantité\" et  \"Production\"** concernant la viande de volaille sont exprimées en **milliers de tonnes**. Nous allons faire un calcul afin qu'elles soient exprimées en **kg/hab/an**."
   ]
  },
  {
   "cell_type": "code",
   "execution_count": 116,
   "metadata": {},
   "outputs": [
    {
     "name": "stdout",
     "output_type": "stream",
     "text": [
      "   Disponibilité intérieure  Importations - quantité  Production\n",
      "0                 37.492653                 4.809184   30.974943\n",
      "1                 23.306865                17.115979    6.555056\n",
      "2                  5.956995                 0.000000    5.956995\n",
      "3                 17.555235                 9.474063   18.095581\n",
      "4                 10.176897                 8.598661    1.605446\n"
     ]
    }
   ],
   "source": [
    "# Appliquer le calcul pour chaque colonne\n",
    "colonnes = [\"Disponibilité intérieure\", \"Importations - quantité\", \"Production\"]\n",
    "for col in colonnes:\n",
    "    donnees[col] = (donnees[col] * 1000 * 1000) / donnees[\"Population\"]\n",
    "# Vérification des premières lignes après le calcul\n",
    "print(donnees[[\"Disponibilité intérieure\", \"Importations - quantité\", \"Production\"]].head())"
   ]
  },
  {
   "cell_type": "markdown",
   "metadata": {},
   "source": [
    "<div style=\"border: 1px solid RGB(255,184,100);\" >\n",
    "  <h3 id=\"4-2\" style=\"margin: auto; padding: 20px; color: RGB(255,184,100);\">4.2 - Analyse exploratoire des colonnes calculées</h3>\n",
    "</div>"
   ]
  },
  {
   "cell_type": "code",
   "execution_count": 117,
   "metadata": {},
   "outputs": [
    {
     "name": "stdout",
     "output_type": "stream",
     "text": [
      "Nombre d'outliers : 0\n"
     ]
    },
    {
     "data": {
      "image/png": "[encoded data removed]",
      "text/plain": [
       "<Figure size 2000x600 with 1 Axes>"
      ]
     },
     "metadata": {},
     "output_type": "display_data"
    },
    {
     "name": "stdout",
     "output_type": "stream",
     "text": [
      "Nombre d'outliers : 10\n",
      "Pays concernés :\n",
      "['Antigua-et-Barbuda', 'Bahamas', 'Bahreïn', 'Chine, RAS de Hong Kong', 'Gabon', 'Grenade', 'Koweït', 'Pays-Bas', 'Qatar', 'Émirats arabes unis']\n"
     ]
    },
    {
     "data": {
      "image/png": "[encoded data removed]",
      "text/plain": [
       "<Figure size 2000x600 with 1 Axes>"
      ]
     },
     "metadata": {},
     "output_type": "display_data"
    },
    {
     "name": "stdout",
     "output_type": "stream",
     "text": [
      "Nombre d'outliers : 1\n",
      "Pays concernés :\n",
      "['Pologne']\n"
     ]
    },
    {
     "data": {
      "image/png": "[encoded data removed]",
      "text/plain": [
       "<Figure size 2000x600 with 1 Axes>"
      ]
     },
     "metadata": {},
     "output_type": "display_data"
    }
   ],
   "source": [
    "# Afficher le boxplot pour la Disponibilité intérieure\n",
    "boxplot_colonne(donnees, \"Disponibilité intérieure\", \"Répartition de la Disponibilité intérieure / habitant (kg) par pays\")\n",
    "# Afficher le boxplot pour les Importations\n",
    "boxplot_colonne(donnees, \"Importations - quantité\", \"Répartition des Importations / habitant (kg) par pays\")\n",
    "# Afficher le boxplot pour la Production\n",
    "boxplot_colonne(donnees, \"Production\", \"Répartition de la Production / habitant (kg) par pays\")"
   ]
  },
  {
   "cell_type": "markdown",
   "metadata": {},
   "source": [
    "### Les **outliers ne sont plus les mêmes** qu'auparavant, lorsque les données réprésentaient le total des disponibilités, importations et productions de chaque pays. **Ces données sont plus pertinentes**."
   ]
  },
  {
   "cell_type": "markdown",
   "metadata": {
    "vscode": {
     "languageId": "html"
    }
   },
   "source": [
    "<div style=\"border: 1px solid RGB(255,184,100);\" >\n",
    "  <h3 id=\"4-3\" style=\"margin: auto; padding: 20px; color: RGB(255,184,100);\">4.3 - Derniers ajustements</h3>\n",
    "</div>"
   ]
  },
  {
   "cell_type": "code",
   "execution_count": 118,
   "metadata": {},
   "outputs": [],
   "source": [
    "# Renommer les colonnes calculées\n",
    "donnees.rename(columns={\n",
    "    \"Disponibilité intérieure\": \"Disponibilité/Hab\",\n",
    "    \"Importations - quantité\": \"Importation/Hab\",\n",
    "    \"Production\": \"Production/Hab\",\n",
    "    \"Performance_logistique\" : \"Perf_logistique\"\n",
    "}, inplace=True)"
   ]
  },
  {
   "cell_type": "code",
   "execution_count": 119,
   "metadata": {},
   "outputs": [],
   "source": [
    "# Modifier l'ordre des colonnes \n",
    "donnees = donnees[[\n",
    "    \"Pays\", \n",
    "    \"Population\", \n",
    "    \"PIB/Hab\", \n",
    "    \"Disponibilité/Hab\", \n",
    "    \"Production/Hab\", \n",
    "    \"Importation/Hab\", \n",
    "    \"Stabilité_politique\", \n",
    "    \"Perf_logistique\", \n",
    "    \"Fiscalite\"\n",
    "]]"
   ]
  },
  {
   "cell_type": "code",
   "execution_count": 120,
   "metadata": {},
   "outputs": [],
   "source": [
    "# Arrondir à deux décimales les données des tables concernées\n",
    "donnees[[\"Disponibilité/Hab\", \"Production/Hab\", \"Importation/Hab\", \"Stabilité_politique\"]] = donnees[[\"Disponibilité/Hab\", \"Production/Hab\", \"Importation/Hab\", \"Stabilité_politique\"]].round(2)"
   ]
  },
  {
   "cell_type": "code",
   "execution_count": 121,
   "metadata": {},
   "outputs": [
    {
     "data": {
      "text/html": [
       "<div>\n",
       "<style scoped>\n",
       "    .dataframe tbody tr th:only-of-type {\n",
       "        vertical-align: middle;\n",
       "    }\n",
       "\n",
       "    .dataframe tbody tr th {\n",
       "        vertical-align: top;\n",
       "    }\n",
       "\n",
       "    .dataframe thead th {\n",
       "        text-align: right;\n",
       "    }\n",
       "</style>\n",
       "<table border=\"1\" class=\"dataframe\">\n",
       "  <thead>\n",
       "    <tr style=\"text-align: right;\">\n",
       "      <th></th>\n",
       "      <th>Pays</th>\n",
       "      <th>Population</th>\n",
       "      <th>PIB/Hab</th>\n",
       "      <th>Disponibilité/Hab</th>\n",
       "      <th>Production/Hab</th>\n",
       "      <th>Importation/Hab</th>\n",
       "      <th>Stabilité_politique</th>\n",
       "      <th>Perf_logistique</th>\n",
       "      <th>Fiscalite</th>\n",
       "    </tr>\n",
       "  </thead>\n",
       "  <tbody>\n",
       "    <tr>\n",
       "      <th>0</th>\n",
       "      <td>Afrique du Sud</td>\n",
       "      <td>63212384</td>\n",
       "      <td>6022</td>\n",
       "      <td>37.49</td>\n",
       "      <td>30.97</td>\n",
       "      <td>4.81</td>\n",
       "      <td>-0.67</td>\n",
       "      <td>3.7</td>\n",
       "      <td>4.0</td>\n",
       "    </tr>\n",
       "    <tr>\n",
       "      <th>1</th>\n",
       "      <td>Albanie</td>\n",
       "      <td>2745972</td>\n",
       "      <td>8575</td>\n",
       "      <td>23.31</td>\n",
       "      <td>6.56</td>\n",
       "      <td>17.12</td>\n",
       "      <td>0.18</td>\n",
       "      <td>2.5</td>\n",
       "      <td>18.8</td>\n",
       "    </tr>\n",
       "    <tr>\n",
       "      <th>2</th>\n",
       "      <td>Algérie</td>\n",
       "      <td>46164219</td>\n",
       "      <td>5364</td>\n",
       "      <td>5.96</td>\n",
       "      <td>5.96</td>\n",
       "      <td>0.00</td>\n",
       "      <td>-0.58</td>\n",
       "      <td>2.5</td>\n",
       "      <td>31.1</td>\n",
       "    </tr>\n",
       "    <tr>\n",
       "      <th>3</th>\n",
       "      <td>Allemagne</td>\n",
       "      <td>83280000</td>\n",
       "      <td>54343</td>\n",
       "      <td>17.56</td>\n",
       "      <td>18.10</td>\n",
       "      <td>9.47</td>\n",
       "      <td>0.59</td>\n",
       "      <td>4.1</td>\n",
       "      <td>21.5</td>\n",
       "    </tr>\n",
       "    <tr>\n",
       "      <th>4</th>\n",
       "      <td>Angola</td>\n",
       "      <td>36749906</td>\n",
       "      <td>2308</td>\n",
       "      <td>10.18</td>\n",
       "      <td>1.61</td>\n",
       "      <td>8.60</td>\n",
       "      <td>-0.34</td>\n",
       "      <td>2.1</td>\n",
       "      <td>9.0</td>\n",
       "    </tr>\n",
       "  </tbody>\n",
       "</table>\n",
       "</div>"
      ],
      "text/plain": [
       "             Pays  Population  PIB/Hab  Disponibilité/Hab  Production/Hab  \\\n",
       "0  Afrique du Sud    63212384     6022              37.49           30.97   \n",
       "1         Albanie     2745972     8575              23.31            6.56   \n",
       "2         Algérie    46164219     5364               5.96            5.96   \n",
       "3       Allemagne    83280000    54343              17.56           18.10   \n",
       "4          Angola    36749906     2308              10.18            1.61   \n",
       "\n",
       "   Importation/Hab  Stabilité_politique  Perf_logistique  Fiscalite  \n",
       "0             4.81                -0.67              3.7        4.0  \n",
       "1            17.12                 0.18              2.5       18.8  \n",
       "2             0.00                -0.58              2.5       31.1  \n",
       "3             9.47                 0.59              4.1       21.5  \n",
       "4             8.60                -0.34              2.1        9.0  "
      ]
     },
     "execution_count": 121,
     "metadata": {},
     "output_type": "execute_result"
    }
   ],
   "source": [
    "# Afficher la df finale \n",
    "donnees.head()"
   ]
  },
  {
   "cell_type": "markdown",
   "metadata": {
    "vscode": {
     "languageId": "html"
    }
   },
   "source": [
    "<div style=\"background-color: RGB(255,184,100);\" >\n",
    "  <h2 id=\"etape-5\" style=\"margin: auto; padding: 20px;\">Etape 5 - Exportation des données</h2>\n",
    "</div>"
   ]
  },
  {
   "cell_type": "code",
   "execution_count": 122,
   "metadata": {},
   "outputs": [],
   "source": [
    "# Exporter la table \n",
    "donnees.to_excel('donnees_exportees.xlsx',index=False)"
   ]
  },
  {
   "cell_type": "markdown",
   "metadata": {},
   "source": [
    "<div style=\"font-size: 18px;\"> Nous pouvons <strong>exporter les données en un fichier xlsx</strong> afin de les réutiliser pour une analyse approfondie. \n",
    "Le fichier comporte 126 lignes avec des données complètes, propres et exploitables.\n",
    "</div>"
   ]
  },
  {
   "cell_type": "markdown",
   "metadata": {},
   "source": []
  }
 ],
 "metadata": {
  "kernelspec": {
   "display_name": "base",
   "language": "python",
   "name": "python3"
  },
  "language_info": {
   "codemirror_mode": {
    "name": "ipython",
    "version": 3
   },
   "file_extension": ".py",
   "mimetype": "text/x-python",
   "name": "python",
   "nbconvert_exporter": "python",
   "pygments_lexer": "ipython3",
   "version": "3.11.7"
  }
 },
 "nbformat": 4,
 "nbformat_minor": 2
}
