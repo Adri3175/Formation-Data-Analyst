{
 "cells": [
  {
   "cell_type": "markdown",
   "metadata": {},
   "source": [
    "<div style=\"display: flex; background-color: RGB(395,214,220);\" >\n",
    "  <h1 style=\"margin: auto; padding: 30px; text-align: center;\">\n",
    "    <span>Organisation nationale de lutte contre le\n",
    "faux-monnayage (ONCFM)</span><br>\n",
    "    <span>Détecter des faux billets avec Python</span>\n",
    "  </h1>\n",
    "</div>"
   ]
  },
  {
   "cell_type": "markdown",
   "metadata": {},
   "source": [
    "# **OBJECTIFS DE CE NOTEBOOK**\n",
    "#### - Importer le modèle de machine learning retenu.\n",
    "#### - L'appliquer sur un nouveau jeu de données."
   ]
  },
  {
   "cell_type": "markdown",
   "metadata": {},
   "source": [
    "## Sommaire\n",
    "\n",
    "- [Etape 1 - Importation des librairies et chargement des données](#etape-1)\n",
    "  - [1.1 Importation des librairies](#1-1)\n",
    "  - [1.2 Importation des données](#1-2)\n",
    "- [Etape 2 - Analyse exploratoire des données](#etape-2)\n",
    "  - [2.1 Analyse rapide et ajustements](#2-1)\n",
    "  - [2.2 Régression linéaire variable \"Marge_basse\"](#2-2)\n",
    "    - [2.2.1 Analyse des corrélations](#2-2-1)\n",
    "    - [2.2.2 Test et entrainement du modèle](#2-2-2)\n",
    "    - [2.2.3 Tests de validité et de fiabilité du modèle](#2-2-3)"
   ]
  },
  {
   "cell_type": "markdown",
   "metadata": {},
   "source": [
    "<div style=\"background-color: RGB(395,214,205);\">\n",
    "    <h2 id=\"etape-1\" style=\"margin: auto; padding: 20px;\">Etape 1 - Importation des librairies et chargement des données</h2>\n",
    "</div>"
   ]
  },
  {
   "cell_type": "code",
   "execution_count": 132,
   "metadata": {},
   "outputs": [],
   "source": [
    "# Importation des librairies\n",
    "import pandas as pd\n",
    "import joblib"
   ]
  },
  {
   "cell_type": "code",
   "execution_count": 133,
   "metadata": {},
   "outputs": [],
   "source": [
    "# Importation du fichier billets_production.csv\n",
    "chemin_nouveau_fichier = '/Users/adrianaguilera/Desktop/P12/Inputs/billets_production.csv'\n",
    "nv_billets = pd.read_csv(chemin_nouveau_fichier)"
   ]
  },
  {
   "cell_type": "code",
   "execution_count": 134,
   "metadata": {},
   "outputs": [],
   "source": [
    "# Importation du modèle\n",
    "modele = joblib.load('modele_RF.joblib')"
   ]
  },
  {
   "cell_type": "code",
   "execution_count": 135,
   "metadata": {},
   "outputs": [
    {
     "data": {
      "text/html": [
       "<div>\n",
       "<style scoped>\n",
       "    .dataframe tbody tr th:only-of-type {\n",
       "        vertical-align: middle;\n",
       "    }\n",
       "\n",
       "    .dataframe tbody tr th {\n",
       "        vertical-align: top;\n",
       "    }\n",
       "\n",
       "    .dataframe thead th {\n",
       "        text-align: right;\n",
       "    }\n",
       "</style>\n",
       "<table border=\"1\" class=\"dataframe\">\n",
       "  <thead>\n",
       "    <tr style=\"text-align: right;\">\n",
       "      <th></th>\n",
       "      <th>diagonal</th>\n",
       "      <th>height_left</th>\n",
       "      <th>height_right</th>\n",
       "      <th>margin_low</th>\n",
       "      <th>margin_up</th>\n",
       "      <th>length</th>\n",
       "      <th>id</th>\n",
       "    </tr>\n",
       "  </thead>\n",
       "  <tbody>\n",
       "    <tr>\n",
       "      <th>0</th>\n",
       "      <td>171.76</td>\n",
       "      <td>104.01</td>\n",
       "      <td>103.54</td>\n",
       "      <td>5.21</td>\n",
       "      <td>3.30</td>\n",
       "      <td>111.42</td>\n",
       "      <td>A_1</td>\n",
       "    </tr>\n",
       "    <tr>\n",
       "      <th>1</th>\n",
       "      <td>171.87</td>\n",
       "      <td>104.17</td>\n",
       "      <td>104.13</td>\n",
       "      <td>6.00</td>\n",
       "      <td>3.31</td>\n",
       "      <td>112.09</td>\n",
       "      <td>A_2</td>\n",
       "    </tr>\n",
       "    <tr>\n",
       "      <th>2</th>\n",
       "      <td>172.00</td>\n",
       "      <td>104.58</td>\n",
       "      <td>104.29</td>\n",
       "      <td>4.99</td>\n",
       "      <td>3.39</td>\n",
       "      <td>111.57</td>\n",
       "      <td>A_3</td>\n",
       "    </tr>\n",
       "    <tr>\n",
       "      <th>3</th>\n",
       "      <td>172.49</td>\n",
       "      <td>104.55</td>\n",
       "      <td>104.34</td>\n",
       "      <td>4.44</td>\n",
       "      <td>3.03</td>\n",
       "      <td>113.20</td>\n",
       "      <td>A_4</td>\n",
       "    </tr>\n",
       "    <tr>\n",
       "      <th>4</th>\n",
       "      <td>171.65</td>\n",
       "      <td>103.63</td>\n",
       "      <td>103.56</td>\n",
       "      <td>3.77</td>\n",
       "      <td>3.16</td>\n",
       "      <td>113.33</td>\n",
       "      <td>A_5</td>\n",
       "    </tr>\n",
       "  </tbody>\n",
       "</table>\n",
       "</div>"
      ],
      "text/plain": [
       "   diagonal  height_left  height_right  margin_low  margin_up  length   id\n",
       "0    171.76       104.01        103.54        5.21       3.30  111.42  A_1\n",
       "1    171.87       104.17        104.13        6.00       3.31  112.09  A_2\n",
       "2    172.00       104.58        104.29        4.99       3.39  111.57  A_3\n",
       "3    172.49       104.55        104.34        4.44       3.03  113.20  A_4\n",
       "4    171.65       103.63        103.56        3.77       3.16  113.33  A_5"
      ]
     },
     "execution_count": 135,
     "metadata": {},
     "output_type": "execute_result"
    }
   ],
   "source": [
    "# Affichage des données\n",
    "nv_billets"
   ]
  },
  {
   "cell_type": "markdown",
   "metadata": {},
   "source": [
    "<div style=\"background-color: RGB(395,214,205);\">\n",
    "    <h2 id=\"etape-2\" style=\"margin: auto; padding: 20px;\">Etape 2 - Application du modèle de prédiction</h2>\n",
    "</div>"
   ]
  },
  {
   "cell_type": "code",
   "execution_count": 136,
   "metadata": {},
   "outputs": [],
   "source": [
    "# Renommer les variables\n",
    "nv_billets = nv_billets.rename(columns={\n",
    "    \"is_genuine\": \"Authenticite\",\n",
    "    \"diagonal\": \"Diagonale\",\n",
    "    \"height_left\": \"Hauteur_gauche\",\n",
    "    \"height_right\": \"Hauteur_droite\",\n",
    "    \"margin_low\": \"Marge_basse\",\n",
    "    \"margin_up\": \"Marge_haute\",\n",
    "    \"length\": \"Longueur\"\n",
    "})\n",
    "# Supprimer la colonne 'id' si elle est présente\n",
    "nv_billets_clean = nv_billets.drop(columns=['id'], errors='ignore')\n",
    "# Appliquer la prédiction sur les données corrigées\n",
    "y_pred = modele.predict(nv_billets_clean)"
   ]
  },
  {
   "cell_type": "code",
   "execution_count": 137,
   "metadata": {},
   "outputs": [
    {
     "data": {
      "text/html": [
       "<div>\n",
       "<style scoped>\n",
       "    .dataframe tbody tr th:only-of-type {\n",
       "        vertical-align: middle;\n",
       "    }\n",
       "\n",
       "    .dataframe tbody tr th {\n",
       "        vertical-align: top;\n",
       "    }\n",
       "\n",
       "    .dataframe thead th {\n",
       "        text-align: right;\n",
       "    }\n",
       "</style>\n",
       "<table border=\"1\" class=\"dataframe\">\n",
       "  <thead>\n",
       "    <tr style=\"text-align: right;\">\n",
       "      <th></th>\n",
       "      <th>id</th>\n",
       "      <th>Authenticite</th>\n",
       "      <th>Diagonale</th>\n",
       "      <th>Hauteur_gauche</th>\n",
       "      <th>Hauteur_droite</th>\n",
       "      <th>Marge_basse</th>\n",
       "      <th>Marge_haute</th>\n",
       "      <th>Longueur</th>\n",
       "    </tr>\n",
       "  </thead>\n",
       "  <tbody>\n",
       "    <tr>\n",
       "      <th>0</th>\n",
       "      <td>A_1</td>\n",
       "      <td>0</td>\n",
       "      <td>171.76</td>\n",
       "      <td>104.01</td>\n",
       "      <td>103.54</td>\n",
       "      <td>5.21</td>\n",
       "      <td>3.30</td>\n",
       "      <td>111.42</td>\n",
       "    </tr>\n",
       "    <tr>\n",
       "      <th>1</th>\n",
       "      <td>A_2</td>\n",
       "      <td>0</td>\n",
       "      <td>171.87</td>\n",
       "      <td>104.17</td>\n",
       "      <td>104.13</td>\n",
       "      <td>6.00</td>\n",
       "      <td>3.31</td>\n",
       "      <td>112.09</td>\n",
       "    </tr>\n",
       "    <tr>\n",
       "      <th>2</th>\n",
       "      <td>A_3</td>\n",
       "      <td>0</td>\n",
       "      <td>172.00</td>\n",
       "      <td>104.58</td>\n",
       "      <td>104.29</td>\n",
       "      <td>4.99</td>\n",
       "      <td>3.39</td>\n",
       "      <td>111.57</td>\n",
       "    </tr>\n",
       "    <tr>\n",
       "      <th>3</th>\n",
       "      <td>A_4</td>\n",
       "      <td>1</td>\n",
       "      <td>172.49</td>\n",
       "      <td>104.55</td>\n",
       "      <td>104.34</td>\n",
       "      <td>4.44</td>\n",
       "      <td>3.03</td>\n",
       "      <td>113.20</td>\n",
       "    </tr>\n",
       "    <tr>\n",
       "      <th>4</th>\n",
       "      <td>A_5</td>\n",
       "      <td>1</td>\n",
       "      <td>171.65</td>\n",
       "      <td>103.63</td>\n",
       "      <td>103.56</td>\n",
       "      <td>3.77</td>\n",
       "      <td>3.16</td>\n",
       "      <td>113.33</td>\n",
       "    </tr>\n",
       "  </tbody>\n",
       "</table>\n",
       "</div>"
      ],
      "text/plain": [
       "    id  Authenticite  Diagonale  Hauteur_gauche  Hauteur_droite  Marge_basse  \\\n",
       "0  A_1             0     171.76          104.01          103.54         5.21   \n",
       "1  A_2             0     171.87          104.17          104.13         6.00   \n",
       "2  A_3             0     172.00          104.58          104.29         4.99   \n",
       "3  A_4             1     172.49          104.55          104.34         4.44   \n",
       "4  A_5             1     171.65          103.63          103.56         3.77   \n",
       "\n",
       "   Marge_haute  Longueur  \n",
       "0         3.30    111.42  \n",
       "1         3.31    112.09  \n",
       "2         3.39    111.57  \n",
       "3         3.03    113.20  \n",
       "4         3.16    113.33  "
      ]
     },
     "execution_count": 137,
     "metadata": {},
     "output_type": "execute_result"
    }
   ],
   "source": [
    "# Ajouter la colonne 'Authenticite' à partir des prédictions\n",
    "nv_billets_clean['Authenticite'] = y_pred\n",
    "# Ajouter la colonne 'id' à partir du fichier d'origine\n",
    "nv_billets_clean['id'] = nv_billets['id']\n",
    "# Liste des colonnes dans l'ordre souhaité\n",
    "ordre_colonne = ['id', 'Authenticite', 'Diagonale', 'Hauteur_gauche', 'Hauteur_droite',\n",
    "                  'Marge_basse', 'Marge_haute', 'Longueur']\n",
    "# Réorganiser les colonnes\n",
    "nv_billets_clean = nv_billets_clean[ordre_colonne]\n",
    "# Affichage des données\n",
    "nv_billets_clean"
   ]
  },
  {
   "cell_type": "markdown",
   "metadata": {},
   "source": [
    "<div style=\"background-color: RGB(395,214,205);\">\n",
    "    <h2 id=\"etape-3\" style=\"margin: auto; padding: 20px;\">Etape 3 - Affichage des résultats</h2>\n",
    "</div>"
   ]
  },
  {
   "cell_type": "code",
   "execution_count": 138,
   "metadata": {},
   "outputs": [
    {
     "name": "stdout",
     "output_type": "stream",
     "text": [
      "Nombre total de billets : 5\n",
      "Nombre de billets authentiques : 2\n",
      "Nombre de billets contrefaits : 3\n",
      "Pourcentage de billets authentiques : 40.00%\n"
     ]
    }
   ],
   "source": [
    "# Compter le nombre de billets\n",
    "nb_billets = len(nv_billets_clean)\n",
    "# Compter le nombre de billets authentiques\n",
    "nb_billets_authentiques = len(nv_billets_clean[nv_billets_clean['Authenticite'] == 1])\n",
    "# Compter le nombre de billets contrefaits\n",
    "nb_billets_contrefaits = len(nv_billets_clean[nv_billets_clean['Authenticite'] == 0])\n",
    "# Afficher le nombre de billets authentiques et contrefaits\n",
    "print(f\"Nombre total de billets : {nb_billets}\")\n",
    "print(f\"Nombre de billets authentiques : {nb_billets_authentiques}\")\n",
    "print(f\"Nombre de billets contrefaits : {nb_billets_contrefaits}\")\n",
    "# Pourcentage de billets authentiques \n",
    "pourcentage_authentiques = (nb_billets_authentiques / nb_billets) * 100\n",
    "print(f\"Pourcentage de billets authentiques : {pourcentage_authentiques:.2f}%\")\n"
   ]
  },
  {
   "cell_type": "code",
   "execution_count": 139,
   "metadata": {},
   "outputs": [],
   "source": [
    "# Exporter les données\n",
    "#nv_billets_clean.to_csv('resultats_billets.csv', index=False)\n",
    "#print(\"Fichier 'resultats_billets.csv' exporté avec succès.\")"
   ]
  }
 ],
 "metadata": {
  "kernelspec": {
   "display_name": "base",
   "language": "python",
   "name": "python3"
  },
  "language_info": {
   "codemirror_mode": {
    "name": "ipython",
    "version": 3
   },
   "file_extension": ".py",
   "mimetype": "text/x-python",
   "name": "python",
   "nbconvert_exporter": "python",
   "pygments_lexer": "ipython3",
   "version": "3.11.7"
  }
 },
 "nbformat": 4,
 "nbformat_minor": 2
}
