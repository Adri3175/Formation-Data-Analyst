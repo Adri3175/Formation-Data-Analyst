{
 "cells": [
  {
   "cell_type": "markdown",
   "id": "97dccc01",
   "metadata": {},
   "source": [
    "<div style=\"display: flex; background-color: RGB(255,114,0);\" >\n",
    "<h1 style=\"margin: auto; padding: 30px; \">ANALYSE DU STOCK ET DES VENTES DU SITE BOTTLENECK</h1>\n",
    "</div>"
   ]
  },
  {
   "cell_type": "markdown",
   "id": "4d0d1bb8",
   "metadata": {},
   "source": [
    "# OBJECTIF DE CE NOTEBOOK\n",
    "\n",
    "Bienvenue dans l'outil plébiscité par les analystes de données Jupyter.\n",
    "\n",
    "Il s'agit d'un outil permettant de mixer et d'alterner codes, textes et graphique.\n",
    "\n",
    "Cet outil est formidable pour plusieurs raisons:\n",
    "\n",
    "+ il permet de tester des lignes de codes au fur et à mesure de votre rédaction, de constater immédiatement le résultat d'un instruction, de la corriger si nécessaire.\n",
    "+ De rédiger du texte pour expliquer l'approche suivie ou les résultats d'une analyse et de le mettre en forme grâce à du code html ou plus simple avec **Markdown**\n",
    "+ d'agrémenter de graphiques\n",
    "\n",
    "Pour vous aider dans vos premiers pas à l'usage de Jupyter et de Python, nous avons rédigé ce notebook en vous indiquant les instructions à suivre.\n",
    "\n",
    "Il vous suffit pour cela de saisir le code Python répondant à l'instruction donnée.\n",
    "\n",
    "Vous verrez de temps à autre le code Python répondant à une instruction donnée mais cela est fait pour vous aider à comprendre la nature du travail qui vous est demandée.\n",
    "\n",
    "Et garder à l'esprit, qu'il n'y a pas de solution unique pour résoudre un problème et qu'il y a autant de résolutions de problèmes que de développeurs ;)...\n",
    "\n"
   ]
  },
  {
   "cell_type": "markdown",
   "id": "b85efb87",
   "metadata": {
    "jp-MarkdownHeadingCollapsed": true
   },
   "source": [
    "<div style=\"background-color: RGB(51,165,182);\" >\n",
    "<h2 style=\"margin: auto; padding: 20px; color:#fff; \">Etape 1 - Importation des librairies et chargement des fichiers</h2>\n",
    "</div>"
   ]
  },
  {
   "cell_type": "markdown",
   "id": "b5449401",
   "metadata": {},
   "source": [
    "<div style=\"border: 1px solid RGB(51,165,182);\" >\n",
    "<h3 style=\"margin: auto; padding: 20px; color: RGB(51,165,182); \">1.1 - Importation des librairies</h3>\n",
    "</div>"
   ]
  },
  {
   "cell_type": "code",
   "execution_count": 1,
   "id": "e6ef06ec",
   "metadata": {},
   "outputs": [],
   "source": [
    "#Importation de la librairie Pandas\n",
    "import pandas as pd"
   ]
  },
  {
   "cell_type": "code",
   "execution_count": 2,
   "id": "00018678-bc8e-499e-a7e0-5b0b8360b111",
   "metadata": {},
   "outputs": [
    {
     "name": "stdout",
     "output_type": "stream",
     "text": [
      "Requirement already satisfied: pandas in /opt/anaconda3/lib/python3.11/site-packages (2.2.2)\n",
      "Requirement already satisfied: numpy>=1.23.2 in /opt/anaconda3/lib/python3.11/site-packages (from pandas) (1.26.4)\n",
      "Requirement already satisfied: python-dateutil>=2.8.2 in /opt/anaconda3/lib/python3.11/site-packages (from pandas) (2.8.2)\n",
      "Requirement already satisfied: pytz>=2020.1 in /opt/anaconda3/lib/python3.11/site-packages (from pandas) (2023.3.post1)\n",
      "Requirement already satisfied: tzdata>=2022.7 in /opt/anaconda3/lib/python3.11/site-packages (from pandas) (2023.3)\n",
      "Requirement already satisfied: six>=1.5 in /opt/anaconda3/lib/python3.11/site-packages (from python-dateutil>=2.8.2->pandas) (1.16.0)\n"
     ]
    }
   ],
   "source": [
    "!pip install pandas"
   ]
  },
  {
   "cell_type": "markdown",
   "id": "5805f4b3",
   "metadata": {},
   "source": [
    "Liste des librairies utilisés :\n",
    "\n",
    " pandas (2.2.2)<br>\n",
    " numpy (1.26.4)<br>\n",
    " python-dateutil (2.8.2)<br>\n",
    " pytz (2023.3.post1)<br>\n",
    " tzdata (2023.3)<br>\n",
    " six (1.16.0)"
   ]
  },
  {
   "cell_type": "markdown",
   "id": "f4918299",
   "metadata": {},
   "source": [
    "<div style=\"border: 1px solid RGB(51,165,182);\" >\n",
    "<h3 style=\"margin: auto; padding: 20px; color: RGB(51,165,182); \">1.2 - Chargements des fichiers</h3>\n",
    "</div>"
   ]
  },
  {
   "cell_type": "code",
   "execution_count": 3,
   "id": "9642cf03",
   "metadata": {},
   "outputs": [
    {
     "name": "stderr",
     "output_type": "stream",
     "text": [
      "/opt/anaconda3/lib/python3.11/site-packages/openpyxl/worksheet/_reader.py:329: UserWarning: Unknown extension is not supported and will be removed\n",
      "  warn(msg)\n",
      "/opt/anaconda3/lib/python3.11/site-packages/openpyxl/worksheet/_reader.py:329: UserWarning: Unknown extension is not supported and will be removed\n",
      "  warn(msg)\n",
      "/opt/anaconda3/lib/python3.11/site-packages/openpyxl/worksheet/_reader.py:329: UserWarning: Unknown extension is not supported and will be removed\n",
      "  warn(msg)\n"
     ]
    }
   ],
   "source": [
    "#Importation du fichier web.xlsx\n",
    "chemin_fichier_web = '/Users/adrianaguilera/Desktop/P6/inputs/web.xlsx'\n",
    "web = pd.read_excel(chemin_fichier_web)\n",
    "#Importation du fichier erp.xlsx\n",
    "chemin_fichier_erp = '/Users/adrianaguilera/Desktop/P6/inputs/erp.xlsx'\n",
    "erp = pd.read_excel(chemin_fichier_erp)\n",
    "#importation du fichier liaison.xlsx\n",
    "chemin_fichier_liaison = '/Users/adrianaguilera/Desktop/P6/inputs/liaison.xlsx'\n",
    "liaison = pd.read_excel(chemin_fichier_liaison)"
   ]
  },
  {
   "cell_type": "markdown",
   "id": "605f7056",
   "metadata": {
    "jp-MarkdownHeadingCollapsed": true
   },
   "source": [
    "<div style=\"background-color: RGB(51,165,182);\" >\n",
    "<h2 style=\"margin: auto; padding: 20px; color:#fff; \">Etape 2 - Analyse exploratoire des fichiers</h2>\n",
    "</div>"
   ]
  },
  {
   "cell_type": "markdown",
   "id": "47d3a649",
   "metadata": {},
   "source": [
    "<div style=\"border: 1px solid RGB(51,165,182);\" >\n",
    "<h3 style=\"margin: auto; padding: 20px; color: RGB(51,165,182); \">2.1 - Analyse exploratoire du fichier erp.xlsx</h3>\n",
    "</div>"
   ]
  },
  {
   "cell_type": "code",
   "execution_count": 4,
   "id": "094ef206",
   "metadata": {},
   "outputs": [
    {
     "name": "stdout",
     "output_type": "stream",
     "text": [
      "Le tableau comporte 825 observation(s) ou article(s)\n",
      "Le tableau comporte 6 colonne(s)\n"
     ]
    }
   ],
   "source": [
    "#Afficher les dimensions du dataset\n",
    "print(\"Le tableau comporte {} observation(s) ou article(s)\".format(erp.shape[0]))\n",
    "print(\"Le tableau comporte {} colonne(s)\".format(erp.shape[1]))"
   ]
  },
  {
   "cell_type": "code",
   "execution_count": 5,
   "id": "182441f0",
   "metadata": {},
   "outputs": [
    {
     "name": "stdout",
     "output_type": "stream",
     "text": [
      "Le tableau comporte 6 colonne(s)\n",
      "Voici la nature de données de chacune des colonnes : product_id          int64\n",
      "onsale_web          int64\n",
      "price             float64\n",
      "stock_quantity      int64\n",
      "stock_status       object\n",
      "purchase_price    float64\n",
      "dtype: object\n",
      "Voici le nombre de valeurs présentes dans chacune des colonnes : product_id        825\n",
      "onsale_web        825\n",
      "price             825\n",
      "stock_quantity    825\n",
      "stock_status      825\n",
      "purchase_price    825\n",
      "dtype: int64\n"
     ]
    }
   ],
   "source": [
    "#Consulter le nombre de colonnes\n",
    "print(\"Le tableau comporte {} colonne(s)\".format(erp.shape[1]))\n",
    "\n",
    "#La nature des données dans chacune des colonnes\n",
    "erp_nature_donnees = erp.dtypes\n",
    "print(\"Voici la nature de données de chacune des colonnes :\", erp_nature_donnees)\n",
    "\n",
    "#Le nombre de valeurs présentes dans chacune des colonnes\n",
    "erp_nbre_valeurs_colonnes = erp.count()\n",
    "print(\"Voici le nombre de valeurs présentes dans chacune des colonnes :\", erp_nbre_valeurs_colonnes)"
   ]
  },
  {
   "cell_type": "code",
   "execution_count": 6,
   "id": "d3977646",
   "metadata": {},
   "outputs": [
    {
     "data": {
      "text/html": [
       "<div>\n",
       "<style scoped>\n",
       "    .dataframe tbody tr th:only-of-type {\n",
       "        vertical-align: middle;\n",
       "    }\n",
       "\n",
       "    .dataframe tbody tr th {\n",
       "        vertical-align: top;\n",
       "    }\n",
       "\n",
       "    .dataframe thead th {\n",
       "        text-align: right;\n",
       "    }\n",
       "</style>\n",
       "<table border=\"1\" class=\"dataframe\">\n",
       "  <thead>\n",
       "    <tr style=\"text-align: right;\">\n",
       "      <th></th>\n",
       "      <th>product_id</th>\n",
       "      <th>onsale_web</th>\n",
       "      <th>price</th>\n",
       "      <th>stock_quantity</th>\n",
       "      <th>stock_status</th>\n",
       "      <th>purchase_price</th>\n",
       "    </tr>\n",
       "  </thead>\n",
       "  <tbody>\n",
       "    <tr>\n",
       "      <th>0</th>\n",
       "      <td>3847</td>\n",
       "      <td>1</td>\n",
       "      <td>24.2</td>\n",
       "      <td>16</td>\n",
       "      <td>instock</td>\n",
       "      <td>12.88</td>\n",
       "    </tr>\n",
       "    <tr>\n",
       "      <th>1</th>\n",
       "      <td>3849</td>\n",
       "      <td>1</td>\n",
       "      <td>34.3</td>\n",
       "      <td>10</td>\n",
       "      <td>instock</td>\n",
       "      <td>17.54</td>\n",
       "    </tr>\n",
       "    <tr>\n",
       "      <th>2</th>\n",
       "      <td>3850</td>\n",
       "      <td>1</td>\n",
       "      <td>20.8</td>\n",
       "      <td>0</td>\n",
       "      <td>outofstock</td>\n",
       "      <td>10.64</td>\n",
       "    </tr>\n",
       "    <tr>\n",
       "      <th>3</th>\n",
       "      <td>4032</td>\n",
       "      <td>1</td>\n",
       "      <td>14.1</td>\n",
       "      <td>26</td>\n",
       "      <td>instock</td>\n",
       "      <td>6.92</td>\n",
       "    </tr>\n",
       "    <tr>\n",
       "      <th>4</th>\n",
       "      <td>4039</td>\n",
       "      <td>1</td>\n",
       "      <td>46.0</td>\n",
       "      <td>3</td>\n",
       "      <td>outofstock</td>\n",
       "      <td>23.77</td>\n",
       "    </tr>\n",
       "  </tbody>\n",
       "</table>\n",
       "</div>"
      ],
      "text/plain": [
       "   product_id  onsale_web  price  stock_quantity stock_status  purchase_price\n",
       "0        3847           1   24.2              16      instock           12.88\n",
       "1        3849           1   34.3              10      instock           17.54\n",
       "2        3850           1   20.8               0   outofstock           10.64\n",
       "3        4032           1   14.1              26      instock            6.92\n",
       "4        4039           1   46.0               3   outofstock           23.77"
      ]
     },
     "execution_count": 6,
     "metadata": {},
     "output_type": "execute_result"
    }
   ],
   "source": [
    "#Afficher les 5 premières lignes de la table\n",
    "erp.head()"
   ]
  },
  {
   "cell_type": "code",
   "execution_count": 7,
   "id": "fe255399-bc31-49be-b7fb-d3c09b52cd75",
   "metadata": {},
   "outputs": [
    {
     "data": {
      "text/html": [
       "<div>\n",
       "<style scoped>\n",
       "    .dataframe tbody tr th:only-of-type {\n",
       "        vertical-align: middle;\n",
       "    }\n",
       "\n",
       "    .dataframe tbody tr th {\n",
       "        vertical-align: top;\n",
       "    }\n",
       "\n",
       "    .dataframe thead th {\n",
       "        text-align: right;\n",
       "    }\n",
       "</style>\n",
       "<table border=\"1\" class=\"dataframe\">\n",
       "  <thead>\n",
       "    <tr style=\"text-align: right;\">\n",
       "      <th></th>\n",
       "      <th>product_id</th>\n",
       "      <th>onsale_web</th>\n",
       "      <th>price</th>\n",
       "      <th>stock_quantity</th>\n",
       "      <th>purchase_price</th>\n",
       "    </tr>\n",
       "  </thead>\n",
       "  <tbody>\n",
       "    <tr>\n",
       "      <th>count</th>\n",
       "      <td>825.000000</td>\n",
       "      <td>825.000000</td>\n",
       "      <td>825.000000</td>\n",
       "      <td>825.000000</td>\n",
       "      <td>825.000000</td>\n",
       "    </tr>\n",
       "    <tr>\n",
       "      <th>mean</th>\n",
       "      <td>5162.597576</td>\n",
       "      <td>0.867879</td>\n",
       "      <td>32.187697</td>\n",
       "      <td>21.589091</td>\n",
       "      <td>16.940582</td>\n",
       "    </tr>\n",
       "    <tr>\n",
       "      <th>std</th>\n",
       "      <td>902.644635</td>\n",
       "      <td>0.338828</td>\n",
       "      <td>26.712077</td>\n",
       "      <td>21.933807</td>\n",
       "      <td>14.561840</td>\n",
       "    </tr>\n",
       "    <tr>\n",
       "      <th>min</th>\n",
       "      <td>3847.000000</td>\n",
       "      <td>0.000000</td>\n",
       "      <td>-20.000000</td>\n",
       "      <td>-10.000000</td>\n",
       "      <td>2.740000</td>\n",
       "    </tr>\n",
       "    <tr>\n",
       "      <th>25%</th>\n",
       "      <td>4348.000000</td>\n",
       "      <td>1.000000</td>\n",
       "      <td>14.500000</td>\n",
       "      <td>7.000000</td>\n",
       "      <td>7.590000</td>\n",
       "    </tr>\n",
       "    <tr>\n",
       "      <th>50%</th>\n",
       "      <td>4907.000000</td>\n",
       "      <td>1.000000</td>\n",
       "      <td>24.300000</td>\n",
       "      <td>18.000000</td>\n",
       "      <td>12.710000</td>\n",
       "    </tr>\n",
       "    <tr>\n",
       "      <th>75%</th>\n",
       "      <td>5805.000000</td>\n",
       "      <td>1.000000</td>\n",
       "      <td>42.000000</td>\n",
       "      <td>30.000000</td>\n",
       "      <td>22.020000</td>\n",
       "    </tr>\n",
       "    <tr>\n",
       "      <th>max</th>\n",
       "      <td>7338.000000</td>\n",
       "      <td>1.000000</td>\n",
       "      <td>225.000000</td>\n",
       "      <td>145.000000</td>\n",
       "      <td>137.810000</td>\n",
       "    </tr>\n",
       "  </tbody>\n",
       "</table>\n",
       "</div>"
      ],
      "text/plain": [
       "        product_id  onsale_web       price  stock_quantity  purchase_price\n",
       "count   825.000000  825.000000  825.000000      825.000000      825.000000\n",
       "mean   5162.597576    0.867879   32.187697       21.589091       16.940582\n",
       "std     902.644635    0.338828   26.712077       21.933807       14.561840\n",
       "min    3847.000000    0.000000  -20.000000      -10.000000        2.740000\n",
       "25%    4348.000000    1.000000   14.500000        7.000000        7.590000\n",
       "50%    4907.000000    1.000000   24.300000       18.000000       12.710000\n",
       "75%    5805.000000    1.000000   42.000000       30.000000       22.020000\n",
       "max    7338.000000    1.000000  225.000000      145.000000      137.810000"
      ]
     },
     "execution_count": 7,
     "metadata": {},
     "output_type": "execute_result"
    }
   ],
   "source": [
    "#Afficher un aperçu rapide des données\n",
    "erp.describe()"
   ]
  },
  {
   "cell_type": "code",
   "execution_count": 8,
   "id": "db102a4a",
   "metadata": {},
   "outputs": [
    {
     "name": "stdout",
     "output_type": "stream",
     "text": [
      "Il n'y a pas de doublon dans la colonne 'product_id'\n"
     ]
    }
   ],
   "source": [
    "#Vérifier s'il y a les lignes en doublons dans la colonne product_id\n",
    "erp_product_id_doublons = erp['product_id'].duplicated().sum()\n",
    "if erp_product_id_doublons > 0:\n",
    "    print(\"Il y a {erp_product_id_doublons} doublons dans la colonne 'product_id'\")\n",
    "else:\n",
    "    print(\"Il n'y a pas de doublon dans la colonne 'product_id'\")"
   ]
  },
  {
   "cell_type": "code",
   "execution_count": 9,
   "id": "d443d4ff",
   "metadata": {},
   "outputs": [
    {
     "name": "stdout",
     "output_type": "stream",
     "text": [
      "Valeurs distinctes dans la colonne 'stock_status' : ['instock' 'outofstock']\n",
      "Cette colonne est directement liée à la colonne 'stock_quantity'\n"
     ]
    }
   ],
   "source": [
    "#Afficher les valeurs distinctes de la colonne stock_status\n",
    "erp_stock_status_valeurs = erp['stock_status'].unique()\n",
    "print(\"Valeurs distinctes dans la colonne 'stock_status' :\", erp_stock_status_valeurs)\n",
    "\n",
    "#À quelle(s) autre(s) colonne(s) sont-elles liées ?\n",
    "print(\"Cette colonne est directement liée à la colonne 'stock_quantity'\")"
   ]
  },
  {
   "cell_type": "code",
   "execution_count": 10,
   "id": "68088943",
   "metadata": {},
   "outputs": [
    {
     "name": "stdout",
     "output_type": "stream",
     "text": [
      "     product_id  onsale_web  price  stock_quantity stock_status  \\\n",
      "0          3847           1   24.2              16      instock   \n",
      "1          3849           1   34.3              10      instock   \n",
      "2          3850           1   20.8               0   outofstock   \n",
      "3          4032           1   14.1              26      instock   \n",
      "4          4039           1   46.0               3   outofstock   \n",
      "..          ...         ...    ...             ...          ...   \n",
      "820        7203           0   45.0              30      instock   \n",
      "821        7204           0   45.0               9      instock   \n",
      "822        7247           1   54.8               6      instock   \n",
      "823        7329           0   26.5              14      instock   \n",
      "824        7338           1   16.3              40      instock   \n",
      "\n",
      "     purchase_price stock_status_2  \n",
      "0             12.88        instock  \n",
      "1             17.54        instock  \n",
      "2             10.64     outofstock  \n",
      "3              6.92        instock  \n",
      "4             23.77        instock  \n",
      "..              ...            ...  \n",
      "820           23.48        instock  \n",
      "821           24.18        instock  \n",
      "822           27.18        instock  \n",
      "823           13.42        instock  \n",
      "824            8.00        instock  \n",
      "\n",
      "[825 rows x 7 columns]\n"
     ]
    }
   ],
   "source": [
    "#Création d'une colonne \"stock_status_2\"\n",
    "#La valeur de cette deuxième colonne sera fonction de la valeur dans la colonne \"stock_quantity\"\n",
    "#Si la valeur de la colonne \"stock_quantity\" est nulle renseigner \"outofstock\" sinon mettre \"instock\"\n",
    "erp['stock_status_2'] = erp['stock_quantity'].apply(lambda x: 'outofstock' if pd.isnull(x) or x == 0 else 'instock')\n",
    "print(erp)"
   ]
  },
  {
   "cell_type": "code",
   "execution_count": 11,
   "id": "90a1c8ae",
   "metadata": {},
   "outputs": [
    {
     "name": "stdout",
     "output_type": "stream",
     "text": [
      "0       True\n",
      "1       True\n",
      "2       True\n",
      "3       True\n",
      "4      False\n",
      "       ...  \n",
      "820     True\n",
      "821     True\n",
      "822     True\n",
      "823     True\n",
      "824     True\n",
      "Length: 825, dtype: bool\n"
     ]
    }
   ],
   "source": [
    "#Vérifions que les 2 colonnes sont identiques:\n",
    "#Les 2 colonnes sont strictement identiques si les valeurs de chaque ligne sont strictement identiques\n",
    "#La comparaison de 2 colonnes peut se réaliser simplement avec l'instruction ci-dessous:\n",
    "erp_stocks_comparaison = erp[\"stock_status\"] == erp[\"stock_status_2\"]\n",
    "\n",
    "#Le résultat est l'affichage de True ou False pour chacune des lignes du dataset\n",
    "#C'est un bon début, mais difficile à exploiter\n",
    "print(erp_stocks_comparaison)"
   ]
  },
  {
   "cell_type": "code",
   "execution_count": 12,
   "id": "ebe3650a",
   "metadata": {},
   "outputs": [
    {
     "name": "stdout",
     "output_type": "stream",
     "text": [
      "Nombre de lignes identiques : 821\n"
     ]
    }
   ],
   "source": [
    "#Mais il est possible de synthétiser ce résultat en effectuant la somme de cette colonne :\n",
    "#True vaut 1 et False 0\n",
    "erp_somme_valeurs_identiques = erp_stocks_comparaison.sum()\n",
    "print(\"Nombre de lignes identiques :\", erp_somme_valeurs_identiques)"
   ]
  },
  {
   "cell_type": "code",
   "execution_count": 13,
   "id": "1ca6060a",
   "metadata": {},
   "outputs": [
    {
     "data": {
      "text/html": [
       "<div>\n",
       "<style scoped>\n",
       "    .dataframe tbody tr th:only-of-type {\n",
       "        vertical-align: middle;\n",
       "    }\n",
       "\n",
       "    .dataframe tbody tr th {\n",
       "        vertical-align: top;\n",
       "    }\n",
       "\n",
       "    .dataframe thead th {\n",
       "        text-align: right;\n",
       "    }\n",
       "</style>\n",
       "<table border=\"1\" class=\"dataframe\">\n",
       "  <thead>\n",
       "    <tr style=\"text-align: right;\">\n",
       "      <th></th>\n",
       "      <th>product_id</th>\n",
       "      <th>onsale_web</th>\n",
       "      <th>price</th>\n",
       "      <th>stock_quantity</th>\n",
       "      <th>stock_status</th>\n",
       "      <th>purchase_price</th>\n",
       "      <th>stock_status_2</th>\n",
       "    </tr>\n",
       "  </thead>\n",
       "  <tbody>\n",
       "    <tr>\n",
       "      <th>4</th>\n",
       "      <td>4039</td>\n",
       "      <td>1</td>\n",
       "      <td>46.0</td>\n",
       "      <td>3</td>\n",
       "      <td>outofstock</td>\n",
       "      <td>23.77</td>\n",
       "      <td>instock</td>\n",
       "    </tr>\n",
       "    <tr>\n",
       "      <th>398</th>\n",
       "      <td>4885</td>\n",
       "      <td>1</td>\n",
       "      <td>18.7</td>\n",
       "      <td>0</td>\n",
       "      <td>instock</td>\n",
       "      <td>9.66</td>\n",
       "      <td>outofstock</td>\n",
       "    </tr>\n",
       "    <tr>\n",
       "      <th>449</th>\n",
       "      <td>4973</td>\n",
       "      <td>0</td>\n",
       "      <td>10.0</td>\n",
       "      <td>-10</td>\n",
       "      <td>outofstock</td>\n",
       "      <td>4.96</td>\n",
       "      <td>instock</td>\n",
       "    </tr>\n",
       "    <tr>\n",
       "      <th>573</th>\n",
       "      <td>5700</td>\n",
       "      <td>1</td>\n",
       "      <td>44.5</td>\n",
       "      <td>-1</td>\n",
       "      <td>outofstock</td>\n",
       "      <td>22.30</td>\n",
       "      <td>instock</td>\n",
       "    </tr>\n",
       "  </tbody>\n",
       "</table>\n",
       "</div>"
      ],
      "text/plain": [
       "     product_id  onsale_web  price  stock_quantity stock_status  \\\n",
       "4          4039           1   46.0               3   outofstock   \n",
       "398        4885           1   18.7               0      instock   \n",
       "449        4973           0   10.0             -10   outofstock   \n",
       "573        5700           1   44.5              -1   outofstock   \n",
       "\n",
       "     purchase_price stock_status_2  \n",
       "4             23.77        instock  \n",
       "398            9.66     outofstock  \n",
       "449            4.96        instock  \n",
       "573           22.30        instock  "
      ]
     },
     "execution_count": 13,
     "metadata": {},
     "output_type": "execute_result"
    }
   ],
   "source": [
    "#Si les colonnes ne sont absolument pas identiques ligne à ligne alors identifier la ligne en écart\n",
    "erp_stocks_ecart_lignes = erp[~erp_stocks_comparaison]\n",
    "erp_stocks_ecart_lignes"
   ]
  },
  {
   "cell_type": "code",
   "execution_count": 14,
   "id": "46f0950b",
   "metadata": {},
   "outputs": [
    {
     "name": "stdout",
     "output_type": "stream",
     "text": [
      "     product_id  onsale_web  price  stock_quantity stock_status  \\\n",
      "449        4973           0   10.0             -10   outofstock   \n",
      "573        5700           1   44.5              -1   outofstock   \n",
      "\n",
      "     purchase_price stock_status_2  \n",
      "449            4.96     outofstock  \n",
      "573           22.30     outofstock  \n",
      "Nombre de lignes identiques : 823\n"
     ]
    }
   ],
   "source": [
    "#Corriger la ou les données incohérentes (outofstock si stock_quantity est négatif)\n",
    "erp.loc[erp['stock_quantity'] < 0, 'stock_status_2'] = 'outofstock'\n",
    "\n",
    "#Verification en utilisant le même code que plus haut pour afficher les problemes\n",
    "print(erp.loc[erp.index.isin([573, 449])])\n",
    "\n",
    "#Afficher le nombre de lignes identiques\n",
    "erp_stocks_comparaison2 = erp[\"stock_status\"] == erp[\"stock_status_2\"]\n",
    "erp_somme_valeurs_identiques2 = erp_stocks_comparaison2.sum()\n",
    "print(\"Nombre de lignes identiques :\", erp_somme_valeurs_identiques2)"
   ]
  },
  {
   "cell_type": "code",
   "execution_count": 15,
   "id": "5e96b80f-3c75-42de-8cd9-937f03dcd8b0",
   "metadata": {},
   "outputs": [],
   "source": [
    "#Supprimer la colonne 'stock_status'\n",
    "erp.drop(columns=['stock_status'], inplace=True)"
   ]
  },
  {
   "cell_type": "code",
   "execution_count": 16,
   "id": "0dbbb8a8-c36c-44e5-8224-ff8013e8ddf6",
   "metadata": {},
   "outputs": [],
   "source": [
    "#Renommer la colonne 'stock_status_2' en 'stock_status'\n",
    "erp.rename(columns={'stock_status_2': 'stock_status'}, inplace=True)"
   ]
  },
  {
   "cell_type": "markdown",
   "id": "08bd4b08",
   "metadata": {
    "jp-MarkdownHeadingCollapsed": true
   },
   "source": [
    "<div style=\"border: 1px solid RGB(51,165,182);\" >\n",
    "<h3 style=\"margin: auto; padding: 20px; color: RGB(51,165,182); \">2.1.0 - Analyse exploratoire de chaque variable du fichier erp.xlsx</h3>\n",
    "</div>"
   ]
  },
  {
   "cell_type": "markdown",
   "id": "be9a02b0-f4a5-419c-b82d-19df1c31b3e2",
   "metadata": {
    "jp-MarkdownHeadingCollapsed": true
   },
   "source": [
    "<div style=\"border: 1px solid RGB(51,165,182);\" >\n",
    "<h3 style=\"margin: auto; padding: 20px; color: RGB(51,165,182); \">2.1.1 - Analyse de la variable PRIX</h3>\n",
    "</div>"
   ]
  },
  {
   "cell_type": "code",
   "execution_count": 17,
   "id": "52311e51-0541-435c-b8d0-ee1e4561ea6f",
   "metadata": {},
   "outputs": [],
   "source": [
    "#######################\n",
    "#####    price    #####\n",
    "#######################"
   ]
  },
  {
   "cell_type": "code",
   "execution_count": 18,
   "id": "b9db8996-78ff-4f69-afc3-0c92c264f4a1",
   "metadata": {},
   "outputs": [
    {
     "name": "stdout",
     "output_type": "stream",
     "text": [
      "Nombre d'articles avec un prix non renseigné : 0\n"
     ]
    }
   ],
   "source": [
    "#Afficher le ou les prix non renseigné(s) dans la colonne \"price\"\n",
    "erp_price_nonrenseigne = erp[\"price\"].isnull().sum()\n",
    "print(\"Nombre d'articles avec un prix non renseigné : {}\".format(erp_price_nonrenseigne))"
   ]
  },
  {
   "cell_type": "code",
   "execution_count": 19,
   "id": "e4128af7-b33f-43cc-8df1-253d336a80ba",
   "metadata": {},
   "outputs": [
    {
     "name": "stdout",
     "output_type": "stream",
     "text": [
      "Nombre d'articles avec un prix nul : 0.0\n"
     ]
    }
   ],
   "source": [
    "#Afficher le ou les prix nul(s) dans la colonne \"price\"\n",
    "erp_price_null = erp[erp[\"price\"] == 0]\n",
    "somme_erp_price_null = erp_price_null['price'].sum()\n",
    "print(\"Nombre d'articles avec un prix nul : {}\".format(somme_erp_price_null))"
   ]
  },
  {
   "cell_type": "code",
   "execution_count": 20,
   "id": "f4a5b39f-5288-4198-a067-57fb33e82c5a",
   "metadata": {},
   "outputs": [
    {
     "name": "stdout",
     "output_type": "stream",
     "text": [
      "Prix maximum dans la colonne 'price' : 225.0\n"
     ]
    }
   ],
   "source": [
    "#Afficher le prix maximum de la colonne \"price\"\n",
    "erp_price_max = erp['price'].max()\n",
    "print(\"Prix maximum dans la colonne 'price' : {}\".format(erp_price_max))"
   ]
  },
  {
   "cell_type": "code",
   "execution_count": 21,
   "id": "2e0945a7-b593-4c64-bd96-c6643d4f3af4",
   "metadata": {},
   "outputs": [
    {
     "name": "stdout",
     "output_type": "stream",
     "text": [
      "Prix minimum dans la colonne 'price' : -20.0\n"
     ]
    }
   ],
   "source": [
    "#Afficher le prix minimum de la colonne \"price\"\n",
    "erp_price_min = erp['price'].min()\n",
    "print(\"Prix minimum dans la colonne 'price' : {}\".format(erp_price_min))"
   ]
  },
  {
   "cell_type": "code",
   "execution_count": 22,
   "id": "8ce88df0-d079-4fe7-b3e7-785c1c56b9e2",
   "metadata": {},
   "outputs": [
    {
     "name": "stdout",
     "output_type": "stream",
     "text": [
      "Affichage des articles avec un prix negatif :\n"
     ]
    },
    {
     "data": {
      "text/html": [
       "<div>\n",
       "<style scoped>\n",
       "    .dataframe tbody tr th:only-of-type {\n",
       "        vertical-align: middle;\n",
       "    }\n",
       "\n",
       "    .dataframe tbody tr th {\n",
       "        vertical-align: top;\n",
       "    }\n",
       "\n",
       "    .dataframe thead th {\n",
       "        text-align: right;\n",
       "    }\n",
       "</style>\n",
       "<table border=\"1\" class=\"dataframe\">\n",
       "  <thead>\n",
       "    <tr style=\"text-align: right;\">\n",
       "      <th></th>\n",
       "      <th>product_id</th>\n",
       "      <th>onsale_web</th>\n",
       "      <th>price</th>\n",
       "      <th>stock_quantity</th>\n",
       "      <th>purchase_price</th>\n",
       "      <th>stock_status</th>\n",
       "    </tr>\n",
       "  </thead>\n",
       "  <tbody>\n",
       "    <tr>\n",
       "      <th>151</th>\n",
       "      <td>4233</td>\n",
       "      <td>0</td>\n",
       "      <td>-20.0</td>\n",
       "      <td>0</td>\n",
       "      <td>10.33</td>\n",
       "      <td>outofstock</td>\n",
       "    </tr>\n",
       "    <tr>\n",
       "      <th>469</th>\n",
       "      <td>5017</td>\n",
       "      <td>0</td>\n",
       "      <td>-8.0</td>\n",
       "      <td>0</td>\n",
       "      <td>4.34</td>\n",
       "      <td>outofstock</td>\n",
       "    </tr>\n",
       "    <tr>\n",
       "      <th>739</th>\n",
       "      <td>6594</td>\n",
       "      <td>0</td>\n",
       "      <td>-9.1</td>\n",
       "      <td>19</td>\n",
       "      <td>4.61</td>\n",
       "      <td>instock</td>\n",
       "    </tr>\n",
       "  </tbody>\n",
       "</table>\n",
       "</div>"
      ],
      "text/plain": [
       "     product_id  onsale_web  price  stock_quantity  purchase_price  \\\n",
       "151        4233           0  -20.0               0           10.33   \n",
       "469        5017           0   -8.0               0            4.34   \n",
       "739        6594           0   -9.1              19            4.61   \n",
       "\n",
       "    stock_status  \n",
       "151   outofstock  \n",
       "469   outofstock  \n",
       "739      instock  "
      ]
     },
     "execution_count": 22,
     "metadata": {},
     "output_type": "execute_result"
    }
   ],
   "source": [
    "#Afficher le ou les prix négatif(s) dans la colonne \"price\"\n",
    "erp_price_negatif = erp[erp[\"price\"] < 0]\n",
    "print(\"Affichage des articles avec un prix negatif :\")\n",
    "erp_price_negatif"
   ]
  },
  {
   "cell_type": "code",
   "execution_count": 23,
   "id": "286f384a-9074-4dc1-80d2-81af3f0111fd",
   "metadata": {},
   "outputs": [],
   "source": [
    "#Remplacer les valeurs négatives par des NaN\n",
    "erp.loc[erp['price'] < 0, 'price'] = None"
   ]
  },
  {
   "cell_type": "code",
   "execution_count": 24,
   "id": "77c5d799-33a4-4db3-ae50-33bd771a474a",
   "metadata": {},
   "outputs": [
    {
     "name": "stdout",
     "output_type": "stream",
     "text": [
      "Prix minimum dans la colonne 'price' : 5.2\n"
     ]
    }
   ],
   "source": [
    "#Vérification du résultat\n",
    "erp_price_min_verif = erp['price'].min()\n",
    "print(\"Prix minimum dans la colonne 'price' : {}\".format(erp_price_min_verif))"
   ]
  },
  {
   "cell_type": "markdown",
   "id": "c5fce58c",
   "metadata": {
    "jp-MarkdownHeadingCollapsed": true
   },
   "source": [
    "<div style=\"border: 1px solid RGB(51,165,182);\" >\n",
    "<h3 style=\"margin: auto; padding: 20px; color: RGB(51,165,182); \">2.1.2 - Analyse de la variable STOCK</h3>\n",
    "</div>"
   ]
  },
  {
   "cell_type": "code",
   "execution_count": 25,
   "id": "3d14c4a0",
   "metadata": {},
   "outputs": [],
   "source": [
    "#######################\n",
    "### stock_quantity  ###\n",
    "#######################"
   ]
  },
  {
   "cell_type": "code",
   "execution_count": 26,
   "id": "bd4bb6d4-cd97-45d1-941d-64fa3fb9ee0a",
   "metadata": {},
   "outputs": [
    {
     "name": "stdout",
     "output_type": "stream",
     "text": [
      "Quantité de stock non renseignée : 0\n"
     ]
    }
   ],
   "source": [
    "#Afficher la quantité de stock non renseignée dans la colonne \"stock_quantity\"\n",
    "erp_stock_quantity_nonrenseigne = erp[\"stock_quantity\"].isnull().sum()\n",
    "print(\"Quantité de stock non renseignée : {}\".format(erp_stock_quantity_nonrenseigne))"
   ]
  },
  {
   "cell_type": "code",
   "execution_count": 27,
   "id": "08acb129-dee1-4861-bdeb-be547b6201c4",
   "metadata": {},
   "outputs": [
    {
     "name": "stdout",
     "output_type": "stream",
     "text": [
      "Quantité de stock nul : 90\n"
     ]
    }
   ],
   "source": [
    "#Afficher la quantité de stock nul dans la colonne \"stock_quantity\"\n",
    "erp_stock_quantity_null = (erp[\"stock_quantity\"] == 0).sum()\n",
    "print(\"Quantité de stock nul : {}\".format(erp_stock_quantity_null))"
   ]
  },
  {
   "cell_type": "code",
   "execution_count": 28,
   "id": "d9b764dc-c3ff-4491-afc1-4569e9571404",
   "metadata": {},
   "outputs": [
    {
     "name": "stdout",
     "output_type": "stream",
     "text": [
      "Pourcentage de stock nul : 10.91\n"
     ]
    }
   ],
   "source": [
    "#Afficher le pourcentage de quantité de stock nul dans la colonne \"stock_quantity\"\n",
    "erp_stock_quantity_null_pourcentage = (erp_stock_quantity_null / len(erp)) * 100\n",
    "erp_stock_quantity_null_pourcentage = round(erp_stock_quantity_null_pourcentage, 2)\n",
    "print(\"Pourcentage de stock nul : {}\".format(erp_stock_quantity_null_pourcentage))"
   ]
  },
  {
   "cell_type": "code",
   "execution_count": 29,
   "id": "bb8198de-73b2-4270-9b0f-038a405a5d0a",
   "metadata": {},
   "outputs": [
    {
     "name": "stdout",
     "output_type": "stream",
     "text": [
      "Quantité maximum dans la colonne 'stock_quantity' : 145\n"
     ]
    }
   ],
   "source": [
    "#Afficher la quantité maximum de la colonne \"stock_quantity\"\n",
    "erp_stock_quantity_max = erp['stock_quantity'].max()\n",
    "print(\"Quantité maximum dans la colonne 'stock_quantity' : {}\".format(erp_stock_quantity_max))"
   ]
  },
  {
   "cell_type": "code",
   "execution_count": 30,
   "id": "c96988b8-7c73-400c-8b1f-a670a85df723",
   "metadata": {},
   "outputs": [
    {
     "name": "stdout",
     "output_type": "stream",
     "text": [
      "Quantité minimum dans la colonne 'stock_quantity' : -10\n"
     ]
    }
   ],
   "source": [
    "#Afficher la quantité minimum de la colonne \"stock_quantity\"\n",
    "erp_stock_quantity_min = erp['stock_quantity'].min()\n",
    "print(\"Quantité minimum dans la colonne 'stock_quantity' : {}\".format(erp_stock_quantity_min))"
   ]
  },
  {
   "cell_type": "code",
   "execution_count": 31,
   "id": "30504a25-d857-49a0-839b-55064c0ac83f",
   "metadata": {},
   "outputs": [
    {
     "name": "stdout",
     "output_type": "stream",
     "text": [
      "Affichage du stock negatif :\n"
     ]
    },
    {
     "data": {
      "text/html": [
       "<div>\n",
       "<style scoped>\n",
       "    .dataframe tbody tr th:only-of-type {\n",
       "        vertical-align: middle;\n",
       "    }\n",
       "\n",
       "    .dataframe tbody tr th {\n",
       "        vertical-align: top;\n",
       "    }\n",
       "\n",
       "    .dataframe thead th {\n",
       "        text-align: right;\n",
       "    }\n",
       "</style>\n",
       "<table border=\"1\" class=\"dataframe\">\n",
       "  <thead>\n",
       "    <tr style=\"text-align: right;\">\n",
       "      <th></th>\n",
       "      <th>product_id</th>\n",
       "      <th>onsale_web</th>\n",
       "      <th>price</th>\n",
       "      <th>stock_quantity</th>\n",
       "      <th>purchase_price</th>\n",
       "      <th>stock_status</th>\n",
       "    </tr>\n",
       "  </thead>\n",
       "  <tbody>\n",
       "    <tr>\n",
       "      <th>449</th>\n",
       "      <td>4973</td>\n",
       "      <td>0</td>\n",
       "      <td>10.0</td>\n",
       "      <td>-10</td>\n",
       "      <td>4.96</td>\n",
       "      <td>outofstock</td>\n",
       "    </tr>\n",
       "    <tr>\n",
       "      <th>573</th>\n",
       "      <td>5700</td>\n",
       "      <td>1</td>\n",
       "      <td>44.5</td>\n",
       "      <td>-1</td>\n",
       "      <td>22.30</td>\n",
       "      <td>outofstock</td>\n",
       "    </tr>\n",
       "  </tbody>\n",
       "</table>\n",
       "</div>"
      ],
      "text/plain": [
       "     product_id  onsale_web  price  stock_quantity  purchase_price  \\\n",
       "449        4973           0   10.0             -10            4.96   \n",
       "573        5700           1   44.5              -1           22.30   \n",
       "\n",
       "    stock_status  \n",
       "449   outofstock  \n",
       "573   outofstock  "
      ]
     },
     "execution_count": 31,
     "metadata": {},
     "output_type": "execute_result"
    }
   ],
   "source": [
    "#Afficher le stock négatif dans la colonne \"stock_quantity\"\n",
    "erp_stock_quantity_negatif = erp[erp[\"stock_quantity\"] < 0]\n",
    "print(\"Affichage du stock negatif :\")\n",
    "erp_stock_quantity_negatif"
   ]
  },
  {
   "cell_type": "code",
   "execution_count": 32,
   "id": "dbf6ecac-99c4-44af-879e-1be194e11ad3",
   "metadata": {},
   "outputs": [],
   "source": [
    "#Remplacer les valeurs négatives par 0\n",
    "erp.loc[erp['stock_quantity'] < 0, 'stock_quantity'] = 0"
   ]
  },
  {
   "cell_type": "code",
   "execution_count": 33,
   "id": "b6d1ce5c-e0fb-4731-b6ac-8a3f50265cdf",
   "metadata": {},
   "outputs": [
    {
     "name": "stdout",
     "output_type": "stream",
     "text": [
      "Nombre de stock négatif dans la colonne 'stock_quantity' : 0\n"
     ]
    }
   ],
   "source": [
    "#Vérification du résultat\n",
    "erp_stock_quantity_negatif_verif = erp['stock_quantity'].min()\n",
    "print(\"Nombre de stock négatif dans la colonne 'stock_quantity' : {}\".format(erp_stock_quantity_negatif_verif))"
   ]
  },
  {
   "cell_type": "markdown",
   "id": "20e8c554",
   "metadata": {
    "jp-MarkdownHeadingCollapsed": true
   },
   "source": [
    "<div style=\"border: 1px solid RGB(51,165,182);\" >\n",
    "<h3 style=\"margin: auto; padding: 20px; color: RGB(51,165,182); \">2.1.3 - Analyse de la variable ONSALE_WEB</h3>\n",
    "</div>"
   ]
  },
  {
   "cell_type": "code",
   "execution_count": 34,
   "id": "99b936ca",
   "metadata": {},
   "outputs": [],
   "source": [
    "######################\n",
    "###   onsale_web   ###\n",
    "######################"
   ]
  },
  {
   "cell_type": "code",
   "execution_count": 35,
   "id": "6b0d23b4-17b1-4173-a57b-ec2d4082f461",
   "metadata": {},
   "outputs": [
    {
     "name": "stdout",
     "output_type": "stream",
     "text": [
      "Valeurs uniques dans 'onsale_web' : [1 0]\n"
     ]
    }
   ],
   "source": [
    "#Vérifier les valeurs uniques dans la colonne 'onsale_web'\n",
    "erp_onsale_web_valeurs_uniques = erp['onsale_web'].unique()\n",
    "print(\"Valeurs uniques dans 'onsale_web' : {}\".format(erp_onsale_web_valeurs_uniques))"
   ]
  },
  {
   "cell_type": "code",
   "execution_count": 36,
   "id": "4113fc0c-6c09-4630-a2ac-98bb90c5548d",
   "metadata": {},
   "outputs": [],
   "source": [
    "#Cette colonne nous dit si le produit est vendu sur le web ou non"
   ]
  },
  {
   "cell_type": "code",
   "execution_count": 37,
   "id": "ab4c56d3-1260-42d5-bb5b-ec27e7715a6a",
   "metadata": {},
   "outputs": [
    {
     "name": "stdout",
     "output_type": "stream",
     "text": [
      "Quantité de valeurs non renseignées : 0\n"
     ]
    }
   ],
   "source": [
    "#Afficher la quantité de valeurs non renseignées dans la colonne \"onsale_web\"\n",
    "erp_onsale_web_nonrenseigne = erp[\"onsale_web\"].isnull().sum()\n",
    "print(\"Quantité de valeurs non renseignées : {}\".format(erp_onsale_web_nonrenseigne))"
   ]
  },
  {
   "cell_type": "code",
   "execution_count": 38,
   "id": "557f6e25-ecff-4ba1-a830-d084cfbb3162",
   "metadata": {},
   "outputs": [
    {
     "name": "stdout",
     "output_type": "stream",
     "text": [
      "Nombre de produits vendus sur le web : 716\n",
      "Pourcentage du nombre de produits vendus sur le web : 86.79\n"
     ]
    }
   ],
   "source": [
    "#Afficher le nombre de produits vendus sur le web\n",
    "erp_onsale_web_produits = (erp[\"onsale_web\"] == 1).sum()\n",
    "print(\"Nombre de produits vendus sur le web : {}\".format(erp_onsale_web_produits))\n",
    "\n",
    "#Afficher le pourcentage du nombre de produits vendus sur le web\n",
    "erp_onsale_web_produits_pourcentage = (erp_onsale_web_produits / len(erp)) * 100\n",
    "erp_onsale_web_produits_pourcentage = round(erp_onsale_web_produits_pourcentage,2)\n",
    "print(\"Pourcentage du nombre de produits vendus sur le web : {}\".format(erp_onsale_web_produits_pourcentage))"
   ]
  },
  {
   "cell_type": "code",
   "execution_count": 39,
   "id": "521805d2-daf8-47a3-b0a4-fd50f33d3787",
   "metadata": {},
   "outputs": [],
   "source": [
    "#Intervertir les colonnes 'stock_quantity' et 'purchase_price' pour plus de lisibilité\n",
    "colonnes = ['product_id', 'price', 'purchase_price', 'onsale_web', 'stock_quantity', 'stock_status']\n",
    "erp = erp[colonnes]"
   ]
  },
  {
   "cell_type": "code",
   "execution_count": 40,
   "id": "d8fa3dc4-7861-4939-a8fb-014e4d0853e8",
   "metadata": {},
   "outputs": [
    {
     "data": {
      "text/html": [
       "<div>\n",
       "<style scoped>\n",
       "    .dataframe tbody tr th:only-of-type {\n",
       "        vertical-align: middle;\n",
       "    }\n",
       "\n",
       "    .dataframe tbody tr th {\n",
       "        vertical-align: top;\n",
       "    }\n",
       "\n",
       "    .dataframe thead th {\n",
       "        text-align: right;\n",
       "    }\n",
       "</style>\n",
       "<table border=\"1\" class=\"dataframe\">\n",
       "  <thead>\n",
       "    <tr style=\"text-align: right;\">\n",
       "      <th></th>\n",
       "      <th>product_id</th>\n",
       "      <th>price</th>\n",
       "      <th>purchase_price</th>\n",
       "      <th>onsale_web</th>\n",
       "      <th>stock_quantity</th>\n",
       "      <th>stock_status</th>\n",
       "    </tr>\n",
       "  </thead>\n",
       "  <tbody>\n",
       "    <tr>\n",
       "      <th>0</th>\n",
       "      <td>3847</td>\n",
       "      <td>24.2</td>\n",
       "      <td>12.88</td>\n",
       "      <td>1</td>\n",
       "      <td>16</td>\n",
       "      <td>instock</td>\n",
       "    </tr>\n",
       "    <tr>\n",
       "      <th>1</th>\n",
       "      <td>3849</td>\n",
       "      <td>34.3</td>\n",
       "      <td>17.54</td>\n",
       "      <td>1</td>\n",
       "      <td>10</td>\n",
       "      <td>instock</td>\n",
       "    </tr>\n",
       "    <tr>\n",
       "      <th>2</th>\n",
       "      <td>3850</td>\n",
       "      <td>20.8</td>\n",
       "      <td>10.64</td>\n",
       "      <td>1</td>\n",
       "      <td>0</td>\n",
       "      <td>outofstock</td>\n",
       "    </tr>\n",
       "    <tr>\n",
       "      <th>3</th>\n",
       "      <td>4032</td>\n",
       "      <td>14.1</td>\n",
       "      <td>6.92</td>\n",
       "      <td>1</td>\n",
       "      <td>26</td>\n",
       "      <td>instock</td>\n",
       "    </tr>\n",
       "    <tr>\n",
       "      <th>4</th>\n",
       "      <td>4039</td>\n",
       "      <td>46.0</td>\n",
       "      <td>23.77</td>\n",
       "      <td>1</td>\n",
       "      <td>3</td>\n",
       "      <td>instock</td>\n",
       "    </tr>\n",
       "  </tbody>\n",
       "</table>\n",
       "</div>"
      ],
      "text/plain": [
       "   product_id  price  purchase_price  onsale_web  stock_quantity stock_status\n",
       "0        3847   24.2           12.88           1              16      instock\n",
       "1        3849   34.3           17.54           1              10      instock\n",
       "2        3850   20.8           10.64           1               0   outofstock\n",
       "3        4032   14.1            6.92           1              26      instock\n",
       "4        4039   46.0           23.77           1               3      instock"
      ]
     },
     "execution_count": 40,
     "metadata": {},
     "output_type": "execute_result"
    }
   ],
   "source": [
    "#Affichage du dataset\n",
    "erp.head()"
   ]
  },
  {
   "cell_type": "markdown",
   "id": "fd44df46-c4e3-4463-a290-774ecd0c308c",
   "metadata": {
    "jp-MarkdownHeadingCollapsed": true
   },
   "source": [
    "<div style=\"border: 1px solid RGB(51,165,182);\" >\n",
    "<h3 style=\"margin: auto; padding: 20px; color: RGB(51,165,182); \">2.1.4 - Analyse de la variable PRIX D'ACHAT</h3>\n",
    "</div>"
   ]
  },
  {
   "cell_type": "code",
   "execution_count": 41,
   "id": "557c25bf-c73c-46e7-b979-6e0fb57c24c2",
   "metadata": {},
   "outputs": [],
   "source": [
    "######################\n",
    "##  purchase_price  ##\n",
    "######################"
   ]
  },
  {
   "cell_type": "code",
   "execution_count": 42,
   "id": "38f45b53-e1b9-48ed-81f3-b5200664604f",
   "metadata": {},
   "outputs": [
    {
     "name": "stdout",
     "output_type": "stream",
     "text": [
      "Quantité de stock non renseignée : 0\n"
     ]
    }
   ],
   "source": [
    "#Afficher la quantité de stock non renseignée dans la colonne \"purchase_price\"\n",
    "erp_purchase_price_nonrenseigne = erp[\"purchase_price\"].isnull().sum()\n",
    "print(\"Quantité de stock non renseignée : {}\".format(erp_purchase_price_nonrenseigne))"
   ]
  },
  {
   "cell_type": "code",
   "execution_count": 43,
   "id": "c60b89de-a5d5-49c2-882c-c6b4ee4f80a6",
   "metadata": {},
   "outputs": [
    {
     "name": "stdout",
     "output_type": "stream",
     "text": [
      "Quantité de stock nul : 0\n"
     ]
    }
   ],
   "source": [
    "#Afficher la quantité de stock nul dans la colonne \"purchase_price\"\n",
    "erp_purchase_price_null = (erp[\"purchase_price\"] == 0).sum()\n",
    "print(\"Quantité de stock nul : {}\".format(erp_purchase_price_null))"
   ]
  },
  {
   "cell_type": "code",
   "execution_count": 44,
   "id": "85b20e54-1e78-423d-959c-37611409cc2e",
   "metadata": {},
   "outputs": [
    {
     "name": "stdout",
     "output_type": "stream",
     "text": [
      "Quantité maximum dans la colonne 'purchase_price' : 137.81\n"
     ]
    }
   ],
   "source": [
    "#Afficher la quantité maximum de la colonne \"purchase_price\"\n",
    "erp_purchase_price_max = erp['purchase_price'].max()\n",
    "print(\"Quantité maximum dans la colonne 'purchase_price' : {}\".format(erp_purchase_price_max))"
   ]
  },
  {
   "cell_type": "code",
   "execution_count": 45,
   "id": "9b014955-7818-4312-aa3d-13baa2e61559",
   "metadata": {},
   "outputs": [
    {
     "name": "stdout",
     "output_type": "stream",
     "text": [
      "Quantité minimum dans la colonne 'stock_quantity' : 2.74\n"
     ]
    }
   ],
   "source": [
    "#Afficher la quantité minimum de la colonne \"purchase_price\"\n",
    "erp_purchase_price_min = erp['purchase_price'].min()\n",
    "print(\"Quantité minimum dans la colonne 'stock_quantity' : {}\".format(erp_purchase_price_min))"
   ]
  },
  {
   "cell_type": "markdown",
   "id": "63ea5cbd",
   "metadata": {},
   "source": [
    "<div style=\"font-size: 18px;\">Pour le fichier erp, nous avons <strong>825 lignes de produits</strong>. <br>\n",
    "Nous avons corrigé :<br>\n",
    "- 2 erreurs de <strong>stock_status</strong> qui ne correpondaient pas au <strong>stock_quantity</strong><br>\n",
    "- 2 erreurs de <strong>stock_quantity</strong> négatifs, remplacés par des stock à 0<br>\n",
    "- 3 erreurs <strong>price</strong> négatifs, remplacés par des NaN<br>\n",
    "716 produits sont vendus sur le web.\n",
    "</div>"
   ]
  },
  {
   "cell_type": "markdown",
   "id": "a550f996",
   "metadata": {},
   "source": [
    "<div style=\"border: 1px solid RGB(51,165,182);\" >\n",
    "<h3 style=\"margin: auto; padding: 20px; color: RGB(51,165,182); \">2.2 - Analyse exploratoire du fichier web.xlsx</h3>\n",
    "</div>\n",
    " "
   ]
  },
  {
   "cell_type": "code",
   "execution_count": 46,
   "id": "bb7e292c",
   "metadata": {},
   "outputs": [
    {
     "name": "stdout",
     "output_type": "stream",
     "text": [
      "Le tableau comporte 1513 observation(s) ou article(s)\n",
      "Le tableau comporte 29 colonne(s)\n"
     ]
    }
   ],
   "source": [
    "#Afficher les dimensions du dataset\n",
    "print(\"Le tableau comporte {} observation(s) ou article(s)\".format(web.shape[0]))\n",
    "print(\"Le tableau comporte {} colonne(s)\".format(web.shape[1]))"
   ]
  },
  {
   "cell_type": "code",
   "execution_count": 47,
   "id": "0b70a8da",
   "metadata": {},
   "outputs": [
    {
     "name": "stdout",
     "output_type": "stream",
     "text": [
      "Le tableau comporte 29 colonne(s)\n",
      "Voici la nature de données de chacune des colonnes : sku                              object\n",
      "virtual                           int64\n",
      "downloadable                      int64\n",
      "rating_count                      int64\n",
      "average_rating                  float64\n",
      "total_sales                     float64\n",
      "tax_status                       object\n",
      "tax_class                       float64\n",
      "post_author                     float64\n",
      "post_date                datetime64[ns]\n",
      "post_date_gmt            datetime64[ns]\n",
      "post_content                    float64\n",
      "product_type                     object\n",
      "post_title                       object\n",
      "post_excerpt                     object\n",
      "post_status                      object\n",
      "comment_status                   object\n",
      "ping_status                      object\n",
      "post_password                   float64\n",
      "post_name                        object\n",
      "post_modified            datetime64[ns]\n",
      "post_modified_gmt        datetime64[ns]\n",
      "post_content_filtered           float64\n",
      "post_parent                     float64\n",
      "guid                             object\n",
      "menu_order                      float64\n",
      "post_type                        object\n",
      "post_mime_type                   object\n",
      "comment_count                   float64\n",
      "dtype: object\n",
      "Voici le nombre de valeurs présentes dans chacune des colonnes : sku                      1428\n",
      "virtual                  1513\n",
      "downloadable             1513\n",
      "rating_count             1513\n",
      "average_rating           1430\n",
      "total_sales              1430\n",
      "tax_status                716\n",
      "tax_class                   0\n",
      "post_author              1430\n",
      "post_date                1430\n",
      "post_date_gmt            1430\n",
      "post_content                0\n",
      "product_type             1429\n",
      "post_title               1430\n",
      "post_excerpt              716\n",
      "post_status              1430\n",
      "comment_status           1430\n",
      "ping_status              1430\n",
      "post_password               0\n",
      "post_name                1430\n",
      "post_modified            1430\n",
      "post_modified_gmt        1430\n",
      "post_content_filtered       0\n",
      "post_parent              1430\n",
      "guid                     1430\n",
      "menu_order               1430\n",
      "post_type                1430\n",
      "post_mime_type            714\n",
      "comment_count            1430\n",
      "dtype: int64\n"
     ]
    }
   ],
   "source": [
    "#Consulter le nombre de colonnes\n",
    "print(\"Le tableau comporte {} colonne(s)\".format(web.shape[1]))\n",
    "\n",
    "#La nature des données dans chacune des colonnes\n",
    "web_nature_donnees = web.dtypes\n",
    "print(\"Voici la nature de données de chacune des colonnes :\", web_nature_donnees)\n",
    "\n",
    "#Le nombre de valeurs présentes dans chacune des colonnes\n",
    "web_nbre_valeurs_colonnes = web.count()\n",
    "print(\"Voici le nombre de valeurs présentes dans chacune des colonnes :\", web_nbre_valeurs_colonnes)"
   ]
  },
  {
   "cell_type": "code",
   "execution_count": 48,
   "id": "75471a60-3aa0-4a85-a69f-c886092964a6",
   "metadata": {},
   "outputs": [
    {
     "name": "stdout",
     "output_type": "stream",
     "text": [
      "Nombre de valeurs uniques pour chaque colonne : {} sku                       714\n",
      "virtual                     1\n",
      "downloadable                1\n",
      "rating_count                1\n",
      "average_rating              1\n",
      "total_sales                29\n",
      "tax_status                  1\n",
      "tax_class                   0\n",
      "post_author                 2\n",
      "post_date                 716\n",
      "post_date_gmt             716\n",
      "post_content                0\n",
      "product_type                7\n",
      "post_title                713\n",
      "post_excerpt              679\n",
      "post_status                 1\n",
      "comment_status              1\n",
      "ping_status                 1\n",
      "post_password               0\n",
      "post_name                 716\n",
      "post_modified             589\n",
      "post_modified_gmt         589\n",
      "post_content_filtered       0\n",
      "post_parent                 1\n",
      "guid                     1430\n",
      "menu_order                  1\n",
      "post_type                   2\n",
      "post_mime_type              1\n",
      "comment_count               1\n",
      "dtype: int64\n"
     ]
    }
   ],
   "source": [
    "#Afficher le nombre de valeurs uniques pour chaque colonne\n",
    "web_valeurs_uniques = web.nunique()\n",
    "print(\"Nombre de valeurs uniques pour chaque colonne : {}\", web_valeurs_uniques)"
   ]
  },
  {
   "cell_type": "code",
   "execution_count": 49,
   "id": "b0d2f149",
   "metadata": {},
   "outputs": [
    {
     "name": "stdout",
     "output_type": "stream",
     "text": [
      "Liste des colonnes inutiles :  ['tax_class', 'post_content', 'post_password', 'post_content_filtered', 'virtual', 'downloadable', 'rating_count', 'average_rating', 'tax_status', 'post_status', 'comment_status', 'ping_status', 'post_parent', 'menu_order', 'post_mime_type', 'comment_count']\n"
     ]
    }
   ],
   "source": [
    "#Selon vous, quelles sont les colonnes à conserver ?\n",
    "##Les colonnes vides ou avec une seule valeur unique sont inutiles.\n",
    "\n",
    "web_colonnes_vides = web.columns[web.isna().all()].tolist()\n",
    "\n",
    "web_colonnes_valeur_unique = web.columns[web.nunique() == 1].tolist()\n",
    "\n",
    "web_colonnes_inutiles = web_colonnes_vides + web_colonnes_valeur_unique\n",
    "\n",
    "print(\"Liste des colonnes inutiles : \", web_colonnes_inutiles)"
   ]
  },
  {
   "cell_type": "code",
   "execution_count": 50,
   "id": "30b2196b",
   "metadata": {},
   "outputs": [],
   "source": [
    "#Supprimer ces colonnes\n",
    "web.drop(columns=web_colonnes_inutiles, inplace=True)"
   ]
  },
  {
   "cell_type": "code",
   "execution_count": 51,
   "id": "80614794-7b0d-46ba-b7b1-ac6cdb811fcd",
   "metadata": {},
   "outputs": [],
   "source": [
    "#Supprimer les colonnes 'post_modified' et 'post_date' pour ne garder que 'post_modified_gmt' et 'post_date_gmt', plus simples et logiques\n",
    "web.drop(columns=['post_modified','post_date'], inplace=True)"
   ]
  },
  {
   "cell_type": "code",
   "execution_count": 52,
   "id": "50abe52a-d45a-4f17-b02b-8ea5a9c14770",
   "metadata": {},
   "outputs": [],
   "source": [
    "#Intervertir les colonnes pour plus de lisibilité\n",
    "colonnes = ['sku', 'total_sales', 'product_type', 'post_title', 'post_name', 'post_date_gmt', 'post_modified_gmt', 'post_author', 'post_type', 'post_excerpt', 'guid']\n",
    "web = web[colonnes]"
   ]
  },
  {
   "cell_type": "code",
   "execution_count": 53,
   "id": "c053fac6-dbf7-46bc-ab7b-e632058bbb05",
   "metadata": {
    "scrolled": true
   },
   "outputs": [
    {
     "data": {
      "text/html": [
       "<div>\n",
       "<style scoped>\n",
       "    .dataframe tbody tr th:only-of-type {\n",
       "        vertical-align: middle;\n",
       "    }\n",
       "\n",
       "    .dataframe tbody tr th {\n",
       "        vertical-align: top;\n",
       "    }\n",
       "\n",
       "    .dataframe thead th {\n",
       "        text-align: right;\n",
       "    }\n",
       "</style>\n",
       "<table border=\"1\" class=\"dataframe\">\n",
       "  <thead>\n",
       "    <tr style=\"text-align: right;\">\n",
       "      <th></th>\n",
       "      <th>sku</th>\n",
       "      <th>total_sales</th>\n",
       "      <th>product_type</th>\n",
       "      <th>post_title</th>\n",
       "      <th>post_name</th>\n",
       "      <th>post_date_gmt</th>\n",
       "      <th>post_modified_gmt</th>\n",
       "      <th>post_author</th>\n",
       "      <th>post_type</th>\n",
       "      <th>post_excerpt</th>\n",
       "      <th>guid</th>\n",
       "    </tr>\n",
       "  </thead>\n",
       "  <tbody>\n",
       "    <tr>\n",
       "      <th>0</th>\n",
       "      <td>11862</td>\n",
       "      <td>3.0</td>\n",
       "      <td>Vin</td>\n",
       "      <td>Gilles Robin Hermitage Rouge 2012</td>\n",
       "      <td>gilles-robin-hermitage-2012</td>\n",
       "      <td>2018-02-12 12:46:23</td>\n",
       "      <td>2019-01-31 11:12:56</td>\n",
       "      <td>2.0</td>\n",
       "      <td>attachment</td>\n",
       "      <td>NaN</td>\n",
       "      <td>https://www.bottle-neck.fr/wp-content/uploads/...</td>\n",
       "    </tr>\n",
       "    <tr>\n",
       "      <th>1</th>\n",
       "      <td>16057</td>\n",
       "      <td>5.0</td>\n",
       "      <td>Vin</td>\n",
       "      <td>Domaine Pellé Sancerre Rouge La Croix Au Garde...</td>\n",
       "      <td>pelle-sancerre-rouge-la-croix-au-garde-2017</td>\n",
       "      <td>2018-04-17 13:29:17</td>\n",
       "      <td>2020-07-07 08:05:02</td>\n",
       "      <td>2.0</td>\n",
       "      <td>attachment</td>\n",
       "      <td>NaN</td>\n",
       "      <td>https://www.bottle-neck.fr/wp-content/uploads/...</td>\n",
       "    </tr>\n",
       "    <tr>\n",
       "      <th>2</th>\n",
       "      <td>14692</td>\n",
       "      <td>5.0</td>\n",
       "      <td>Vin</td>\n",
       "      <td>Château Fonréaud Bordeaux Blanc Le Cygne 2016</td>\n",
       "      <td>fonreaud-bordeaux-blanc-le-cygne-2016</td>\n",
       "      <td>2019-03-19 09:06:47</td>\n",
       "      <td>2020-04-25 19:40:31</td>\n",
       "      <td>2.0</td>\n",
       "      <td>product</td>\n",
       "      <td>&lt;div&gt;Grâce à la complémentarité des 3 cépages ...</td>\n",
       "      <td>https://www.bottle-neck.fr/?post_type=product&amp;...</td>\n",
       "    </tr>\n",
       "    <tr>\n",
       "      <th>3</th>\n",
       "      <td>16295</td>\n",
       "      <td>14.0</td>\n",
       "      <td>Vin</td>\n",
       "      <td>Moulin de Gassac IGP Pays d'Hérault Guilhem Ro...</td>\n",
       "      <td>moulin-de-gassac-igp-pays-dherault-guilhem-ros...</td>\n",
       "      <td>2018-02-15 13:05:06</td>\n",
       "      <td>2020-08-27 16:55:03</td>\n",
       "      <td>2.0</td>\n",
       "      <td>attachment</td>\n",
       "      <td>NaN</td>\n",
       "      <td>https://www.bottle-neck.fr/wp-content/uploads/...</td>\n",
       "    </tr>\n",
       "    <tr>\n",
       "      <th>4</th>\n",
       "      <td>15328</td>\n",
       "      <td>2.0</td>\n",
       "      <td>Vin</td>\n",
       "      <td>Agnès Levet Côte Rôtie Maestria 2017</td>\n",
       "      <td>agnes-levet-cote-rotie-maestria-2017</td>\n",
       "      <td>2019-03-27 17:05:09</td>\n",
       "      <td>2020-07-25 13:45:02</td>\n",
       "      <td>2.0</td>\n",
       "      <td>product</td>\n",
       "      <td>&lt;span style=\"float: none; background-color: tr...</td>\n",
       "      <td>https://www.bottle-neck.fr/?post_type=product&amp;...</td>\n",
       "    </tr>\n",
       "  </tbody>\n",
       "</table>\n",
       "</div>"
      ],
      "text/plain": [
       "     sku  total_sales product_type  \\\n",
       "0  11862          3.0          Vin   \n",
       "1  16057          5.0          Vin   \n",
       "2  14692          5.0          Vin   \n",
       "3  16295         14.0          Vin   \n",
       "4  15328          2.0          Vin   \n",
       "\n",
       "                                          post_title  \\\n",
       "0                  Gilles Robin Hermitage Rouge 2012   \n",
       "1  Domaine Pellé Sancerre Rouge La Croix Au Garde...   \n",
       "2      Château Fonréaud Bordeaux Blanc Le Cygne 2016   \n",
       "3  Moulin de Gassac IGP Pays d'Hérault Guilhem Ro...   \n",
       "4               Agnès Levet Côte Rôtie Maestria 2017   \n",
       "\n",
       "                                           post_name       post_date_gmt  \\\n",
       "0                        gilles-robin-hermitage-2012 2018-02-12 12:46:23   \n",
       "1        pelle-sancerre-rouge-la-croix-au-garde-2017 2018-04-17 13:29:17   \n",
       "2              fonreaud-bordeaux-blanc-le-cygne-2016 2019-03-19 09:06:47   \n",
       "3  moulin-de-gassac-igp-pays-dherault-guilhem-ros... 2018-02-15 13:05:06   \n",
       "4               agnes-levet-cote-rotie-maestria-2017 2019-03-27 17:05:09   \n",
       "\n",
       "    post_modified_gmt  post_author   post_type  \\\n",
       "0 2019-01-31 11:12:56          2.0  attachment   \n",
       "1 2020-07-07 08:05:02          2.0  attachment   \n",
       "2 2020-04-25 19:40:31          2.0     product   \n",
       "3 2020-08-27 16:55:03          2.0  attachment   \n",
       "4 2020-07-25 13:45:02          2.0     product   \n",
       "\n",
       "                                        post_excerpt  \\\n",
       "0                                                NaN   \n",
       "1                                                NaN   \n",
       "2  <div>Grâce à la complémentarité des 3 cépages ...   \n",
       "3                                                NaN   \n",
       "4  <span style=\"float: none; background-color: tr...   \n",
       "\n",
       "                                                guid  \n",
       "0  https://www.bottle-neck.fr/wp-content/uploads/...  \n",
       "1  https://www.bottle-neck.fr/wp-content/uploads/...  \n",
       "2  https://www.bottle-neck.fr/?post_type=product&...  \n",
       "3  https://www.bottle-neck.fr/wp-content/uploads/...  \n",
       "4  https://www.bottle-neck.fr/?post_type=product&...  "
      ]
     },
     "execution_count": 53,
     "metadata": {},
     "output_type": "execute_result"
    }
   ],
   "source": [
    "#Afficher le dataset\n",
    "web.head()"
   ]
  },
  {
   "cell_type": "code",
   "execution_count": 54,
   "id": "b04fc4f1-dc44-4ec5-becd-b645200b8997",
   "metadata": {
    "scrolled": true
   },
   "outputs": [
    {
     "data": {
      "text/html": [
       "<div>\n",
       "<style scoped>\n",
       "    .dataframe tbody tr th:only-of-type {\n",
       "        vertical-align: middle;\n",
       "    }\n",
       "\n",
       "    .dataframe tbody tr th {\n",
       "        vertical-align: top;\n",
       "    }\n",
       "\n",
       "    .dataframe thead th {\n",
       "        text-align: right;\n",
       "    }\n",
       "</style>\n",
       "<table border=\"1\" class=\"dataframe\">\n",
       "  <thead>\n",
       "    <tr style=\"text-align: right;\">\n",
       "      <th></th>\n",
       "      <th>total_sales</th>\n",
       "      <th>post_date_gmt</th>\n",
       "      <th>post_modified_gmt</th>\n",
       "      <th>post_author</th>\n",
       "    </tr>\n",
       "  </thead>\n",
       "  <tbody>\n",
       "    <tr>\n",
       "      <th>count</th>\n",
       "      <td>1430.000000</td>\n",
       "      <td>1430</td>\n",
       "      <td>1430</td>\n",
       "      <td>1430.000000</td>\n",
       "    </tr>\n",
       "    <tr>\n",
       "      <th>mean</th>\n",
       "      <td>8.223077</td>\n",
       "      <td>2018-08-22 01:53:30.097902080</td>\n",
       "      <td>2020-06-20 12:06:02.509090816</td>\n",
       "      <td>1.998601</td>\n",
       "    </tr>\n",
       "    <tr>\n",
       "      <th>min</th>\n",
       "      <td>-56.000000</td>\n",
       "      <td>2018-02-08 11:58:52</td>\n",
       "      <td>2018-02-20 14:19:23</td>\n",
       "      <td>1.000000</td>\n",
       "    </tr>\n",
       "    <tr>\n",
       "      <th>25%</th>\n",
       "      <td>5.000000</td>\n",
       "      <td>2018-02-27 19:01:12.500000</td>\n",
       "      <td>2020-06-18 08:45:05.249999872</td>\n",
       "      <td>2.000000</td>\n",
       "    </tr>\n",
       "    <tr>\n",
       "      <th>50%</th>\n",
       "      <td>8.000000</td>\n",
       "      <td>2018-04-19 12:56:05</td>\n",
       "      <td>2020-08-04 07:30:06</td>\n",
       "      <td>2.000000</td>\n",
       "    </tr>\n",
       "    <tr>\n",
       "      <th>75%</th>\n",
       "      <td>11.000000</td>\n",
       "      <td>2019-01-31 13:35:47</td>\n",
       "      <td>2020-08-25 08:32:32</td>\n",
       "      <td>2.000000</td>\n",
       "    </tr>\n",
       "    <tr>\n",
       "      <th>max</th>\n",
       "      <td>122.000000</td>\n",
       "      <td>2020-07-20 09:00:00</td>\n",
       "      <td>2020-08-27 16:55:03</td>\n",
       "      <td>2.000000</td>\n",
       "    </tr>\n",
       "    <tr>\n",
       "      <th>std</th>\n",
       "      <td>6.721899</td>\n",
       "      <td>NaN</td>\n",
       "      <td>NaN</td>\n",
       "      <td>0.037385</td>\n",
       "    </tr>\n",
       "  </tbody>\n",
       "</table>\n",
       "</div>"
      ],
      "text/plain": [
       "       total_sales                  post_date_gmt  \\\n",
       "count  1430.000000                           1430   \n",
       "mean      8.223077  2018-08-22 01:53:30.097902080   \n",
       "min     -56.000000            2018-02-08 11:58:52   \n",
       "25%       5.000000     2018-02-27 19:01:12.500000   \n",
       "50%       8.000000            2018-04-19 12:56:05   \n",
       "75%      11.000000            2019-01-31 13:35:47   \n",
       "max     122.000000            2020-07-20 09:00:00   \n",
       "std       6.721899                            NaN   \n",
       "\n",
       "                   post_modified_gmt  post_author  \n",
       "count                           1430  1430.000000  \n",
       "mean   2020-06-20 12:06:02.509090816     1.998601  \n",
       "min              2018-02-20 14:19:23     1.000000  \n",
       "25%    2020-06-18 08:45:05.249999872     2.000000  \n",
       "50%              2020-08-04 07:30:06     2.000000  \n",
       "75%              2020-08-25 08:32:32     2.000000  \n",
       "max              2020-08-27 16:55:03     2.000000  \n",
       "std                              NaN     0.037385  "
      ]
     },
     "execution_count": 54,
     "metadata": {},
     "output_type": "execute_result"
    }
   ],
   "source": [
    "#Afficher un aperçu rapide des données\n",
    "web.describe()"
   ]
  },
  {
   "cell_type": "markdown",
   "id": "c79caae4-c5f0-4aaa-8191-b11597a06b58",
   "metadata": {
    "jp-MarkdownHeadingCollapsed": true
   },
   "source": [
    "<div style=\"border: 1px solid RGB(51,165,182);\" >\n",
    "<h3 style=\"margin: auto; padding: 20px; color: RGB(51,165,182); \">2.2.0 - Analyse exploratoire de chaque variable du fichier web.xlsx</h3>\n",
    "</div>"
   ]
  },
  {
   "cell_type": "markdown",
   "id": "b2afd91b-adb2-48a3-a1f2-f5bf6e7b9855",
   "metadata": {},
   "source": [
    "<div style=\"border: 1px solid RGB(51,165,182);\" >\n",
    "<h3 style=\"margin: auto; padding: 20px; color: RGB(51,165,182); \">2.2.1 - Analyse de la variable SKU</h3>\n",
    "</div>"
   ]
  },
  {
   "cell_type": "code",
   "execution_count": 55,
   "id": "a488aa1c-9fe4-414d-83a6-e66c2fdeeb8f",
   "metadata": {},
   "outputs": [],
   "source": [
    "######################\n",
    "######    sku   ######\n",
    "######################"
   ]
  },
  {
   "cell_type": "code",
   "execution_count": 56,
   "id": "fe969408-1ff0-426d-9618-6f130b562024",
   "metadata": {
    "scrolled": true
   },
   "outputs": [
    {
     "name": "stdout",
     "output_type": "stream",
     "text": [
      "Lignes sans code article dans la colonne 'sku' :\n"
     ]
    },
    {
     "data": {
      "text/html": [
       "<div>\n",
       "<style scoped>\n",
       "    .dataframe tbody tr th:only-of-type {\n",
       "        vertical-align: middle;\n",
       "    }\n",
       "\n",
       "    .dataframe tbody tr th {\n",
       "        vertical-align: top;\n",
       "    }\n",
       "\n",
       "    .dataframe thead th {\n",
       "        text-align: right;\n",
       "    }\n",
       "</style>\n",
       "<table border=\"1\" class=\"dataframe\">\n",
       "  <thead>\n",
       "    <tr style=\"text-align: right;\">\n",
       "      <th></th>\n",
       "      <th>sku</th>\n",
       "      <th>total_sales</th>\n",
       "      <th>product_type</th>\n",
       "      <th>post_title</th>\n",
       "      <th>post_name</th>\n",
       "      <th>post_date_gmt</th>\n",
       "      <th>post_modified_gmt</th>\n",
       "      <th>post_author</th>\n",
       "      <th>post_type</th>\n",
       "      <th>post_excerpt</th>\n",
       "      <th>guid</th>\n",
       "    </tr>\n",
       "  </thead>\n",
       "  <tbody>\n",
       "    <tr>\n",
       "      <th>8</th>\n",
       "      <td>NaN</td>\n",
       "      <td>NaN</td>\n",
       "      <td>NaN</td>\n",
       "      <td>NaN</td>\n",
       "      <td>NaN</td>\n",
       "      <td>NaT</td>\n",
       "      <td>NaT</td>\n",
       "      <td>NaN</td>\n",
       "      <td>NaN</td>\n",
       "      <td>NaN</td>\n",
       "      <td>NaN</td>\n",
       "    </tr>\n",
       "    <tr>\n",
       "      <th>20</th>\n",
       "      <td>NaN</td>\n",
       "      <td>NaN</td>\n",
       "      <td>NaN</td>\n",
       "      <td>NaN</td>\n",
       "      <td>NaN</td>\n",
       "      <td>NaT</td>\n",
       "      <td>NaT</td>\n",
       "      <td>NaN</td>\n",
       "      <td>NaN</td>\n",
       "      <td>NaN</td>\n",
       "      <td>NaN</td>\n",
       "    </tr>\n",
       "    <tr>\n",
       "      <th>30</th>\n",
       "      <td>NaN</td>\n",
       "      <td>NaN</td>\n",
       "      <td>NaN</td>\n",
       "      <td>NaN</td>\n",
       "      <td>NaN</td>\n",
       "      <td>NaT</td>\n",
       "      <td>NaT</td>\n",
       "      <td>NaN</td>\n",
       "      <td>NaN</td>\n",
       "      <td>NaN</td>\n",
       "      <td>NaN</td>\n",
       "    </tr>\n",
       "    <tr>\n",
       "      <th>37</th>\n",
       "      <td>NaN</td>\n",
       "      <td>NaN</td>\n",
       "      <td>NaN</td>\n",
       "      <td>NaN</td>\n",
       "      <td>NaN</td>\n",
       "      <td>NaT</td>\n",
       "      <td>NaT</td>\n",
       "      <td>NaN</td>\n",
       "      <td>NaN</td>\n",
       "      <td>NaN</td>\n",
       "      <td>NaN</td>\n",
       "    </tr>\n",
       "    <tr>\n",
       "      <th>41</th>\n",
       "      <td>NaN</td>\n",
       "      <td>NaN</td>\n",
       "      <td>NaN</td>\n",
       "      <td>NaN</td>\n",
       "      <td>NaN</td>\n",
       "      <td>NaT</td>\n",
       "      <td>NaT</td>\n",
       "      <td>NaN</td>\n",
       "      <td>NaN</td>\n",
       "      <td>NaN</td>\n",
       "      <td>NaN</td>\n",
       "    </tr>\n",
       "    <tr>\n",
       "      <th>...</th>\n",
       "      <td>...</td>\n",
       "      <td>...</td>\n",
       "      <td>...</td>\n",
       "      <td>...</td>\n",
       "      <td>...</td>\n",
       "      <td>...</td>\n",
       "      <td>...</td>\n",
       "      <td>...</td>\n",
       "      <td>...</td>\n",
       "      <td>...</td>\n",
       "      <td>...</td>\n",
       "    </tr>\n",
       "    <tr>\n",
       "      <th>1384</th>\n",
       "      <td>NaN</td>\n",
       "      <td>NaN</td>\n",
       "      <td>NaN</td>\n",
       "      <td>NaN</td>\n",
       "      <td>NaN</td>\n",
       "      <td>NaT</td>\n",
       "      <td>NaT</td>\n",
       "      <td>NaN</td>\n",
       "      <td>NaN</td>\n",
       "      <td>NaN</td>\n",
       "      <td>NaN</td>\n",
       "    </tr>\n",
       "    <tr>\n",
       "      <th>1429</th>\n",
       "      <td>NaN</td>\n",
       "      <td>NaN</td>\n",
       "      <td>NaN</td>\n",
       "      <td>NaN</td>\n",
       "      <td>NaN</td>\n",
       "      <td>NaT</td>\n",
       "      <td>NaT</td>\n",
       "      <td>NaN</td>\n",
       "      <td>NaN</td>\n",
       "      <td>NaN</td>\n",
       "      <td>NaN</td>\n",
       "    </tr>\n",
       "    <tr>\n",
       "      <th>1432</th>\n",
       "      <td>NaN</td>\n",
       "      <td>NaN</td>\n",
       "      <td>NaN</td>\n",
       "      <td>NaN</td>\n",
       "      <td>NaN</td>\n",
       "      <td>NaT</td>\n",
       "      <td>NaT</td>\n",
       "      <td>NaN</td>\n",
       "      <td>NaN</td>\n",
       "      <td>NaN</td>\n",
       "      <td>NaN</td>\n",
       "    </tr>\n",
       "    <tr>\n",
       "      <th>1445</th>\n",
       "      <td>NaN</td>\n",
       "      <td>NaN</td>\n",
       "      <td>NaN</td>\n",
       "      <td>NaN</td>\n",
       "      <td>NaN</td>\n",
       "      <td>NaT</td>\n",
       "      <td>NaT</td>\n",
       "      <td>NaN</td>\n",
       "      <td>NaN</td>\n",
       "      <td>NaN</td>\n",
       "      <td>NaN</td>\n",
       "    </tr>\n",
       "    <tr>\n",
       "      <th>1457</th>\n",
       "      <td>NaN</td>\n",
       "      <td>NaN</td>\n",
       "      <td>NaN</td>\n",
       "      <td>NaN</td>\n",
       "      <td>NaN</td>\n",
       "      <td>NaT</td>\n",
       "      <td>NaT</td>\n",
       "      <td>NaN</td>\n",
       "      <td>NaN</td>\n",
       "      <td>NaN</td>\n",
       "      <td>NaN</td>\n",
       "    </tr>\n",
       "  </tbody>\n",
       "</table>\n",
       "<p>85 rows × 11 columns</p>\n",
       "</div>"
      ],
      "text/plain": [
       "      sku  total_sales product_type post_title post_name post_date_gmt  \\\n",
       "8     NaN          NaN          NaN        NaN       NaN           NaT   \n",
       "20    NaN          NaN          NaN        NaN       NaN           NaT   \n",
       "30    NaN          NaN          NaN        NaN       NaN           NaT   \n",
       "37    NaN          NaN          NaN        NaN       NaN           NaT   \n",
       "41    NaN          NaN          NaN        NaN       NaN           NaT   \n",
       "...   ...          ...          ...        ...       ...           ...   \n",
       "1384  NaN          NaN          NaN        NaN       NaN           NaT   \n",
       "1429  NaN          NaN          NaN        NaN       NaN           NaT   \n",
       "1432  NaN          NaN          NaN        NaN       NaN           NaT   \n",
       "1445  NaN          NaN          NaN        NaN       NaN           NaT   \n",
       "1457  NaN          NaN          NaN        NaN       NaN           NaT   \n",
       "\n",
       "     post_modified_gmt  post_author post_type post_excerpt guid  \n",
       "8                  NaT          NaN       NaN          NaN  NaN  \n",
       "20                 NaT          NaN       NaN          NaN  NaN  \n",
       "30                 NaT          NaN       NaN          NaN  NaN  \n",
       "37                 NaT          NaN       NaN          NaN  NaN  \n",
       "41                 NaT          NaN       NaN          NaN  NaN  \n",
       "...                ...          ...       ...          ...  ...  \n",
       "1384               NaT          NaN       NaN          NaN  NaN  \n",
       "1429               NaT          NaN       NaN          NaN  NaN  \n",
       "1432               NaT          NaN       NaN          NaN  NaN  \n",
       "1445               NaT          NaN       NaN          NaN  NaN  \n",
       "1457               NaT          NaN       NaN          NaN  NaN  \n",
       "\n",
       "[85 rows x 11 columns]"
      ]
     },
     "execution_count": 56,
     "metadata": {},
     "output_type": "execute_result"
    }
   ],
   "source": [
    "#Identifier et afficher les lignes sans code article dans la colonne 'sku'\n",
    "web_sku_sanscode = web[web['sku'].isnull() | (web['sku'] == '')]\n",
    "\n",
    "print(\"Lignes sans code article dans la colonne 'sku' :\")\n",
    "web_sku_sanscode"
   ]
  },
  {
   "cell_type": "code",
   "execution_count": 57,
   "id": "e41a25a3-28f8-47b8-a37d-2e64a8b259b0",
   "metadata": {},
   "outputs": [
    {
     "name": "stdout",
     "output_type": "stream",
     "text": [
      "Informations détaillées des lignes sans code article :\n",
      "<class 'pandas.core.frame.DataFrame'>\n",
      "Index: 85 entries, 8 to 1457\n",
      "Data columns (total 11 columns):\n",
      " #   Column             Non-Null Count  Dtype         \n",
      "---  ------             --------------  -----         \n",
      " 0   sku                0 non-null      object        \n",
      " 1   total_sales        2 non-null      float64       \n",
      " 2   product_type       2 non-null      object        \n",
      " 3   post_title         2 non-null      object        \n",
      " 4   post_name          2 non-null      object        \n",
      " 5   post_date_gmt      2 non-null      datetime64[ns]\n",
      " 6   post_modified_gmt  2 non-null      datetime64[ns]\n",
      " 7   post_author        2 non-null      float64       \n",
      " 8   post_type          2 non-null      object        \n",
      " 9   post_excerpt       2 non-null      object        \n",
      " 10  guid               2 non-null      object        \n",
      "dtypes: datetime64[ns](2), float64(2), object(7)\n",
      "memory usage: 8.0+ KB\n"
     ]
    }
   ],
   "source": [
    "#Afficher plus de détails sur ces lignes\n",
    "print(\"Informations détaillées des lignes sans code article :\")\n",
    "web_sku_sanscode.info()"
   ]
  },
  {
   "cell_type": "code",
   "execution_count": 58,
   "id": "1bc0fd3c-8f23-47eb-a0a9-609338a2dfe6",
   "metadata": {},
   "outputs": [
    {
     "name": "stdout",
     "output_type": "stream",
     "text": [
      "Lignes pour lesquelles toutes les colonnes (sauf 'sku') sont renseignées :\n"
     ]
    },
    {
     "data": {
      "text/html": [
       "<div>\n",
       "<style scoped>\n",
       "    .dataframe tbody tr th:only-of-type {\n",
       "        vertical-align: middle;\n",
       "    }\n",
       "\n",
       "    .dataframe tbody tr th {\n",
       "        vertical-align: top;\n",
       "    }\n",
       "\n",
       "    .dataframe thead th {\n",
       "        text-align: right;\n",
       "    }\n",
       "</style>\n",
       "<table border=\"1\" class=\"dataframe\">\n",
       "  <thead>\n",
       "    <tr style=\"text-align: right;\">\n",
       "      <th></th>\n",
       "      <th>sku</th>\n",
       "      <th>total_sales</th>\n",
       "      <th>product_type</th>\n",
       "      <th>post_title</th>\n",
       "      <th>post_name</th>\n",
       "      <th>post_date_gmt</th>\n",
       "      <th>post_modified_gmt</th>\n",
       "      <th>post_author</th>\n",
       "      <th>post_type</th>\n",
       "      <th>post_excerpt</th>\n",
       "      <th>guid</th>\n",
       "    </tr>\n",
       "  </thead>\n",
       "  <tbody>\n",
       "    <tr>\n",
       "      <th>1084</th>\n",
       "      <td>NaN</td>\n",
       "      <td>-56.0</td>\n",
       "      <td>Vin</td>\n",
       "      <td>Pierre Jean Villa Condrieu Jardin Suspendu 2018</td>\n",
       "      <td>pierre-jean-villa-condrieu-suspendu-2018</td>\n",
       "      <td>2018-08-08 09:23:43</td>\n",
       "      <td>2019-11-02 12:24:01</td>\n",
       "      <td>2.0</td>\n",
       "      <td>product</td>\n",
       "      <td>&lt;span id=\"u1194-83\"&gt;Le nez séduit par ses parf...</td>\n",
       "      <td>https://www.bottle-neck.fr/?post_type=product&amp;...</td>\n",
       "    </tr>\n",
       "    <tr>\n",
       "      <th>1087</th>\n",
       "      <td>NaN</td>\n",
       "      <td>-17.0</td>\n",
       "      <td>Vin</td>\n",
       "      <td>Pierre Jean Villa Côte Rôtie Fongeant 2017</td>\n",
       "      <td>pierre-jean-villa-cote-rotie-fongeant-2017</td>\n",
       "      <td>2018-07-31 10:07:23</td>\n",
       "      <td>2019-11-02 12:24:15</td>\n",
       "      <td>2.0</td>\n",
       "      <td>product</td>\n",
       "      <td>Fongeant 2017 explose sur un fruit brillant, p...</td>\n",
       "      <td>https://www.bottle-neck.fr/?post_type=product&amp;...</td>\n",
       "    </tr>\n",
       "  </tbody>\n",
       "</table>\n",
       "</div>"
      ],
      "text/plain": [
       "      sku  total_sales product_type  \\\n",
       "1084  NaN        -56.0          Vin   \n",
       "1087  NaN        -17.0          Vin   \n",
       "\n",
       "                                           post_title  \\\n",
       "1084  Pierre Jean Villa Condrieu Jardin Suspendu 2018   \n",
       "1087       Pierre Jean Villa Côte Rôtie Fongeant 2017   \n",
       "\n",
       "                                       post_name       post_date_gmt  \\\n",
       "1084    pierre-jean-villa-condrieu-suspendu-2018 2018-08-08 09:23:43   \n",
       "1087  pierre-jean-villa-cote-rotie-fongeant-2017 2018-07-31 10:07:23   \n",
       "\n",
       "       post_modified_gmt  post_author post_type  \\\n",
       "1084 2019-11-02 12:24:01          2.0   product   \n",
       "1087 2019-11-02 12:24:15          2.0   product   \n",
       "\n",
       "                                           post_excerpt  \\\n",
       "1084  <span id=\"u1194-83\">Le nez séduit par ses parf...   \n",
       "1087  Fongeant 2017 explose sur un fruit brillant, p...   \n",
       "\n",
       "                                                   guid  \n",
       "1084  https://www.bottle-neck.fr/?post_type=product&...  \n",
       "1087  https://www.bottle-neck.fr/?post_type=product&...  "
      ]
     },
     "execution_count": 58,
     "metadata": {},
     "output_type": "execute_result"
    }
   ],
   "source": [
    "#2 articles n'ont pas d'id mais les autres colonnes sont renseignées\n",
    "#Afficher uniquement les lignes où toutes les colonnes sauf 'sku' sont non nulles\n",
    "web_sku_sanscode_non_nulles = web_sku_sanscode.dropna(subset=web_sku_sanscode.columns[1:])\n",
    "\n",
    "print(\"Lignes pour lesquelles toutes les colonnes (sauf 'sku') sont renseignées :\")\n",
    "web_sku_sanscode_non_nulles"
   ]
  },
  {
   "cell_type": "code",
   "execution_count": 59,
   "id": "e8ffc24f",
   "metadata": {},
   "outputs": [
    {
     "data": {
      "text/html": [
       "<div>\n",
       "<style scoped>\n",
       "    .dataframe tbody tr th:only-of-type {\n",
       "        vertical-align: middle;\n",
       "    }\n",
       "\n",
       "    .dataframe tbody tr th {\n",
       "        vertical-align: top;\n",
       "    }\n",
       "\n",
       "    .dataframe thead th {\n",
       "        text-align: right;\n",
       "    }\n",
       "</style>\n",
       "<table border=\"1\" class=\"dataframe\">\n",
       "  <thead>\n",
       "    <tr style=\"text-align: right;\">\n",
       "      <th></th>\n",
       "      <th>total_sales</th>\n",
       "      <th>post_date_gmt</th>\n",
       "      <th>post_modified_gmt</th>\n",
       "      <th>post_author</th>\n",
       "    </tr>\n",
       "  </thead>\n",
       "  <tbody>\n",
       "    <tr>\n",
       "      <th>count</th>\n",
       "      <td>1430.000000</td>\n",
       "      <td>1430</td>\n",
       "      <td>1430</td>\n",
       "      <td>1430.000000</td>\n",
       "    </tr>\n",
       "    <tr>\n",
       "      <th>mean</th>\n",
       "      <td>8.223077</td>\n",
       "      <td>2018-08-22 01:53:30.097902080</td>\n",
       "      <td>2020-06-20 12:06:02.509090816</td>\n",
       "      <td>1.998601</td>\n",
       "    </tr>\n",
       "    <tr>\n",
       "      <th>min</th>\n",
       "      <td>-56.000000</td>\n",
       "      <td>2018-02-08 11:58:52</td>\n",
       "      <td>2018-02-20 14:19:23</td>\n",
       "      <td>1.000000</td>\n",
       "    </tr>\n",
       "    <tr>\n",
       "      <th>25%</th>\n",
       "      <td>5.000000</td>\n",
       "      <td>2018-02-27 19:01:12.500000</td>\n",
       "      <td>2020-06-18 08:45:05.249999872</td>\n",
       "      <td>2.000000</td>\n",
       "    </tr>\n",
       "    <tr>\n",
       "      <th>50%</th>\n",
       "      <td>8.000000</td>\n",
       "      <td>2018-04-19 12:56:05</td>\n",
       "      <td>2020-08-04 07:30:06</td>\n",
       "      <td>2.000000</td>\n",
       "    </tr>\n",
       "    <tr>\n",
       "      <th>75%</th>\n",
       "      <td>11.000000</td>\n",
       "      <td>2019-01-31 13:35:47</td>\n",
       "      <td>2020-08-25 08:32:32</td>\n",
       "      <td>2.000000</td>\n",
       "    </tr>\n",
       "    <tr>\n",
       "      <th>max</th>\n",
       "      <td>122.000000</td>\n",
       "      <td>2020-07-20 09:00:00</td>\n",
       "      <td>2020-08-27 16:55:03</td>\n",
       "      <td>2.000000</td>\n",
       "    </tr>\n",
       "    <tr>\n",
       "      <th>std</th>\n",
       "      <td>6.721899</td>\n",
       "      <td>NaN</td>\n",
       "      <td>NaN</td>\n",
       "      <td>0.037385</td>\n",
       "    </tr>\n",
       "  </tbody>\n",
       "</table>\n",
       "</div>"
      ],
      "text/plain": [
       "       total_sales                  post_date_gmt  \\\n",
       "count  1430.000000                           1430   \n",
       "mean      8.223077  2018-08-22 01:53:30.097902080   \n",
       "min     -56.000000            2018-02-08 11:58:52   \n",
       "25%       5.000000     2018-02-27 19:01:12.500000   \n",
       "50%       8.000000            2018-04-19 12:56:05   \n",
       "75%      11.000000            2019-01-31 13:35:47   \n",
       "max     122.000000            2020-07-20 09:00:00   \n",
       "std       6.721899                            NaN   \n",
       "\n",
       "                   post_modified_gmt  post_author  \n",
       "count                           1430  1430.000000  \n",
       "mean   2020-06-20 12:06:02.509090816     1.998601  \n",
       "min              2018-02-20 14:19:23     1.000000  \n",
       "25%    2020-06-18 08:45:05.249999872     2.000000  \n",
       "50%              2020-08-04 07:30:06     2.000000  \n",
       "75%              2020-08-25 08:32:32     2.000000  \n",
       "max              2020-08-27 16:55:03     2.000000  \n",
       "std                              NaN     0.037385  "
      ]
     },
     "execution_count": 59,
     "metadata": {},
     "output_type": "execute_result"
    }
   ],
   "source": [
    "web.describe()"
   ]
  },
  {
   "cell_type": "code",
   "execution_count": 60,
   "id": "c7d07561",
   "metadata": {},
   "outputs": [
    {
     "name": "stdout",
     "output_type": "stream",
     "text": [
      "            sku  total_sales product_type  \\\n",
      "1084  SKU_null1          NaN          Vin   \n",
      "1087  SKU_null2          NaN          Vin   \n",
      "\n",
      "                                           post_title  \\\n",
      "1084  Pierre Jean Villa Condrieu Jardin Suspendu 2018   \n",
      "1087       Pierre Jean Villa Côte Rôtie Fongeant 2017   \n",
      "\n",
      "                                       post_name       post_date_gmt  \\\n",
      "1084    pierre-jean-villa-condrieu-suspendu-2018 2018-08-08 09:23:43   \n",
      "1087  pierre-jean-villa-cote-rotie-fongeant-2017 2018-07-31 10:07:23   \n",
      "\n",
      "       post_modified_gmt  post_author post_type  \\\n",
      "1084 2019-11-02 12:24:01          2.0   product   \n",
      "1087 2019-11-02 12:24:15          2.0   product   \n",
      "\n",
      "                                           post_excerpt  \\\n",
      "1084  <span id=\"u1194-83\">Le nez séduit par ses parf...   \n",
      "1087  Fongeant 2017 explose sur un fruit brillant, p...   \n",
      "\n",
      "                                                   guid  \n",
      "1084  https://www.bottle-neck.fr/?post_type=product&...  \n",
      "1087  https://www.bottle-neck.fr/?post_type=product&...  \n"
     ]
    }
   ],
   "source": [
    "#Assigner des 'sku' fictifs à ces deux lignes\n",
    "web.loc[1084, 'sku'] = 'SKU_null1'\n",
    "web.loc[1087, 'sku'] = 'SKU_null2'\n",
    "\n",
    "#Remplacer leurs valeurs négatives dans 'total_sales' par NaN\n",
    "web.loc[[1084, 1087], 'total_sales'] = None\n",
    "\n",
    "#Vérifier le résultat \n",
    "print(web.loc[[1084, 1087]])"
   ]
  },
  {
   "cell_type": "code",
   "execution_count": 61,
   "id": "428c0736-f22f-4289-ad4a-8b1f6263801d",
   "metadata": {},
   "outputs": [
    {
     "name": "stdout",
     "output_type": "stream",
     "text": [
      "Valeurs sku non conformes à la longueur de 6 caractères :\n",
      "272                 13127-1\n",
      "842     bon-cadeau-25-euros\n",
      "1084              SKU_null1\n",
      "1087              SKU_null2\n",
      "1117                13127-1\n",
      "1387    bon-cadeau-25-euros\n",
      "Name: sku, dtype: object\n"
     ]
    }
   ],
   "source": [
    "#Maintenant, quelles sont les valeurs qui ne semblent pas respecter la régle de codification?\n",
    "web_sku_valeurs_nonconformes = web[web['sku'].str.len() > 5]\n",
    "\n",
    "#Afficher les valeurs non conformes\n",
    "print(\"Valeurs sku non conformes à la longueur de 6 caractères :\")\n",
    "print(web_sku_valeurs_nonconformes['sku'])"
   ]
  },
  {
   "cell_type": "code",
   "execution_count": 62,
   "id": "fc588b79",
   "metadata": {},
   "outputs": [],
   "source": [
    "#Supprimer les lignes où toutes les colonnes sont nulles\n",
    "web = web.dropna(how='all')"
   ]
  },
  {
   "cell_type": "code",
   "execution_count": 63,
   "id": "c4e1e9a7-3f13-4562-aac5-29b6bdd7afed",
   "metadata": {},
   "outputs": [
    {
     "name": "stdout",
     "output_type": "stream",
     "text": [
      "count      1430\n",
      "unique      716\n",
      "top       11862\n",
      "freq          2\n",
      "Name: sku, dtype: int64\n"
     ]
    }
   ],
   "source": [
    "#Visualisation des valeurs de la colonne sku\n",
    "print(web['sku'].describe())"
   ]
  },
  {
   "cell_type": "code",
   "execution_count": 64,
   "id": "849be016-1180-434a-b516-33071be46776",
   "metadata": {},
   "outputs": [
    {
     "name": "stdout",
     "output_type": "stream",
     "text": [
      "Il y a 714 doublons dans la colonne 'sku'\n"
     ]
    }
   ],
   "source": [
    "#Vérifier s'il y a les lignes en doublons dans la colonne sku\n",
    "web_sku_doublons = web[\"sku\"].duplicated().sum()\n",
    "if web_sku_doublons > 0:\n",
    "    print(f\"Il y a {web_sku_doublons} doublons dans la colonne 'sku'\")\n",
    "else:\n",
    "    print(\"Il n'y a pas de doublon dans la colonne 'sku'\")"
   ]
  },
  {
   "cell_type": "code",
   "execution_count": 65,
   "id": "2bec7718-dd0e-496d-9dcc-cc42a0a1a6c7",
   "metadata": {},
   "outputs": [],
   "source": [
    "#Il y a 714 doublons dans la colonne sku\n",
    "#Nous avons vu qu'il en est de même dans beaucoup d'autres colonnes "
   ]
  },
  {
   "cell_type": "code",
   "execution_count": 66,
   "id": "9e4937a9",
   "metadata": {},
   "outputs": [],
   "source": [
    "#Mise en place d'une fonction pour analyser rapidement chaque variable pour des données numériques\n",
    "\n",
    "def description_colonne(colonne_test) :\n",
    "    #Afficher le type de donnée de la colonne\n",
    "    web_colonne_type = web[colonne_test].dtype\n",
    "    print(\"Type de donnée de la colonne : {}\".format(web_colonne_type))\n",
    "\n",
    "    #Nombre de lignes\n",
    "    web_colonne_nombre_lignes = len(web[colonne_test])\n",
    "    print(\"Nombre de lignes : {}\".format(web_colonne_nombre_lignes))\n",
    "\n",
    "    #Nombre de valeurs uniques\n",
    "    web_colonne_valeurs_uniques = (web[colonne_test]).nunique()\n",
    "    print(\"Nombre de lignes uniques : {}\".format(web_colonne_valeurs_uniques))\n",
    "\n",
    "    #Nombre de lignes non renseignées\n",
    "    web_colonne_nonrenseigne = web[colonne_test].isnull().sum()\n",
    "    print(\"Nombre de lignes non renseignées : {}\".format(web_colonne_nonrenseigne))\n",
    "\n",
    "    #Nombre de lignes nulles\n",
    "    web_colonne_null = (web[colonne_test] == 0).sum()\n",
    "    print(\"Nombre de lignes nulles : {}\".format(web_colonne_null))\n",
    "\n",
    "    #Valeur maximum\n",
    "    web_colonne_max = (web[colonne_test]).max()\n",
    "    print(\"Valeur maximum : {}\".format(web_colonne_max))\n",
    "\n",
    "    #Valeur minimum\n",
    "    web_colonne_min = (web[colonne_test]).min()\n",
    "    print(\"Valeur minimum : {}\".format(web_colonne_min))\n",
    "\n",
    "    #Afficher les différentes valeurs ainsi que leur nombre\n",
    "    print(\"Les différentes valeurs ainsi que leur nombre :\")\n",
    "    print(web[colonne_test].value_counts())"
   ]
  },
  {
   "cell_type": "code",
   "execution_count": 67,
   "id": "71facf51",
   "metadata": {},
   "outputs": [],
   "source": [
    "#Mise en place d'une fonction pour analyser rapidement chaque variable pour des données texte\n",
    "\n",
    "def description_colonne_texte(colonne_test) :\n",
    "    #Afficher le type de donnée de la colonne\n",
    "    web_colonne_type = web[colonne_test].dtype\n",
    "    print(\"Type de donnée de la colonne : {}\".format(web_colonne_type))\n",
    "\n",
    "    #Nombre de lignes\n",
    "    web_colonne_nombre_lignes = len(web[colonne_test])\n",
    "    print(\"Nombre de lignes : {}\".format(web_colonne_nombre_lignes))\n",
    "\n",
    "    #Nombre de valeurs uniques\n",
    "    web_colonne_valeurs_uniques = (web[colonne_test]).nunique()\n",
    "    print(\"Nombre de lignes uniques : {}\".format(web_colonne_valeurs_uniques))\n",
    "\n",
    "    #Nombre de lignes non renseignées\n",
    "    web_colonne_nonrenseigne = web[colonne_test].isnull().sum()\n",
    "    print(\"Nombre de lignes non renseignées : {}\".format(web_colonne_nonrenseigne))\n",
    "\n",
    "    #Nombre de lignes nulles\n",
    "    web_colonne_null = (web[colonne_test] == 0).sum()\n",
    "    print(\"Nombre de lignes nulles : {}\".format(web_colonne_null))\n",
    "\n",
    "    #Afficher les différentes valeurs ainsi que leur nombre\n",
    "    print(\"Les différentes valeurs ainsi que leur nombre :\")\n",
    "    print(web[colonne_test].value_counts())"
   ]
  },
  {
   "cell_type": "markdown",
   "id": "0a53c460-8063-4fee-9eb6-658aa69d1377",
   "metadata": {
    "jp-MarkdownHeadingCollapsed": true
   },
   "source": [
    "<div style=\"border: 1px solid RGB(51,165,182);\" >\n",
    "<h3 style=\"margin: auto; padding: 20px; color: RGB(51,165,182); \">2.2.2 - Analyse de la variable TOTAL_SALES</h3>\n",
    "</div>"
   ]
  },
  {
   "cell_type": "code",
   "execution_count": 68,
   "id": "b540f133-bfd7-407b-9192-c84fce1cf59b",
   "metadata": {},
   "outputs": [],
   "source": [
    "######################\n",
    "###  total_sales   ###\n",
    "######################"
   ]
  },
  {
   "cell_type": "code",
   "execution_count": 69,
   "id": "8c98cfdb",
   "metadata": {},
   "outputs": [
    {
     "name": "stdout",
     "output_type": "stream",
     "text": [
      "Type de donnée de la colonne : float64\n",
      "Nombre de lignes : 1430\n",
      "Nombre de lignes uniques : 27\n",
      "Nombre de lignes non renseignées : 2\n",
      "Nombre de lignes nulles : 50\n",
      "Valeur maximum : 122.0\n",
      "Valeur minimum : 0.0\n",
      "Les différentes valeurs ainsi que leur nombre :\n",
      "total_sales\n",
      "9.0      140\n",
      "7.0      140\n",
      "10.0     130\n",
      "8.0      120\n",
      "6.0      113\n",
      "5.0      108\n",
      "11.0     101\n",
      "12.0      98\n",
      "4.0       94\n",
      "13.0      86\n",
      "3.0       82\n",
      "0.0       50\n",
      "2.0       41\n",
      "15.0      34\n",
      "14.0      30\n",
      "1.0       22\n",
      "16.0      14\n",
      "17.0       6\n",
      "20.0       4\n",
      "22.0       4\n",
      "24.0       2\n",
      "18.0       2\n",
      "27.0       2\n",
      "36.0       2\n",
      "111.0      1\n",
      "122.0      1\n",
      "116.0      1\n",
      "Name: count, dtype: int64\n"
     ]
    }
   ],
   "source": [
    "#Analyse rapide de la variable total_sales\n",
    "description_colonne('total_sales')"
   ]
  },
  {
   "cell_type": "markdown",
   "id": "5188c74d-7280-4bed-b87e-e0af37cb97e8",
   "metadata": {
    "jp-MarkdownHeadingCollapsed": true
   },
   "source": [
    "<div style=\"border: 1px solid RGB(51,165,182);\" >\n",
    "<h3 style=\"margin: auto; padding: 20px; color: RGB(51,165,182); \">2.2.3 - Analyse de la variable PRODUCT_TYPE</h3>\n",
    "</div>"
   ]
  },
  {
   "cell_type": "code",
   "execution_count": 70,
   "id": "e92bca5b-9604-4b06-9166-e24f23ca9f30",
   "metadata": {},
   "outputs": [],
   "source": [
    "######################\n",
    "###  product_type  ###\n",
    "######################"
   ]
  },
  {
   "cell_type": "code",
   "execution_count": 71,
   "id": "d7ceece7-3077-444a-a0d0-e06357cce1c9",
   "metadata": {
    "scrolled": true
   },
   "outputs": [
    {
     "name": "stdout",
     "output_type": "stream",
     "text": [
      "Type de donnée de la colonne : object\n",
      "Nombre de lignes : 1430\n",
      "Nombre de lignes uniques : 7\n",
      "Nombre de lignes non renseignées : 1\n",
      "Nombre de lignes nulles : 0\n",
      "Les différentes valeurs ainsi que leur nombre :\n",
      "product_type\n",
      "Vin              1318\n",
      "Champagne          56\n",
      "Whisky             28\n",
      "Cognac             16\n",
      "Huile d'olive       6\n",
      "Gin                 4\n",
      "Autre               1\n",
      "Name: count, dtype: int64\n"
     ]
    }
   ],
   "source": [
    "#Analyse rapide de la variable product_type\n",
    "description_colonne_texte('product_type')"
   ]
  },
  {
   "cell_type": "code",
   "execution_count": 72,
   "id": "8334b583",
   "metadata": {},
   "outputs": [
    {
     "data": {
      "text/html": [
       "<div>\n",
       "<style scoped>\n",
       "    .dataframe tbody tr th:only-of-type {\n",
       "        vertical-align: middle;\n",
       "    }\n",
       "\n",
       "    .dataframe tbody tr th {\n",
       "        vertical-align: top;\n",
       "    }\n",
       "\n",
       "    .dataframe thead th {\n",
       "        text-align: right;\n",
       "    }\n",
       "</style>\n",
       "<table border=\"1\" class=\"dataframe\">\n",
       "  <thead>\n",
       "    <tr style=\"text-align: right;\">\n",
       "      <th></th>\n",
       "      <th>sku</th>\n",
       "      <th>total_sales</th>\n",
       "      <th>product_type</th>\n",
       "      <th>post_title</th>\n",
       "      <th>post_name</th>\n",
       "      <th>post_date_gmt</th>\n",
       "      <th>post_modified_gmt</th>\n",
       "      <th>post_author</th>\n",
       "      <th>post_type</th>\n",
       "      <th>post_excerpt</th>\n",
       "      <th>guid</th>\n",
       "    </tr>\n",
       "  </thead>\n",
       "  <tbody>\n",
       "    <tr>\n",
       "      <th>1387</th>\n",
       "      <td>bon-cadeau-25-euros</td>\n",
       "      <td>7.0</td>\n",
       "      <td>NaN</td>\n",
       "      <td>Bon cadeau de 25€</td>\n",
       "      <td>bon-cadeau-de-25-euros</td>\n",
       "      <td>2018-06-01 11:53:46</td>\n",
       "      <td>2018-06-01 12:13:57</td>\n",
       "      <td>1.0</td>\n",
       "      <td>product</td>\n",
       "      <td>&lt;span style=\"color: #a85253;\"&gt;&lt;strong&gt;Parlons ...</td>\n",
       "      <td>https://www.bottle-neck.fr/?post_type=product&amp;...</td>\n",
       "    </tr>\n",
       "  </tbody>\n",
       "</table>\n",
       "</div>"
      ],
      "text/plain": [
       "                      sku  total_sales product_type         post_title  \\\n",
       "1387  bon-cadeau-25-euros          7.0          NaN  Bon cadeau de 25€   \n",
       "\n",
       "                   post_name       post_date_gmt   post_modified_gmt  \\\n",
       "1387  bon-cadeau-de-25-euros 2018-06-01 11:53:46 2018-06-01 12:13:57   \n",
       "\n",
       "      post_author post_type  \\\n",
       "1387          1.0   product   \n",
       "\n",
       "                                           post_excerpt  \\\n",
       "1387  <span style=\"color: #a85253;\"><strong>Parlons ...   \n",
       "\n",
       "                                                   guid  \n",
       "1387  https://www.bottle-neck.fr/?post_type=product&...  "
      ]
     },
     "execution_count": 72,
     "metadata": {},
     "output_type": "execute_result"
    }
   ],
   "source": [
    "#Afficher la ligne non renseignée :\n",
    "web_colonne_nonrenseigne_afficher = web.loc[web['product_type'].isna()]\n",
    "web_colonne_nonrenseigne_afficher"
   ]
  },
  {
   "cell_type": "code",
   "execution_count": 73,
   "id": "d7b2603f",
   "metadata": {},
   "outputs": [],
   "source": [
    "#La seule ligne de la variable product_type non renseignée correspond au bon cadeau de 25 €"
   ]
  },
  {
   "cell_type": "markdown",
   "id": "dde8655c-668f-4aa3-b163-06a06f68b2ce",
   "metadata": {
    "jp-MarkdownHeadingCollapsed": true
   },
   "source": [
    "<div style=\"border: 1px solid RGB(51,165,182);\" >\n",
    "<h3 style=\"margin: auto; padding: 20px; color: RGB(51,165,182); \">2.2.4 - Analyse de la variable POST_NAME</h3>\n",
    "</div>"
   ]
  },
  {
   "cell_type": "code",
   "execution_count": 74,
   "id": "ecfa3a64-bc63-4b29-8c63-0d071b63e639",
   "metadata": {},
   "outputs": [],
   "source": [
    "######################\n",
    "###   post_name    ###\n",
    "######################"
   ]
  },
  {
   "cell_type": "code",
   "execution_count": 75,
   "id": "e0b2424c",
   "metadata": {},
   "outputs": [
    {
     "name": "stdout",
     "output_type": "stream",
     "text": [
      "Type de donnée de la colonne : object\n",
      "Nombre de lignes : 1430\n",
      "Nombre de lignes uniques : 716\n",
      "Nombre de lignes non renseignées : 0\n",
      "Nombre de lignes nulles : 0\n",
      "Les différentes valeurs ainsi que leur nombre :\n",
      "post_name\n",
      "gilles-robin-hermitage-2012                                       2\n",
      "matthieu-cosse-cahors-solis-2018                                  2\n",
      "cognac-frapin-fontpinot-xo                                        2\n",
      "wemyss-malts-single-cask-scotch-whisky-chai-caramel-latte-2002    2\n",
      "oratoire-saint-martin-cairanne-haut-coustias-2016                 2\n",
      "                                                                 ..\n",
      "camille-giroud-santenay-rge-1er-cru-clos-rousseau-2016            2\n",
      "vieux-donjon-chateauneuf-2013                                     2\n",
      "domaine-la-croix-belle-cotes-de-thongue-rouge-n7-2017             2\n",
      "pierre-jean-villa-condrieu-suspendu-2018                          1\n",
      "pierre-jean-villa-cote-rotie-fongeant-2017                        1\n",
      "Name: count, Length: 716, dtype: int64\n"
     ]
    }
   ],
   "source": [
    "#Analyse rapide de la variable post_name\n",
    "description_colonne_texte('post_name')"
   ]
  },
  {
   "cell_type": "code",
   "execution_count": 76,
   "id": "611293e1-7d82-4515-a225-b451ce01c31f",
   "metadata": {},
   "outputs": [],
   "source": [
    "#Il y a 716 valeurs uniques dans cette colonne"
   ]
  },
  {
   "cell_type": "markdown",
   "id": "2c272cad-656e-4f21-b245-6c6e4e1acaa4",
   "metadata": {
    "jp-MarkdownHeadingCollapsed": true
   },
   "source": [
    "<div style=\"border: 1px solid RGB(51,165,182);\" >\n",
    "<h3 style=\"margin: auto; padding: 20px; color: RGB(51,165,182); \">2.2.5 - Analyse de la variable POST_TITLE</h3>\n",
    "</div>"
   ]
  },
  {
   "cell_type": "code",
   "execution_count": 77,
   "id": "3931de48-af5f-4d63-a9b7-173ad55cf4df",
   "metadata": {},
   "outputs": [],
   "source": [
    "######################\n",
    "###   post_title   ###\n",
    "######################"
   ]
  },
  {
   "cell_type": "code",
   "execution_count": 78,
   "id": "90b0c6b9-631d-4667-8e2d-4401a2760bcf",
   "metadata": {},
   "outputs": [
    {
     "name": "stdout",
     "output_type": "stream",
     "text": [
      "Type de donnée de la colonne : object\n",
      "Nombre de lignes : 1430\n",
      "Nombre de lignes uniques : 713\n",
      "Nombre de lignes non renseignées : 0\n",
      "Nombre de lignes nulles : 0\n",
      "Les différentes valeurs ainsi que leur nombre :\n",
      "post_title\n",
      "Clos du Mont-Olivet Châteauneuf-du-Pape 2007                                   4\n",
      "Domaine Hauvette IGP Alpilles Jaspe 2017                                       4\n",
      "Marc Colin Et Fils Chassagne-Montrachet Blanc Les Vide-Bourses 1er Cru 2016    4\n",
      "Gilles Robin Hermitage Rouge 2012                                              2\n",
      "Domaine de l'Hortus Pic Saint-Loup La Bergerie Rouge 2018                      2\n",
      "                                                                              ..\n",
      "Emile Boeckel Riesling Brandluft 2018                                          2\n",
      "Wemyss Malts Blended Malt Scotch Whisky The Hive Batch Strength                2\n",
      "Albert Mann Pinot Gris Cuvée Albert 2017                                       2\n",
      "Pierre Jean Villa Condrieu Jardin Suspendu 2018                                1\n",
      "Pierre Jean Villa Côte Rôtie Fongeant 2017                                     1\n",
      "Name: count, Length: 713, dtype: int64\n"
     ]
    }
   ],
   "source": [
    "#Analyse rapide de la variable post_title\n",
    "description_colonne_texte('post_title')"
   ]
  },
  {
   "cell_type": "code",
   "execution_count": 79,
   "id": "e217f60e-7f62-406d-ac19-0ac9154b7ae4",
   "metadata": {},
   "outputs": [],
   "source": [
    "#Il y a 713 valeurs uniques dans cette colonne\n",
    "#Il y a donc des doublons pour 3 titres de post, mais leurs noms de post restent différents"
   ]
  },
  {
   "cell_type": "markdown",
   "id": "d991726f-90de-407b-994b-59080459ac3c",
   "metadata": {
    "jp-MarkdownHeadingCollapsed": true
   },
   "source": [
    "<div style=\"border: 1px solid RGB(51,165,182);\" >\n",
    "<h3 style=\"margin: auto; padding: 20px; color: RGB(51,165,182); \">2.2.6 - Analyse de la variable POST_DATE_GMT</h3>\n",
    "</div>"
   ]
  },
  {
   "cell_type": "code",
   "execution_count": 80,
   "id": "8b17575c-eaad-4b7b-8dfe-2a2c9579fa36",
   "metadata": {},
   "outputs": [],
   "source": [
    "######################\n",
    "###  post_date_gmt ###\n",
    "######################"
   ]
  },
  {
   "cell_type": "code",
   "execution_count": 81,
   "id": "85ea744d-a73e-4419-a51e-82bb5338447e",
   "metadata": {},
   "outputs": [
    {
     "name": "stdout",
     "output_type": "stream",
     "text": [
      "Type de donnée de la colonne : datetime64[ns]\n",
      "Nombre de lignes : 1430\n",
      "Nombre de lignes uniques : 716\n",
      "Nombre de lignes non renseignées : 0\n",
      "Nombre de lignes nulles : 0\n",
      "Valeur maximum : 2020-07-20 09:00:00\n",
      "Valeur minimum : 2018-02-08 11:58:52\n",
      "Les différentes valeurs ainsi que leur nombre :\n",
      "post_date_gmt\n",
      "2018-02-12 12:46:23    2\n",
      "2018-04-17 14:47:34    2\n",
      "2018-03-22 10:32:55    2\n",
      "2019-04-04 15:01:54    2\n",
      "2018-02-12 12:17:53    2\n",
      "                      ..\n",
      "2019-03-13 14:05:54    2\n",
      "2018-02-12 13:55:54    2\n",
      "2018-05-17 10:32:07    2\n",
      "2018-08-08 09:23:43    1\n",
      "2018-07-31 10:07:23    1\n",
      "Name: count, Length: 716, dtype: int64\n"
     ]
    }
   ],
   "source": [
    "#Analyse rapide de la variable post_date_gmt\n",
    "description_colonne('post_date_gmt')"
   ]
  },
  {
   "cell_type": "code",
   "execution_count": 82,
   "id": "6680bc45-8c6a-45cc-a67d-df52fc0618a7",
   "metadata": {},
   "outputs": [],
   "source": [
    "#Il y a 716 valeurs uniques dans cette colonne"
   ]
  },
  {
   "cell_type": "markdown",
   "id": "df7f00c2-6da5-465b-a790-5d7cb77e427e",
   "metadata": {
    "jp-MarkdownHeadingCollapsed": true
   },
   "source": [
    "<div style=\"border: 1px solid RGB(51,165,182);\" >\n",
    "<h3 style=\"margin: auto; padding: 20px; color: RGB(51,165,182); \">2.2.7 - Analyse de la variable POST_MODIFIED_GMT</h3>\n",
    "</div>"
   ]
  },
  {
   "cell_type": "code",
   "execution_count": 83,
   "id": "41a5a1fe-ae8d-442b-a06a-e72336e4601c",
   "metadata": {},
   "outputs": [],
   "source": [
    "######################\n",
    "#  post_modified_gmt #\n",
    "######################"
   ]
  },
  {
   "cell_type": "code",
   "execution_count": 84,
   "id": "27fa944c-6eee-467c-9c31-6ecdff26e0ab",
   "metadata": {},
   "outputs": [
    {
     "name": "stdout",
     "output_type": "stream",
     "text": [
      "Type de donnée de la colonne : datetime64[ns]\n",
      "Nombre de lignes : 1430\n",
      "Nombre de lignes uniques : 589\n",
      "Nombre de lignes non renseignées : 0\n",
      "Nombre de lignes nulles : 0\n",
      "Valeur maximum : 2020-08-27 16:55:03\n",
      "Valeur minimum : 2018-02-20 14:19:23\n",
      "Les différentes valeurs ainsi que leur nombre :\n",
      "post_modified_gmt\n",
      "2020-08-26 13:55:03    14\n",
      "2020-08-27 13:55:02    12\n",
      "2020-08-27 09:45:02    12\n",
      "2020-08-27 13:15:02    10\n",
      "2020-08-26 09:25:02    10\n",
      "                       ..\n",
      "2019-12-02 08:30:37     2\n",
      "2020-08-27 08:12:06     2\n",
      "2020-08-14 15:35:02     2\n",
      "2019-11-02 12:24:15     1\n",
      "2019-11-02 12:24:01     1\n",
      "Name: count, Length: 589, dtype: int64\n"
     ]
    }
   ],
   "source": [
    "#Analyse rapide de la variable post_modified_gmt\n",
    "description_colonne('post_modified_gmt')"
   ]
  },
  {
   "cell_type": "code",
   "execution_count": 85,
   "id": "a7bc6add-8e46-459b-8a30-8cf595851f06",
   "metadata": {},
   "outputs": [],
   "source": [
    "#Il n'y a 589 valeurs uniques dans cette colonne\n",
    "#Nous pouvons en déduire que plusieurs posts peuvent être mis à jour en même temps"
   ]
  },
  {
   "cell_type": "markdown",
   "id": "1947e7b0-1002-4c48-960b-7a17038f7b7d",
   "metadata": {
    "jp-MarkdownHeadingCollapsed": true
   },
   "source": [
    "<div style=\"border: 1px solid RGB(51,165,182);\" >\n",
    "<h3 style=\"margin: auto; padding: 20px; color: RGB(51,165,182); \">2.2.8 - Analyse de la variable POST_AUTHOR</h3>\n",
    "</div>"
   ]
  },
  {
   "cell_type": "code",
   "execution_count": 86,
   "id": "8005d1fd-a385-4fb6-a838-f5ff5ea1ae79",
   "metadata": {},
   "outputs": [],
   "source": [
    "######################\n",
    "###   post_author  ###\n",
    "######################"
   ]
  },
  {
   "cell_type": "code",
   "execution_count": 87,
   "id": "90c8f871-57f7-41a2-bf20-041f1305f4c3",
   "metadata": {},
   "outputs": [
    {
     "name": "stdout",
     "output_type": "stream",
     "text": [
      "Type de donnée de la colonne : float64\n",
      "Nombre de lignes : 1430\n",
      "Nombre de lignes uniques : 2\n",
      "Nombre de lignes non renseignées : 0\n",
      "Nombre de lignes nulles : 0\n",
      "Les différentes valeurs ainsi que leur nombre :\n",
      "post_author\n",
      "2.0    1428\n",
      "1.0       2\n",
      "Name: count, dtype: int64\n"
     ]
    }
   ],
   "source": [
    "#Analyse rapide de la variable post_author\n",
    "description_colonne_texte('post_author')"
   ]
  },
  {
   "cell_type": "code",
   "execution_count": 88,
   "id": "36c4c919",
   "metadata": {},
   "outputs": [
    {
     "name": "stdout",
     "output_type": "stream",
     "text": [
      "                      sku  total_sales product_type         post_title  \\\n",
      "842   bon-cadeau-25-euros          7.0        Autre  Bon cadeau de 25€   \n",
      "1387  bon-cadeau-25-euros          7.0          NaN  Bon cadeau de 25€   \n",
      "\n",
      "                   post_name       post_date_gmt   post_modified_gmt  \\\n",
      "842   bon-cadeau-de-25-euros 2018-06-01 11:53:46 2018-06-01 12:13:57   \n",
      "1387  bon-cadeau-de-25-euros 2018-06-01 11:53:46 2018-06-01 12:13:57   \n",
      "\n",
      "      post_author   post_type  \\\n",
      "842           1.0  attachment   \n",
      "1387          1.0     product   \n",
      "\n",
      "                                           post_excerpt  \\\n",
      "842                                                 NaN   \n",
      "1387  <span style=\"color: #a85253;\"><strong>Parlons ...   \n",
      "\n",
      "                                                   guid  \n",
      "842   https://www.bottle-neck.fr/wp-content/uploads/...  \n",
      "1387  https://www.bottle-neck.fr/?post_type=product&...  \n"
     ]
    }
   ],
   "source": [
    "#Sélection des lignes où 'post_author' est égal à 1\n",
    "web_post_author_2 = web[web['post_author'] == 1]\n",
    "\n",
    "#Afficher les lignes sélectionnées\n",
    "print(web_post_author_2)"
   ]
  },
  {
   "cell_type": "code",
   "execution_count": 89,
   "id": "9d1d93be",
   "metadata": {},
   "outputs": [],
   "source": [
    "#Les post_author \"1\" correspondent aux bons cadeaux"
   ]
  },
  {
   "cell_type": "markdown",
   "id": "f0db06eb-c4ce-46a4-94ba-02e681c03d6e",
   "metadata": {
    "jp-MarkdownHeadingCollapsed": true
   },
   "source": [
    "<div style=\"border: 1px solid RGB(51,165,182);\" >\n",
    "<h3 style=\"margin: auto; padding: 20px; color: RGB(51,165,182); \">2.2.9 - Analyse de la variable POST_TYPE</h3>\n",
    "</div>"
   ]
  },
  {
   "cell_type": "code",
   "execution_count": 90,
   "id": "49d0ffdf-097c-473f-b38e-de1459499774",
   "metadata": {},
   "outputs": [],
   "source": [
    "######################\n",
    "###    post_type   ###\n",
    "######################"
   ]
  },
  {
   "cell_type": "code",
   "execution_count": 91,
   "id": "17cf142a-0fa8-42f7-a7eb-56cae13954b9",
   "metadata": {},
   "outputs": [
    {
     "name": "stdout",
     "output_type": "stream",
     "text": [
      "Type de donnée de la colonne : object\n",
      "Nombre de lignes : 1430\n",
      "Nombre de lignes uniques : 2\n",
      "Nombre de lignes non renseignées : 0\n",
      "Nombre de lignes nulles : 0\n",
      "Les différentes valeurs ainsi que leur nombre :\n",
      "post_type\n",
      "product       716\n",
      "attachment    714\n",
      "Name: count, dtype: int64\n"
     ]
    }
   ],
   "source": [
    "#Analyse rapide de la variable post_type\n",
    "description_colonne_texte('post_type')"
   ]
  },
  {
   "cell_type": "code",
   "execution_count": 92,
   "id": "efa6e1f2",
   "metadata": {},
   "outputs": [],
   "source": [
    "#Il y a 716 lignes \"products\", qui correspondent aux produits vendus sur le web. \n",
    "#Ce sont celles que allons les garder.\n"
   ]
  },
  {
   "cell_type": "code",
   "execution_count": 93,
   "id": "a00c08ba",
   "metadata": {},
   "outputs": [
    {
     "name": "stdout",
     "output_type": "stream",
     "text": [
      "        sku  total_sales product_type  \\\n",
      "2     14692          5.0          Vin   \n",
      "4     15328          2.0          Vin   \n",
      "6     16515         10.0          Vin   \n",
      "11    16585         15.0          Vin   \n",
      "14    12869          7.0          Vin   \n",
      "...     ...          ...          ...   \n",
      "1503  13074          4.0          Vin   \n",
      "1505  16322          0.0          Vin   \n",
      "1507  12365         10.0          Vin   \n",
      "1508  16326          5.0          Vin   \n",
      "1509  15662         15.0          Vin   \n",
      "\n",
      "                                             post_title  \\\n",
      "2         Château Fonréaud Bordeaux Blanc Le Cygne 2016   \n",
      "4                  Agnès Levet Côte Rôtie Maestria 2017   \n",
      "6     Château Turcaud Bordeaux Rouge Cuvée Majeure 2018   \n",
      "11              Xavier Frissant Touraine Sauvignon 2019   \n",
      "14                     Stéphane Tissot Arbois D.D. 2016   \n",
      "...                                                 ...   \n",
      "1503  Château de Vaudieu Châteauneuf-du-Pape L'Avenu...   \n",
      "1505  Moulin de Gassac IGP Pays d'Hérault Guilhem Ro...   \n",
      "1507                   Parés Baltà Penedès Electio 2013   \n",
      "1508    Camin Larredya Jurançon Moelleux Au Capcéu 2018   \n",
      "1509  Chermette Domaine du Vissoux Beaujolais Griott...   \n",
      "\n",
      "                                              post_name       post_date_gmt  \\\n",
      "2                 fonreaud-bordeaux-blanc-le-cygne-2016 2019-03-19 09:06:47   \n",
      "4                  agnes-levet-cote-rotie-maestria-2017 2019-03-27 17:05:09   \n",
      "6     chateau-turcaud-bordeaux-rouge-cuvee-majeure-2018 2018-06-02 07:31:31   \n",
      "11              xavier-frissant-touraine-sauvignon-2019 2018-02-16 13:03:16   \n",
      "14                       stephane-tissot-arbois-dd-2016 2019-03-28 13:29:35   \n",
      "...                                                 ...                 ...   \n",
      "1503  chateau-de-vaudieu-chateauneuf-du-pape-lavenue... 2018-02-12 13:25:28   \n",
      "1505  moulin-gassac-igp-pays-herault-guilhem-rouge-2019 2018-02-15 12:51:32   \n",
      "1507                   pares-balta-penedes-electio-2013 2019-01-29 14:53:05   \n",
      "1508       camin-larredya-jurancon-moelleux-capceu-2018 2019-04-18 09:32:46   \n",
      "1509  chermette-domaine-du-vissoux-beaujolais-griott... 2018-02-27 09:13:03   \n",
      "\n",
      "       post_modified_gmt  post_author post_type  \\\n",
      "2    2020-04-25 19:40:31          2.0   product   \n",
      "4    2020-07-25 13:45:02          2.0   product   \n",
      "6    2020-08-27 08:11:12          2.0   product   \n",
      "11   2020-08-27 07:30:36          2.0   product   \n",
      "14   2019-12-13 14:40:01          2.0   product   \n",
      "...                  ...          ...       ...   \n",
      "1503 2019-12-09 09:40:03          2.0   product   \n",
      "1505 2020-08-26 14:05:03          2.0   product   \n",
      "1507 2020-08-08 15:45:02          2.0   product   \n",
      "1508 2020-08-27 07:24:46          2.0   product   \n",
      "1509 2020-07-11 09:25:03          2.0   product   \n",
      "\n",
      "                                           post_excerpt  \\\n",
      "2     <div>Grâce à la complémentarité des 3 cépages ...   \n",
      "4     <span style=\"float: none; background-color: tr...   \n",
      "6     <div id=\"wrapper\">\\n<div id=\"container-wrapper...   \n",
      "11    Un joli sauvignon frais et minéral, avec d'int...   \n",
      "14    Un Vin coloré et éclatant. Le nez est fruité, ...   \n",
      "...                                                 ...   \n",
      "1503  \"L'Avenue\" est issue d’une parcelle de vieux g...   \n",
      "1505  Belle complexité aromatique alliant fruits rou...   \n",
      "1507  Une cuvée produite avec une très vieille vigne...   \n",
      "1508  Sur le millésime 2017, Au Capceu du domaine Ca...   \n",
      "1509  C'est le Beaujolais typique : fruité, frais, g...   \n",
      "\n",
      "                                                   guid  \n",
      "2     https://www.bottle-neck.fr/?post_type=product&...  \n",
      "4     https://www.bottle-neck.fr/?post_type=product&...  \n",
      "6     https://www.bottle-neck.fr/?post_type=product&...  \n",
      "11    https://www.bottle-neck.fr/?post_type=product&...  \n",
      "14    https://www.bottle-neck.fr/?post_type=product&...  \n",
      "...                                                 ...  \n",
      "1503  https://www.bottle-neck.fr/?post_type=product&...  \n",
      "1505  https://www.bottle-neck.fr/?post_type=product&...  \n",
      "1507  https://www.bottle-neck.fr/?post_type=product&...  \n",
      "1508  https://www.bottle-neck.fr/?post_type=product&...  \n",
      "1509  https://www.bottle-neck.fr/?post_type=product&...  \n",
      "\n",
      "[716 rows x 11 columns]\n"
     ]
    }
   ],
   "source": [
    "#Supprimer les lignes où 'post_type' est égal à 'attachment'\n",
    "web = web[web['post_type'] != 'attachment']\n",
    "\n",
    "#Afficher le DataFrame modifié\n",
    "print(web)"
   ]
  },
  {
   "cell_type": "code",
   "execution_count": 94,
   "id": "62bf8660-724d-4f5c-953e-e5c43686b075",
   "metadata": {},
   "outputs": [],
   "source": [
    "#Nous avons gardé les posts de type 'produit' et non les posts de type 'pièce jointe'"
   ]
  },
  {
   "cell_type": "markdown",
   "id": "9bcedbd4-49a6-480e-8607-f53f5d7b567e",
   "metadata": {
    "jp-MarkdownHeadingCollapsed": true
   },
   "source": [
    "<div style=\"border: 1px solid RGB(51,165,182);\" >\n",
    "<h3 style=\"margin: auto; padding: 20px; color: RGB(51,165,182); \">2.2.10 - Analyse de la variable POST_EXCERPT</h3>\n",
    "</div>"
   ]
  },
  {
   "cell_type": "code",
   "execution_count": 95,
   "id": "855914f1-01e6-4c51-9dbd-f6814d91e22f",
   "metadata": {},
   "outputs": [],
   "source": [
    "######################\n",
    "##   post_excerpt   ##\n",
    "######################"
   ]
  },
  {
   "cell_type": "code",
   "execution_count": 96,
   "id": "cd86ec74-d53d-48a6-81b2-65030a4e12f0",
   "metadata": {},
   "outputs": [
    {
     "name": "stdout",
     "output_type": "stream",
     "text": [
      "Type de donnée de la colonne : object\n",
      "Nombre de lignes : 716\n",
      "Nombre de lignes uniques : 679\n",
      "Nombre de lignes non renseignées : 0\n",
      "Nombre de lignes nulles : 0\n",
      "Les différentes valeurs ainsi que leur nombre :\n",
      "post_excerpt\n",
      "Les eaux de vie naissent d'une subtile alchimie où deux éléments fondamentaux se conjuguent pour que la réussite soit présente au creux de votre verre à dégustation... D'abord on ne s'improvise pas distillateur: chez les Windholtz ce sont trois  générations qui ont accumulé le plein d'expérience dans l'art subtil de \"séparer par la chaleur les principes fixes et volatiles\".\\nEnsuite entre moûts et alambic au long col, au milieu des vapeurs, c'est le savoir-faire qui préside à la transmutation mystérieuse et réfléchie destinées à sublimer et à faire chanter les fruits...    12\n",
      "\"Il s'agit là de la meilleure partie de l'appellation Santenots, autrefois classée tête de cuvée par le docteur Lavalle\". <span class=\"font5\">Voilà qui nous plonge dans le bain de cette cuvée emblématique du domaine qui fut assemblée pièce par pièce, tel un puzzle, par le comte Jules Lafon. Ces 3 ha de vignes situées sur le village de Meursault et non de Volnay, sont enracinés sur une terre rouge très argileuse qui donne vie à l’un des plus grands vins rouges de la Côte de Beaune. </span>                                                                                        4\n",
      "La robe est rouge vif. Le nez est très floral, sur la pivoine. En bouche, l’attaque est ample et dense avec une belle sucrosité et la jolie amertume en fin de bouche ramène une belle fraîcheur.                                                                                                                                                                                                                                                                                                                                                                                                    3\n",
      "La couleur rouge intense annonce un belle concentration, le nez évoque les fruits rouges, légèrement épicé, la bouche d'une très grande élégance livre une texture onctueuse et soyeuse malgré une structure bien présente.                                                                                                                                                                                                                                                                                                                                                                          3\n",
      "Ce Pommard a une robe d’un beau rubis, typique du pinot noir. Au nez, elle livre des arômes de cerises et de petits fruits rouges, avec une touche épicée. En bouche, nous avons de la longueur et de la persistance, pour définir un vin qui est solide et tannique.                                                                                                                                                                                                                                                                                                                                2\n",
      "                                                                                                                                                                                                                                                                                                                                                                                                                                                                                                                                                                                                    ..\n",
      "Issu d'un assemblage complexe entre différentes parcelles, c'est un vin très charmeur. Le bouquet mêle à la fois; la poire, le citron, la vanille et les fleurs blanches. L'attaque en bouche est croquante avec une belle fraîcheur.                                                                                                                                                                                                                                                                                                                                                                1\n",
      "Ici le Pinot Noir évoque l’acacia et les fruits rouges sauvages. Confirmation en bouche avec un grain friand, léger et fondu. Le vin de partage, compréhensible par tous.                                                                                                                                                                                                                                                                                                                                                                                                                            1\n",
      "<div>Un nez fruité et généreux, qui dévoile des arômes de réglisse et de champignons frais. L'attaque en bouche est fluide et marquée par une belle fraîcheur. Un très joli vin de copains!</div>\\n<div class=\"pw-hidden-cp\"></div>\\n&nbsp;                                                                                                                                                                                                                                                                                                                                                          1\n",
      "Ce Riesling est issu de vignes cultivées dans la partie haute de la colline du Schlossberg, qui fut le premier terroir d'Alsace à être classé en Grand Cru. Un blanc subtil, sur des notes de fruits à chair blanche, avec le caractère granitique du terroir qui s’exprime dans une minéralité très fine. La bouche est racée, dans une très belle trame acide, avec une finale très pure alliant persistance et fraîcheur.                                                                                                                                                                         1\n",
      "C'est le Beaujolais typique : fruité, frais, gouleyant, croquant avec un côté acidulé de fruits rouges frais : griottes, framboise, fraise. Vin convivial par excellence, il se boit entre amis de façon décontractée. Il se marie avec une grande variété de circonstances et de mets. Il est parfait pour les barbecues, mâchons...                                                                                                                                                                                                                                                                1\n",
      "Name: count, Length: 679, dtype: int64\n"
     ]
    }
   ],
   "source": [
    "#Analyse rapide de la variable post_exerpt\n",
    "description_colonne_texte('post_excerpt')"
   ]
  },
  {
   "cell_type": "code",
   "execution_count": 97,
   "id": "06130181-8fea-46f6-8cfd-ca5c673136da",
   "metadata": {},
   "outputs": [],
   "source": [
    "#Certains extraits des posts sont identiques "
   ]
  },
  {
   "cell_type": "markdown",
   "id": "7fa76eff-cf44-413d-9d1a-1040af4d7e66",
   "metadata": {
    "jp-MarkdownHeadingCollapsed": true
   },
   "source": [
    "<div style=\"border: 1px solid RGB(51,165,182);\" >\n",
    "<h3 style=\"margin: auto; padding: 20px; color: RGB(51,165,182); \">2.2.11 - Analyse de la variable GUID</h3>\n",
    "</div>"
   ]
  },
  {
   "cell_type": "code",
   "execution_count": 98,
   "id": "07608902-c4d6-495a-b1d9-9d1b392ea075",
   "metadata": {},
   "outputs": [],
   "source": [
    "######################\n",
    "#####    guid    #####\n",
    "######################"
   ]
  },
  {
   "cell_type": "code",
   "execution_count": 99,
   "id": "c08f4952-df9c-4cc6-8592-6cf030590d16",
   "metadata": {},
   "outputs": [
    {
     "name": "stdout",
     "output_type": "stream",
     "text": [
      "Type de donnée de la colonne : object\n",
      "Nombre de lignes : 716\n",
      "Nombre de lignes uniques : 716\n",
      "Nombre de lignes non renseignées : 0\n",
      "Nombre de lignes nulles : 0\n",
      "Les différentes valeurs ainsi que leur nombre :\n",
      "guid\n",
      "https://www.bottle-neck.fr/?post_type=product&#038;p=5794    1\n",
      "https://www.bottle-neck.fr/?post_type=product&#038;p=4681    1\n",
      "https://www.bottle-neck.fr/?post_type=product&#038;p=6104    1\n",
      "https://www.bottle-neck.fr/?post_type=product&#038;p=4070    1\n",
      "https://www.bottle-neck.fr/?post_type=product&#038;p=4726    1\n",
      "                                                            ..\n",
      "https://www.bottle-neck.fr/?post_type=product&#038;p=5446    1\n",
      "https://www.bottle-neck.fr/?post_type=product&#038;p=4782    1\n",
      "https://www.bottle-neck.fr/?post_type=product&#038;p=4600    1\n",
      "https://www.bottle-neck.fr/?post_type=product&#038;p=5439    1\n",
      "https://www.bottle-neck.fr/?post_type=product&#038;p=4261    1\n",
      "Name: count, Length: 716, dtype: int64\n"
     ]
    }
   ],
   "source": [
    "#Analyse rapide de la variable guid\n",
    "description_colonne_texte('guid')"
   ]
  },
  {
   "cell_type": "code",
   "execution_count": 100,
   "id": "2da6f236-a129-4bc2-ae90-c7827805ab37",
   "metadata": {},
   "outputs": [],
   "source": [
    "#Il y a 716 valeurs uniques dans cette colonne"
   ]
  },
  {
   "cell_type": "code",
   "execution_count": 101,
   "id": "bb9815b1",
   "metadata": {},
   "outputs": [
    {
     "name": "stdout",
     "output_type": "stream",
     "text": [
      "Nombre de valeurs uniques pour chaque colonne : {} sku                  716\n",
      "total_sales           24\n",
      "product_type           6\n",
      "post_title           713\n",
      "post_name            716\n",
      "post_date_gmt        716\n",
      "post_modified_gmt    589\n",
      "post_author            2\n",
      "post_type              1\n",
      "post_excerpt         679\n",
      "guid                 716\n",
      "dtype: int64\n"
     ]
    }
   ],
   "source": [
    "#Vérifions le nombre de valeurs uniques pour chaque colonne (notamment sku qui doit en avoir 716)\n",
    "web_valeurs_uniques_verif = web.nunique()\n",
    "print(\"Nombre de valeurs uniques pour chaque colonne : {}\", web_valeurs_uniques_verif)"
   ]
  },
  {
   "cell_type": "code",
   "execution_count": 102,
   "id": "4abf7e35",
   "metadata": {},
   "outputs": [
    {
     "name": "stdout",
     "output_type": "stream",
     "text": [
      "Lignes sans code article dans la colonne 'sku' :\n"
     ]
    },
    {
     "data": {
      "text/html": [
       "<div>\n",
       "<style scoped>\n",
       "    .dataframe tbody tr th:only-of-type {\n",
       "        vertical-align: middle;\n",
       "    }\n",
       "\n",
       "    .dataframe tbody tr th {\n",
       "        vertical-align: top;\n",
       "    }\n",
       "\n",
       "    .dataframe thead th {\n",
       "        text-align: right;\n",
       "    }\n",
       "</style>\n",
       "<table border=\"1\" class=\"dataframe\">\n",
       "  <thead>\n",
       "    <tr style=\"text-align: right;\">\n",
       "      <th></th>\n",
       "      <th>sku</th>\n",
       "      <th>total_sales</th>\n",
       "      <th>product_type</th>\n",
       "      <th>post_title</th>\n",
       "      <th>post_name</th>\n",
       "      <th>post_date_gmt</th>\n",
       "      <th>post_modified_gmt</th>\n",
       "      <th>post_author</th>\n",
       "      <th>post_type</th>\n",
       "      <th>post_excerpt</th>\n",
       "      <th>guid</th>\n",
       "    </tr>\n",
       "  </thead>\n",
       "  <tbody>\n",
       "  </tbody>\n",
       "</table>\n",
       "</div>"
      ],
      "text/plain": [
       "Empty DataFrame\n",
       "Columns: [sku, total_sales, product_type, post_title, post_name, post_date_gmt, post_modified_gmt, post_author, post_type, post_excerpt, guid]\n",
       "Index: []"
      ]
     },
     "execution_count": 102,
     "metadata": {},
     "output_type": "execute_result"
    }
   ],
   "source": [
    "#Pour vérification, afficher les lignes sans code article dans la colonne 'sku'\n",
    "web_sku_sanscode_verif = web[web['sku'].isnull() | (web['sku'] == '')]\n",
    "\n",
    "print(\"Lignes sans code article dans la colonne 'sku' :\")\n",
    "web_sku_sanscode_verif"
   ]
  },
  {
   "cell_type": "markdown",
   "id": "c9871ae5",
   "metadata": {},
   "source": [
    "<div style=\"font-size: 18px;\">Pour le fichier web, nous avons <strong>716 lignes de produits 'sku'</strong>.  <br>\n",
    "Nous avons nettoyé les données :<br>\n",
    "- suppression de 16 colonnes inutiles <br>\n",
    "- 85 <strong>sku</strong> non renseignés<br>\n",
    "- 2 erreurs de <strong>sku</strong> manquants<br>\n",
    "- 2 erreurs de <strong>total_sales</strong> négatifs<br>\n",
    "- 2 <strong>sku</strong> non conformes (x2)<br>\n",
    "- 714 <strong>sku</strong> en doublons\n",
    "</div>"
   ]
  },
  {
   "cell_type": "markdown",
   "id": "dbff6403",
   "metadata": {
    "jp-MarkdownHeadingCollapsed": true
   },
   "source": [
    "<div style=\"border: 1px solid RGB(51,165,182);\" >\n",
    "<h3 style=\"margin: auto; padding: 20px; color: RGB(51,165,182); \">2.3 - Analyse exploratoire du fichier liaison.xlsx</h3>\n",
    "</div>"
   ]
  },
  {
   "cell_type": "code",
   "execution_count": 103,
   "id": "2e711818-65b3-4c40-bfc4-5187ae47c7c0",
   "metadata": {},
   "outputs": [
    {
     "name": "stdout",
     "output_type": "stream",
     "text": [
      "Le tableau comporte 825 observation(s) ou article(s)\n",
      "Le tableau comporte 2 colonne(s)\n",
      "Voici la nature de données de chacune des colonnes : id_web        object\n",
      "product_id     int64\n",
      "dtype: object\n",
      "Voici le nombre de valeurs présentes dans chacune des colonnes : id_web        734\n",
      "product_id    825\n",
      "dtype: int64\n"
     ]
    }
   ],
   "source": [
    "#Afficher les dimensions du dataset\n",
    "print(\"Le tableau comporte {} observation(s) ou article(s)\".format(liaison.shape[0]))\n",
    "\n",
    "#Consulter le nombre de colonnes\n",
    "print(\"Le tableau comporte {} colonne(s)\".format(liaison.shape[1]))\n",
    "\n",
    "#La nature des données dans chacune des colonnes\n",
    "liaison_nature_donnees = liaison.dtypes\n",
    "print(\"Voici la nature de données de chacune des colonnes :\", liaison_nature_donnees)\n",
    "\n",
    "#Le nombre de valeurs présentes dans chacune des colonnes\n",
    "liaison_nbre_valeurs_colonnes = liaison.count()\n",
    "print(\"Voici le nombre de valeurs présentes dans chacune des colonnes :\", liaison_nbre_valeurs_colonnes)"
   ]
  },
  {
   "cell_type": "code",
   "execution_count": 104,
   "id": "f8e776fe-566b-42e7-9bcb-a9e93e2b3113",
   "metadata": {},
   "outputs": [
    {
     "name": "stdout",
     "output_type": "stream",
     "text": [
      "Nombre de valeurs uniques pour chaque colonne : {} id_web        734\n",
      "product_id    825\n",
      "dtype: int64\n"
     ]
    }
   ],
   "source": [
    "#Afficher le nombre de valeurs uniques pour chaque colonne\n",
    "liaison_valeurs_uniques = liaison.nunique()\n",
    "print(\"Nombre de valeurs uniques pour chaque colonne : {}\", liaison_valeurs_uniques)"
   ]
  },
  {
   "cell_type": "code",
   "execution_count": 105,
   "id": "c33b3acc-5a85-4561-b936-e93552d13011",
   "metadata": {},
   "outputs": [
    {
     "name": "stdout",
     "output_type": "stream",
     "text": [
      "Lignes sans code article dans la colonne id_web :\n",
      "    id_web  product_id\n",
      "19     NaN        4055\n",
      "49     NaN        4090\n",
      "50     NaN        4092\n",
      "119    NaN        4195\n",
      "131    NaN        4209\n",
      "..     ...         ...\n",
      "817    NaN        7196\n",
      "818    NaN        7200\n",
      "819    NaN        7201\n",
      "820    NaN        7203\n",
      "821    NaN        7204\n",
      "\n",
      "[91 rows x 2 columns]\n",
      "Informations détaillées des lignes sans code article :\n",
      "<class 'pandas.core.frame.DataFrame'>\n",
      "Index: 91 entries, 19 to 821\n",
      "Data columns (total 2 columns):\n",
      " #   Column      Non-Null Count  Dtype \n",
      "---  ------      --------------  ----- \n",
      " 0   id_web      0 non-null      object\n",
      " 1   product_id  91 non-null     int64 \n",
      "dtypes: int64(1), object(1)\n",
      "memory usage: 2.1+ KB\n",
      "None\n"
     ]
    }
   ],
   "source": [
    "#Identifier et afficher les lignes sans code article dans la colonne id_web\n",
    "liaison_id_web_sanscode = liaison[liaison['id_web'].isnull() | (liaison['id_web'] == '')]\n",
    "print(\"Lignes sans code article dans la colonne id_web :\")\n",
    "print(liaison_id_web_sanscode)\n",
    "\n",
    "#Afficher plus de détails sur ces lignes\n",
    "print(\"Informations détaillées des lignes sans code article :\")\n",
    "print(liaison_id_web_sanscode.info())"
   ]
  },
  {
   "cell_type": "code",
   "execution_count": 106,
   "id": "186cbaf1-b70a-4f2c-b830-43a743f70f19",
   "metadata": {},
   "outputs": [
    {
     "name": "stdout",
     "output_type": "stream",
     "text": [
      "Valeurs id_web non conformes à la longueur de 5 caractères :\n",
      "443    bon-cadeau-25-euros\n",
      "822                13127-1\n",
      "823                14680-1\n",
      "Name: id_web, dtype: object\n"
     ]
    }
   ],
   "source": [
    "#Maintenant, quelles sont les valeurs qui ne semblent pas respecter la régle de codification?\n",
    "liaison_id_web_valeurs_nonconformes = liaison[liaison['id_web'].str.len() > 5]\n",
    "\n",
    "# Afficher les valeurs non conformes\n",
    "print(\"Valeurs id_web non conformes à la longueur de 5 caractères :\")\n",
    "print(liaison_id_web_valeurs_nonconformes['id_web'])"
   ]
  },
  {
   "cell_type": "code",
   "execution_count": 107,
   "id": "5e5166bc-62d4-4b57-ae59-93d1fc88b692",
   "metadata": {},
   "outputs": [],
   "source": [
    "#Dans la table web, renommer la colonne sku en id_web pour la faire correspondre la liaison\n",
    "web.rename(columns={'sku': 'id_web'}, inplace=True)"
   ]
  },
  {
   "cell_type": "markdown",
   "id": "0913d123",
   "metadata": {},
   "source": [
    "<div style=\"font-size: 18px;\">Les valeurs des deux colonnes sont toutes uniques.<br>\n",
    "Cependant, il y a 91 valeurs de la colonne <strong>id_web</strong> sans correpondance avec <strong>product_id</strong>.<br>\n",
    "Rappelons qu'il y a 716 produits vendus sur notre site web.<br>\n",
    "Y a-t-il 18 nouveaux produits pas encore référencés sur notre site?\n",
    "</div>"
   ]
  },
  {
   "cell_type": "markdown",
   "id": "1a359137",
   "metadata": {
    "jp-MarkdownHeadingCollapsed": true
   },
   "source": [
    "<div style=\"background-color: RGB(51,165,182);\" >\n",
    "<h2 style=\"margin: auto; padding: 20px; color:#fff; \">Etape 3 - Jonction des fichiers</h2>\n",
    "</div>"
   ]
  },
  {
   "cell_type": "markdown",
   "id": "b7750c10",
   "metadata": {},
   "source": [
    "<div style=\"border: 1px solid RGB(51,165,182);\" >\n",
    "<h3 style=\"margin: auto; padding: 20px; color: RGB(51,165,182); \">Etape 3.1 - Jonction des fichiers erp et liaison</h3>\n",
    "</div>"
   ]
  },
  {
   "cell_type": "code",
   "execution_count": 108,
   "id": "b72bd5bf",
   "metadata": {},
   "outputs": [
    {
     "data": {
      "text/html": [
       "<div>\n",
       "<style scoped>\n",
       "    .dataframe tbody tr th:only-of-type {\n",
       "        vertical-align: middle;\n",
       "    }\n",
       "\n",
       "    .dataframe tbody tr th {\n",
       "        vertical-align: top;\n",
       "    }\n",
       "\n",
       "    .dataframe thead th {\n",
       "        text-align: right;\n",
       "    }\n",
       "</style>\n",
       "<table border=\"1\" class=\"dataframe\">\n",
       "  <thead>\n",
       "    <tr style=\"text-align: right;\">\n",
       "      <th></th>\n",
       "      <th>product_id</th>\n",
       "      <th>price</th>\n",
       "      <th>purchase_price</th>\n",
       "      <th>onsale_web</th>\n",
       "      <th>stock_quantity</th>\n",
       "      <th>stock_status</th>\n",
       "      <th>id_web</th>\n",
       "      <th>_merge</th>\n",
       "    </tr>\n",
       "  </thead>\n",
       "  <tbody>\n",
       "    <tr>\n",
       "      <th>0</th>\n",
       "      <td>3847</td>\n",
       "      <td>24.2</td>\n",
       "      <td>12.88</td>\n",
       "      <td>1</td>\n",
       "      <td>16</td>\n",
       "      <td>instock</td>\n",
       "      <td>15298</td>\n",
       "      <td>both</td>\n",
       "    </tr>\n",
       "    <tr>\n",
       "      <th>1</th>\n",
       "      <td>3849</td>\n",
       "      <td>34.3</td>\n",
       "      <td>17.54</td>\n",
       "      <td>1</td>\n",
       "      <td>10</td>\n",
       "      <td>instock</td>\n",
       "      <td>15296</td>\n",
       "      <td>both</td>\n",
       "    </tr>\n",
       "    <tr>\n",
       "      <th>2</th>\n",
       "      <td>3850</td>\n",
       "      <td>20.8</td>\n",
       "      <td>10.64</td>\n",
       "      <td>1</td>\n",
       "      <td>0</td>\n",
       "      <td>outofstock</td>\n",
       "      <td>15300</td>\n",
       "      <td>both</td>\n",
       "    </tr>\n",
       "    <tr>\n",
       "      <th>3</th>\n",
       "      <td>4032</td>\n",
       "      <td>14.1</td>\n",
       "      <td>6.92</td>\n",
       "      <td>1</td>\n",
       "      <td>26</td>\n",
       "      <td>instock</td>\n",
       "      <td>19814</td>\n",
       "      <td>both</td>\n",
       "    </tr>\n",
       "    <tr>\n",
       "      <th>4</th>\n",
       "      <td>4039</td>\n",
       "      <td>46.0</td>\n",
       "      <td>23.77</td>\n",
       "      <td>1</td>\n",
       "      <td>3</td>\n",
       "      <td>instock</td>\n",
       "      <td>19815</td>\n",
       "      <td>both</td>\n",
       "    </tr>\n",
       "  </tbody>\n",
       "</table>\n",
       "</div>"
      ],
      "text/plain": [
       "   product_id  price  purchase_price  onsale_web  stock_quantity stock_status  \\\n",
       "0        3847   24.2           12.88           1              16      instock   \n",
       "1        3849   34.3           17.54           1              10      instock   \n",
       "2        3850   20.8           10.64           1               0   outofstock   \n",
       "3        4032   14.1            6.92           1              26      instock   \n",
       "4        4039   46.0           23.77           1               3      instock   \n",
       "\n",
       "  id_web _merge  \n",
       "0  15298   both  \n",
       "1  15296   both  \n",
       "2  15300   both  \n",
       "3  19814   both  \n",
       "4  19815   both  "
      ]
     },
     "execution_count": 108,
     "metadata": {},
     "output_type": "execute_result"
    }
   ],
   "source": [
    "#Fusion des fichiers erp et liaison en activant l'option de .merge indicator = True\n",
    "merge = pd.merge(erp, liaison, on='product_id', how='outer', indicator=True)\n",
    "\n",
    "#Afficher le résultat\n",
    "merge.head()"
   ]
  },
  {
   "cell_type": "code",
   "execution_count": 109,
   "id": "f27bfbc2",
   "metadata": {},
   "outputs": [
    {
     "name": "stdout",
     "output_type": "stream",
     "text": [
      "Nombre de lignes uniquement dans erp ('left_only') : 0 (0.00%)\n",
      "Nombre de lignes uniquement dans liaison ('right_only') : 0 (0.00%)\n"
     ]
    }
   ],
   "source": [
    "#Analyser des 'left_only' (présents uniquement dans erp) et 'right_only' (présents uniquement dans liaison)\n",
    "left_only = merge[merge['_merge'] == 'left_only']\n",
    "right_only = merge[merge['_merge'] == 'right_only']\n",
    "\n",
    "#Compter le nombre de lignes \"left_only\" et \"right_only\"\n",
    "merge_left_only_nombre = len(left_only)\n",
    "merge_right_only_nombre = len(right_only)\n",
    "\n",
    "#Calculer le pourcentage de lignes \"left_only\" et \"right_only\"\n",
    "total_rows = len(merge)\n",
    "left_only_pourcentage = (merge_left_only_nombre / total_rows) * 100\n",
    "right_only_pourcentage = (merge_right_only_nombre / total_rows) * 100\n",
    "\n",
    "#Afficher les résultats\n",
    "print(f\"Nombre de lignes uniquement dans erp ('left_only') : {merge_left_only_nombre} ({left_only_pourcentage:.2f}%)\")\n",
    "print(f\"Nombre de lignes uniquement dans liaison ('right_only') : {merge_right_only_nombre} ({right_only_pourcentage:.2f}%)\")\n"
   ]
  },
  {
   "cell_type": "code",
   "execution_count": 110,
   "id": "b579b658",
   "metadata": {},
   "outputs": [
    {
     "name": "stdout",
     "output_type": "stream",
     "text": [
      "DataFrame après jonction interne (inner join) :\n",
      "   product_id  price  purchase_price  onsale_web  stock_quantity stock_status  \\\n",
      "0        3847   24.2           12.88           1              16      instock   \n",
      "1        3849   34.3           17.54           1              10      instock   \n",
      "2        3850   20.8           10.64           1               0   outofstock   \n",
      "3        4032   14.1            6.92           1              26      instock   \n",
      "4        4039   46.0           23.77           1               3      instock   \n",
      "\n",
      "  id_web  \n",
      "0  15298  \n",
      "1  15296  \n",
      "2  15300  \n",
      "3  19814  \n",
      "4  19815  \n"
     ]
    }
   ],
   "source": [
    "#Jonction interne (inner join)\n",
    "inner_join_erp_liaison = pd.merge(erp, liaison, on='product_id', how='inner')\n",
    "\n",
    "#Afficher des résultats de la jonction interne\n",
    "print(\"DataFrame après jonction interne (inner join) :\")\n",
    "print(inner_join_erp_liaison.head())"
   ]
  },
  {
   "cell_type": "code",
   "execution_count": 111,
   "id": "0d70e214",
   "metadata": {},
   "outputs": [
    {
     "name": "stdout",
     "output_type": "stream",
     "text": [
      "Le tableau comporte 825 observation(s) ou article(s)\n",
      "Le tableau comporte 7 colonne(s)\n",
      "Voici la nature de données de chacune des colonnes : product_id          int64\n",
      "price             float64\n",
      "purchase_price    float64\n",
      "onsale_web          int64\n",
      "stock_quantity      int64\n",
      "stock_status       object\n",
      "id_web             object\n",
      "dtype: object\n",
      "Voici le nombre de valeurs présentes dans chacune des colonnes : product_id        825\n",
      "price             822\n",
      "purchase_price    825\n",
      "onsale_web        825\n",
      "stock_quantity    825\n",
      "stock_status      825\n",
      "id_web            734\n",
      "dtype: int64\n"
     ]
    }
   ],
   "source": [
    "#Afficher les dimensions du dataset\n",
    "print(\"Le tableau comporte {} observation(s) ou article(s)\".format(inner_join_erp_liaison.shape[0]))\n",
    "\n",
    "#Consulter le nombre de colonnes\n",
    "print(\"Le tableau comporte {} colonne(s)\".format(inner_join_erp_liaison.shape[1]))\n",
    "\n",
    "#La nature des données dans chacune des colonnes\n",
    "inner_join_erp_liaison_nature_donnees = inner_join_erp_liaison.dtypes\n",
    "print(\"Voici la nature de données de chacune des colonnes :\", inner_join_erp_liaison_nature_donnees)\n",
    "\n",
    "#Le nombre de valeurs présentes dans chacune des colonnes\n",
    "inner_join_erp_liaison_nbre_valeurs_colonnes = inner_join_erp_liaison.count()\n",
    "print(\"Voici le nombre de valeurs présentes dans chacune des colonnes :\", inner_join_erp_liaison_nbre_valeurs_colonnes)"
   ]
  },
  {
   "cell_type": "code",
   "execution_count": 112,
   "id": "e6a50724",
   "metadata": {},
   "outputs": [
    {
     "data": {
      "text/html": [
       "<div>\n",
       "<style scoped>\n",
       "    .dataframe tbody tr th:only-of-type {\n",
       "        vertical-align: middle;\n",
       "    }\n",
       "\n",
       "    .dataframe tbody tr th {\n",
       "        vertical-align: top;\n",
       "    }\n",
       "\n",
       "    .dataframe thead th {\n",
       "        text-align: right;\n",
       "    }\n",
       "</style>\n",
       "<table border=\"1\" class=\"dataframe\">\n",
       "  <thead>\n",
       "    <tr style=\"text-align: right;\">\n",
       "      <th></th>\n",
       "      <th>product_id</th>\n",
       "      <th>price</th>\n",
       "      <th>purchase_price</th>\n",
       "      <th>onsale_web</th>\n",
       "      <th>stock_quantity</th>\n",
       "      <th>stock_status</th>\n",
       "      <th>id_web</th>\n",
       "    </tr>\n",
       "  </thead>\n",
       "  <tbody>\n",
       "    <tr>\n",
       "      <th>151</th>\n",
       "      <td>4233</td>\n",
       "      <td>NaN</td>\n",
       "      <td>10.33</td>\n",
       "      <td>0</td>\n",
       "      <td>0</td>\n",
       "      <td>outofstock</td>\n",
       "      <td>NaN</td>\n",
       "    </tr>\n",
       "    <tr>\n",
       "      <th>469</th>\n",
       "      <td>5017</td>\n",
       "      <td>NaN</td>\n",
       "      <td>4.34</td>\n",
       "      <td>0</td>\n",
       "      <td>0</td>\n",
       "      <td>outofstock</td>\n",
       "      <td>NaN</td>\n",
       "    </tr>\n",
       "    <tr>\n",
       "      <th>739</th>\n",
       "      <td>6594</td>\n",
       "      <td>NaN</td>\n",
       "      <td>4.61</td>\n",
       "      <td>0</td>\n",
       "      <td>19</td>\n",
       "      <td>instock</td>\n",
       "      <td>NaN</td>\n",
       "    </tr>\n",
       "  </tbody>\n",
       "</table>\n",
       "</div>"
      ],
      "text/plain": [
       "     product_id  price  purchase_price  onsale_web  stock_quantity  \\\n",
       "151        4233    NaN           10.33           0               0   \n",
       "469        5017    NaN            4.34           0               0   \n",
       "739        6594    NaN            4.61           0              19   \n",
       "\n",
       "    stock_status id_web  \n",
       "151   outofstock    NaN  \n",
       "469   outofstock    NaN  \n",
       "739      instock    NaN  "
      ]
     },
     "execution_count": 112,
     "metadata": {},
     "output_type": "execute_result"
    }
   ],
   "source": [
    "#Vérification des valeurs manquantes dans la colonne price\n",
    "inner_join_erp_liaison_price_valeurs_nulles = inner_join_erp_liaison[inner_join_erp_liaison['price'].isnull()]\n",
    "inner_join_erp_liaison_price_valeurs_nulles"
   ]
  },
  {
   "cell_type": "code",
   "execution_count": 113,
   "id": "c8421b5c",
   "metadata": {},
   "outputs": [
    {
     "data": {
      "text/html": [
       "<div>\n",
       "<style scoped>\n",
       "    .dataframe tbody tr th:only-of-type {\n",
       "        vertical-align: middle;\n",
       "    }\n",
       "\n",
       "    .dataframe tbody tr th {\n",
       "        vertical-align: top;\n",
       "    }\n",
       "\n",
       "    .dataframe thead th {\n",
       "        text-align: right;\n",
       "    }\n",
       "</style>\n",
       "<table border=\"1\" class=\"dataframe\">\n",
       "  <thead>\n",
       "    <tr style=\"text-align: right;\">\n",
       "      <th></th>\n",
       "      <th>product_id</th>\n",
       "      <th>price</th>\n",
       "      <th>purchase_price</th>\n",
       "      <th>onsale_web</th>\n",
       "      <th>stock_quantity</th>\n",
       "      <th>stock_status</th>\n",
       "      <th>id_web</th>\n",
       "    </tr>\n",
       "  </thead>\n",
       "  <tbody>\n",
       "    <tr>\n",
       "      <th>19</th>\n",
       "      <td>4055</td>\n",
       "      <td>86.1</td>\n",
       "      <td>37.88</td>\n",
       "      <td>0</td>\n",
       "      <td>0</td>\n",
       "      <td>outofstock</td>\n",
       "      <td>NaN</td>\n",
       "    </tr>\n",
       "    <tr>\n",
       "      <th>49</th>\n",
       "      <td>4090</td>\n",
       "      <td>73.0</td>\n",
       "      <td>33.79</td>\n",
       "      <td>0</td>\n",
       "      <td>0</td>\n",
       "      <td>outofstock</td>\n",
       "      <td>NaN</td>\n",
       "    </tr>\n",
       "    <tr>\n",
       "      <th>50</th>\n",
       "      <td>4092</td>\n",
       "      <td>47.0</td>\n",
       "      <td>25.25</td>\n",
       "      <td>0</td>\n",
       "      <td>0</td>\n",
       "      <td>outofstock</td>\n",
       "      <td>NaN</td>\n",
       "    </tr>\n",
       "    <tr>\n",
       "      <th>119</th>\n",
       "      <td>4195</td>\n",
       "      <td>14.1</td>\n",
       "      <td>7.36</td>\n",
       "      <td>0</td>\n",
       "      <td>0</td>\n",
       "      <td>outofstock</td>\n",
       "      <td>NaN</td>\n",
       "    </tr>\n",
       "    <tr>\n",
       "      <th>131</th>\n",
       "      <td>4209</td>\n",
       "      <td>73.5</td>\n",
       "      <td>33.01</td>\n",
       "      <td>0</td>\n",
       "      <td>0</td>\n",
       "      <td>outofstock</td>\n",
       "      <td>NaN</td>\n",
       "    </tr>\n",
       "    <tr>\n",
       "      <th>...</th>\n",
       "      <td>...</td>\n",
       "      <td>...</td>\n",
       "      <td>...</td>\n",
       "      <td>...</td>\n",
       "      <td>...</td>\n",
       "      <td>...</td>\n",
       "      <td>...</td>\n",
       "    </tr>\n",
       "    <tr>\n",
       "      <th>817</th>\n",
       "      <td>7196</td>\n",
       "      <td>31.0</td>\n",
       "      <td>31.20</td>\n",
       "      <td>0</td>\n",
       "      <td>55</td>\n",
       "      <td>instock</td>\n",
       "      <td>NaN</td>\n",
       "    </tr>\n",
       "    <tr>\n",
       "      <th>818</th>\n",
       "      <td>7200</td>\n",
       "      <td>31.0</td>\n",
       "      <td>15.54</td>\n",
       "      <td>0</td>\n",
       "      <td>6</td>\n",
       "      <td>instock</td>\n",
       "      <td>NaN</td>\n",
       "    </tr>\n",
       "    <tr>\n",
       "      <th>819</th>\n",
       "      <td>7201</td>\n",
       "      <td>31.0</td>\n",
       "      <td>16.02</td>\n",
       "      <td>0</td>\n",
       "      <td>18</td>\n",
       "      <td>instock</td>\n",
       "      <td>NaN</td>\n",
       "    </tr>\n",
       "    <tr>\n",
       "      <th>820</th>\n",
       "      <td>7203</td>\n",
       "      <td>45.0</td>\n",
       "      <td>23.48</td>\n",
       "      <td>0</td>\n",
       "      <td>30</td>\n",
       "      <td>instock</td>\n",
       "      <td>NaN</td>\n",
       "    </tr>\n",
       "    <tr>\n",
       "      <th>821</th>\n",
       "      <td>7204</td>\n",
       "      <td>45.0</td>\n",
       "      <td>24.18</td>\n",
       "      <td>0</td>\n",
       "      <td>9</td>\n",
       "      <td>instock</td>\n",
       "      <td>NaN</td>\n",
       "    </tr>\n",
       "  </tbody>\n",
       "</table>\n",
       "<p>91 rows × 7 columns</p>\n",
       "</div>"
      ],
      "text/plain": [
       "     product_id  price  purchase_price  onsale_web  stock_quantity  \\\n",
       "19         4055   86.1           37.88           0               0   \n",
       "49         4090   73.0           33.79           0               0   \n",
       "50         4092   47.0           25.25           0               0   \n",
       "119        4195   14.1            7.36           0               0   \n",
       "131        4209   73.5           33.01           0               0   \n",
       "..          ...    ...             ...         ...             ...   \n",
       "817        7196   31.0           31.20           0              55   \n",
       "818        7200   31.0           15.54           0               6   \n",
       "819        7201   31.0           16.02           0              18   \n",
       "820        7203   45.0           23.48           0              30   \n",
       "821        7204   45.0           24.18           0               9   \n",
       "\n",
       "    stock_status id_web  \n",
       "19    outofstock    NaN  \n",
       "49    outofstock    NaN  \n",
       "50    outofstock    NaN  \n",
       "119   outofstock    NaN  \n",
       "131   outofstock    NaN  \n",
       "..           ...    ...  \n",
       "817      instock    NaN  \n",
       "818      instock    NaN  \n",
       "819      instock    NaN  \n",
       "820      instock    NaN  \n",
       "821      instock    NaN  \n",
       "\n",
       "[91 rows x 7 columns]"
      ]
     },
     "execution_count": 113,
     "metadata": {},
     "output_type": "execute_result"
    }
   ],
   "source": [
    "#Vérification des valeurs manquantes dans la colonne id_web\n",
    "inner_join_erp_liaison_id_web_valeurs_nulles = inner_join_erp_liaison[inner_join_erp_liaison['id_web'].isnull()]\n",
    "inner_join_erp_liaison_id_web_valeurs_nulles"
   ]
  },
  {
   "cell_type": "code",
   "execution_count": 114,
   "id": "1be1d615",
   "metadata": {},
   "outputs": [
    {
     "data": {
      "text/html": [
       "<div>\n",
       "<style scoped>\n",
       "    .dataframe tbody tr th:only-of-type {\n",
       "        vertical-align: middle;\n",
       "    }\n",
       "\n",
       "    .dataframe tbody tr th {\n",
       "        vertical-align: top;\n",
       "    }\n",
       "\n",
       "    .dataframe thead th {\n",
       "        text-align: right;\n",
       "    }\n",
       "</style>\n",
       "<table border=\"1\" class=\"dataframe\">\n",
       "  <thead>\n",
       "    <tr style=\"text-align: right;\">\n",
       "      <th></th>\n",
       "      <th>product_id</th>\n",
       "      <th>price</th>\n",
       "      <th>purchase_price</th>\n",
       "      <th>onsale_web</th>\n",
       "      <th>stock_quantity</th>\n",
       "      <th>stock_status</th>\n",
       "      <th>id_web</th>\n",
       "    </tr>\n",
       "  </thead>\n",
       "  <tbody>\n",
       "    <tr>\n",
       "      <th>19</th>\n",
       "      <td>4055</td>\n",
       "      <td>86.1</td>\n",
       "      <td>37.88</td>\n",
       "      <td>0</td>\n",
       "      <td>0</td>\n",
       "      <td>outofstock</td>\n",
       "      <td>NaN</td>\n",
       "    </tr>\n",
       "    <tr>\n",
       "      <th>49</th>\n",
       "      <td>4090</td>\n",
       "      <td>73.0</td>\n",
       "      <td>33.79</td>\n",
       "      <td>0</td>\n",
       "      <td>0</td>\n",
       "      <td>outofstock</td>\n",
       "      <td>NaN</td>\n",
       "    </tr>\n",
       "    <tr>\n",
       "      <th>50</th>\n",
       "      <td>4092</td>\n",
       "      <td>47.0</td>\n",
       "      <td>25.25</td>\n",
       "      <td>0</td>\n",
       "      <td>0</td>\n",
       "      <td>outofstock</td>\n",
       "      <td>NaN</td>\n",
       "    </tr>\n",
       "    <tr>\n",
       "      <th>119</th>\n",
       "      <td>4195</td>\n",
       "      <td>14.1</td>\n",
       "      <td>7.36</td>\n",
       "      <td>0</td>\n",
       "      <td>0</td>\n",
       "      <td>outofstock</td>\n",
       "      <td>NaN</td>\n",
       "    </tr>\n",
       "    <tr>\n",
       "      <th>123</th>\n",
       "      <td>4200</td>\n",
       "      <td>5.8</td>\n",
       "      <td>3.12</td>\n",
       "      <td>0</td>\n",
       "      <td>33</td>\n",
       "      <td>instock</td>\n",
       "      <td>16295</td>\n",
       "    </tr>\n",
       "    <tr>\n",
       "      <th>...</th>\n",
       "      <td>...</td>\n",
       "      <td>...</td>\n",
       "      <td>...</td>\n",
       "      <td>...</td>\n",
       "      <td>...</td>\n",
       "      <td>...</td>\n",
       "      <td>...</td>\n",
       "    </tr>\n",
       "    <tr>\n",
       "      <th>818</th>\n",
       "      <td>7200</td>\n",
       "      <td>31.0</td>\n",
       "      <td>15.54</td>\n",
       "      <td>0</td>\n",
       "      <td>6</td>\n",
       "      <td>instock</td>\n",
       "      <td>NaN</td>\n",
       "    </tr>\n",
       "    <tr>\n",
       "      <th>819</th>\n",
       "      <td>7201</td>\n",
       "      <td>31.0</td>\n",
       "      <td>16.02</td>\n",
       "      <td>0</td>\n",
       "      <td>18</td>\n",
       "      <td>instock</td>\n",
       "      <td>NaN</td>\n",
       "    </tr>\n",
       "    <tr>\n",
       "      <th>820</th>\n",
       "      <td>7203</td>\n",
       "      <td>45.0</td>\n",
       "      <td>23.48</td>\n",
       "      <td>0</td>\n",
       "      <td>30</td>\n",
       "      <td>instock</td>\n",
       "      <td>NaN</td>\n",
       "    </tr>\n",
       "    <tr>\n",
       "      <th>821</th>\n",
       "      <td>7204</td>\n",
       "      <td>45.0</td>\n",
       "      <td>24.18</td>\n",
       "      <td>0</td>\n",
       "      <td>9</td>\n",
       "      <td>instock</td>\n",
       "      <td>NaN</td>\n",
       "    </tr>\n",
       "    <tr>\n",
       "      <th>823</th>\n",
       "      <td>7329</td>\n",
       "      <td>26.5</td>\n",
       "      <td>13.42</td>\n",
       "      <td>0</td>\n",
       "      <td>14</td>\n",
       "      <td>instock</td>\n",
       "      <td>14680-1</td>\n",
       "    </tr>\n",
       "  </tbody>\n",
       "</table>\n",
       "<p>109 rows × 7 columns</p>\n",
       "</div>"
      ],
      "text/plain": [
       "     product_id  price  purchase_price  onsale_web  stock_quantity  \\\n",
       "19         4055   86.1           37.88           0               0   \n",
       "49         4090   73.0           33.79           0               0   \n",
       "50         4092   47.0           25.25           0               0   \n",
       "119        4195   14.1            7.36           0               0   \n",
       "123        4200    5.8            3.12           0              33   \n",
       "..          ...    ...             ...         ...             ...   \n",
       "818        7200   31.0           15.54           0               6   \n",
       "819        7201   31.0           16.02           0              18   \n",
       "820        7203   45.0           23.48           0              30   \n",
       "821        7204   45.0           24.18           0               9   \n",
       "823        7329   26.5           13.42           0              14   \n",
       "\n",
       "    stock_status   id_web  \n",
       "19    outofstock      NaN  \n",
       "49    outofstock      NaN  \n",
       "50    outofstock      NaN  \n",
       "119   outofstock      NaN  \n",
       "123      instock    16295  \n",
       "..           ...      ...  \n",
       "818      instock      NaN  \n",
       "819      instock      NaN  \n",
       "820      instock      NaN  \n",
       "821      instock      NaN  \n",
       "823      instock  14680-1  \n",
       "\n",
       "[109 rows x 7 columns]"
      ]
     },
     "execution_count": 114,
     "metadata": {},
     "output_type": "execute_result"
    }
   ],
   "source": [
    "#Vérification des valeurs onsale_web égales à zéro\n",
    "inner_join_erp_liaison_onsale_web_valeurs_zero = inner_join_erp_liaison[inner_join_erp_liaison['onsale_web'] ==0]\n",
    "inner_join_erp_liaison_onsale_web_valeurs_zero"
   ]
  },
  {
   "cell_type": "code",
   "execution_count": 115,
   "id": "f04ac7de",
   "metadata": {},
   "outputs": [
    {
     "name": "stdout",
     "output_type": "stream",
     "text": [
      "Nombre de lignes avec un 'id_web' et 'onsale_web' égal à zéro : 21\n"
     ]
    }
   ],
   "source": [
    "#Afficher les lignes où 'id_web' n'est pas null et 'onsale_web' est égal à zéro\n",
    "inner_join_erp_liaison_id_web_sans_onsale_web = inner_join_erp_liaison[(inner_join_erp_liaison['id_web'].notnull()) & (inner_join_erp_liaison['onsale_web'] == 0)]\n",
    "inner_join_erp_liaison_id_web_sans_onsale_web\n",
    "\n",
    "#Compter le nombre de lignes\n",
    "inner_join_erp_liaison_id_web_sans_onsale_web_nombre_de_lignes = inner_join_erp_liaison_id_web_sans_onsale_web.shape[0]\n",
    "\n",
    "#Afficher le résultat\n",
    "print(f\"Nombre de lignes avec un 'id_web' et 'onsale_web' égal à zéro : {inner_join_erp_liaison_id_web_sans_onsale_web_nombre_de_lignes}\")"
   ]
  },
  {
   "cell_type": "code",
   "execution_count": 116,
   "id": "3eedf9ab",
   "metadata": {},
   "outputs": [
    {
     "data": {
      "text/html": [
       "<div>\n",
       "<style scoped>\n",
       "    .dataframe tbody tr th:only-of-type {\n",
       "        vertical-align: middle;\n",
       "    }\n",
       "\n",
       "    .dataframe tbody tr th {\n",
       "        vertical-align: top;\n",
       "    }\n",
       "\n",
       "    .dataframe thead th {\n",
       "        text-align: right;\n",
       "    }\n",
       "</style>\n",
       "<table border=\"1\" class=\"dataframe\">\n",
       "  <thead>\n",
       "    <tr style=\"text-align: right;\">\n",
       "      <th></th>\n",
       "      <th>product_id</th>\n",
       "      <th>price</th>\n",
       "      <th>purchase_price</th>\n",
       "      <th>onsale_web</th>\n",
       "      <th>stock_quantity</th>\n",
       "      <th>stock_status</th>\n",
       "      <th>id_web</th>\n",
       "    </tr>\n",
       "  </thead>\n",
       "  <tbody>\n",
       "    <tr>\n",
       "      <th>123</th>\n",
       "      <td>4200</td>\n",
       "      <td>5.8</td>\n",
       "      <td>3.12</td>\n",
       "      <td>0</td>\n",
       "      <td>33</td>\n",
       "      <td>instock</td>\n",
       "      <td>16295</td>\n",
       "    </tr>\n",
       "    <tr>\n",
       "      <th>193</th>\n",
       "      <td>4289</td>\n",
       "      <td>22.8</td>\n",
       "      <td>11.90</td>\n",
       "      <td>0</td>\n",
       "      <td>0</td>\n",
       "      <td>outofstock</td>\n",
       "      <td>13771</td>\n",
       "    </tr>\n",
       "    <tr>\n",
       "      <th>236</th>\n",
       "      <td>4568</td>\n",
       "      <td>21.5</td>\n",
       "      <td>11.22</td>\n",
       "      <td>0</td>\n",
       "      <td>0</td>\n",
       "      <td>outofstock</td>\n",
       "      <td>15065</td>\n",
       "    </tr>\n",
       "    <tr>\n",
       "      <th>241</th>\n",
       "      <td>4584</td>\n",
       "      <td>32.3</td>\n",
       "      <td>17.36</td>\n",
       "      <td>0</td>\n",
       "      <td>0</td>\n",
       "      <td>outofstock</td>\n",
       "      <td>14785</td>\n",
       "    </tr>\n",
       "    <tr>\n",
       "      <th>355</th>\n",
       "      <td>4741</td>\n",
       "      <td>12.4</td>\n",
       "      <td>6.66</td>\n",
       "      <td>0</td>\n",
       "      <td>0</td>\n",
       "      <td>outofstock</td>\n",
       "      <td>12601</td>\n",
       "    </tr>\n",
       "    <tr>\n",
       "      <th>391</th>\n",
       "      <td>4864</td>\n",
       "      <td>8.3</td>\n",
       "      <td>9.99</td>\n",
       "      <td>0</td>\n",
       "      <td>0</td>\n",
       "      <td>outofstock</td>\n",
       "      <td>15154</td>\n",
       "    </tr>\n",
       "    <tr>\n",
       "      <th>394</th>\n",
       "      <td>4869</td>\n",
       "      <td>17.2</td>\n",
       "      <td>9.33</td>\n",
       "      <td>0</td>\n",
       "      <td>0</td>\n",
       "      <td>outofstock</td>\n",
       "      <td>14360</td>\n",
       "    </tr>\n",
       "    <tr>\n",
       "      <th>424</th>\n",
       "      <td>4921</td>\n",
       "      <td>13.8</td>\n",
       "      <td>7.13</td>\n",
       "      <td>0</td>\n",
       "      <td>0</td>\n",
       "      <td>outofstock</td>\n",
       "      <td>15608</td>\n",
       "    </tr>\n",
       "    <tr>\n",
       "      <th>425</th>\n",
       "      <td>4922</td>\n",
       "      <td>21.5</td>\n",
       "      <td>10.55</td>\n",
       "      <td>0</td>\n",
       "      <td>0</td>\n",
       "      <td>outofstock</td>\n",
       "      <td>15586</td>\n",
       "    </tr>\n",
       "    <tr>\n",
       "      <th>470</th>\n",
       "      <td>5018</td>\n",
       "      <td>15.4</td>\n",
       "      <td>7.72</td>\n",
       "      <td>0</td>\n",
       "      <td>0</td>\n",
       "      <td>outofstock</td>\n",
       "      <td>15272</td>\n",
       "    </tr>\n",
       "    <tr>\n",
       "      <th>473</th>\n",
       "      <td>5021</td>\n",
       "      <td>17.1</td>\n",
       "      <td>8.92</td>\n",
       "      <td>0</td>\n",
       "      <td>0</td>\n",
       "      <td>outofstock</td>\n",
       "      <td>15630</td>\n",
       "    </tr>\n",
       "    <tr>\n",
       "      <th>523</th>\n",
       "      <td>5505</td>\n",
       "      <td>10.1</td>\n",
       "      <td>5.22</td>\n",
       "      <td>0</td>\n",
       "      <td>0</td>\n",
       "      <td>outofstock</td>\n",
       "      <td>14648</td>\n",
       "    </tr>\n",
       "    <tr>\n",
       "      <th>540</th>\n",
       "      <td>5559</td>\n",
       "      <td>27.9</td>\n",
       "      <td>13.98</td>\n",
       "      <td>0</td>\n",
       "      <td>3</td>\n",
       "      <td>instock</td>\n",
       "      <td>14715</td>\n",
       "    </tr>\n",
       "    <tr>\n",
       "      <th>548</th>\n",
       "      <td>5570</td>\n",
       "      <td>22.5</td>\n",
       "      <td>11.16</td>\n",
       "      <td>0</td>\n",
       "      <td>0</td>\n",
       "      <td>outofstock</td>\n",
       "      <td>14730</td>\n",
       "    </tr>\n",
       "    <tr>\n",
       "      <th>613</th>\n",
       "      <td>5800</td>\n",
       "      <td>32.3</td>\n",
       "      <td>16.02</td>\n",
       "      <td>0</td>\n",
       "      <td>0</td>\n",
       "      <td>outofstock</td>\n",
       "      <td>14689</td>\n",
       "    </tr>\n",
       "    <tr>\n",
       "      <th>660</th>\n",
       "      <td>5953</td>\n",
       "      <td>47.5</td>\n",
       "      <td>23.81</td>\n",
       "      <td>0</td>\n",
       "      <td>0</td>\n",
       "      <td>outofstock</td>\n",
       "      <td>14379</td>\n",
       "    </tr>\n",
       "    <tr>\n",
       "      <th>661</th>\n",
       "      <td>5954</td>\n",
       "      <td>18.8</td>\n",
       "      <td>9.32</td>\n",
       "      <td>0</td>\n",
       "      <td>0</td>\n",
       "      <td>outofstock</td>\n",
       "      <td>15609</td>\n",
       "    </tr>\n",
       "    <tr>\n",
       "      <th>662</th>\n",
       "      <td>5955</td>\n",
       "      <td>27.3</td>\n",
       "      <td>13.68</td>\n",
       "      <td>0</td>\n",
       "      <td>0</td>\n",
       "      <td>outofstock</td>\n",
       "      <td>14377</td>\n",
       "    </tr>\n",
       "    <tr>\n",
       "      <th>664</th>\n",
       "      <td>5957</td>\n",
       "      <td>39.0</td>\n",
       "      <td>20.75</td>\n",
       "      <td>0</td>\n",
       "      <td>0</td>\n",
       "      <td>outofstock</td>\n",
       "      <td>13577</td>\n",
       "    </tr>\n",
       "    <tr>\n",
       "      <th>687</th>\n",
       "      <td>6100</td>\n",
       "      <td>12.9</td>\n",
       "      <td>6.47</td>\n",
       "      <td>0</td>\n",
       "      <td>0</td>\n",
       "      <td>outofstock</td>\n",
       "      <td>15529</td>\n",
       "    </tr>\n",
       "    <tr>\n",
       "      <th>823</th>\n",
       "      <td>7329</td>\n",
       "      <td>26.5</td>\n",
       "      <td>13.42</td>\n",
       "      <td>0</td>\n",
       "      <td>14</td>\n",
       "      <td>instock</td>\n",
       "      <td>14680-1</td>\n",
       "    </tr>\n",
       "  </tbody>\n",
       "</table>\n",
       "</div>"
      ],
      "text/plain": [
       "     product_id  price  purchase_price  onsale_web  stock_quantity  \\\n",
       "123        4200    5.8            3.12           0              33   \n",
       "193        4289   22.8           11.90           0               0   \n",
       "236        4568   21.5           11.22           0               0   \n",
       "241        4584   32.3           17.36           0               0   \n",
       "355        4741   12.4            6.66           0               0   \n",
       "391        4864    8.3            9.99           0               0   \n",
       "394        4869   17.2            9.33           0               0   \n",
       "424        4921   13.8            7.13           0               0   \n",
       "425        4922   21.5           10.55           0               0   \n",
       "470        5018   15.4            7.72           0               0   \n",
       "473        5021   17.1            8.92           0               0   \n",
       "523        5505   10.1            5.22           0               0   \n",
       "540        5559   27.9           13.98           0               3   \n",
       "548        5570   22.5           11.16           0               0   \n",
       "613        5800   32.3           16.02           0               0   \n",
       "660        5953   47.5           23.81           0               0   \n",
       "661        5954   18.8            9.32           0               0   \n",
       "662        5955   27.3           13.68           0               0   \n",
       "664        5957   39.0           20.75           0               0   \n",
       "687        6100   12.9            6.47           0               0   \n",
       "823        7329   26.5           13.42           0              14   \n",
       "\n",
       "    stock_status   id_web  \n",
       "123      instock    16295  \n",
       "193   outofstock    13771  \n",
       "236   outofstock    15065  \n",
       "241   outofstock    14785  \n",
       "355   outofstock    12601  \n",
       "391   outofstock    15154  \n",
       "394   outofstock    14360  \n",
       "424   outofstock    15608  \n",
       "425   outofstock    15586  \n",
       "470   outofstock    15272  \n",
       "473   outofstock    15630  \n",
       "523   outofstock    14648  \n",
       "540      instock    14715  \n",
       "548   outofstock    14730  \n",
       "613   outofstock    14689  \n",
       "660   outofstock    14379  \n",
       "661   outofstock    15609  \n",
       "662   outofstock    14377  \n",
       "664   outofstock    13577  \n",
       "687   outofstock    15529  \n",
       "823      instock  14680-1  "
      ]
     },
     "execution_count": 116,
     "metadata": {},
     "output_type": "execute_result"
    }
   ],
   "source": [
    "inner_join_erp_liaison_id_web_sans_onsale_web"
   ]
  },
  {
   "cell_type": "markdown",
   "id": "29baf2cb",
   "metadata": {},
   "source": [
    "<div style=\"font-size: 18px;\">Il y a 3 valeurs nulles dans la colonne <strong>price</strong> (anciens prix négatifs)<br>\n",
    "Il y a 91 valeurs nulles dans la colonne <strong>id_web</strong> pour 109 valeurs égales à 0 dans <strong>onsale_web</strong> (716 produits référencés dans web)<br>\n",
    "Le stagiaire a donc bien mis à jour la liste en référençant 18 produits supplémentaires sur le web. Il y a aussi 3 produits qui ont un <strong>id_web</strong> mais qui ne sont pas (ou plus) vendus sur le web.\n",
    "</div>"
   ]
  },
  {
   "cell_type": "markdown",
   "id": "fe4c51d7",
   "metadata": {},
   "source": [
    "<div style=\"border: 1px solid RGB(51,165,182);\" >\n",
    "<h3 style=\"margin: auto; padding: 20px; color: RGB(51,165,182); \">Etape 3.2 - Jonction des fichiers inner_join_erp_liaison et web</h3>\n",
    "</div>"
   ]
  },
  {
   "cell_type": "code",
   "execution_count": 117,
   "id": "562a69b2",
   "metadata": {},
   "outputs": [
    {
     "data": {
      "text/html": [
       "<div>\n",
       "<style scoped>\n",
       "    .dataframe tbody tr th:only-of-type {\n",
       "        vertical-align: middle;\n",
       "    }\n",
       "\n",
       "    .dataframe tbody tr th {\n",
       "        vertical-align: top;\n",
       "    }\n",
       "\n",
       "    .dataframe thead th {\n",
       "        text-align: right;\n",
       "    }\n",
       "</style>\n",
       "<table border=\"1\" class=\"dataframe\">\n",
       "  <thead>\n",
       "    <tr style=\"text-align: right;\">\n",
       "      <th></th>\n",
       "      <th>product_id</th>\n",
       "      <th>price</th>\n",
       "      <th>purchase_price</th>\n",
       "      <th>onsale_web</th>\n",
       "      <th>stock_quantity</th>\n",
       "      <th>stock_status</th>\n",
       "      <th>id_web</th>\n",
       "      <th>total_sales</th>\n",
       "      <th>product_type</th>\n",
       "      <th>post_title</th>\n",
       "      <th>post_name</th>\n",
       "      <th>post_date_gmt</th>\n",
       "      <th>post_modified_gmt</th>\n",
       "      <th>post_author</th>\n",
       "      <th>post_type</th>\n",
       "      <th>post_excerpt</th>\n",
       "      <th>guid</th>\n",
       "      <th>_merge</th>\n",
       "    </tr>\n",
       "  </thead>\n",
       "  <tbody>\n",
       "    <tr>\n",
       "      <th>0</th>\n",
       "      <td>4729.0</td>\n",
       "      <td>8.6</td>\n",
       "      <td>4.22</td>\n",
       "      <td>1.0</td>\n",
       "      <td>26.0</td>\n",
       "      <td>instock</td>\n",
       "      <td>38</td>\n",
       "      <td>10.0</td>\n",
       "      <td>Vin</td>\n",
       "      <td>Emile Boeckel Crémant Brut Blanc de Blancs</td>\n",
       "      <td>emile-boeckel-cremant-brut-blanc-de-blancs</td>\n",
       "      <td>2018-04-18 10:25:58</td>\n",
       "      <td>2020-08-27 15:15:03</td>\n",
       "      <td>2.0</td>\n",
       "      <td>product</td>\n",
       "      <td>Ce Crémant est vif et délicat, gourmand et cro...</td>\n",
       "      <td>https://www.bottle-neck.fr/?post_type=product&amp;...</td>\n",
       "      <td>both</td>\n",
       "    </tr>\n",
       "    <tr>\n",
       "      <th>1</th>\n",
       "      <td>4634.0</td>\n",
       "      <td>41.0</td>\n",
       "      <td>20.12</td>\n",
       "      <td>1.0</td>\n",
       "      <td>11.0</td>\n",
       "      <td>instock</td>\n",
       "      <td>41</td>\n",
       "      <td>6.0</td>\n",
       "      <td>Vin</td>\n",
       "      <td>Marcel Windholtz Eau de Vie de Marc de Gewurzt...</td>\n",
       "      <td>marcel-windholtz-eau-de-marc-de-gewurztraminer</td>\n",
       "      <td>2018-04-14 10:01:43</td>\n",
       "      <td>2020-08-03 08:25:02</td>\n",
       "      <td>2.0</td>\n",
       "      <td>product</td>\n",
       "      <td>Les eaux de vie naissent d'une subtile alchimi...</td>\n",
       "      <td>https://www.bottle-neck.fr/?post_type=product&amp;...</td>\n",
       "      <td>both</td>\n",
       "    </tr>\n",
       "    <tr>\n",
       "      <th>2</th>\n",
       "      <td>4141.0</td>\n",
       "      <td>39.0</td>\n",
       "      <td>24.86</td>\n",
       "      <td>1.0</td>\n",
       "      <td>123.0</td>\n",
       "      <td>instock</td>\n",
       "      <td>304</td>\n",
       "      <td>8.0</td>\n",
       "      <td>Champagne</td>\n",
       "      <td>Champagne Gosset Grande Réserve</td>\n",
       "      <td>gosset-champagne-grande-reserve</td>\n",
       "      <td>2018-02-13 11:57:44</td>\n",
       "      <td>2020-08-27 09:25:02</td>\n",
       "      <td>2.0</td>\n",
       "      <td>product</td>\n",
       "      <td>Le nez, ouvert et expressif, évoque les fruits...</td>\n",
       "      <td>https://www.bottle-neck.fr/?post_type=product&amp;...</td>\n",
       "      <td>both</td>\n",
       "    </tr>\n",
       "    <tr>\n",
       "      <th>3</th>\n",
       "      <td>5932.0</td>\n",
       "      <td>59.9</td>\n",
       "      <td>27.18</td>\n",
       "      <td>1.0</td>\n",
       "      <td>13.0</td>\n",
       "      <td>instock</td>\n",
       "      <td>523</td>\n",
       "      <td>0.0</td>\n",
       "      <td>Cognac</td>\n",
       "      <td>Cognac Normandin Mercier VFC</td>\n",
       "      <td>cognac-normandin-mercier-vfc</td>\n",
       "      <td>2019-04-06 13:25:58</td>\n",
       "      <td>2020-08-12 14:45:03</td>\n",
       "      <td>2.0</td>\n",
       "      <td>product</td>\n",
       "      <td>Issus des meilleurs crus de Grande et de Petit...</td>\n",
       "      <td>https://www.bottle-neck.fr/?post_type=product&amp;...</td>\n",
       "      <td>both</td>\n",
       "    </tr>\n",
       "    <tr>\n",
       "      <th>4</th>\n",
       "      <td>5047.0</td>\n",
       "      <td>22.5</td>\n",
       "      <td>13.78</td>\n",
       "      <td>1.0</td>\n",
       "      <td>76.0</td>\n",
       "      <td>instock</td>\n",
       "      <td>531</td>\n",
       "      <td>8.0</td>\n",
       "      <td>Champagne</td>\n",
       "      <td>Champagne Petit Lebrun &amp;amp; Fils Blanc de Bla...</td>\n",
       "      <td>champagne-petit-lebrun-fils-blanc-de-blancs-gr...</td>\n",
       "      <td>2018-07-18 13:58:02</td>\n",
       "      <td>2020-08-27 13:35:03</td>\n",
       "      <td>2.0</td>\n",
       "      <td>product</td>\n",
       "      <td>Cuvée bien équilibrée à la fois vive et souple...</td>\n",
       "      <td>https://www.bottle-neck.fr/?post_type=product&amp;...</td>\n",
       "      <td>both</td>\n",
       "    </tr>\n",
       "  </tbody>\n",
       "</table>\n",
       "</div>"
      ],
      "text/plain": [
       "   product_id  price  purchase_price  onsale_web  stock_quantity stock_status  \\\n",
       "0      4729.0    8.6            4.22         1.0            26.0      instock   \n",
       "1      4634.0   41.0           20.12         1.0            11.0      instock   \n",
       "2      4141.0   39.0           24.86         1.0           123.0      instock   \n",
       "3      5932.0   59.9           27.18         1.0            13.0      instock   \n",
       "4      5047.0   22.5           13.78         1.0            76.0      instock   \n",
       "\n",
       "  id_web  total_sales product_type  \\\n",
       "0     38         10.0          Vin   \n",
       "1     41          6.0          Vin   \n",
       "2    304          8.0    Champagne   \n",
       "3    523          0.0       Cognac   \n",
       "4    531          8.0    Champagne   \n",
       "\n",
       "                                          post_title  \\\n",
       "0         Emile Boeckel Crémant Brut Blanc de Blancs   \n",
       "1  Marcel Windholtz Eau de Vie de Marc de Gewurzt...   \n",
       "2                    Champagne Gosset Grande Réserve   \n",
       "3                       Cognac Normandin Mercier VFC   \n",
       "4  Champagne Petit Lebrun &amp; Fils Blanc de Bla...   \n",
       "\n",
       "                                           post_name       post_date_gmt  \\\n",
       "0         emile-boeckel-cremant-brut-blanc-de-blancs 2018-04-18 10:25:58   \n",
       "1     marcel-windholtz-eau-de-marc-de-gewurztraminer 2018-04-14 10:01:43   \n",
       "2                    gosset-champagne-grande-reserve 2018-02-13 11:57:44   \n",
       "3                       cognac-normandin-mercier-vfc 2019-04-06 13:25:58   \n",
       "4  champagne-petit-lebrun-fils-blanc-de-blancs-gr... 2018-07-18 13:58:02   \n",
       "\n",
       "    post_modified_gmt  post_author post_type  \\\n",
       "0 2020-08-27 15:15:03          2.0   product   \n",
       "1 2020-08-03 08:25:02          2.0   product   \n",
       "2 2020-08-27 09:25:02          2.0   product   \n",
       "3 2020-08-12 14:45:03          2.0   product   \n",
       "4 2020-08-27 13:35:03          2.0   product   \n",
       "\n",
       "                                        post_excerpt  \\\n",
       "0  Ce Crémant est vif et délicat, gourmand et cro...   \n",
       "1  Les eaux de vie naissent d'une subtile alchimi...   \n",
       "2  Le nez, ouvert et expressif, évoque les fruits...   \n",
       "3  Issus des meilleurs crus de Grande et de Petit...   \n",
       "4  Cuvée bien équilibrée à la fois vive et souple...   \n",
       "\n",
       "                                                guid _merge  \n",
       "0  https://www.bottle-neck.fr/?post_type=product&...   both  \n",
       "1  https://www.bottle-neck.fr/?post_type=product&...   both  \n",
       "2  https://www.bottle-neck.fr/?post_type=product&...   both  \n",
       "3  https://www.bottle-neck.fr/?post_type=product&...   both  \n",
       "4  https://www.bottle-neck.fr/?post_type=product&...   both  "
      ]
     },
     "execution_count": 117,
     "metadata": {},
     "output_type": "execute_result"
    }
   ],
   "source": [
    "#Fusion des fichiers inner_join_erp_liaison et web en activant l'option de .merge indicator = True\n",
    "merge2 = pd.merge(inner_join_erp_liaison, web, on='id_web', how='outer', indicator=True)\n",
    "\n",
    "#Afficher le résultat\n",
    "merge2.head()"
   ]
  },
  {
   "cell_type": "code",
   "execution_count": 118,
   "id": "1001b01a",
   "metadata": {},
   "outputs": [
    {
     "name": "stdout",
     "output_type": "stream",
     "text": [
      "Nombre de lignes uniquement dans inner_join_erp_liaison ('left_only') : 111 (13.42%)\n",
      "Nombre de lignes uniquement dans web ('right_only') : 2 (0.24%)\n"
     ]
    }
   ],
   "source": [
    "#Analyser des 'left_only' (présents uniquement dans erp) et 'right_only' (présents uniquement dans liaison)\n",
    "left_only2 = merge2[merge2['_merge'] == 'left_only']\n",
    "right_only2 = merge2[merge2['_merge'] == 'right_only']\n",
    "\n",
    "#Compter le nombre de lignes \"left_only\" et \"right_only\"\n",
    "merge2_left_only_nombre = len(left_only2)\n",
    "merge2_right_only_nombre = len(right_only2)\n",
    "\n",
    "#Calculer le pourcentage de lignes \"left_only\" et \"right_only\"\n",
    "total_rows = len(merge2)\n",
    "left_only2_pourcentage = (merge2_left_only_nombre / total_rows) * 100\n",
    "right_only2_pourcentage = (merge2_right_only_nombre / total_rows) * 100\n",
    "\n",
    "#Afficher les résultats\n",
    "print(f\"Nombre de lignes uniquement dans inner_join_erp_liaison ('left_only') : {merge2_left_only_nombre} ({left_only2_pourcentage:.2f}%)\")\n",
    "print(f\"Nombre de lignes uniquement dans web ('right_only') : {merge2_right_only_nombre} ({right_only2_pourcentage:.2f}%)\")\n"
   ]
  },
  {
   "cell_type": "code",
   "execution_count": 119,
   "id": "82abde09",
   "metadata": {},
   "outputs": [
    {
     "data": {
      "text/html": [
       "<div>\n",
       "<style scoped>\n",
       "    .dataframe tbody tr th:only-of-type {\n",
       "        vertical-align: middle;\n",
       "    }\n",
       "\n",
       "    .dataframe tbody tr th {\n",
       "        vertical-align: top;\n",
       "    }\n",
       "\n",
       "    .dataframe thead th {\n",
       "        text-align: right;\n",
       "    }\n",
       "</style>\n",
       "<table border=\"1\" class=\"dataframe\">\n",
       "  <thead>\n",
       "    <tr style=\"text-align: right;\">\n",
       "      <th></th>\n",
       "      <th>product_id</th>\n",
       "      <th>price</th>\n",
       "      <th>purchase_price</th>\n",
       "      <th>onsale_web</th>\n",
       "      <th>stock_quantity</th>\n",
       "      <th>stock_status</th>\n",
       "      <th>id_web</th>\n",
       "      <th>total_sales</th>\n",
       "      <th>product_type</th>\n",
       "      <th>post_title</th>\n",
       "      <th>post_name</th>\n",
       "      <th>post_date_gmt</th>\n",
       "      <th>post_modified_gmt</th>\n",
       "      <th>post_author</th>\n",
       "      <th>post_type</th>\n",
       "      <th>post_excerpt</th>\n",
       "      <th>guid</th>\n",
       "      <th>_merge</th>\n",
       "    </tr>\n",
       "  </thead>\n",
       "  <tbody>\n",
       "    <tr>\n",
       "      <th>81</th>\n",
       "      <td>4741.0</td>\n",
       "      <td>12.4</td>\n",
       "      <td>6.66</td>\n",
       "      <td>0.0</td>\n",
       "      <td>0.0</td>\n",
       "      <td>outofstock</td>\n",
       "      <td>12601</td>\n",
       "      <td>NaN</td>\n",
       "      <td>NaN</td>\n",
       "      <td>NaN</td>\n",
       "      <td>NaN</td>\n",
       "      <td>NaT</td>\n",
       "      <td>NaT</td>\n",
       "      <td>NaN</td>\n",
       "      <td>NaN</td>\n",
       "      <td>NaN</td>\n",
       "      <td>NaN</td>\n",
       "      <td>left_only</td>\n",
       "    </tr>\n",
       "    <tr>\n",
       "      <th>127</th>\n",
       "      <td>5957.0</td>\n",
       "      <td>39.0</td>\n",
       "      <td>20.75</td>\n",
       "      <td>0.0</td>\n",
       "      <td>0.0</td>\n",
       "      <td>outofstock</td>\n",
       "      <td>13577</td>\n",
       "      <td>NaN</td>\n",
       "      <td>NaN</td>\n",
       "      <td>NaN</td>\n",
       "      <td>NaN</td>\n",
       "      <td>NaT</td>\n",
       "      <td>NaT</td>\n",
       "      <td>NaN</td>\n",
       "      <td>NaN</td>\n",
       "      <td>NaN</td>\n",
       "      <td>NaN</td>\n",
       "      <td>left_only</td>\n",
       "    </tr>\n",
       "    <tr>\n",
       "      <th>139</th>\n",
       "      <td>4289.0</td>\n",
       "      <td>22.8</td>\n",
       "      <td>11.90</td>\n",
       "      <td>0.0</td>\n",
       "      <td>0.0</td>\n",
       "      <td>outofstock</td>\n",
       "      <td>13771</td>\n",
       "      <td>NaN</td>\n",
       "      <td>NaN</td>\n",
       "      <td>NaN</td>\n",
       "      <td>NaN</td>\n",
       "      <td>NaT</td>\n",
       "      <td>NaT</td>\n",
       "      <td>NaN</td>\n",
       "      <td>NaN</td>\n",
       "      <td>NaN</td>\n",
       "      <td>NaN</td>\n",
       "      <td>left_only</td>\n",
       "    </tr>\n",
       "    <tr>\n",
       "      <th>180</th>\n",
       "      <td>4869.0</td>\n",
       "      <td>17.2</td>\n",
       "      <td>9.33</td>\n",
       "      <td>0.0</td>\n",
       "      <td>0.0</td>\n",
       "      <td>outofstock</td>\n",
       "      <td>14360</td>\n",
       "      <td>NaN</td>\n",
       "      <td>NaN</td>\n",
       "      <td>NaN</td>\n",
       "      <td>NaN</td>\n",
       "      <td>NaT</td>\n",
       "      <td>NaT</td>\n",
       "      <td>NaN</td>\n",
       "      <td>NaN</td>\n",
       "      <td>NaN</td>\n",
       "      <td>NaN</td>\n",
       "      <td>left_only</td>\n",
       "    </tr>\n",
       "    <tr>\n",
       "      <th>185</th>\n",
       "      <td>5955.0</td>\n",
       "      <td>27.3</td>\n",
       "      <td>13.68</td>\n",
       "      <td>0.0</td>\n",
       "      <td>0.0</td>\n",
       "      <td>outofstock</td>\n",
       "      <td>14377</td>\n",
       "      <td>NaN</td>\n",
       "      <td>NaN</td>\n",
       "      <td>NaN</td>\n",
       "      <td>NaN</td>\n",
       "      <td>NaT</td>\n",
       "      <td>NaT</td>\n",
       "      <td>NaN</td>\n",
       "      <td>NaN</td>\n",
       "      <td>NaN</td>\n",
       "      <td>NaN</td>\n",
       "      <td>left_only</td>\n",
       "    </tr>\n",
       "    <tr>\n",
       "      <th>...</th>\n",
       "      <td>...</td>\n",
       "      <td>...</td>\n",
       "      <td>...</td>\n",
       "      <td>...</td>\n",
       "      <td>...</td>\n",
       "      <td>...</td>\n",
       "      <td>...</td>\n",
       "      <td>...</td>\n",
       "      <td>...</td>\n",
       "      <td>...</td>\n",
       "      <td>...</td>\n",
       "      <td>...</td>\n",
       "      <td>...</td>\n",
       "      <td>...</td>\n",
       "      <td>...</td>\n",
       "      <td>...</td>\n",
       "      <td>...</td>\n",
       "      <td>...</td>\n",
       "    </tr>\n",
       "    <tr>\n",
       "      <th>822</th>\n",
       "      <td>7196.0</td>\n",
       "      <td>31.0</td>\n",
       "      <td>31.20</td>\n",
       "      <td>0.0</td>\n",
       "      <td>55.0</td>\n",
       "      <td>instock</td>\n",
       "      <td>NaN</td>\n",
       "      <td>NaN</td>\n",
       "      <td>NaN</td>\n",
       "      <td>NaN</td>\n",
       "      <td>NaN</td>\n",
       "      <td>NaT</td>\n",
       "      <td>NaT</td>\n",
       "      <td>NaN</td>\n",
       "      <td>NaN</td>\n",
       "      <td>NaN</td>\n",
       "      <td>NaN</td>\n",
       "      <td>left_only</td>\n",
       "    </tr>\n",
       "    <tr>\n",
       "      <th>823</th>\n",
       "      <td>7200.0</td>\n",
       "      <td>31.0</td>\n",
       "      <td>15.54</td>\n",
       "      <td>0.0</td>\n",
       "      <td>6.0</td>\n",
       "      <td>instock</td>\n",
       "      <td>NaN</td>\n",
       "      <td>NaN</td>\n",
       "      <td>NaN</td>\n",
       "      <td>NaN</td>\n",
       "      <td>NaN</td>\n",
       "      <td>NaT</td>\n",
       "      <td>NaT</td>\n",
       "      <td>NaN</td>\n",
       "      <td>NaN</td>\n",
       "      <td>NaN</td>\n",
       "      <td>NaN</td>\n",
       "      <td>left_only</td>\n",
       "    </tr>\n",
       "    <tr>\n",
       "      <th>824</th>\n",
       "      <td>7201.0</td>\n",
       "      <td>31.0</td>\n",
       "      <td>16.02</td>\n",
       "      <td>0.0</td>\n",
       "      <td>18.0</td>\n",
       "      <td>instock</td>\n",
       "      <td>NaN</td>\n",
       "      <td>NaN</td>\n",
       "      <td>NaN</td>\n",
       "      <td>NaN</td>\n",
       "      <td>NaN</td>\n",
       "      <td>NaT</td>\n",
       "      <td>NaT</td>\n",
       "      <td>NaN</td>\n",
       "      <td>NaN</td>\n",
       "      <td>NaN</td>\n",
       "      <td>NaN</td>\n",
       "      <td>left_only</td>\n",
       "    </tr>\n",
       "    <tr>\n",
       "      <th>825</th>\n",
       "      <td>7203.0</td>\n",
       "      <td>45.0</td>\n",
       "      <td>23.48</td>\n",
       "      <td>0.0</td>\n",
       "      <td>30.0</td>\n",
       "      <td>instock</td>\n",
       "      <td>NaN</td>\n",
       "      <td>NaN</td>\n",
       "      <td>NaN</td>\n",
       "      <td>NaN</td>\n",
       "      <td>NaN</td>\n",
       "      <td>NaT</td>\n",
       "      <td>NaT</td>\n",
       "      <td>NaN</td>\n",
       "      <td>NaN</td>\n",
       "      <td>NaN</td>\n",
       "      <td>NaN</td>\n",
       "      <td>left_only</td>\n",
       "    </tr>\n",
       "    <tr>\n",
       "      <th>826</th>\n",
       "      <td>7204.0</td>\n",
       "      <td>45.0</td>\n",
       "      <td>24.18</td>\n",
       "      <td>0.0</td>\n",
       "      <td>9.0</td>\n",
       "      <td>instock</td>\n",
       "      <td>NaN</td>\n",
       "      <td>NaN</td>\n",
       "      <td>NaN</td>\n",
       "      <td>NaN</td>\n",
       "      <td>NaN</td>\n",
       "      <td>NaT</td>\n",
       "      <td>NaT</td>\n",
       "      <td>NaN</td>\n",
       "      <td>NaN</td>\n",
       "      <td>NaN</td>\n",
       "      <td>NaN</td>\n",
       "      <td>left_only</td>\n",
       "    </tr>\n",
       "  </tbody>\n",
       "</table>\n",
       "<p>111 rows × 18 columns</p>\n",
       "</div>"
      ],
      "text/plain": [
       "     product_id  price  purchase_price  onsale_web  stock_quantity  \\\n",
       "81       4741.0   12.4            6.66         0.0             0.0   \n",
       "127      5957.0   39.0           20.75         0.0             0.0   \n",
       "139      4289.0   22.8           11.90         0.0             0.0   \n",
       "180      4869.0   17.2            9.33         0.0             0.0   \n",
       "185      5955.0   27.3           13.68         0.0             0.0   \n",
       "..          ...    ...             ...         ...             ...   \n",
       "822      7196.0   31.0           31.20         0.0            55.0   \n",
       "823      7200.0   31.0           15.54         0.0             6.0   \n",
       "824      7201.0   31.0           16.02         0.0            18.0   \n",
       "825      7203.0   45.0           23.48         0.0            30.0   \n",
       "826      7204.0   45.0           24.18         0.0             9.0   \n",
       "\n",
       "    stock_status id_web  total_sales product_type post_title post_name  \\\n",
       "81    outofstock  12601          NaN          NaN        NaN       NaN   \n",
       "127   outofstock  13577          NaN          NaN        NaN       NaN   \n",
       "139   outofstock  13771          NaN          NaN        NaN       NaN   \n",
       "180   outofstock  14360          NaN          NaN        NaN       NaN   \n",
       "185   outofstock  14377          NaN          NaN        NaN       NaN   \n",
       "..           ...    ...          ...          ...        ...       ...   \n",
       "822      instock    NaN          NaN          NaN        NaN       NaN   \n",
       "823      instock    NaN          NaN          NaN        NaN       NaN   \n",
       "824      instock    NaN          NaN          NaN        NaN       NaN   \n",
       "825      instock    NaN          NaN          NaN        NaN       NaN   \n",
       "826      instock    NaN          NaN          NaN        NaN       NaN   \n",
       "\n",
       "    post_date_gmt post_modified_gmt  post_author post_type post_excerpt guid  \\\n",
       "81            NaT               NaT          NaN       NaN          NaN  NaN   \n",
       "127           NaT               NaT          NaN       NaN          NaN  NaN   \n",
       "139           NaT               NaT          NaN       NaN          NaN  NaN   \n",
       "180           NaT               NaT          NaN       NaN          NaN  NaN   \n",
       "185           NaT               NaT          NaN       NaN          NaN  NaN   \n",
       "..            ...               ...          ...       ...          ...  ...   \n",
       "822           NaT               NaT          NaN       NaN          NaN  NaN   \n",
       "823           NaT               NaT          NaN       NaN          NaN  NaN   \n",
       "824           NaT               NaT          NaN       NaN          NaN  NaN   \n",
       "825           NaT               NaT          NaN       NaN          NaN  NaN   \n",
       "826           NaT               NaT          NaN       NaN          NaN  NaN   \n",
       "\n",
       "        _merge  \n",
       "81   left_only  \n",
       "127  left_only  \n",
       "139  left_only  \n",
       "180  left_only  \n",
       "185  left_only  \n",
       "..         ...  \n",
       "822  left_only  \n",
       "823  left_only  \n",
       "824  left_only  \n",
       "825  left_only  \n",
       "826  left_only  \n",
       "\n",
       "[111 rows x 18 columns]"
      ]
     },
     "execution_count": 119,
     "metadata": {},
     "output_type": "execute_result"
    }
   ],
   "source": [
    "#Afficher les lignes uniquement dans inner_join_erp_liaison\n",
    "left_only2"
   ]
  },
  {
   "cell_type": "code",
   "execution_count": 120,
   "id": "fffe9da5",
   "metadata": {},
   "outputs": [
    {
     "data": {
      "text/html": [
       "<div>\n",
       "<style scoped>\n",
       "    .dataframe tbody tr th:only-of-type {\n",
       "        vertical-align: middle;\n",
       "    }\n",
       "\n",
       "    .dataframe tbody tr th {\n",
       "        vertical-align: top;\n",
       "    }\n",
       "\n",
       "    .dataframe thead th {\n",
       "        text-align: right;\n",
       "    }\n",
       "</style>\n",
       "<table border=\"1\" class=\"dataframe\">\n",
       "  <thead>\n",
       "    <tr style=\"text-align: right;\">\n",
       "      <th></th>\n",
       "      <th>product_id</th>\n",
       "      <th>price</th>\n",
       "      <th>purchase_price</th>\n",
       "      <th>onsale_web</th>\n",
       "      <th>stock_quantity</th>\n",
       "      <th>stock_status</th>\n",
       "      <th>id_web</th>\n",
       "      <th>total_sales</th>\n",
       "      <th>product_type</th>\n",
       "      <th>post_title</th>\n",
       "      <th>post_name</th>\n",
       "      <th>post_date_gmt</th>\n",
       "      <th>post_modified_gmt</th>\n",
       "      <th>post_author</th>\n",
       "      <th>post_type</th>\n",
       "      <th>post_excerpt</th>\n",
       "      <th>guid</th>\n",
       "      <th>_merge</th>\n",
       "    </tr>\n",
       "  </thead>\n",
       "  <tbody>\n",
       "    <tr>\n",
       "      <th>733</th>\n",
       "      <td>NaN</td>\n",
       "      <td>NaN</td>\n",
       "      <td>NaN</td>\n",
       "      <td>NaN</td>\n",
       "      <td>NaN</td>\n",
       "      <td>NaN</td>\n",
       "      <td>SKU_null1</td>\n",
       "      <td>NaN</td>\n",
       "      <td>Vin</td>\n",
       "      <td>Pierre Jean Villa Condrieu Jardin Suspendu 2018</td>\n",
       "      <td>pierre-jean-villa-condrieu-suspendu-2018</td>\n",
       "      <td>2018-08-08 09:23:43</td>\n",
       "      <td>2019-11-02 12:24:01</td>\n",
       "      <td>2.0</td>\n",
       "      <td>product</td>\n",
       "      <td>&lt;span id=\"u1194-83\"&gt;Le nez séduit par ses parf...</td>\n",
       "      <td>https://www.bottle-neck.fr/?post_type=product&amp;...</td>\n",
       "      <td>right_only</td>\n",
       "    </tr>\n",
       "    <tr>\n",
       "      <th>734</th>\n",
       "      <td>NaN</td>\n",
       "      <td>NaN</td>\n",
       "      <td>NaN</td>\n",
       "      <td>NaN</td>\n",
       "      <td>NaN</td>\n",
       "      <td>NaN</td>\n",
       "      <td>SKU_null2</td>\n",
       "      <td>NaN</td>\n",
       "      <td>Vin</td>\n",
       "      <td>Pierre Jean Villa Côte Rôtie Fongeant 2017</td>\n",
       "      <td>pierre-jean-villa-cote-rotie-fongeant-2017</td>\n",
       "      <td>2018-07-31 10:07:23</td>\n",
       "      <td>2019-11-02 12:24:15</td>\n",
       "      <td>2.0</td>\n",
       "      <td>product</td>\n",
       "      <td>Fongeant 2017 explose sur un fruit brillant, p...</td>\n",
       "      <td>https://www.bottle-neck.fr/?post_type=product&amp;...</td>\n",
       "      <td>right_only</td>\n",
       "    </tr>\n",
       "  </tbody>\n",
       "</table>\n",
       "</div>"
      ],
      "text/plain": [
       "     product_id  price  purchase_price  onsale_web  stock_quantity  \\\n",
       "733         NaN    NaN             NaN         NaN             NaN   \n",
       "734         NaN    NaN             NaN         NaN             NaN   \n",
       "\n",
       "    stock_status     id_web  total_sales product_type  \\\n",
       "733          NaN  SKU_null1          NaN          Vin   \n",
       "734          NaN  SKU_null2          NaN          Vin   \n",
       "\n",
       "                                          post_title  \\\n",
       "733  Pierre Jean Villa Condrieu Jardin Suspendu 2018   \n",
       "734       Pierre Jean Villa Côte Rôtie Fongeant 2017   \n",
       "\n",
       "                                      post_name       post_date_gmt  \\\n",
       "733    pierre-jean-villa-condrieu-suspendu-2018 2018-08-08 09:23:43   \n",
       "734  pierre-jean-villa-cote-rotie-fongeant-2017 2018-07-31 10:07:23   \n",
       "\n",
       "      post_modified_gmt  post_author post_type  \\\n",
       "733 2019-11-02 12:24:01          2.0   product   \n",
       "734 2019-11-02 12:24:15          2.0   product   \n",
       "\n",
       "                                          post_excerpt  \\\n",
       "733  <span id=\"u1194-83\">Le nez séduit par ses parf...   \n",
       "734  Fongeant 2017 explose sur un fruit brillant, p...   \n",
       "\n",
       "                                                  guid      _merge  \n",
       "733  https://www.bottle-neck.fr/?post_type=product&...  right_only  \n",
       "734  https://www.bottle-neck.fr/?post_type=product&...  right_only  "
      ]
     },
     "execution_count": 120,
     "metadata": {},
     "output_type": "execute_result"
    }
   ],
   "source": [
    "#Afficher les lignes uniquement dans web\n",
    "right_only2\n"
   ]
  },
  {
   "cell_type": "code",
   "execution_count": 121,
   "id": "877b2d97",
   "metadata": {},
   "outputs": [
    {
     "name": "stdout",
     "output_type": "stream",
     "text": [
      "DataFrame après jonction interne :\n",
      "     product_id  price  purchase_price  onsale_web  stock_quantity  \\\n",
      "0          3847   24.2           12.88           1              16   \n",
      "1          3849   34.3           17.54           1              10   \n",
      "2          3850   20.8           10.64           1               0   \n",
      "3          4032   14.1            6.92           1              26   \n",
      "4          4039   46.0           23.77           1               3   \n",
      "..          ...    ...             ...         ...             ...   \n",
      "709        6930    8.4            4.34           1              28   \n",
      "710        7023   27.5           14.21           1              23   \n",
      "711        7025   69.0           34.22           1               8   \n",
      "712        7247   54.8           27.18           1               6   \n",
      "713        7338   16.3            8.00           1              40   \n",
      "\n",
      "    stock_status   id_web  total_sales product_type  \\\n",
      "0        instock    15298          6.0          Vin   \n",
      "1        instock    15296          9.0          Vin   \n",
      "2     outofstock    15300          0.0          Vin   \n",
      "3        instock    19814         12.0          Vin   \n",
      "4        instock    19815          3.0          Vin   \n",
      "..           ...      ...          ...          ...   \n",
      "709      instock    16135          9.0          Vin   \n",
      "710      instock    15891          9.0          Vin   \n",
      "711      instock    15887          5.0          Vin   \n",
      "712      instock  13127-1          4.0          Vin   \n",
      "713      instock    16230         13.0          Vin   \n",
      "\n",
      "                                            post_title  \\\n",
      "0          Pierre Jean Villa Saint-Joseph Préface 2018   \n",
      "1      Pierre Jean Villa Saint-Joseph Rouge Tildé 2017   \n",
      "2    Pierre Jean Villa Crozes-Hermitage Accroche Co...   \n",
      "3    Pierre Jean Villa IGP Collines Rhodaniennes Ga...   \n",
      "4            Pierre Jean Villa Côte Rôtie Carmina 2017   \n",
      "..                                                 ...   \n",
      "709   Mouthes Le Bihan Côtes de Duras L'Aimé Chai 2015   \n",
      "710         Camin Larredya Jurançon Sec La Virada 2018   \n",
      "711     Domaine Jamet Côte Rôtie Fructus Voluptas 2018   \n",
      "712       Clos du Mont-Olivet Châteauneuf-du-Pape 2007   \n",
      "713  Domaine Saint-Nicolas Vin de France Blanc Les ...   \n",
      "\n",
      "                                             post_name       post_date_gmt  \\\n",
      "0          pierre-jean-villa-saint-joseph-preface-2018 2018-02-08 11:58:52   \n",
      "1            pierre-jean-villa-saint-joseph-tilde-2017 2018-02-08 12:49:41   \n",
      "2    pierre-jean-villa-croze-hermitage-accroche-coe... 2018-02-08 13:08:36   \n",
      "3                    pierre-jean-villa-igp-gamine-2018 2018-02-09 13:01:05   \n",
      "4            pierre-jean-villa-cote-rotie-carmina-2017 2018-02-12 08:04:37   \n",
      "..                                                 ...                 ...   \n",
      "709                    mouthes-le-bihan-aime-chai-2015 2020-04-25 11:22:38   \n",
      "710         camin-larredya-jurancon-sec-la-virada-2018 2020-05-02 12:53:40   \n",
      "711             jamet-cote-rotie-fructus-voluptas-2018 2020-05-02 13:00:54   \n",
      "712     clos-du-mont-olivet-chateauneuf-du-pape-2007-2 2020-06-09 13:42:04   \n",
      "713  domaine-saint-nicolas-fiefs-vendeens-blanc-les... 2020-07-20 09:00:00   \n",
      "\n",
      "      post_modified_gmt  post_author post_type  \\\n",
      "0   2019-12-30 08:30:29          2.0   product   \n",
      "1   2019-12-21 08:00:17          2.0   product   \n",
      "2   2020-06-26 16:15:03          2.0   product   \n",
      "3   2020-01-04 15:36:01          2.0   product   \n",
      "4   2020-01-04 15:36:10          2.0   product   \n",
      "..                  ...          ...       ...   \n",
      "709 2020-08-26 15:35:03          2.0   product   \n",
      "710 2020-08-26 15:35:02          2.0   product   \n",
      "711 2020-08-14 16:15:03          2.0   product   \n",
      "712 2020-07-20 15:09:06          2.0   product   \n",
      "713 2020-08-13 08:45:03          2.0   product   \n",
      "\n",
      "                                          post_excerpt  \\\n",
      "0    Il exhale un nez subtil, racé avec du poivre f...   \n",
      "1    Les vieilles vignes lui apportent une rare pro...   \n",
      "2    Dentelle de fruit de jeunes syrah, aux tanins ...   \n",
      "3    Gamine représente tout le fruité et la gourman...   \n",
      "4    Le côte rôtie Carmina monte en puissance mais ...   \n",
      "..                                                 ...   \n",
      "709  Belle robe jeune à dominante rubis soutenue. N...   \n",
      "710  L'exotisme du nez est complété par d'élégantes...   \n",
      "711  Pour cette cuvée, Jean-Paul Jamet recherche un...   \n",
      "712  Nez gracieux, très élégant avec une touche flo...   \n",
      "713  Issu d'un assemblage de chenin blanc et de cha...   \n",
      "\n",
      "                                                  guid  \n",
      "0    https://www.bottle-neck.fr/?post_type=product&...  \n",
      "1    https://www.bottle-neck.fr/?post_type=product&...  \n",
      "2    https://www.bottle-neck.fr/?post_type=product&...  \n",
      "3    https://www.bottle-neck.fr/?post_type=product&...  \n",
      "4    https://www.bottle-neck.fr/?post_type=product&...  \n",
      "..                                                 ...  \n",
      "709  https://www.bottle-neck.fr/?post_type=product&...  \n",
      "710  https://www.bottle-neck.fr/?post_type=product&...  \n",
      "711  https://www.bottle-neck.fr/?post_type=product&...  \n",
      "712  https://www.bottle-neck.fr/?post_type=product&...  \n",
      "713  https://www.bottle-neck.fr/?post_type=product&...  \n",
      "\n",
      "[714 rows x 17 columns]\n"
     ]
    }
   ],
   "source": [
    "#Jonction interne (inner join)\n",
    "donnees = pd.merge(inner_join_erp_liaison, web, on='id_web', how='inner')\n",
    "\n",
    "#Afficher des résultats de la jonction interne\n",
    "print(\"DataFrame après jonction interne :\")\n",
    "print(donnees)"
   ]
  },
  {
   "cell_type": "code",
   "execution_count": 122,
   "id": "ec11c32d",
   "metadata": {},
   "outputs": [
    {
     "name": "stdout",
     "output_type": "stream",
     "text": [
      "Le tableau comporte 714 observation(s) ou article(s)\n",
      "Le tableau comporte 17 colonne(s)\n",
      "Voici la nature de données de chacune des colonnes : product_id                    int64\n",
      "price                       float64\n",
      "purchase_price              float64\n",
      "onsale_web                    int64\n",
      "stock_quantity                int64\n",
      "stock_status                 object\n",
      "id_web                       object\n",
      "total_sales                 float64\n",
      "product_type                 object\n",
      "post_title                   object\n",
      "post_name                    object\n",
      "post_date_gmt        datetime64[ns]\n",
      "post_modified_gmt    datetime64[ns]\n",
      "post_author                 float64\n",
      "post_type                    object\n",
      "post_excerpt                 object\n",
      "guid                         object\n",
      "dtype: object\n",
      "Voici le nombre de valeurs présentes dans chacune des colonnes : product_id           714\n",
      "price                714\n",
      "purchase_price       714\n",
      "onsale_web           714\n",
      "stock_quantity       714\n",
      "stock_status         714\n",
      "id_web               714\n",
      "total_sales          714\n",
      "product_type         713\n",
      "post_title           714\n",
      "post_name            714\n",
      "post_date_gmt        714\n",
      "post_modified_gmt    714\n",
      "post_author          714\n",
      "post_type            714\n",
      "post_excerpt         714\n",
      "guid                 714\n",
      "dtype: int64\n"
     ]
    }
   ],
   "source": [
    "#Afficher les dimensions du dataset\n",
    "print(\"Le tableau comporte {} observation(s) ou article(s)\".format(donnees.shape[0]))\n",
    "\n",
    "#Consulter le nombre de colonnes\n",
    "print(\"Le tableau comporte {} colonne(s)\".format(donnees.shape[1]))\n",
    "\n",
    "#La nature des données dans chacune des colonnes\n",
    "donnees_nature_donnees = donnees.dtypes\n",
    "print(\"Voici la nature de données de chacune des colonnes :\", donnees_nature_donnees)\n",
    "\n",
    "#Le nombre de valeurs présentes dans chacune des colonnes\n",
    "donnees_nbre_valeurs_colonnes = donnees.count()\n",
    "print(\"Voici le nombre de valeurs présentes dans chacune des colonnes :\", donnees_nbre_valeurs_colonnes)"
   ]
  },
  {
   "cell_type": "code",
   "execution_count": 123,
   "id": "a42b6ef0",
   "metadata": {},
   "outputs": [
    {
     "data": {
      "text/html": [
       "<div>\n",
       "<style scoped>\n",
       "    .dataframe tbody tr th:only-of-type {\n",
       "        vertical-align: middle;\n",
       "    }\n",
       "\n",
       "    .dataframe tbody tr th {\n",
       "        vertical-align: top;\n",
       "    }\n",
       "\n",
       "    .dataframe thead th {\n",
       "        text-align: right;\n",
       "    }\n",
       "</style>\n",
       "<table border=\"1\" class=\"dataframe\">\n",
       "  <thead>\n",
       "    <tr style=\"text-align: right;\">\n",
       "      <th></th>\n",
       "      <th>product_id</th>\n",
       "      <th>price</th>\n",
       "      <th>purchase_price</th>\n",
       "      <th>onsale_web</th>\n",
       "      <th>stock_quantity</th>\n",
       "      <th>stock_status</th>\n",
       "      <th>id_web</th>\n",
       "      <th>total_sales</th>\n",
       "      <th>product_type</th>\n",
       "      <th>post_title</th>\n",
       "      <th>post_name</th>\n",
       "      <th>post_date_gmt</th>\n",
       "      <th>post_modified_gmt</th>\n",
       "      <th>post_author</th>\n",
       "      <th>post_type</th>\n",
       "      <th>post_excerpt</th>\n",
       "      <th>guid</th>\n",
       "    </tr>\n",
       "  </thead>\n",
       "  <tbody>\n",
       "    <tr>\n",
       "      <th>410</th>\n",
       "      <td>4954</td>\n",
       "      <td>25.0</td>\n",
       "      <td>13.3</td>\n",
       "      <td>1</td>\n",
       "      <td>23</td>\n",
       "      <td>instock</td>\n",
       "      <td>bon-cadeau-25-euros</td>\n",
       "      <td>7.0</td>\n",
       "      <td>NaN</td>\n",
       "      <td>Bon cadeau de 25€</td>\n",
       "      <td>bon-cadeau-de-25-euros</td>\n",
       "      <td>2018-06-01 11:53:46</td>\n",
       "      <td>2018-06-01 12:13:57</td>\n",
       "      <td>1.0</td>\n",
       "      <td>product</td>\n",
       "      <td>&lt;span style=\"color: #a85253;\"&gt;&lt;strong&gt;Parlons ...</td>\n",
       "      <td>https://www.bottle-neck.fr/?post_type=product&amp;...</td>\n",
       "    </tr>\n",
       "  </tbody>\n",
       "</table>\n",
       "</div>"
      ],
      "text/plain": [
       "     product_id  price  purchase_price  onsale_web  stock_quantity  \\\n",
       "410        4954   25.0            13.3           1              23   \n",
       "\n",
       "    stock_status               id_web  total_sales product_type  \\\n",
       "410      instock  bon-cadeau-25-euros          7.0          NaN   \n",
       "\n",
       "            post_title               post_name       post_date_gmt  \\\n",
       "410  Bon cadeau de 25€  bon-cadeau-de-25-euros 2018-06-01 11:53:46   \n",
       "\n",
       "      post_modified_gmt  post_author post_type  \\\n",
       "410 2018-06-01 12:13:57          1.0   product   \n",
       "\n",
       "                                          post_excerpt  \\\n",
       "410  <span style=\"color: #a85253;\"><strong>Parlons ...   \n",
       "\n",
       "                                                  guid  \n",
       "410  https://www.bottle-neck.fr/?post_type=product&...  "
      ]
     },
     "execution_count": 123,
     "metadata": {},
     "output_type": "execute_result"
    }
   ],
   "source": [
    "#Affichage des données manquantes dans la table après la jointure\n",
    "donnees_nan = donnees[donnees.isna().any(axis=1)]\n",
    "donnees_nan"
   ]
  },
  {
   "cell_type": "code",
   "execution_count": 124,
   "id": "fd2ca85a",
   "metadata": {},
   "outputs": [],
   "source": [
    "#Créer un product_type 'cadeau' pour l'index 410 afin qu'il n'y ai plus de donnée manquante\n",
    "donnees.loc[410, 'product_type'] = 'Cadeau'"
   ]
  },
  {
   "cell_type": "code",
   "execution_count": 125,
   "id": "46526ac6",
   "metadata": {},
   "outputs": [
    {
     "name": "stdout",
     "output_type": "stream",
     "text": [
      "Valeurs uniques dans 'onsale_web': onsale_web\n",
      "1    713\n",
      "0      1\n",
      "Name: count, dtype: int64\n"
     ]
    },
    {
     "data": {
      "text/html": [
       "<div>\n",
       "<style scoped>\n",
       "    .dataframe tbody tr th:only-of-type {\n",
       "        vertical-align: middle;\n",
       "    }\n",
       "\n",
       "    .dataframe tbody tr th {\n",
       "        vertical-align: top;\n",
       "    }\n",
       "\n",
       "    .dataframe thead th {\n",
       "        text-align: right;\n",
       "    }\n",
       "</style>\n",
       "<table border=\"1\" class=\"dataframe\">\n",
       "  <thead>\n",
       "    <tr style=\"text-align: right;\">\n",
       "      <th></th>\n",
       "      <th>product_id</th>\n",
       "      <th>price</th>\n",
       "      <th>purchase_price</th>\n",
       "      <th>onsale_web</th>\n",
       "      <th>stock_quantity</th>\n",
       "      <th>stock_status</th>\n",
       "      <th>id_web</th>\n",
       "      <th>total_sales</th>\n",
       "      <th>product_type</th>\n",
       "      <th>post_title</th>\n",
       "      <th>post_name</th>\n",
       "      <th>post_date_gmt</th>\n",
       "      <th>post_modified_gmt</th>\n",
       "      <th>post_author</th>\n",
       "      <th>post_type</th>\n",
       "      <th>post_excerpt</th>\n",
       "      <th>guid</th>\n",
       "    </tr>\n",
       "  </thead>\n",
       "  <tbody>\n",
       "    <tr>\n",
       "      <th>119</th>\n",
       "      <td>4200</td>\n",
       "      <td>5.8</td>\n",
       "      <td>3.12</td>\n",
       "      <td>0</td>\n",
       "      <td>33</td>\n",
       "      <td>instock</td>\n",
       "      <td>16295</td>\n",
       "      <td>14.0</td>\n",
       "      <td>Vin</td>\n",
       "      <td>Moulin de Gassac IGP Pays d'Hérault Guilhem Ro...</td>\n",
       "      <td>moulin-de-gassac-igp-pays-dherault-guilhem-ros...</td>\n",
       "      <td>2018-02-15 13:05:06</td>\n",
       "      <td>2020-08-27 16:55:03</td>\n",
       "      <td>2.0</td>\n",
       "      <td>product</td>\n",
       "      <td>Rosé très agréable, intense, floral et minéral...</td>\n",
       "      <td>https://www.bottle-neck.fr/?post_type=product&amp;...</td>\n",
       "    </tr>\n",
       "  </tbody>\n",
       "</table>\n",
       "</div>"
      ],
      "text/plain": [
       "     product_id  price  purchase_price  onsale_web  stock_quantity  \\\n",
       "119        4200    5.8            3.12           0              33   \n",
       "\n",
       "    stock_status id_web  total_sales product_type  \\\n",
       "119      instock  16295         14.0          Vin   \n",
       "\n",
       "                                            post_title  \\\n",
       "119  Moulin de Gassac IGP Pays d'Hérault Guilhem Ro...   \n",
       "\n",
       "                                             post_name       post_date_gmt  \\\n",
       "119  moulin-de-gassac-igp-pays-dherault-guilhem-ros... 2018-02-15 13:05:06   \n",
       "\n",
       "      post_modified_gmt  post_author post_type  \\\n",
       "119 2020-08-27 16:55:03          2.0   product   \n",
       "\n",
       "                                          post_excerpt  \\\n",
       "119  Rosé très agréable, intense, floral et minéral...   \n",
       "\n",
       "                                                  guid  \n",
       "119  https://www.bottle-neck.fr/?post_type=product&...  "
      ]
     },
     "execution_count": 125,
     "metadata": {},
     "output_type": "execute_result"
    }
   ],
   "source": [
    "#Afficher et vérifier les valeurs uniques dans la colonne 'onsale_web'\n",
    "donnees_onsale_web_verif = donnees['onsale_web'].value_counts()\n",
    "print(\"Valeurs uniques dans 'onsale_web':\", donnees_onsale_web_verif)\n",
    "donnees_onsale_web_verif = donnees[donnees['onsale_web'] == 0]\n",
    "donnees_onsale_web_verif"
   ]
  },
  {
   "cell_type": "markdown",
   "id": "6c70fb7c",
   "metadata": {},
   "source": [
    "<div style=\"font-size: 18px;\">111 lignes correspondent aux 109 produits non référencés sur la table web + les deux <strong>id_web</strong> fictifs inutilisables<br>\n",
    "Nous ne conservons pas ces données car elles sont inexploitables<br>\n",
    "Une donnée <strong>type_product</strong> est manquante pour le bon cadeau, nous avons donc créé un nouveau type de produit<br>\n",
    "Il nous reste une erreur : un produit vendu sur le site web est pourtant indiqué comme non vendu dans <strong>onsale_web</strong>, est-ce une erreur ? Son statut a-t-il changé récemment ?\n",
    "</div>"
   ]
  },
  {
   "cell_type": "markdown",
   "id": "13d81fd6",
   "metadata": {},
   "source": [
    "<div style=\"background-color: RGB(51,165,182);\" >\n",
    "<h2 style=\"margin: auto; padding: 20px; color:#fff; \">Etape 4 - Analyse univarié des prix</h2>\n",
    "</div>"
   ]
  },
  {
   "cell_type": "markdown",
   "id": "9c8d0615",
   "metadata": {
    "jp-MarkdownHeadingCollapsed": true
   },
   "source": [
    "<div style=\"border: 1px solid RGB(51,165,182);\" >\n",
    "<h3 style=\"margin: auto; padding: 20px; color: RGB(51,165,182); \">Etape 4.1 - Exploration par la visualisation de données</h3>\n",
    "</div>"
   ]
  },
  {
   "cell_type": "code",
   "execution_count": 126,
   "id": "3be61f06",
   "metadata": {},
   "outputs": [],
   "source": [
    "#Création d'une Boite à moustache de la répartition des prix grâce à Pandas\n",
    "import matplotlib.pyplot as plt\n",
    "import seaborn as sns"
   ]
  },
  {
   "cell_type": "code",
   "execution_count": 127,
   "id": "cda85849-cd75-4c2d-9109-3a379d5d356d",
   "metadata": {},
   "outputs": [
    {
     "data": {
      "image/png": "[encoded data removed]",
      "text/plain": [
       "<Figure size 1000x400 with 1 Axes>"
      ]
     },
     "metadata": {},
     "output_type": "display_data"
    }
   ],
   "source": [
    "#Création de la boîte à moustache avec Matplotlib\n",
    "plt.figure(figsize=(10, 4)) \n",
    "donnees.boxplot(column='price')\n",
    "\n",
    "#Ajouter un titre et des labels\n",
    "plt.title('Répartition des prix')\n",
    "plt.ylabel('Prix')\n",
    "\n",
    "#Afficher le graphique\n",
    "plt.show()"
   ]
  },
  {
   "cell_type": "code",
   "execution_count": 128,
   "id": "4489d77f-1cd0-4426-bbab-482e588a5439",
   "metadata": {},
   "outputs": [
    {
     "data": {
      "image/png": "[encoded data removed]",
      "text/plain": [
       "<Figure size 1000x400 with 1 Axes>"
      ]
     },
     "metadata": {},
     "output_type": "display_data"
    }
   ],
   "source": [
    "#Création de la boîte à moustache avec Seaborn\n",
    "plt.figure(figsize=(10, 4))\n",
    "sns.boxplot(y='price', data=donnees)\n",
    "\n",
    "#Ajouter un titre\n",
    "plt.title('Répartition des prix')\n",
    "plt.ylabel('Prix')\n",
    "\n",
    "#Afficher le graphique\n",
    "plt.show()"
   ]
  },
  {
   "cell_type": "code",
   "execution_count": 129,
   "id": "cbfe6346",
   "metadata": {},
   "outputs": [
    {
     "data": {
      "application/vnd.plotly.v1+json": {
       "config": {
        "plotlyServerURL": "https://plot.ly"
       },
       "data": [
        {
         "alignmentgroup": "True",
         "hovertemplate": "price=%{y}<extra></extra>",
         "legendgroup": "",
         "marker": {
          "color": "#636efa"
         },
         "name": "",
         "notched": false,
         "offsetgroup": "",
         "orientation": "v",
         "showlegend": false,
         "type": "box",
         "x0": " ",
         "xaxis": "x",
         "y": [
          24.2,
          34.3,
          20.8,
          14.1,
          46,
          34.3,
          32.7,
          31.2,
          60,
          42.6,
          80,
          18.3,
          22.8,
          19.3,
          21.8,
          7.7,
          33.7,
          44.3,
          71.6,
          12.7,
          8.7,
          8.7,
          8.7,
          11.9,
          11.9,
          14.5,
          14.4,
          19.5,
          20.8,
          22,
          16.6,
          60,
          23.4,
          33.2,
          32,
          77.8,
          12.7,
          14.7,
          14.05,
          22.9,
          44,
          37,
          39,
          17,
          23.2,
          19,
          16.4,
          14.4,
          13.7,
          12.6,
          22.8,
          12.8,
          22.1,
          12.8,
          15.8,
          15.8,
          16.3,
          16.3,
          9.7,
          6.8,
          12.6,
          35,
          31.7,
          100,
          23,
          88.4,
          29.8,
          25.7,
          77.4,
          39,
          53,
          49,
          29.5,
          33,
          37.5,
          69,
          59,
          13.7,
          19.2,
          29,
          9.8,
          14.5,
          20.35,
          12,
          18.5,
          9.3,
          9.3,
          11.6,
          14.3,
          10.8,
          7.6,
          12,
          20.5,
          14.3,
          18.2,
          9,
          7.8,
          5.7,
          5.7,
          5.7,
          13.5,
          13.5,
          11.5,
          24,
          24,
          11.9,
          16.7,
          21.4,
          16.6,
          13.3,
          9.5,
          12.1,
          9.3,
          17.8,
          13.5,
          10.8,
          27.2,
          9.4,
          5.8,
          5.8,
          38,
          38,
          9.9,
          11.3,
          23,
          6.7,
          7.6,
          79.8,
          48.5,
          39.8,
          58.8,
          26.5,
          13.4,
          17.1,
          16.7,
          11.6,
          12.8,
          8.9,
          9.7,
          17.2,
          16.9,
          12.6,
          29.9,
          9.6,
          11.1,
          11.1,
          17.1,
          28,
          28,
          8.9,
          8.6,
          13.5,
          8.9,
          15.3,
          14.8,
          19.5,
          14.1,
          59.6,
          26.9,
          24.4,
          31.7,
          32.1,
          12.2,
          9.9,
          15.8,
          15.8,
          17.8,
          9.6,
          19,
          15.2,
          10.2,
          15.5,
          16.6,
          9.2,
          12.9,
          14.9,
          17.6,
          24.8,
          18.9,
          11.6,
          27,
          41,
          69.8,
          38.6,
          26.7,
          19,
          23.2,
          39.1,
          44,
          17.5,
          30,
          8.1,
          10.7,
          10.9,
          49,
          35.5,
          83,
          59,
          79.5,
          225,
          79.5,
          12.65,
          51.6,
          39,
          77,
          85.6,
          49.5,
          49.5,
          49.5,
          57,
          59.8,
          27.5,
          62,
          59,
          59,
          59,
          44,
          62.5,
          176,
          108.5,
          68.1,
          157,
          104,
          28.1,
          21.7,
          28.5,
          67.2,
          109.6,
          43.9,
          61.6,
          41.8,
          26.5,
          16.1,
          31.5,
          31.5,
          49,
          32.2,
          50.1,
          13.4,
          11.8,
          13.1,
          26.2,
          20.6,
          16.9,
          19,
          24,
          57,
          67.5,
          30.6,
          59,
          11.9,
          16.5,
          52.4,
          52.9,
          58.3,
          39.6,
          52.4,
          62.4,
          76.8,
          50,
          52.4,
          41,
          62.4,
          50,
          21.5,
          28.5,
          24.3,
          16.5,
          25.3,
          49,
          36.2,
          33.4,
          40.2,
          43,
          43,
          48.8,
          20.8,
          16.4,
          14.4,
          21,
          12.3,
          20.2,
          17,
          21.9,
          17.8,
          19.8,
          19,
          10.7,
          12.9,
          9.5,
          29.8,
          13.2,
          6.3,
          7.1,
          9.1,
          9.1,
          18.1,
          14,
          30.1,
          12.8,
          12.8,
          19.8,
          18.2,
          31.6,
          16.8,
          22.8,
          32.6,
          44,
          55.4,
          15.8,
          18.4,
          13.3,
          11.1,
          18.6,
          23.4,
          18.2,
          12.5,
          15.9,
          13.7,
          29,
          23.4,
          12.7,
          26,
          29.5,
          8.6,
          14.3,
          22,
          16.8,
          15.3,
          7.4,
          9.7,
          14.5,
          11.9,
          16.4,
          27.9,
          12,
          7.4,
          26.5,
          24.3,
          16.9,
          6.8,
          13.9,
          7.8,
          13.7,
          9.8,
          29.5,
          28.5,
          10.1,
          12.1,
          12.3,
          11.1,
          11.1,
          13.6,
          21,
          18.7,
          41.6,
          12,
          78,
          14.9,
          6.5,
          8.7,
          8.5,
          9.9,
          8.2,
          9.8,
          9.9,
          9.3,
          22.8,
          18.7,
          28.4,
          27.9,
          25.3,
          17,
          27.9,
          20.1,
          27.9,
          21.2,
          20.8,
          41,
          46,
          102.3,
          137,
          22.9,
          53.2,
          25.9,
          17.3,
          25.9,
          28,
          25.9,
          25.9,
          37.2,
          24.4,
          24.4,
          7,
          12.8,
          23.2,
          7.9,
          6.5,
          7.9,
          16.7,
          17.5,
          27.8,
          25.7,
          18.4,
          22.2,
          11.1,
          9.9,
          12.5,
          12.9,
          20.5,
          25,
          11.3,
          7,
          12.1,
          7.1,
          49.5,
          23,
          23.7,
          16.45,
          16.3,
          18.5,
          26.5,
          78,
          78,
          78,
          27.3,
          217.5,
          64.9,
          48.7,
          59.4,
          48.7,
          105,
          105,
          55.6,
          9.3,
          19.8,
          45,
          112,
          86.8,
          62.1,
          22.5,
          7.5,
          52.6,
          45,
          67,
          59.9,
          59.9,
          65,
          15.2,
          19,
          11.1,
          18,
          22.8,
          19.5,
          28.8,
          16.1,
          24.2,
          35.3,
          10.7,
          12.7,
          17.1,
          24,
          39,
          13.2,
          23.6,
          15.5,
          16.3,
          16.2,
          7.2,
          54.8,
          42,
          19.8,
          10.2,
          10.4,
          11.5,
          17.9,
          21.6,
          33.4,
          49.5,
          43.5,
          43.5,
          26.5,
          13.8,
          18.2,
          12.9,
          38.6,
          48.4,
          60.4,
          38.6,
          12,
          61.6,
          65.9,
          15.2,
          24.6,
          48.8,
          34.3,
          36.3,
          57.7,
          38,
          58,
          58,
          30.8,
          92,
          27.5,
          34.7,
          59.6,
          83.7,
          30.5,
          38.6,
          18,
          63.4,
          124.8,
          19.2,
          19.2,
          56.4,
          38.4,
          27.8,
          71.3,
          71.3,
          25,
          10.3,
          28,
          44.6,
          13,
          12.7,
          6.5,
          17.5,
          29.9,
          44.5,
          29.4,
          16.9,
          19.8,
          10.3,
          10.8,
          31.7,
          25,
          57.6,
          13.7,
          7.1,
          14.9,
          11,
          14.6,
          10.7,
          73.3,
          42.1,
          57,
          24.5,
          10.1,
          42.2,
          13.1,
          19.5,
          12.9,
          35.6,
          175,
          35.6,
          33.6,
          34.4,
          38.4,
          29.7,
          32.8,
          5.7,
          5.8,
          5.8,
          21.7,
          23,
          12.5,
          17.2,
          40.2,
          24,
          23.8,
          17.1,
          25,
          17.4,
          27.3,
          17.9,
          24,
          16.6,
          16.9,
          57.6,
          63.5,
          56,
          63.5,
          41.2,
          55,
          57,
          19.3,
          19,
          191.3,
          26.6,
          15.4,
          24.7,
          28.1,
          18.25,
          35.1,
          27.3,
          18.8,
          43.9,
          19.8,
          17.7,
          57,
          36,
          36,
          93,
          122,
          114,
          48.5,
          49.5,
          14.1,
          59.9,
          46,
          74.5,
          17.2,
          8.7,
          15.4,
          12.7,
          30,
          13.5,
          16.3,
          56.3,
          71.5,
          69,
          17.9,
          48.5,
          71.7,
          8.5,
          10.9,
          21.8,
          38.5,
          9.3,
          13.6,
          24.5,
          12.6,
          13.4,
          29.8,
          36.9,
          40.7,
          33.2,
          34.8,
          74.8,
          62.4,
          46,
          39.2,
          135,
          10.6,
          10.6,
          5.2,
          46,
          105.6,
          116.4,
          31,
          20.2,
          25.2,
          25.2,
          115,
          121,
          99,
          115,
          121,
          23.5,
          26.4,
          26.7,
          20.4,
          20.4,
          40.2,
          9,
          45.9,
          10.4,
          78,
          40.5,
          27.9,
          22.4,
          28.4,
          72,
          29,
          29.2,
          44,
          68.3,
          41.8,
          40,
          13.5,
          19,
          24.4,
          32.8,
          15.4,
          9.9,
          13.5,
          51,
          35.2,
          42.2,
          33.2,
          41.8,
          32.2,
          37.7,
          47.2,
          52.7,
          22.4,
          50.4,
          35.6,
          27.7,
          48.5,
          15.4,
          46.5,
          46.5,
          46.5,
          42,
          21.8,
          50.5,
          49.9,
          19,
          8.4,
          27.5,
          69,
          54.8,
          16.3
         ],
         "y0": " ",
         "yaxis": "y"
        }
       ],
       "layout": {
        "boxmode": "group",
        "legend": {
         "tracegroupgap": 0
        },
        "template": {
         "data": {
          "bar": [
           {
            "error_x": {
             "color": "#2a3f5f"
            },
            "error_y": {
             "color": "#2a3f5f"
            },
            "marker": {
             "line": {
              "color": "#E5ECF6",
              "width": 0.5
             },
             "pattern": {
              "fillmode": "overlay",
              "size": 10,
              "solidity": 0.2
             }
            },
            "type": "bar"
           }
          ],
          "barpolar": [
           {
            "marker": {
             "line": {
              "color": "#E5ECF6",
              "width": 0.5
             },
             "pattern": {
              "fillmode": "overlay",
              "size": 10,
              "solidity": 0.2
             }
            },
            "type": "barpolar"
           }
          ],
          "carpet": [
           {
            "aaxis": {
             "endlinecolor": "#2a3f5f",
             "gridcolor": "white",
             "linecolor": "white",
             "minorgridcolor": "white",
             "startlinecolor": "#2a3f5f"
            },
            "baxis": {
             "endlinecolor": "#2a3f5f",
             "gridcolor": "white",
             "linecolor": "white",
             "minorgridcolor": "white",
             "startlinecolor": "#2a3f5f"
            },
            "type": "carpet"
           }
          ],
          "choropleth": [
           {
            "colorbar": {
             "outlinewidth": 0,
             "ticks": ""
            },
            "type": "choropleth"
           }
          ],
          "contour": [
           {
            "colorbar": {
             "outlinewidth": 0,
             "ticks": ""
            },
            "colorscale": [
             [
              0,
              "#0d0887"
             ],
             [
              0.1111111111111111,
              "#46039f"
             ],
             [
              0.2222222222222222,
              "#7201a8"
             ],
             [
              0.3333333333333333,
              "#9c179e"
             ],
             [
              0.4444444444444444,
              "#bd3786"
             ],
             [
              0.5555555555555556,
              "#d8576b"
             ],
             [
              0.6666666666666666,
              "#ed7953"
             ],
             [
              0.7777777777777778,
              "#fb9f3a"
             ],
             [
              0.8888888888888888,
              "#fdca26"
             ],
             [
              1,
              "#f0f921"
             ]
            ],
            "type": "contour"
           }
          ],
          "contourcarpet": [
           {
            "colorbar": {
             "outlinewidth": 0,
             "ticks": ""
            },
            "type": "contourcarpet"
           }
          ],
          "heatmap": [
           {
            "colorbar": {
             "outlinewidth": 0,
             "ticks": ""
            },
            "colorscale": [
             [
              0,
              "#0d0887"
             ],
             [
              0.1111111111111111,
              "#46039f"
             ],
             [
              0.2222222222222222,
              "#7201a8"
             ],
             [
              0.3333333333333333,
              "#9c179e"
             ],
             [
              0.4444444444444444,
              "#bd3786"
             ],
             [
              0.5555555555555556,
              "#d8576b"
             ],
             [
              0.6666666666666666,
              "#ed7953"
             ],
             [
              0.7777777777777778,
              "#fb9f3a"
             ],
             [
              0.8888888888888888,
              "#fdca26"
             ],
             [
              1,
              "#f0f921"
             ]
            ],
            "type": "heatmap"
           }
          ],
          "heatmapgl": [
           {
            "colorbar": {
             "outlinewidth": 0,
             "ticks": ""
            },
            "colorscale": [
             [
              0,
              "#0d0887"
             ],
             [
              0.1111111111111111,
              "#46039f"
             ],
             [
              0.2222222222222222,
              "#7201a8"
             ],
             [
              0.3333333333333333,
              "#9c179e"
             ],
             [
              0.4444444444444444,
              "#bd3786"
             ],
             [
              0.5555555555555556,
              "#d8576b"
             ],
             [
              0.6666666666666666,
              "#ed7953"
             ],
             [
              0.7777777777777778,
              "#fb9f3a"
             ],
             [
              0.8888888888888888,
              "#fdca26"
             ],
             [
              1,
              "#f0f921"
             ]
            ],
            "type": "heatmapgl"
           }
          ],
          "histogram": [
           {
            "marker": {
             "pattern": {
              "fillmode": "overlay",
              "size": 10,
              "solidity": 0.2
             }
            },
            "type": "histogram"
           }
          ],
          "histogram2d": [
           {
            "colorbar": {
             "outlinewidth": 0,
             "ticks": ""
            },
            "colorscale": [
             [
              0,
              "#0d0887"
             ],
             [
              0.1111111111111111,
              "#46039f"
             ],
             [
              0.2222222222222222,
              "#7201a8"
             ],
             [
              0.3333333333333333,
              "#9c179e"
             ],
             [
              0.4444444444444444,
              "#bd3786"
             ],
             [
              0.5555555555555556,
              "#d8576b"
             ],
             [
              0.6666666666666666,
              "#ed7953"
             ],
             [
              0.7777777777777778,
              "#fb9f3a"
             ],
             [
              0.8888888888888888,
              "#fdca26"
             ],
             [
              1,
              "#f0f921"
             ]
            ],
            "type": "histogram2d"
           }
          ],
          "histogram2dcontour": [
           {
            "colorbar": {
             "outlinewidth": 0,
             "ticks": ""
            },
            "colorscale": [
             [
              0,
              "#0d0887"
             ],
             [
              0.1111111111111111,
              "#46039f"
             ],
             [
              0.2222222222222222,
              "#7201a8"
             ],
             [
              0.3333333333333333,
              "#9c179e"
             ],
             [
              0.4444444444444444,
              "#bd3786"
             ],
             [
              0.5555555555555556,
              "#d8576b"
             ],
             [
              0.6666666666666666,
              "#ed7953"
             ],
             [
              0.7777777777777778,
              "#fb9f3a"
             ],
             [
              0.8888888888888888,
              "#fdca26"
             ],
             [
              1,
              "#f0f921"
             ]
            ],
            "type": "histogram2dcontour"
           }
          ],
          "mesh3d": [
           {
            "colorbar": {
             "outlinewidth": 0,
             "ticks": ""
            },
            "type": "mesh3d"
           }
          ],
          "parcoords": [
           {
            "line": {
             "colorbar": {
              "outlinewidth": 0,
              "ticks": ""
             }
            },
            "type": "parcoords"
           }
          ],
          "pie": [
           {
            "automargin": true,
            "type": "pie"
           }
          ],
          "scatter": [
           {
            "fillpattern": {
             "fillmode": "overlay",
             "size": 10,
             "solidity": 0.2
            },
            "type": "scatter"
           }
          ],
          "scatter3d": [
           {
            "line": {
             "colorbar": {
              "outlinewidth": 0,
              "ticks": ""
             }
            },
            "marker": {
             "colorbar": {
              "outlinewidth": 0,
              "ticks": ""
             }
            },
            "type": "scatter3d"
           }
          ],
          "scattercarpet": [
           {
            "marker": {
             "colorbar": {
              "outlinewidth": 0,
              "ticks": ""
             }
            },
            "type": "scattercarpet"
           }
          ],
          "scattergeo": [
           {
            "marker": {
             "colorbar": {
              "outlinewidth": 0,
              "ticks": ""
             }
            },
            "type": "scattergeo"
           }
          ],
          "scattergl": [
           {
            "marker": {
             "colorbar": {
              "outlinewidth": 0,
              "ticks": ""
             }
            },
            "type": "scattergl"
           }
          ],
          "scattermapbox": [
           {
            "marker": {
             "colorbar": {
              "outlinewidth": 0,
              "ticks": ""
             }
            },
            "type": "scattermapbox"
           }
          ],
          "scatterpolar": [
           {
            "marker": {
             "colorbar": {
              "outlinewidth": 0,
              "ticks": ""
             }
            },
            "type": "scatterpolar"
           }
          ],
          "scatterpolargl": [
           {
            "marker": {
             "colorbar": {
              "outlinewidth": 0,
              "ticks": ""
             }
            },
            "type": "scatterpolargl"
           }
          ],
          "scatterternary": [
           {
            "marker": {
             "colorbar": {
              "outlinewidth": 0,
              "ticks": ""
             }
            },
            "type": "scatterternary"
           }
          ],
          "surface": [
           {
            "colorbar": {
             "outlinewidth": 0,
             "ticks": ""
            },
            "colorscale": [
             [
              0,
              "#0d0887"
             ],
             [
              0.1111111111111111,
              "#46039f"
             ],
             [
              0.2222222222222222,
              "#7201a8"
             ],
             [
              0.3333333333333333,
              "#9c179e"
             ],
             [
              0.4444444444444444,
              "#bd3786"
             ],
             [
              0.5555555555555556,
              "#d8576b"
             ],
             [
              0.6666666666666666,
              "#ed7953"
             ],
             [
              0.7777777777777778,
              "#fb9f3a"
             ],
             [
              0.8888888888888888,
              "#fdca26"
             ],
             [
              1,
              "#f0f921"
             ]
            ],
            "type": "surface"
           }
          ],
          "table": [
           {
            "cells": {
             "fill": {
              "color": "#EBF0F8"
             },
             "line": {
              "color": "white"
             }
            },
            "header": {
             "fill": {
              "color": "#C8D4E3"
             },
             "line": {
              "color": "white"
             }
            },
            "type": "table"
           }
          ]
         },
         "layout": {
          "annotationdefaults": {
           "arrowcolor": "#2a3f5f",
           "arrowhead": 0,
           "arrowwidth": 1
          },
          "autotypenumbers": "strict",
          "coloraxis": {
           "colorbar": {
            "outlinewidth": 0,
            "ticks": ""
           }
          },
          "colorscale": {
           "diverging": [
            [
             0,
             "#8e0152"
            ],
            [
             0.1,
             "#c51b7d"
            ],
            [
             0.2,
             "#de77ae"
            ],
            [
             0.3,
             "#f1b6da"
            ],
            [
             0.4,
             "#fde0ef"
            ],
            [
             0.5,
             "#f7f7f7"
            ],
            [
             0.6,
             "#e6f5d0"
            ],
            [
             0.7,
             "#b8e186"
            ],
            [
             0.8,
             "#7fbc41"
            ],
            [
             0.9,
             "#4d9221"
            ],
            [
             1,
             "#276419"
            ]
           ],
           "sequential": [
            [
             0,
             "#0d0887"
            ],
            [
             0.1111111111111111,
             "#46039f"
            ],
            [
             0.2222222222222222,
             "#7201a8"
            ],
            [
             0.3333333333333333,
             "#9c179e"
            ],
            [
             0.4444444444444444,
             "#bd3786"
            ],
            [
             0.5555555555555556,
             "#d8576b"
            ],
            [
             0.6666666666666666,
             "#ed7953"
            ],
            [
             0.7777777777777778,
             "#fb9f3a"
            ],
            [
             0.8888888888888888,
             "#fdca26"
            ],
            [
             1,
             "#f0f921"
            ]
           ],
           "sequentialminus": [
            [
             0,
             "#0d0887"
            ],
            [
             0.1111111111111111,
             "#46039f"
            ],
            [
             0.2222222222222222,
             "#7201a8"
            ],
            [
             0.3333333333333333,
             "#9c179e"
            ],
            [
             0.4444444444444444,
             "#bd3786"
            ],
            [
             0.5555555555555556,
             "#d8576b"
            ],
            [
             0.6666666666666666,
             "#ed7953"
            ],
            [
             0.7777777777777778,
             "#fb9f3a"
            ],
            [
             0.8888888888888888,
             "#fdca26"
            ],
            [
             1,
             "#f0f921"
            ]
           ]
          },
          "colorway": [
           "#636efa",
           "#EF553B",
           "#00cc96",
           "#ab63fa",
           "#FFA15A",
           "#19d3f3",
           "#FF6692",
           "#B6E880",
           "#FF97FF",
           "#FECB52"
          ],
          "font": {
           "color": "#2a3f5f"
          },
          "geo": {
           "bgcolor": "white",
           "lakecolor": "white",
           "landcolor": "#E5ECF6",
           "showlakes": true,
           "showland": true,
           "subunitcolor": "white"
          },
          "hoverlabel": {
           "align": "left"
          },
          "hovermode": "closest",
          "mapbox": {
           "style": "light"
          },
          "paper_bgcolor": "white",
          "plot_bgcolor": "#E5ECF6",
          "polar": {
           "angularaxis": {
            "gridcolor": "white",
            "linecolor": "white",
            "ticks": ""
           },
           "bgcolor": "#E5ECF6",
           "radialaxis": {
            "gridcolor": "white",
            "linecolor": "white",
            "ticks": ""
           }
          },
          "scene": {
           "xaxis": {
            "backgroundcolor": "#E5ECF6",
            "gridcolor": "white",
            "gridwidth": 2,
            "linecolor": "white",
            "showbackground": true,
            "ticks": "",
            "zerolinecolor": "white"
           },
           "yaxis": {
            "backgroundcolor": "#E5ECF6",
            "gridcolor": "white",
            "gridwidth": 2,
            "linecolor": "white",
            "showbackground": true,
            "ticks": "",
            "zerolinecolor": "white"
           },
           "zaxis": {
            "backgroundcolor": "#E5ECF6",
            "gridcolor": "white",
            "gridwidth": 2,
            "linecolor": "white",
            "showbackground": true,
            "ticks": "",
            "zerolinecolor": "white"
           }
          },
          "shapedefaults": {
           "line": {
            "color": "#2a3f5f"
           }
          },
          "ternary": {
           "aaxis": {
            "gridcolor": "white",
            "linecolor": "white",
            "ticks": ""
           },
           "baxis": {
            "gridcolor": "white",
            "linecolor": "white",
            "ticks": ""
           },
           "bgcolor": "#E5ECF6",
           "caxis": {
            "gridcolor": "white",
            "linecolor": "white",
            "ticks": ""
           }
          },
          "title": {
           "x": 0.05
          },
          "xaxis": {
           "automargin": true,
           "gridcolor": "white",
           "linecolor": "white",
           "ticks": "",
           "title": {
            "standoff": 15
           },
           "zerolinecolor": "white",
           "zerolinewidth": 2
          },
          "yaxis": {
           "automargin": true,
           "gridcolor": "white",
           "linecolor": "white",
           "ticks": "",
           "title": {
            "standoff": 15
           },
           "zerolinecolor": "white",
           "zerolinewidth": 2
          }
         }
        },
        "title": {
         "text": "Répartition des prix"
        },
        "xaxis": {
         "anchor": "y",
         "domain": [
          0,
          1
         ]
        },
        "yaxis": {
         "anchor": "x",
         "domain": [
          0,
          1
         ],
         "title": {
          "text": "price"
         }
        }
       }
      }
     },
     "metadata": {},
     "output_type": "display_data"
    }
   ],
   "source": [
    "#Autre méthode avec Plotly Express\n",
    "import plotly.express as px\n",
    "\n",
    "#Création de la boîte à moustache avec Plotly Express\n",
    "fig = px.box(donnees, y='price', title='Répartition des prix')\n",
    "\n",
    "#Afficher le graphique\n",
    "fig.show()"
   ]
  },
  {
   "cell_type": "markdown",
   "id": "2d0fbfd2",
   "metadata": {},
   "source": [
    "<div style=\"font-size: 18px;\">La visualisation de ces données avce <strong>Plotly Express</strong> nous donne ces informations :<br>\n",
    "- prix max = 225 €<br>\n",
    "- prix min = 5,20 €<br>\n",
    "- médiane = 23,45 €<br>\n",
    "- quartile Q1 = 14,05 €<br>\n",
    "- quartile Q3 = 42,10 €<br>\n",
    "- valeur adjacente max = 83,70 €<br>\n",
    "- valeur adjacente min = 5,20 €\n",
    "</div>"
   ]
  },
  {
   "cell_type": "markdown",
   "id": "79e2f2eb",
   "metadata": {},
   "source": [
    "<div style=\"border: 1px solid RGB(51,165,182);\" >\n",
    "<h3 style=\"margin: auto; padding: 20px; color: RGB(51,165,182); \">Etape 4.2 - Exploration par l'utisation de méthodes statistique</h3>\n",
    "</div>"
   ]
  },
  {
   "cell_type": "markdown",
   "id": "0735c3b2",
   "metadata": {},
   "source": [
    "<div style=\"border: 1px solid RGB(51,165,182);\" >\n",
    "<h3 style=\"margin: auto; padding: 20px; color: RGB(51,165,182); \">Etape 4.2.1 - Identification par le Z-index</h3>\n",
    "</div>"
   ]
  },
  {
   "cell_type": "code",
   "execution_count": 130,
   "id": "1950ef8d",
   "metadata": {},
   "outputs": [
    {
     "name": "stdout",
     "output_type": "stream",
     "text": [
      "Moyenne du prix : 32.33\n",
      "Écart-type du prix : 27.6\n"
     ]
    },
    {
     "data": {
      "text/html": [
       "<div>\n",
       "<style scoped>\n",
       "    .dataframe tbody tr th:only-of-type {\n",
       "        vertical-align: middle;\n",
       "    }\n",
       "\n",
       "    .dataframe tbody tr th {\n",
       "        vertical-align: top;\n",
       "    }\n",
       "\n",
       "    .dataframe thead th {\n",
       "        text-align: right;\n",
       "    }\n",
       "</style>\n",
       "<table border=\"1\" class=\"dataframe\">\n",
       "  <thead>\n",
       "    <tr style=\"text-align: right;\">\n",
       "      <th></th>\n",
       "      <th>product_id</th>\n",
       "      <th>price</th>\n",
       "      <th>purchase_price</th>\n",
       "      <th>onsale_web</th>\n",
       "      <th>stock_quantity</th>\n",
       "      <th>stock_status</th>\n",
       "      <th>id_web</th>\n",
       "      <th>total_sales</th>\n",
       "      <th>product_type</th>\n",
       "      <th>post_title</th>\n",
       "      <th>post_name</th>\n",
       "      <th>post_date_gmt</th>\n",
       "      <th>post_modified_gmt</th>\n",
       "      <th>post_author</th>\n",
       "      <th>post_type</th>\n",
       "      <th>post_excerpt</th>\n",
       "      <th>guid</th>\n",
       "      <th>z_score</th>\n",
       "    </tr>\n",
       "  </thead>\n",
       "  <tbody>\n",
       "    <tr>\n",
       "      <th>0</th>\n",
       "      <td>3847</td>\n",
       "      <td>24.2</td>\n",
       "      <td>12.88</td>\n",
       "      <td>1</td>\n",
       "      <td>16</td>\n",
       "      <td>instock</td>\n",
       "      <td>15298</td>\n",
       "      <td>6.0</td>\n",
       "      <td>Vin</td>\n",
       "      <td>Pierre Jean Villa Saint-Joseph Préface 2018</td>\n",
       "      <td>pierre-jean-villa-saint-joseph-preface-2018</td>\n",
       "      <td>2018-02-08 11:58:52</td>\n",
       "      <td>2019-12-30 08:30:29</td>\n",
       "      <td>2.0</td>\n",
       "      <td>product</td>\n",
       "      <td>Il exhale un nez subtil, racé avec du poivre f...</td>\n",
       "      <td>https://www.bottle-neck.fr/?post_type=product&amp;...</td>\n",
       "      <td>-0.29</td>\n",
       "    </tr>\n",
       "    <tr>\n",
       "      <th>1</th>\n",
       "      <td>3849</td>\n",
       "      <td>34.3</td>\n",
       "      <td>17.54</td>\n",
       "      <td>1</td>\n",
       "      <td>10</td>\n",
       "      <td>instock</td>\n",
       "      <td>15296</td>\n",
       "      <td>9.0</td>\n",
       "      <td>Vin</td>\n",
       "      <td>Pierre Jean Villa Saint-Joseph Rouge Tildé 2017</td>\n",
       "      <td>pierre-jean-villa-saint-joseph-tilde-2017</td>\n",
       "      <td>2018-02-08 12:49:41</td>\n",
       "      <td>2019-12-21 08:00:17</td>\n",
       "      <td>2.0</td>\n",
       "      <td>product</td>\n",
       "      <td>Les vieilles vignes lui apportent une rare pro...</td>\n",
       "      <td>https://www.bottle-neck.fr/?post_type=product&amp;...</td>\n",
       "      <td>0.07</td>\n",
       "    </tr>\n",
       "    <tr>\n",
       "      <th>2</th>\n",
       "      <td>3850</td>\n",
       "      <td>20.8</td>\n",
       "      <td>10.64</td>\n",
       "      <td>1</td>\n",
       "      <td>0</td>\n",
       "      <td>outofstock</td>\n",
       "      <td>15300</td>\n",
       "      <td>0.0</td>\n",
       "      <td>Vin</td>\n",
       "      <td>Pierre Jean Villa Crozes-Hermitage Accroche Co...</td>\n",
       "      <td>pierre-jean-villa-croze-hermitage-accroche-coe...</td>\n",
       "      <td>2018-02-08 13:08:36</td>\n",
       "      <td>2020-06-26 16:15:03</td>\n",
       "      <td>2.0</td>\n",
       "      <td>product</td>\n",
       "      <td>Dentelle de fruit de jeunes syrah, aux tanins ...</td>\n",
       "      <td>https://www.bottle-neck.fr/?post_type=product&amp;...</td>\n",
       "      <td>-0.42</td>\n",
       "    </tr>\n",
       "    <tr>\n",
       "      <th>3</th>\n",
       "      <td>4032</td>\n",
       "      <td>14.1</td>\n",
       "      <td>6.92</td>\n",
       "      <td>1</td>\n",
       "      <td>26</td>\n",
       "      <td>instock</td>\n",
       "      <td>19814</td>\n",
       "      <td>12.0</td>\n",
       "      <td>Vin</td>\n",
       "      <td>Pierre Jean Villa IGP Collines Rhodaniennes Ga...</td>\n",
       "      <td>pierre-jean-villa-igp-gamine-2018</td>\n",
       "      <td>2018-02-09 13:01:05</td>\n",
       "      <td>2020-01-04 15:36:01</td>\n",
       "      <td>2.0</td>\n",
       "      <td>product</td>\n",
       "      <td>Gamine représente tout le fruité et la gourman...</td>\n",
       "      <td>https://www.bottle-neck.fr/?post_type=product&amp;...</td>\n",
       "      <td>-0.66</td>\n",
       "    </tr>\n",
       "    <tr>\n",
       "      <th>4</th>\n",
       "      <td>4039</td>\n",
       "      <td>46.0</td>\n",
       "      <td>23.77</td>\n",
       "      <td>1</td>\n",
       "      <td>3</td>\n",
       "      <td>instock</td>\n",
       "      <td>19815</td>\n",
       "      <td>3.0</td>\n",
       "      <td>Vin</td>\n",
       "      <td>Pierre Jean Villa Côte Rôtie Carmina 2017</td>\n",
       "      <td>pierre-jean-villa-cote-rotie-carmina-2017</td>\n",
       "      <td>2018-02-12 08:04:37</td>\n",
       "      <td>2020-01-04 15:36:10</td>\n",
       "      <td>2.0</td>\n",
       "      <td>product</td>\n",
       "      <td>Le côte rôtie Carmina monte en puissance mais ...</td>\n",
       "      <td>https://www.bottle-neck.fr/?post_type=product&amp;...</td>\n",
       "      <td>0.50</td>\n",
       "    </tr>\n",
       "    <tr>\n",
       "      <th>...</th>\n",
       "      <td>...</td>\n",
       "      <td>...</td>\n",
       "      <td>...</td>\n",
       "      <td>...</td>\n",
       "      <td>...</td>\n",
       "      <td>...</td>\n",
       "      <td>...</td>\n",
       "      <td>...</td>\n",
       "      <td>...</td>\n",
       "      <td>...</td>\n",
       "      <td>...</td>\n",
       "      <td>...</td>\n",
       "      <td>...</td>\n",
       "      <td>...</td>\n",
       "      <td>...</td>\n",
       "      <td>...</td>\n",
       "      <td>...</td>\n",
       "      <td>...</td>\n",
       "    </tr>\n",
       "    <tr>\n",
       "      <th>709</th>\n",
       "      <td>6930</td>\n",
       "      <td>8.4</td>\n",
       "      <td>4.34</td>\n",
       "      <td>1</td>\n",
       "      <td>28</td>\n",
       "      <td>instock</td>\n",
       "      <td>16135</td>\n",
       "      <td>9.0</td>\n",
       "      <td>Vin</td>\n",
       "      <td>Mouthes Le Bihan Côtes de Duras L'Aimé Chai 2015</td>\n",
       "      <td>mouthes-le-bihan-aime-chai-2015</td>\n",
       "      <td>2020-04-25 11:22:38</td>\n",
       "      <td>2020-08-26 15:35:03</td>\n",
       "      <td>2.0</td>\n",
       "      <td>product</td>\n",
       "      <td>Belle robe jeune à dominante rubis soutenue. N...</td>\n",
       "      <td>https://www.bottle-neck.fr/?post_type=product&amp;...</td>\n",
       "      <td>-0.87</td>\n",
       "    </tr>\n",
       "    <tr>\n",
       "      <th>710</th>\n",
       "      <td>7023</td>\n",
       "      <td>27.5</td>\n",
       "      <td>14.21</td>\n",
       "      <td>1</td>\n",
       "      <td>23</td>\n",
       "      <td>instock</td>\n",
       "      <td>15891</td>\n",
       "      <td>9.0</td>\n",
       "      <td>Vin</td>\n",
       "      <td>Camin Larredya Jurançon Sec La Virada 2018</td>\n",
       "      <td>camin-larredya-jurancon-sec-la-virada-2018</td>\n",
       "      <td>2020-05-02 12:53:40</td>\n",
       "      <td>2020-08-26 15:35:02</td>\n",
       "      <td>2.0</td>\n",
       "      <td>product</td>\n",
       "      <td>L'exotisme du nez est complété par d'élégantes...</td>\n",
       "      <td>https://www.bottle-neck.fr/?post_type=product&amp;...</td>\n",
       "      <td>-0.17</td>\n",
       "    </tr>\n",
       "    <tr>\n",
       "      <th>711</th>\n",
       "      <td>7025</td>\n",
       "      <td>69.0</td>\n",
       "      <td>34.22</td>\n",
       "      <td>1</td>\n",
       "      <td>8</td>\n",
       "      <td>instock</td>\n",
       "      <td>15887</td>\n",
       "      <td>5.0</td>\n",
       "      <td>Vin</td>\n",
       "      <td>Domaine Jamet Côte Rôtie Fructus Voluptas 2018</td>\n",
       "      <td>jamet-cote-rotie-fructus-voluptas-2018</td>\n",
       "      <td>2020-05-02 13:00:54</td>\n",
       "      <td>2020-08-14 16:15:03</td>\n",
       "      <td>2.0</td>\n",
       "      <td>product</td>\n",
       "      <td>Pour cette cuvée, Jean-Paul Jamet recherche un...</td>\n",
       "      <td>https://www.bottle-neck.fr/?post_type=product&amp;...</td>\n",
       "      <td>1.33</td>\n",
       "    </tr>\n",
       "    <tr>\n",
       "      <th>712</th>\n",
       "      <td>7247</td>\n",
       "      <td>54.8</td>\n",
       "      <td>27.18</td>\n",
       "      <td>1</td>\n",
       "      <td>6</td>\n",
       "      <td>instock</td>\n",
       "      <td>13127-1</td>\n",
       "      <td>4.0</td>\n",
       "      <td>Vin</td>\n",
       "      <td>Clos du Mont-Olivet Châteauneuf-du-Pape 2007</td>\n",
       "      <td>clos-du-mont-olivet-chateauneuf-du-pape-2007-2</td>\n",
       "      <td>2020-06-09 13:42:04</td>\n",
       "      <td>2020-07-20 15:09:06</td>\n",
       "      <td>2.0</td>\n",
       "      <td>product</td>\n",
       "      <td>Nez gracieux, très élégant avec une touche flo...</td>\n",
       "      <td>https://www.bottle-neck.fr/?post_type=product&amp;...</td>\n",
       "      <td>0.81</td>\n",
       "    </tr>\n",
       "    <tr>\n",
       "      <th>713</th>\n",
       "      <td>7338</td>\n",
       "      <td>16.3</td>\n",
       "      <td>8.00</td>\n",
       "      <td>1</td>\n",
       "      <td>40</td>\n",
       "      <td>instock</td>\n",
       "      <td>16230</td>\n",
       "      <td>13.0</td>\n",
       "      <td>Vin</td>\n",
       "      <td>Domaine Saint-Nicolas Vin de France Blanc Les ...</td>\n",
       "      <td>domaine-saint-nicolas-fiefs-vendeens-blanc-les...</td>\n",
       "      <td>2020-07-20 09:00:00</td>\n",
       "      <td>2020-08-13 08:45:03</td>\n",
       "      <td>2.0</td>\n",
       "      <td>product</td>\n",
       "      <td>Issu d'un assemblage de chenin blanc et de cha...</td>\n",
       "      <td>https://www.bottle-neck.fr/?post_type=product&amp;...</td>\n",
       "      <td>-0.58</td>\n",
       "    </tr>\n",
       "  </tbody>\n",
       "</table>\n",
       "<p>714 rows × 18 columns</p>\n",
       "</div>"
      ],
      "text/plain": [
       "     product_id  price  purchase_price  onsale_web  stock_quantity  \\\n",
       "0          3847   24.2           12.88           1              16   \n",
       "1          3849   34.3           17.54           1              10   \n",
       "2          3850   20.8           10.64           1               0   \n",
       "3          4032   14.1            6.92           1              26   \n",
       "4          4039   46.0           23.77           1               3   \n",
       "..          ...    ...             ...         ...             ...   \n",
       "709        6930    8.4            4.34           1              28   \n",
       "710        7023   27.5           14.21           1              23   \n",
       "711        7025   69.0           34.22           1               8   \n",
       "712        7247   54.8           27.18           1               6   \n",
       "713        7338   16.3            8.00           1              40   \n",
       "\n",
       "    stock_status   id_web  total_sales product_type  \\\n",
       "0        instock    15298          6.0          Vin   \n",
       "1        instock    15296          9.0          Vin   \n",
       "2     outofstock    15300          0.0          Vin   \n",
       "3        instock    19814         12.0          Vin   \n",
       "4        instock    19815          3.0          Vin   \n",
       "..           ...      ...          ...          ...   \n",
       "709      instock    16135          9.0          Vin   \n",
       "710      instock    15891          9.0          Vin   \n",
       "711      instock    15887          5.0          Vin   \n",
       "712      instock  13127-1          4.0          Vin   \n",
       "713      instock    16230         13.0          Vin   \n",
       "\n",
       "                                            post_title  \\\n",
       "0          Pierre Jean Villa Saint-Joseph Préface 2018   \n",
       "1      Pierre Jean Villa Saint-Joseph Rouge Tildé 2017   \n",
       "2    Pierre Jean Villa Crozes-Hermitage Accroche Co...   \n",
       "3    Pierre Jean Villa IGP Collines Rhodaniennes Ga...   \n",
       "4            Pierre Jean Villa Côte Rôtie Carmina 2017   \n",
       "..                                                 ...   \n",
       "709   Mouthes Le Bihan Côtes de Duras L'Aimé Chai 2015   \n",
       "710         Camin Larredya Jurançon Sec La Virada 2018   \n",
       "711     Domaine Jamet Côte Rôtie Fructus Voluptas 2018   \n",
       "712       Clos du Mont-Olivet Châteauneuf-du-Pape 2007   \n",
       "713  Domaine Saint-Nicolas Vin de France Blanc Les ...   \n",
       "\n",
       "                                             post_name       post_date_gmt  \\\n",
       "0          pierre-jean-villa-saint-joseph-preface-2018 2018-02-08 11:58:52   \n",
       "1            pierre-jean-villa-saint-joseph-tilde-2017 2018-02-08 12:49:41   \n",
       "2    pierre-jean-villa-croze-hermitage-accroche-coe... 2018-02-08 13:08:36   \n",
       "3                    pierre-jean-villa-igp-gamine-2018 2018-02-09 13:01:05   \n",
       "4            pierre-jean-villa-cote-rotie-carmina-2017 2018-02-12 08:04:37   \n",
       "..                                                 ...                 ...   \n",
       "709                    mouthes-le-bihan-aime-chai-2015 2020-04-25 11:22:38   \n",
       "710         camin-larredya-jurancon-sec-la-virada-2018 2020-05-02 12:53:40   \n",
       "711             jamet-cote-rotie-fructus-voluptas-2018 2020-05-02 13:00:54   \n",
       "712     clos-du-mont-olivet-chateauneuf-du-pape-2007-2 2020-06-09 13:42:04   \n",
       "713  domaine-saint-nicolas-fiefs-vendeens-blanc-les... 2020-07-20 09:00:00   \n",
       "\n",
       "      post_modified_gmt  post_author post_type  \\\n",
       "0   2019-12-30 08:30:29          2.0   product   \n",
       "1   2019-12-21 08:00:17          2.0   product   \n",
       "2   2020-06-26 16:15:03          2.0   product   \n",
       "3   2020-01-04 15:36:01          2.0   product   \n",
       "4   2020-01-04 15:36:10          2.0   product   \n",
       "..                  ...          ...       ...   \n",
       "709 2020-08-26 15:35:03          2.0   product   \n",
       "710 2020-08-26 15:35:02          2.0   product   \n",
       "711 2020-08-14 16:15:03          2.0   product   \n",
       "712 2020-07-20 15:09:06          2.0   product   \n",
       "713 2020-08-13 08:45:03          2.0   product   \n",
       "\n",
       "                                          post_excerpt  \\\n",
       "0    Il exhale un nez subtil, racé avec du poivre f...   \n",
       "1    Les vieilles vignes lui apportent une rare pro...   \n",
       "2    Dentelle de fruit de jeunes syrah, aux tanins ...   \n",
       "3    Gamine représente tout le fruité et la gourman...   \n",
       "4    Le côte rôtie Carmina monte en puissance mais ...   \n",
       "..                                                 ...   \n",
       "709  Belle robe jeune à dominante rubis soutenue. N...   \n",
       "710  L'exotisme du nez est complété par d'élégantes...   \n",
       "711  Pour cette cuvée, Jean-Paul Jamet recherche un...   \n",
       "712  Nez gracieux, très élégant avec une touche flo...   \n",
       "713  Issu d'un assemblage de chenin blanc et de cha...   \n",
       "\n",
       "                                                  guid  z_score  \n",
       "0    https://www.bottle-neck.fr/?post_type=product&...    -0.29  \n",
       "1    https://www.bottle-neck.fr/?post_type=product&...     0.07  \n",
       "2    https://www.bottle-neck.fr/?post_type=product&...    -0.42  \n",
       "3    https://www.bottle-neck.fr/?post_type=product&...    -0.66  \n",
       "4    https://www.bottle-neck.fr/?post_type=product&...     0.50  \n",
       "..                                                 ...      ...  \n",
       "709  https://www.bottle-neck.fr/?post_type=product&...    -0.87  \n",
       "710  https://www.bottle-neck.fr/?post_type=product&...    -0.17  \n",
       "711  https://www.bottle-neck.fr/?post_type=product&...     1.33  \n",
       "712  https://www.bottle-neck.fr/?post_type=product&...     0.81  \n",
       "713  https://www.bottle-neck.fr/?post_type=product&...    -0.58  \n",
       "\n",
       "[714 rows x 18 columns]"
      ]
     },
     "execution_count": 130,
     "metadata": {},
     "output_type": "execute_result"
    }
   ],
   "source": [
    "#Calculer la moyenne du prix\n",
    "donnees_price_moyenne = donnees['price'].mean()\n",
    "donnees_price_moyenne = round(donnees_price_moyenne,2)\n",
    "print(\"Moyenne du prix :\",donnees_price_moyenne)\n",
    "\n",
    "#Calculer l'écart-type du prix\n",
    "donnees_price_ecarttype = donnees['price'].std()\n",
    "donnees_price_ecarttype = round(donnees_price_ecarttype,2)\n",
    "print(\"Écart-type du prix :\",donnees_price_ecarttype)\n",
    "\n",
    "#Calculer le Z-score\n",
    "donnees['z_score'] = round((donnees['price'] - donnees_price_moyenne) / donnees_price_ecarttype,2)\n",
    "\n",
    "#Afficher le résultat\n",
    "donnees"
   ]
  },
  {
   "cell_type": "code",
   "execution_count": 131,
   "id": "9c2f435f",
   "metadata": {},
   "outputs": [
    {
     "name": "stdout",
     "output_type": "stream",
     "text": [
      "     price  z_score product_type  total_sales  \\\n",
      "199  225.0     6.98    Champagne         11.0   \n",
      "426  217.5     6.71          Vin          2.0   \n",
      "587  191.3     5.76    Champagne          6.0   \n",
      "218  176.0     5.21       Cognac          3.0   \n",
      "553  175.0     5.17          Vin          4.0   \n",
      "221  157.0     4.52       Cognac          4.0   \n",
      "381  137.0     3.79          Vin          3.0   \n",
      "642  135.0     3.72    Champagne          5.0   \n",
      "511  124.8     3.35          Vin          1.0   \n",
      "603  122.0     3.25       Whisky          3.0   \n",
      "654  121.0     3.21          Vin          3.0   \n",
      "657  121.0     3.21          Vin          2.0   \n",
      "648  116.4     3.05          Vin          5.0   \n",
      "\n",
      "                                            post_title  \n",
      "199     Champagne Egly-Ouriet Grand Cru Millésimé 2008  \n",
      "426     David Duband Charmes-Chambertin Grand Cru 2014  \n",
      "587  Coteaux Champenois Egly-Ouriet Ambonnay Rouge ...  \n",
      "218                               Cognac Frapin VIP XO  \n",
      "553                Camille Giroud Clos de Vougeot 2016  \n",
      "221  Cognac Frapin Château de Fontpinot 1989 20 Ans...  \n",
      "381  Domaine Des Croix Corton Charlemagne Grand Cru...  \n",
      "642             Champagne Gosset Célébris Vintage 2007  \n",
      "511  Domaine Weinbach Gewurztraminer Grand Cru Furs...  \n",
      "603  Wemyss Malts Single Cask Scotch Whisky Choc 'n...  \n",
      "654  Domaine des Comtes Lafon Volnay 1er Cru Santen...  \n",
      "657  Domaine des Comtes Lafon Volnay 1er Cru Champa...  \n",
      "648  Domaine Clerget Echezeaux Grand Cru En Orveaux...  \n",
      "price           13\n",
      "z_score         13\n",
      "product_type    13\n",
      "total_sales     13\n",
      "post_title      13\n",
      "dtype: int64\n"
     ]
    }
   ],
   "source": [
    "#Quels sont les prix dont z-score est supérieur à 3?\n",
    "donnees_price_ecarttype_sup3 = donnees[donnees['z_score'] > 3][['price','z_score','product_type', 'total_sales', 'post_title']]\n",
    "\n",
    "#Les trier par prix décroissant\n",
    "donnees_price_ecarttype_sup3 = donnees_price_ecarttype_sup3.sort_values(by='price', ascending=False)\n",
    "print(donnees_price_ecarttype_sup3)\n",
    "\n",
    "#Compter le nombre de résultats\n",
    "donnees_price_ecarttype_sup3_nbre = donnees_price_ecarttype_sup3.count()\n",
    "print(donnees_price_ecarttype_sup3_nbre)"
   ]
  },
  {
   "cell_type": "markdown",
   "id": "86166a20",
   "metadata": {},
   "source": [
    "<div style=\"font-size: 18px;\">Il y a 13 produits avec un prix dont le z-score est supérieur à 3<br>\n",
    "Les prix n'ont pas l'air élevés si on les compare sur internet\n",
    "</div>"
   ]
  },
  {
   "cell_type": "markdown",
   "id": "750f54f3",
   "metadata": {},
   "source": [
    "<div style=\"border: 1px solid RGB(51,165,182);\" >\n",
    "<h3 style=\"margin: auto; padding: 20px; color: RGB(51,165,182); \">Etape 4.2.2 - Identification par l'interval interquartile</h3>\n",
    "</div>"
   ]
  },
  {
   "cell_type": "code",
   "execution_count": 132,
   "id": "6c0db8c0",
   "metadata": {},
   "outputs": [
    {
     "data": {
      "text/html": [
       "<div>\n",
       "<style scoped>\n",
       "    .dataframe tbody tr th:only-of-type {\n",
       "        vertical-align: middle;\n",
       "    }\n",
       "\n",
       "    .dataframe tbody tr th {\n",
       "        vertical-align: top;\n",
       "    }\n",
       "\n",
       "    .dataframe thead th {\n",
       "        text-align: right;\n",
       "    }\n",
       "</style>\n",
       "<table border=\"1\" class=\"dataframe\">\n",
       "  <thead>\n",
       "    <tr style=\"text-align: right;\">\n",
       "      <th></th>\n",
       "      <th>product_id</th>\n",
       "      <th>price</th>\n",
       "      <th>purchase_price</th>\n",
       "      <th>onsale_web</th>\n",
       "      <th>stock_quantity</th>\n",
       "      <th>total_sales</th>\n",
       "      <th>post_date_gmt</th>\n",
       "      <th>post_modified_gmt</th>\n",
       "      <th>post_author</th>\n",
       "      <th>z_score</th>\n",
       "    </tr>\n",
       "  </thead>\n",
       "  <tbody>\n",
       "    <tr>\n",
       "      <th>count</th>\n",
       "      <td>714.000000</td>\n",
       "      <td>714.000000</td>\n",
       "      <td>714.000000</td>\n",
       "      <td>714.000000</td>\n",
       "      <td>714.000000</td>\n",
       "      <td>714.000000</td>\n",
       "      <td>714</td>\n",
       "      <td>714</td>\n",
       "      <td>714.000000</td>\n",
       "      <td>714.000000</td>\n",
       "    </tr>\n",
       "    <tr>\n",
       "      <th>mean</th>\n",
       "      <td>5032.557423</td>\n",
       "      <td>32.333683</td>\n",
       "      <td>16.904006</td>\n",
       "      <td>0.998599</td>\n",
       "      <td>23.445378</td>\n",
       "      <td>8.054622</td>\n",
       "      <td>2018-08-22 02:29:08.581232384</td>\n",
       "      <td>2020-06-20 19:51:53.929971968</td>\n",
       "      <td>1.998599</td>\n",
       "      <td>0.000406</td>\n",
       "    </tr>\n",
       "    <tr>\n",
       "      <th>min</th>\n",
       "      <td>3847.000000</td>\n",
       "      <td>5.200000</td>\n",
       "      <td>2.740000</td>\n",
       "      <td>0.000000</td>\n",
       "      <td>0.000000</td>\n",
       "      <td>0.000000</td>\n",
       "      <td>2018-02-08 11:58:52</td>\n",
       "      <td>2018-02-20 14:19:23</td>\n",
       "      <td>1.000000</td>\n",
       "      <td>-0.980000</td>\n",
       "    </tr>\n",
       "    <tr>\n",
       "      <th>25%</th>\n",
       "      <td>4280.250000</td>\n",
       "      <td>14.062500</td>\n",
       "      <td>7.240000</td>\n",
       "      <td>1.000000</td>\n",
       "      <td>9.000000</td>\n",
       "      <td>5.000000</td>\n",
       "      <td>2018-02-27 19:01:12.500000</td>\n",
       "      <td>2020-06-18 16:32:35</td>\n",
       "      <td>2.000000</td>\n",
       "      <td>-0.660000</td>\n",
       "    </tr>\n",
       "    <tr>\n",
       "      <th>50%</th>\n",
       "      <td>4796.000000</td>\n",
       "      <td>23.450000</td>\n",
       "      <td>12.305000</td>\n",
       "      <td>1.000000</td>\n",
       "      <td>20.000000</td>\n",
       "      <td>8.000000</td>\n",
       "      <td>2018-04-19 12:52:10</td>\n",
       "      <td>2020-08-04 07:30:06.500000</td>\n",
       "      <td>2.000000</td>\n",
       "      <td>-0.320000</td>\n",
       "    </tr>\n",
       "    <tr>\n",
       "      <th>75%</th>\n",
       "      <td>5710.500000</td>\n",
       "      <td>42.075000</td>\n",
       "      <td>22.030000</td>\n",
       "      <td>1.000000</td>\n",
       "      <td>30.000000</td>\n",
       "      <td>11.000000</td>\n",
       "      <td>2019-01-31 13:35:47</td>\n",
       "      <td>2020-08-25 08:32:32</td>\n",
       "      <td>2.000000</td>\n",
       "      <td>0.350000</td>\n",
       "    </tr>\n",
       "    <tr>\n",
       "      <th>max</th>\n",
       "      <td>7338.000000</td>\n",
       "      <td>225.000000</td>\n",
       "      <td>137.810000</td>\n",
       "      <td>1.000000</td>\n",
       "      <td>145.000000</td>\n",
       "      <td>36.000000</td>\n",
       "      <td>2020-07-20 09:00:00</td>\n",
       "      <td>2020-08-27 16:55:03</td>\n",
       "      <td>2.000000</td>\n",
       "      <td>6.980000</td>\n",
       "    </tr>\n",
       "    <tr>\n",
       "      <th>std</th>\n",
       "      <td>790.510878</td>\n",
       "      <td>27.596332</td>\n",
       "      <td>14.827384</td>\n",
       "      <td>0.037424</td>\n",
       "      <td>22.219243</td>\n",
       "      <td>4.161344</td>\n",
       "      <td>NaN</td>\n",
       "      <td>NaN</td>\n",
       "      <td>0.037424</td>\n",
       "      <td>0.999870</td>\n",
       "    </tr>\n",
       "  </tbody>\n",
       "</table>\n",
       "</div>"
      ],
      "text/plain": [
       "        product_id       price  purchase_price  onsale_web  stock_quantity  \\\n",
       "count   714.000000  714.000000      714.000000  714.000000      714.000000   \n",
       "mean   5032.557423   32.333683       16.904006    0.998599       23.445378   \n",
       "min    3847.000000    5.200000        2.740000    0.000000        0.000000   \n",
       "25%    4280.250000   14.062500        7.240000    1.000000        9.000000   \n",
       "50%    4796.000000   23.450000       12.305000    1.000000       20.000000   \n",
       "75%    5710.500000   42.075000       22.030000    1.000000       30.000000   \n",
       "max    7338.000000  225.000000      137.810000    1.000000      145.000000   \n",
       "std     790.510878   27.596332       14.827384    0.037424       22.219243   \n",
       "\n",
       "       total_sales                  post_date_gmt  \\\n",
       "count   714.000000                            714   \n",
       "mean      8.054622  2018-08-22 02:29:08.581232384   \n",
       "min       0.000000            2018-02-08 11:58:52   \n",
       "25%       5.000000     2018-02-27 19:01:12.500000   \n",
       "50%       8.000000            2018-04-19 12:52:10   \n",
       "75%      11.000000            2019-01-31 13:35:47   \n",
       "max      36.000000            2020-07-20 09:00:00   \n",
       "std       4.161344                            NaN   \n",
       "\n",
       "                   post_modified_gmt  post_author     z_score  \n",
       "count                            714   714.000000  714.000000  \n",
       "mean   2020-06-20 19:51:53.929971968     1.998599    0.000406  \n",
       "min              2018-02-20 14:19:23     1.000000   -0.980000  \n",
       "25%              2020-06-18 16:32:35     2.000000   -0.660000  \n",
       "50%       2020-08-04 07:30:06.500000     2.000000   -0.320000  \n",
       "75%              2020-08-25 08:32:32     2.000000    0.350000  \n",
       "max              2020-08-27 16:55:03     2.000000    6.980000  \n",
       "std                              NaN     0.037424    0.999870  "
      ]
     },
     "execution_count": 132,
     "metadata": {},
     "output_type": "execute_result"
    }
   ],
   "source": [
    "#Utilisation de la fonction describe de Pandas pour l'étude des mesures de dispersions\n",
    "donnees.describe()"
   ]
  },
  {
   "cell_type": "code",
   "execution_count": 133,
   "id": "a458ca14",
   "metadata": {},
   "outputs": [
    {
     "name": "stdout",
     "output_type": "stream",
     "text": [
      "     price\n",
      "199  225.0\n",
      "426  217.5\n",
      "587  191.3\n",
      "218  176.0\n",
      "553  175.0\n",
      "221  157.0\n",
      "381  137.0\n",
      "642  135.0\n",
      "511  124.8\n",
      "603  122.0\n",
      "654  121.0\n",
      "657  121.0\n",
      "648  116.4\n",
      "653  115.0\n",
      "656  115.0\n",
      "604  114.0\n",
      "437  112.0\n",
      "227  109.6\n",
      "219  108.5\n",
      "647  105.6\n",
      "432  105.0\n",
      "431  105.0\n",
      "222  104.0\n",
      "380  102.3\n",
      "63   100.0\n",
      "655   99.0\n",
      "602   93.0\n",
      "502   92.0\n",
      "65    88.4\n",
      "438   86.8\n",
      "205   85.6\n"
     ]
    }
   ],
   "source": [
    "#Définissez un seuil pour les articles \"outliers\" en prix\n",
    "#Calculer les quartiles\n",
    "Q1 = donnees['price'].quantile(0.25)\n",
    "Q3 = donnees['price'].quantile(0.75)\n",
    "\n",
    "#Calculer l'interval interquartile\n",
    "interval_interquartile = Q3 - Q1\n",
    "\n",
    "#Définir les seuils\n",
    "seuil_bas = Q1 - 1.5 * interval_interquartile\n",
    "seuil_haut = Q3 + 1.5 * interval_interquartile\n",
    "\n",
    "#Filtrer les outliers\n",
    "donnees_outliers = round(donnees[(donnees['price'] < seuil_bas) | (donnees['price'] > seuil_haut)],2)\n",
    "\n",
    "#Trier les outliers par ordre décroissant de prix\n",
    "donnees_outliers = donnees_outliers.sort_values(by='price', ascending=False)\n",
    "\n",
    "#Afficher les outliers\n",
    "print(donnees_outliers[['price']])"
   ]
  },
  {
   "cell_type": "code",
   "execution_count": 134,
   "id": "7d05cde7",
   "metadata": {},
   "outputs": [
    {
     "name": "stdout",
     "output_type": "stream",
     "text": [
      "Nombre d'outliers : 31\n",
      "Pourcentage d'outliers : 4.34%\n"
     ]
    }
   ],
   "source": [
    "#Nombre total de produits\n",
    "donnees_nombre_total_produits = len(donnees)\n",
    "\n",
    "#Nombre d'outliers\n",
    "donnees_outliers_nombre = len(donnees_outliers)\n",
    "\n",
    "#Pourcentage d'outliers\n",
    "donnees_outliers_pourcentage = (donnees_outliers_nombre / donnees_nombre_total_produits) * 100\n",
    "\n",
    "#Afficher les résultats\n",
    "print(f\"Nombre d'outliers : {donnees_outliers_nombre}\")\n",
    "print(f\"Pourcentage d'outliers : {donnees_outliers_pourcentage:.2f}%\")"
   ]
  },
  {
   "cell_type": "code",
   "execution_count": 135,
   "id": "6fae26af",
   "metadata": {},
   "outputs": [
    {
     "data": {
      "text/html": [
       "<div>\n",
       "<style scoped>\n",
       "    .dataframe tbody tr th:only-of-type {\n",
       "        vertical-align: middle;\n",
       "    }\n",
       "\n",
       "    .dataframe tbody tr th {\n",
       "        vertical-align: top;\n",
       "    }\n",
       "\n",
       "    .dataframe thead th {\n",
       "        text-align: right;\n",
       "    }\n",
       "</style>\n",
       "<table border=\"1\" class=\"dataframe\">\n",
       "  <thead>\n",
       "    <tr style=\"text-align: right;\">\n",
       "      <th></th>\n",
       "      <th>product_id</th>\n",
       "      <th>post_title</th>\n",
       "      <th>purchase_price</th>\n",
       "      <th>price_outlier</th>\n",
       "      <th>price_moyenne</th>\n",
       "      <th>price_diff</th>\n",
       "      <th>product_type</th>\n",
       "      <th>z_score</th>\n",
       "    </tr>\n",
       "  </thead>\n",
       "  <tbody>\n",
       "    <tr>\n",
       "      <th>0</th>\n",
       "      <td>4352</td>\n",
       "      <td>Champagne Egly-Ouriet Grand Cru Millésimé 2008</td>\n",
       "      <td>137.81</td>\n",
       "      <td>225.0</td>\n",
       "      <td>69.63</td>\n",
       "      <td>155.37</td>\n",
       "      <td>Champagne</td>\n",
       "      <td>6.98</td>\n",
       "    </tr>\n",
       "    <tr>\n",
       "      <th>1</th>\n",
       "      <td>5001</td>\n",
       "      <td>David Duband Charmes-Chambertin Grand Cru 2014</td>\n",
       "      <td>116.87</td>\n",
       "      <td>217.5</td>\n",
       "      <td>29.28</td>\n",
       "      <td>188.22</td>\n",
       "      <td>Vin</td>\n",
       "      <td>6.71</td>\n",
       "    </tr>\n",
       "    <tr>\n",
       "      <th>2</th>\n",
       "      <td>5892</td>\n",
       "      <td>Coteaux Champenois Egly-Ouriet Ambonnay Rouge ...</td>\n",
       "      <td>116.06</td>\n",
       "      <td>191.3</td>\n",
       "      <td>69.63</td>\n",
       "      <td>121.67</td>\n",
       "      <td>Champagne</td>\n",
       "      <td>5.76</td>\n",
       "    </tr>\n",
       "    <tr>\n",
       "      <th>3</th>\n",
       "      <td>4402</td>\n",
       "      <td>Cognac Frapin VIP XO</td>\n",
       "      <td>78.25</td>\n",
       "      <td>176.0</td>\n",
       "      <td>97.50</td>\n",
       "      <td>78.50</td>\n",
       "      <td>Cognac</td>\n",
       "      <td>5.21</td>\n",
       "    </tr>\n",
       "    <tr>\n",
       "      <th>4</th>\n",
       "      <td>5767</td>\n",
       "      <td>Camille Giroud Clos de Vougeot 2016</td>\n",
       "      <td>90.42</td>\n",
       "      <td>175.0</td>\n",
       "      <td>29.28</td>\n",
       "      <td>145.72</td>\n",
       "      <td>Vin</td>\n",
       "      <td>5.17</td>\n",
       "    </tr>\n",
       "    <tr>\n",
       "      <th>5</th>\n",
       "      <td>4406</td>\n",
       "      <td>Cognac Frapin Château de Fontpinot 1989 20 Ans...</td>\n",
       "      <td>69.08</td>\n",
       "      <td>157.0</td>\n",
       "      <td>97.50</td>\n",
       "      <td>59.50</td>\n",
       "      <td>Cognac</td>\n",
       "      <td>4.52</td>\n",
       "    </tr>\n",
       "    <tr>\n",
       "      <th>6</th>\n",
       "      <td>4904</td>\n",
       "      <td>Domaine Des Croix Corton Charlemagne Grand Cru...</td>\n",
       "      <td>67.95</td>\n",
       "      <td>137.0</td>\n",
       "      <td>29.28</td>\n",
       "      <td>107.72</td>\n",
       "      <td>Vin</td>\n",
       "      <td>3.79</td>\n",
       "    </tr>\n",
       "    <tr>\n",
       "      <th>7</th>\n",
       "      <td>6126</td>\n",
       "      <td>Champagne Gosset Célébris Vintage 2007</td>\n",
       "      <td>80.33</td>\n",
       "      <td>135.0</td>\n",
       "      <td>69.63</td>\n",
       "      <td>65.37</td>\n",
       "      <td>Champagne</td>\n",
       "      <td>3.72</td>\n",
       "    </tr>\n",
       "    <tr>\n",
       "      <th>8</th>\n",
       "      <td>5612</td>\n",
       "      <td>Domaine Weinbach Gewurztraminer Grand Cru Furs...</td>\n",
       "      <td>66.41</td>\n",
       "      <td>124.8</td>\n",
       "      <td>29.28</td>\n",
       "      <td>95.52</td>\n",
       "      <td>Vin</td>\n",
       "      <td>3.35</td>\n",
       "    </tr>\n",
       "    <tr>\n",
       "      <th>9</th>\n",
       "      <td>5917</td>\n",
       "      <td>Wemyss Malts Single Cask Scotch Whisky Choc 'n...</td>\n",
       "      <td>54.24</td>\n",
       "      <td>122.0</td>\n",
       "      <td>65.56</td>\n",
       "      <td>56.44</td>\n",
       "      <td>Whisky</td>\n",
       "      <td>3.25</td>\n",
       "    </tr>\n",
       "    <tr>\n",
       "      <th>10</th>\n",
       "      <td>6213</td>\n",
       "      <td>Domaine des Comtes Lafon Volnay 1er Cru Santen...</td>\n",
       "      <td>63.14</td>\n",
       "      <td>121.0</td>\n",
       "      <td>29.28</td>\n",
       "      <td>91.72</td>\n",
       "      <td>Vin</td>\n",
       "      <td>3.21</td>\n",
       "    </tr>\n",
       "    <tr>\n",
       "      <th>11</th>\n",
       "      <td>6216</td>\n",
       "      <td>Domaine des Comtes Lafon Volnay 1er Cru Champa...</td>\n",
       "      <td>60.02</td>\n",
       "      <td>121.0</td>\n",
       "      <td>29.28</td>\n",
       "      <td>91.72</td>\n",
       "      <td>Vin</td>\n",
       "      <td>3.21</td>\n",
       "    </tr>\n",
       "    <tr>\n",
       "      <th>12</th>\n",
       "      <td>6202</td>\n",
       "      <td>Domaine Clerget Echezeaux Grand Cru En Orveaux...</td>\n",
       "      <td>63.15</td>\n",
       "      <td>116.4</td>\n",
       "      <td>29.28</td>\n",
       "      <td>87.12</td>\n",
       "      <td>Vin</td>\n",
       "      <td>3.05</td>\n",
       "    </tr>\n",
       "    <tr>\n",
       "      <th>13</th>\n",
       "      <td>6212</td>\n",
       "      <td>Domaine des Comtes Lafon Volnay 1er Cru Santen...</td>\n",
       "      <td>59.42</td>\n",
       "      <td>115.0</td>\n",
       "      <td>29.28</td>\n",
       "      <td>85.72</td>\n",
       "      <td>Vin</td>\n",
       "      <td>3.00</td>\n",
       "    </tr>\n",
       "    <tr>\n",
       "      <th>14</th>\n",
       "      <td>6215</td>\n",
       "      <td>Domaine des Comtes Lafon Volnay 1er Cru Champa...</td>\n",
       "      <td>56.45</td>\n",
       "      <td>115.0</td>\n",
       "      <td>29.28</td>\n",
       "      <td>85.72</td>\n",
       "      <td>Vin</td>\n",
       "      <td>3.00</td>\n",
       "    </tr>\n",
       "    <tr>\n",
       "      <th>15</th>\n",
       "      <td>5918</td>\n",
       "      <td>Wemyss Malts Single Cask Scotch Whisky Chai Ca...</td>\n",
       "      <td>52.25</td>\n",
       "      <td>114.0</td>\n",
       "      <td>65.56</td>\n",
       "      <td>48.44</td>\n",
       "      <td>Whisky</td>\n",
       "      <td>2.96</td>\n",
       "    </tr>\n",
       "    <tr>\n",
       "      <th>16</th>\n",
       "      <td>5025</td>\n",
       "      <td>Champagne Agrapart &amp;amp; Fils L'Avizoise Extra...</td>\n",
       "      <td>68.60</td>\n",
       "      <td>112.0</td>\n",
       "      <td>69.63</td>\n",
       "      <td>42.37</td>\n",
       "      <td>Champagne</td>\n",
       "      <td>2.89</td>\n",
       "    </tr>\n",
       "    <tr>\n",
       "      <th>17</th>\n",
       "      <td>4582</td>\n",
       "      <td>Château de Meursault Puligny-Montrachet 1er Cr...</td>\n",
       "      <td>53.80</td>\n",
       "      <td>109.6</td>\n",
       "      <td>29.28</td>\n",
       "      <td>80.32</td>\n",
       "      <td>Vin</td>\n",
       "      <td>2.80</td>\n",
       "    </tr>\n",
       "    <tr>\n",
       "      <th>18</th>\n",
       "      <td>4404</td>\n",
       "      <td>Cognac Frapin Château de Fontpinot XO</td>\n",
       "      <td>52.22</td>\n",
       "      <td>108.5</td>\n",
       "      <td>97.50</td>\n",
       "      <td>11.00</td>\n",
       "      <td>Cognac</td>\n",
       "      <td>2.76</td>\n",
       "    </tr>\n",
       "    <tr>\n",
       "      <th>19</th>\n",
       "      <td>6201</td>\n",
       "      <td>David Duband Chambolle-Musigny 1er Cru Les Sen...</td>\n",
       "      <td>57.29</td>\n",
       "      <td>105.6</td>\n",
       "      <td>29.28</td>\n",
       "      <td>76.32</td>\n",
       "      <td>Vin</td>\n",
       "      <td>2.65</td>\n",
       "    </tr>\n",
       "    <tr>\n",
       "      <th>20</th>\n",
       "      <td>5008</td>\n",
       "      <td>Domaine des Comtes Lafon Volnay 1er Cru Santen...</td>\n",
       "      <td>56.42</td>\n",
       "      <td>105.0</td>\n",
       "      <td>29.28</td>\n",
       "      <td>75.72</td>\n",
       "      <td>Vin</td>\n",
       "      <td>2.63</td>\n",
       "    </tr>\n",
       "    <tr>\n",
       "      <th>21</th>\n",
       "      <td>5007</td>\n",
       "      <td>Domaine des Comtes Lafon Volnay 1er Cru Santen...</td>\n",
       "      <td>55.88</td>\n",
       "      <td>105.0</td>\n",
       "      <td>29.28</td>\n",
       "      <td>75.72</td>\n",
       "      <td>Vin</td>\n",
       "      <td>2.63</td>\n",
       "    </tr>\n",
       "    <tr>\n",
       "      <th>22</th>\n",
       "      <td>4407</td>\n",
       "      <td>Cognac Frapin Cigar Blend</td>\n",
       "      <td>46.71</td>\n",
       "      <td>104.0</td>\n",
       "      <td>97.50</td>\n",
       "      <td>6.50</td>\n",
       "      <td>Cognac</td>\n",
       "      <td>2.60</td>\n",
       "    </tr>\n",
       "    <tr>\n",
       "      <th>23</th>\n",
       "      <td>4903</td>\n",
       "      <td>Domaine Des Croix Corton Grand Cru Les Grèves ...</td>\n",
       "      <td>51.80</td>\n",
       "      <td>102.3</td>\n",
       "      <td>29.28</td>\n",
       "      <td>73.02</td>\n",
       "      <td>Vin</td>\n",
       "      <td>2.54</td>\n",
       "    </tr>\n",
       "    <tr>\n",
       "      <th>24</th>\n",
       "      <td>4115</td>\n",
       "      <td>Zind-Humbrecht Riesling Grand Cru Rangen De Th...</td>\n",
       "      <td>52.70</td>\n",
       "      <td>100.0</td>\n",
       "      <td>29.28</td>\n",
       "      <td>70.72</td>\n",
       "      <td>Vin</td>\n",
       "      <td>2.45</td>\n",
       "    </tr>\n",
       "    <tr>\n",
       "      <th>25</th>\n",
       "      <td>6214</td>\n",
       "      <td>Domaine des Comtes Lafon Volnay 1er Cru Champa...</td>\n",
       "      <td>49.62</td>\n",
       "      <td>99.0</td>\n",
       "      <td>29.28</td>\n",
       "      <td>69.72</td>\n",
       "      <td>Vin</td>\n",
       "      <td>2.42</td>\n",
       "    </tr>\n",
       "    <tr>\n",
       "      <th>26</th>\n",
       "      <td>5916</td>\n",
       "      <td>Wemyss Malts Single Cask Scotch Whisky Chocola...</td>\n",
       "      <td>40.49</td>\n",
       "      <td>93.0</td>\n",
       "      <td>65.56</td>\n",
       "      <td>27.44</td>\n",
       "      <td>Whisky</td>\n",
       "      <td>2.20</td>\n",
       "    </tr>\n",
       "    <tr>\n",
       "      <th>27</th>\n",
       "      <td>5565</td>\n",
       "      <td>Tempier Bandol Cabassaou 2017</td>\n",
       "      <td>46.11</td>\n",
       "      <td>92.0</td>\n",
       "      <td>29.28</td>\n",
       "      <td>62.72</td>\n",
       "      <td>Vin</td>\n",
       "      <td>2.16</td>\n",
       "    </tr>\n",
       "    <tr>\n",
       "      <th>28</th>\n",
       "      <td>4132</td>\n",
       "      <td>Zind-Humbrecht Pinot Gris Grand Cru Rangen De ...</td>\n",
       "      <td>44.30</td>\n",
       "      <td>88.4</td>\n",
       "      <td>29.28</td>\n",
       "      <td>59.12</td>\n",
       "      <td>Vin</td>\n",
       "      <td>2.03</td>\n",
       "    </tr>\n",
       "    <tr>\n",
       "      <th>29</th>\n",
       "      <td>5026</td>\n",
       "      <td>Champagne Agrapart &amp;amp; Fils Minéral Extra Br...</td>\n",
       "      <td>50.13</td>\n",
       "      <td>86.8</td>\n",
       "      <td>69.63</td>\n",
       "      <td>17.17</td>\n",
       "      <td>Champagne</td>\n",
       "      <td>1.97</td>\n",
       "    </tr>\n",
       "    <tr>\n",
       "      <th>30</th>\n",
       "      <td>4359</td>\n",
       "      <td>Champagne Larmandier-Bernier Grand Cru Les Che...</td>\n",
       "      <td>51.93</td>\n",
       "      <td>85.6</td>\n",
       "      <td>69.63</td>\n",
       "      <td>15.97</td>\n",
       "      <td>Champagne</td>\n",
       "      <td>1.93</td>\n",
       "    </tr>\n",
       "  </tbody>\n",
       "</table>\n",
       "</div>"
      ],
      "text/plain": [
       "    product_id                                         post_title  \\\n",
       "0         4352     Champagne Egly-Ouriet Grand Cru Millésimé 2008   \n",
       "1         5001     David Duband Charmes-Chambertin Grand Cru 2014   \n",
       "2         5892  Coteaux Champenois Egly-Ouriet Ambonnay Rouge ...   \n",
       "3         4402                               Cognac Frapin VIP XO   \n",
       "4         5767                Camille Giroud Clos de Vougeot 2016   \n",
       "5         4406  Cognac Frapin Château de Fontpinot 1989 20 Ans...   \n",
       "6         4904  Domaine Des Croix Corton Charlemagne Grand Cru...   \n",
       "7         6126             Champagne Gosset Célébris Vintage 2007   \n",
       "8         5612  Domaine Weinbach Gewurztraminer Grand Cru Furs...   \n",
       "9         5917  Wemyss Malts Single Cask Scotch Whisky Choc 'n...   \n",
       "10        6213  Domaine des Comtes Lafon Volnay 1er Cru Santen...   \n",
       "11        6216  Domaine des Comtes Lafon Volnay 1er Cru Champa...   \n",
       "12        6202  Domaine Clerget Echezeaux Grand Cru En Orveaux...   \n",
       "13        6212  Domaine des Comtes Lafon Volnay 1er Cru Santen...   \n",
       "14        6215  Domaine des Comtes Lafon Volnay 1er Cru Champa...   \n",
       "15        5918  Wemyss Malts Single Cask Scotch Whisky Chai Ca...   \n",
       "16        5025  Champagne Agrapart &amp; Fils L'Avizoise Extra...   \n",
       "17        4582  Château de Meursault Puligny-Montrachet 1er Cr...   \n",
       "18        4404              Cognac Frapin Château de Fontpinot XO   \n",
       "19        6201  David Duband Chambolle-Musigny 1er Cru Les Sen...   \n",
       "20        5008  Domaine des Comtes Lafon Volnay 1er Cru Santen...   \n",
       "21        5007  Domaine des Comtes Lafon Volnay 1er Cru Santen...   \n",
       "22        4407                          Cognac Frapin Cigar Blend   \n",
       "23        4903  Domaine Des Croix Corton Grand Cru Les Grèves ...   \n",
       "24        4115  Zind-Humbrecht Riesling Grand Cru Rangen De Th...   \n",
       "25        6214  Domaine des Comtes Lafon Volnay 1er Cru Champa...   \n",
       "26        5916  Wemyss Malts Single Cask Scotch Whisky Chocola...   \n",
       "27        5565                      Tempier Bandol Cabassaou 2017   \n",
       "28        4132  Zind-Humbrecht Pinot Gris Grand Cru Rangen De ...   \n",
       "29        5026  Champagne Agrapart &amp; Fils Minéral Extra Br...   \n",
       "30        4359  Champagne Larmandier-Bernier Grand Cru Les Che...   \n",
       "\n",
       "    purchase_price  price_outlier  price_moyenne  price_diff product_type  \\\n",
       "0           137.81          225.0          69.63      155.37    Champagne   \n",
       "1           116.87          217.5          29.28      188.22          Vin   \n",
       "2           116.06          191.3          69.63      121.67    Champagne   \n",
       "3            78.25          176.0          97.50       78.50       Cognac   \n",
       "4            90.42          175.0          29.28      145.72          Vin   \n",
       "5            69.08          157.0          97.50       59.50       Cognac   \n",
       "6            67.95          137.0          29.28      107.72          Vin   \n",
       "7            80.33          135.0          69.63       65.37    Champagne   \n",
       "8            66.41          124.8          29.28       95.52          Vin   \n",
       "9            54.24          122.0          65.56       56.44       Whisky   \n",
       "10           63.14          121.0          29.28       91.72          Vin   \n",
       "11           60.02          121.0          29.28       91.72          Vin   \n",
       "12           63.15          116.4          29.28       87.12          Vin   \n",
       "13           59.42          115.0          29.28       85.72          Vin   \n",
       "14           56.45          115.0          29.28       85.72          Vin   \n",
       "15           52.25          114.0          65.56       48.44       Whisky   \n",
       "16           68.60          112.0          69.63       42.37    Champagne   \n",
       "17           53.80          109.6          29.28       80.32          Vin   \n",
       "18           52.22          108.5          97.50       11.00       Cognac   \n",
       "19           57.29          105.6          29.28       76.32          Vin   \n",
       "20           56.42          105.0          29.28       75.72          Vin   \n",
       "21           55.88          105.0          29.28       75.72          Vin   \n",
       "22           46.71          104.0          97.50        6.50       Cognac   \n",
       "23           51.80          102.3          29.28       73.02          Vin   \n",
       "24           52.70          100.0          29.28       70.72          Vin   \n",
       "25           49.62           99.0          29.28       69.72          Vin   \n",
       "26           40.49           93.0          65.56       27.44       Whisky   \n",
       "27           46.11           92.0          29.28       62.72          Vin   \n",
       "28           44.30           88.4          29.28       59.12          Vin   \n",
       "29           50.13           86.8          69.63       17.17    Champagne   \n",
       "30           51.93           85.6          69.63       15.97    Champagne   \n",
       "\n",
       "    z_score  \n",
       "0      6.98  \n",
       "1      6.71  \n",
       "2      5.76  \n",
       "3      5.21  \n",
       "4      5.17  \n",
       "5      4.52  \n",
       "6      3.79  \n",
       "7      3.72  \n",
       "8      3.35  \n",
       "9      3.25  \n",
       "10     3.21  \n",
       "11     3.21  \n",
       "12     3.05  \n",
       "13     3.00  \n",
       "14     3.00  \n",
       "15     2.96  \n",
       "16     2.89  \n",
       "17     2.80  \n",
       "18     2.76  \n",
       "19     2.65  \n",
       "20     2.63  \n",
       "21     2.63  \n",
       "22     2.60  \n",
       "23     2.54  \n",
       "24     2.45  \n",
       "25     2.42  \n",
       "26     2.20  \n",
       "27     2.16  \n",
       "28     2.03  \n",
       "29     1.97  \n",
       "30     1.93  "
      ]
     },
     "execution_count": 135,
     "metadata": {},
     "output_type": "execute_result"
    }
   ],
   "source": [
    "#Vérifier les ventes des outliers et comparer les prix par type de produit\n",
    "donnees_price_moyenne_par_type = donnees.groupby('product_type')['price'].mean()\n",
    "donnees_outliers_comparaison = round(donnees_outliers.merge(donnees_price_moyenne_par_type, on='product_type', suffixes=('_outlier', '_moyenne')),2)\n",
    "# Ajouter une colonne qui calcule la différence entre le prix de vente et la moyenne pour chaque type de produit\n",
    "donnees_outliers_comparaison['price_diff'] = donnees_outliers_comparaison['price_outlier'] - donnees_outliers_comparaison['price_moyenne']\n",
    "donnees_outliers_comparaison_resultat = donnees_outliers_comparaison[['product_id', 'post_title', 'purchase_price', 'price_outlier', 'price_moyenne', 'price_diff', 'product_type', 'z_score']]\n",
    "donnees_outliers_comparaison_resultat"
   ]
  },
  {
   "cell_type": "markdown",
   "id": "01bf10c6",
   "metadata": {},
   "source": [
    "<div style=\"font-size: 18px;\">Les outliers ne sont pas tous justifiés<br>\n",
    "Les bouteilles les plus chères font parties des données dites \"abérrantes\", mais leurs prix restent cohérants avec ceux du marché\n",
    "</div>"
   ]
  },
  {
   "cell_type": "markdown",
   "id": "640da2c8",
   "metadata": {
    "jp-MarkdownHeadingCollapsed": true
   },
   "source": [
    "<div style=\"background-color: RGB(51,165,182);\" >\n",
    "<h2 style=\"margin: auto; padding: 20px; color:#fff; \">Etape 5 - Analyse univarié du CA, des quantités vendues, des stocks et de la marge ainsi qu'une analyse multivarié  </h2>\n",
    "</div>"
   ]
  },
  {
   "cell_type": "markdown",
   "id": "5871c808",
   "metadata": {},
   "source": [
    "<div style=\"border: 1px solid RGB(51,165,182);\" >\n",
    "<h3 style=\"margin: auto; padding: 20px; color: RGB(51,165,182); \">Etape 5.1 - Analyse des ventes en CA</h3>\n",
    "</div>"
   ]
  },
  {
   "cell_type": "code",
   "execution_count": 136,
   "id": "7810b1a4",
   "metadata": {},
   "outputs": [
    {
     "name": "stdout",
     "output_type": "stream",
     "text": [
      "Le chiffre d'affaires total du site web est : 143680.10 €\n"
     ]
    }
   ],
   "source": [
    "##############################\n",
    "# Calculer le CA du site web #\n",
    "##############################\n",
    "\n",
    "#Créer une colonne calculant le CA par article\n",
    "donnees['ca_par_article'] = round(donnees['price'] * donnees['total_sales'],2)\n",
    "\n",
    "#Filtrer uniquement les lignes où 'id_web' est renseigné (non nul)\n",
    "donnees_web = donnees.dropna(subset=['id_web', 'ca_par_article'])\n",
    "\n",
    "#Calculer la somme de la colonne \"ca_par_article\" pour obtenir le chiffre d'affaires total\n",
    "donnees_web_ca_total = donnees_web['ca_par_article'].sum() \n",
    "\n",
    "#Afficher le résultat\n",
    "print(\"Le chiffre d'affaires total du site web est : {:.2f} €\".format(donnees_web_ca_total))"
   ]
  },
  {
   "cell_type": "code",
   "execution_count": 137,
   "id": "3451daaf",
   "metadata": {},
   "outputs": [
    {
     "name": "stdout",
     "output_type": "stream",
     "text": [
      "    product_id  ca_par_article  \\\n",
      "0         4352          2475.0   \n",
      "1         5892          1147.8   \n",
      "2         4353          1113.0   \n",
      "3         5826           824.0   \n",
      "4         6212           805.0   \n",
      "5         5026           781.2   \n",
      "6         5008           735.0   \n",
      "7         5767           700.0   \n",
      "8         6126           675.0   \n",
      "9         5025           672.0   \n",
      "10        6201           633.6   \n",
      "11        4406           628.0   \n",
      "12        4647           627.0   \n",
      "13        4358           616.0   \n",
      "14        4359           599.2   \n",
      "15        6214           594.0   \n",
      "16        6202           582.0   \n",
      "17        4350           556.5   \n",
      "18        4573           537.6   \n",
      "19        4402           528.0   \n",
      "\n",
      "                                           post_title  total_sales  \n",
      "0      Champagne Egly-Ouriet Grand Cru Millésimé 2008         11.0  \n",
      "1   Coteaux Champenois Egly-Ouriet Ambonnay Rouge ...          6.0  \n",
      "2           Champagne Egly-Ouriet Grand Cru Brut Rosé         14.0  \n",
      "3               Agnès Levet Côte Rôtie Améthyste 2017         20.0  \n",
      "4   Domaine des Comtes Lafon Volnay 1er Cru Santen...          7.0  \n",
      "5   Champagne Agrapart &amp; Fils Minéral Extra Br...          9.0  \n",
      "6   Domaine des Comtes Lafon Volnay 1er Cru Santen...          7.0  \n",
      "7                 Camille Giroud Clos de Vougeot 2016          4.0  \n",
      "8              Champagne Gosset Célébris Vintage 2007          5.0  \n",
      "9   Champagne Agrapart &amp; Fils L'Avizoise Extra...          6.0  \n",
      "10  David Duband Chambolle-Musigny 1er Cru Les Sen...          6.0  \n",
      "11  Cognac Frapin Château de Fontpinot 1989 20 Ans...          4.0  \n",
      "12  Bernard Baudry Chinon Rouge La Croix Boissée 2017         22.0  \n",
      "13  Champagne Larmandier-Bernier Grand Cru Vieille...          8.0  \n",
      "14  Champagne Larmandier-Bernier Grand Cru Les Che...          7.0  \n",
      "15  Domaine des Comtes Lafon Volnay 1er Cru Champa...          6.0  \n",
      "16  Domaine Clerget Echezeaux Grand Cru En Orveaux...          5.0  \n",
      "17    Champagne Egly-Ouriet Grand Cru Extra Brut V.P.          7.0  \n",
      "18  Château de Meursault Beaune-Grèves Les Trois J...          8.0  \n",
      "19                               Cognac Frapin VIP XO          3.0  \n"
     ]
    },
    {
     "name": "stderr",
     "output_type": "stream",
     "text": [
      "/var/folders/k4/rxs7cpkn25x36yd1rknb1pvc0000gn/T/ipykernel_48881/79817323.py:16: SettingWithCopyWarning:\n",
      "\n",
      "\n",
      "A value is trying to be set on a copy of a slice from a DataFrame.\n",
      "Try using .loc[row_indexer,col_indexer] = value instead\n",
      "\n",
      "See the caveats in the documentation: https://pandas.pydata.org/pandas-docs/stable/user_guide/indexing.html#returning-a-view-versus-a-copy\n",
      "\n"
     ]
    },
    {
     "data": {
      "application/vnd.plotly.v1+json": {
       "config": {
        "plotlyServerURL": "https://plot.ly"
       },
       "data": [
        {
         "alignmentgroup": "True",
         "hovertemplate": "Articles=%{x}<br>CA (€)=%{marker.color}<br>total_sales=%{text}<extra></extra>",
         "legendgroup": "",
         "marker": {
          "color": [
           2475,
           1147.8,
           1113,
           824,
           805,
           781.2,
           735,
           700,
           675,
           672,
           633.6,
           628,
           627,
           616,
           599.2,
           594,
           582,
           556.5,
           537.6,
           528
          ],
          "coloraxis": "coloraxis",
          "pattern": {
           "shape": ""
          }
         },
         "name": "",
         "offsetgroup": "",
         "orientation": "v",
         "showlegend": false,
         "text": [
          11,
          6,
          14,
          20,
          7,
          9,
          7,
          4,
          5,
          6,
          6,
          4,
          22,
          8,
          7,
          6,
          5,
          7,
          8,
          3
         ],
         "textposition": "auto",
         "type": "bar",
         "x": [
          "4352-Champagne Eg",
          "5892-Coteaux Cham",
          "4353-Champagne Eg",
          "5826-Agnès Levet ",
          "6212-Domaine des ",
          "5026-Champagne Ag",
          "5008-Domaine des ",
          "5767-Camille Giro",
          "6126-Champagne Go",
          "5025-Champagne Ag",
          "6201-David Duband",
          "4406-Cognac Frapi",
          "4647-Bernard Baud",
          "4358-Champagne La",
          "4359-Champagne La",
          "6214-Domaine des ",
          "6202-Domaine Cler",
          "4350-Champagne Eg",
          "4573-Château de M",
          "4402-Cognac Frapi"
         ],
         "xaxis": "x",
         "y": [
          2475,
          1147.8,
          1113,
          824,
          805,
          781.2,
          735,
          700,
          675,
          672,
          633.6,
          628,
          627,
          616,
          599.2,
          594,
          582,
          556.5,
          537.6,
          528
         ],
         "yaxis": "y"
        }
       ],
       "layout": {
        "barmode": "relative",
        "coloraxis": {
         "colorbar": {
          "title": {
           "text": "CA (€)"
          }
         },
         "colorscale": [
          [
           0,
           "#0d0887"
          ],
          [
           0.1111111111111111,
           "#46039f"
          ],
          [
           0.2222222222222222,
           "#7201a8"
          ],
          [
           0.3333333333333333,
           "#9c179e"
          ],
          [
           0.4444444444444444,
           "#bd3786"
          ],
          [
           0.5555555555555556,
           "#d8576b"
          ],
          [
           0.6666666666666666,
           "#ed7953"
          ],
          [
           0.7777777777777778,
           "#fb9f3a"
          ],
          [
           0.8888888888888888,
           "#fdca26"
          ],
          [
           1,
           "#f0f921"
          ]
         ]
        },
        "legend": {
         "tracegroupgap": 0
        },
        "template": {
         "data": {
          "bar": [
           {
            "error_x": {
             "color": "#2a3f5f"
            },
            "error_y": {
             "color": "#2a3f5f"
            },
            "marker": {
             "line": {
              "color": "#E5ECF6",
              "width": 0.5
             },
             "pattern": {
              "fillmode": "overlay",
              "size": 10,
              "solidity": 0.2
             }
            },
            "type": "bar"
           }
          ],
          "barpolar": [
           {
            "marker": {
             "line": {
              "color": "#E5ECF6",
              "width": 0.5
             },
             "pattern": {
              "fillmode": "overlay",
              "size": 10,
              "solidity": 0.2
             }
            },
            "type": "barpolar"
           }
          ],
          "carpet": [
           {
            "aaxis": {
             "endlinecolor": "#2a3f5f",
             "gridcolor": "white",
             "linecolor": "white",
             "minorgridcolor": "white",
             "startlinecolor": "#2a3f5f"
            },
            "baxis": {
             "endlinecolor": "#2a3f5f",
             "gridcolor": "white",
             "linecolor": "white",
             "minorgridcolor": "white",
             "startlinecolor": "#2a3f5f"
            },
            "type": "carpet"
           }
          ],
          "choropleth": [
           {
            "colorbar": {
             "outlinewidth": 0,
             "ticks": ""
            },
            "type": "choropleth"
           }
          ],
          "contour": [
           {
            "colorbar": {
             "outlinewidth": 0,
             "ticks": ""
            },
            "colorscale": [
             [
              0,
              "#0d0887"
             ],
             [
              0.1111111111111111,
              "#46039f"
             ],
             [
              0.2222222222222222,
              "#7201a8"
             ],
             [
              0.3333333333333333,
              "#9c179e"
             ],
             [
              0.4444444444444444,
              "#bd3786"
             ],
             [
              0.5555555555555556,
              "#d8576b"
             ],
             [
              0.6666666666666666,
              "#ed7953"
             ],
             [
              0.7777777777777778,
              "#fb9f3a"
             ],
             [
              0.8888888888888888,
              "#fdca26"
             ],
             [
              1,
              "#f0f921"
             ]
            ],
            "type": "contour"
           }
          ],
          "contourcarpet": [
           {
            "colorbar": {
             "outlinewidth": 0,
             "ticks": ""
            },
            "type": "contourcarpet"
           }
          ],
          "heatmap": [
           {
            "colorbar": {
             "outlinewidth": 0,
             "ticks": ""
            },
            "colorscale": [
             [
              0,
              "#0d0887"
             ],
             [
              0.1111111111111111,
              "#46039f"
             ],
             [
              0.2222222222222222,
              "#7201a8"
             ],
             [
              0.3333333333333333,
              "#9c179e"
             ],
             [
              0.4444444444444444,
              "#bd3786"
             ],
             [
              0.5555555555555556,
              "#d8576b"
             ],
             [
              0.6666666666666666,
              "#ed7953"
             ],
             [
              0.7777777777777778,
              "#fb9f3a"
             ],
             [
              0.8888888888888888,
              "#fdca26"
             ],
             [
              1,
              "#f0f921"
             ]
            ],
            "type": "heatmap"
           }
          ],
          "heatmapgl": [
           {
            "colorbar": {
             "outlinewidth": 0,
             "ticks": ""
            },
            "colorscale": [
             [
              0,
              "#0d0887"
             ],
             [
              0.1111111111111111,
              "#46039f"
             ],
             [
              0.2222222222222222,
              "#7201a8"
             ],
             [
              0.3333333333333333,
              "#9c179e"
             ],
             [
              0.4444444444444444,
              "#bd3786"
             ],
             [
              0.5555555555555556,
              "#d8576b"
             ],
             [
              0.6666666666666666,
              "#ed7953"
             ],
             [
              0.7777777777777778,
              "#fb9f3a"
             ],
             [
              0.8888888888888888,
              "#fdca26"
             ],
             [
              1,
              "#f0f921"
             ]
            ],
            "type": "heatmapgl"
           }
          ],
          "histogram": [
           {
            "marker": {
             "pattern": {
              "fillmode": "overlay",
              "size": 10,
              "solidity": 0.2
             }
            },
            "type": "histogram"
           }
          ],
          "histogram2d": [
           {
            "colorbar": {
             "outlinewidth": 0,
             "ticks": ""
            },
            "colorscale": [
             [
              0,
              "#0d0887"
             ],
             [
              0.1111111111111111,
              "#46039f"
             ],
             [
              0.2222222222222222,
              "#7201a8"
             ],
             [
              0.3333333333333333,
              "#9c179e"
             ],
             [
              0.4444444444444444,
              "#bd3786"
             ],
             [
              0.5555555555555556,
              "#d8576b"
             ],
             [
              0.6666666666666666,
              "#ed7953"
             ],
             [
              0.7777777777777778,
              "#fb9f3a"
             ],
             [
              0.8888888888888888,
              "#fdca26"
             ],
             [
              1,
              "#f0f921"
             ]
            ],
            "type": "histogram2d"
           }
          ],
          "histogram2dcontour": [
           {
            "colorbar": {
             "outlinewidth": 0,
             "ticks": ""
            },
            "colorscale": [
             [
              0,
              "#0d0887"
             ],
             [
              0.1111111111111111,
              "#46039f"
             ],
             [
              0.2222222222222222,
              "#7201a8"
             ],
             [
              0.3333333333333333,
              "#9c179e"
             ],
             [
              0.4444444444444444,
              "#bd3786"
             ],
             [
              0.5555555555555556,
              "#d8576b"
             ],
             [
              0.6666666666666666,
              "#ed7953"
             ],
             [
              0.7777777777777778,
              "#fb9f3a"
             ],
             [
              0.8888888888888888,
              "#fdca26"
             ],
             [
              1,
              "#f0f921"
             ]
            ],
            "type": "histogram2dcontour"
           }
          ],
          "mesh3d": [
           {
            "colorbar": {
             "outlinewidth": 0,
             "ticks": ""
            },
            "type": "mesh3d"
           }
          ],
          "parcoords": [
           {
            "line": {
             "colorbar": {
              "outlinewidth": 0,
              "ticks": ""
             }
            },
            "type": "parcoords"
           }
          ],
          "pie": [
           {
            "automargin": true,
            "type": "pie"
           }
          ],
          "scatter": [
           {
            "fillpattern": {
             "fillmode": "overlay",
             "size": 10,
             "solidity": 0.2
            },
            "type": "scatter"
           }
          ],
          "scatter3d": [
           {
            "line": {
             "colorbar": {
              "outlinewidth": 0,
              "ticks": ""
             }
            },
            "marker": {
             "colorbar": {
              "outlinewidth": 0,
              "ticks": ""
             }
            },
            "type": "scatter3d"
           }
          ],
          "scattercarpet": [
           {
            "marker": {
             "colorbar": {
              "outlinewidth": 0,
              "ticks": ""
             }
            },
            "type": "scattercarpet"
           }
          ],
          "scattergeo": [
           {
            "marker": {
             "colorbar": {
              "outlinewidth": 0,
              "ticks": ""
             }
            },
            "type": "scattergeo"
           }
          ],
          "scattergl": [
           {
            "marker": {
             "colorbar": {
              "outlinewidth": 0,
              "ticks": ""
             }
            },
            "type": "scattergl"
           }
          ],
          "scattermapbox": [
           {
            "marker": {
             "colorbar": {
              "outlinewidth": 0,
              "ticks": ""
             }
            },
            "type": "scattermapbox"
           }
          ],
          "scatterpolar": [
           {
            "marker": {
             "colorbar": {
              "outlinewidth": 0,
              "ticks": ""
             }
            },
            "type": "scatterpolar"
           }
          ],
          "scatterpolargl": [
           {
            "marker": {
             "colorbar": {
              "outlinewidth": 0,
              "ticks": ""
             }
            },
            "type": "scatterpolargl"
           }
          ],
          "scatterternary": [
           {
            "marker": {
             "colorbar": {
              "outlinewidth": 0,
              "ticks": ""
             }
            },
            "type": "scatterternary"
           }
          ],
          "surface": [
           {
            "colorbar": {
             "outlinewidth": 0,
             "ticks": ""
            },
            "colorscale": [
             [
              0,
              "#0d0887"
             ],
             [
              0.1111111111111111,
              "#46039f"
             ],
             [
              0.2222222222222222,
              "#7201a8"
             ],
             [
              0.3333333333333333,
              "#9c179e"
             ],
             [
              0.4444444444444444,
              "#bd3786"
             ],
             [
              0.5555555555555556,
              "#d8576b"
             ],
             [
              0.6666666666666666,
              "#ed7953"
             ],
             [
              0.7777777777777778,
              "#fb9f3a"
             ],
             [
              0.8888888888888888,
              "#fdca26"
             ],
             [
              1,
              "#f0f921"
             ]
            ],
            "type": "surface"
           }
          ],
          "table": [
           {
            "cells": {
             "fill": {
              "color": "#EBF0F8"
             },
             "line": {
              "color": "white"
             }
            },
            "header": {
             "fill": {
              "color": "#C8D4E3"
             },
             "line": {
              "color": "white"
             }
            },
            "type": "table"
           }
          ]
         },
         "layout": {
          "annotationdefaults": {
           "arrowcolor": "#2a3f5f",
           "arrowhead": 0,
           "arrowwidth": 1
          },
          "autotypenumbers": "strict",
          "coloraxis": {
           "colorbar": {
            "outlinewidth": 0,
            "ticks": ""
           }
          },
          "colorscale": {
           "diverging": [
            [
             0,
             "#8e0152"
            ],
            [
             0.1,
             "#c51b7d"
            ],
            [
             0.2,
             "#de77ae"
            ],
            [
             0.3,
             "#f1b6da"
            ],
            [
             0.4,
             "#fde0ef"
            ],
            [
             0.5,
             "#f7f7f7"
            ],
            [
             0.6,
             "#e6f5d0"
            ],
            [
             0.7,
             "#b8e186"
            ],
            [
             0.8,
             "#7fbc41"
            ],
            [
             0.9,
             "#4d9221"
            ],
            [
             1,
             "#276419"
            ]
           ],
           "sequential": [
            [
             0,
             "#0d0887"
            ],
            [
             0.1111111111111111,
             "#46039f"
            ],
            [
             0.2222222222222222,
             "#7201a8"
            ],
            [
             0.3333333333333333,
             "#9c179e"
            ],
            [
             0.4444444444444444,
             "#bd3786"
            ],
            [
             0.5555555555555556,
             "#d8576b"
            ],
            [
             0.6666666666666666,
             "#ed7953"
            ],
            [
             0.7777777777777778,
             "#fb9f3a"
            ],
            [
             0.8888888888888888,
             "#fdca26"
            ],
            [
             1,
             "#f0f921"
            ]
           ],
           "sequentialminus": [
            [
             0,
             "#0d0887"
            ],
            [
             0.1111111111111111,
             "#46039f"
            ],
            [
             0.2222222222222222,
             "#7201a8"
            ],
            [
             0.3333333333333333,
             "#9c179e"
            ],
            [
             0.4444444444444444,
             "#bd3786"
            ],
            [
             0.5555555555555556,
             "#d8576b"
            ],
            [
             0.6666666666666666,
             "#ed7953"
            ],
            [
             0.7777777777777778,
             "#fb9f3a"
            ],
            [
             0.8888888888888888,
             "#fdca26"
            ],
            [
             1,
             "#f0f921"
            ]
           ]
          },
          "colorway": [
           "#636efa",
           "#EF553B",
           "#00cc96",
           "#ab63fa",
           "#FFA15A",
           "#19d3f3",
           "#FF6692",
           "#B6E880",
           "#FF97FF",
           "#FECB52"
          ],
          "font": {
           "color": "#2a3f5f"
          },
          "geo": {
           "bgcolor": "white",
           "lakecolor": "white",
           "landcolor": "#E5ECF6",
           "showlakes": true,
           "showland": true,
           "subunitcolor": "white"
          },
          "hoverlabel": {
           "align": "left"
          },
          "hovermode": "closest",
          "mapbox": {
           "style": "light"
          },
          "paper_bgcolor": "white",
          "plot_bgcolor": "#E5ECF6",
          "polar": {
           "angularaxis": {
            "gridcolor": "white",
            "linecolor": "white",
            "ticks": ""
           },
           "bgcolor": "#E5ECF6",
           "radialaxis": {
            "gridcolor": "white",
            "linecolor": "white",
            "ticks": ""
           }
          },
          "scene": {
           "xaxis": {
            "backgroundcolor": "#E5ECF6",
            "gridcolor": "white",
            "gridwidth": 2,
            "linecolor": "white",
            "showbackground": true,
            "ticks": "",
            "zerolinecolor": "white"
           },
           "yaxis": {
            "backgroundcolor": "#E5ECF6",
            "gridcolor": "white",
            "gridwidth": 2,
            "linecolor": "white",
            "showbackground": true,
            "ticks": "",
            "zerolinecolor": "white"
           },
           "zaxis": {
            "backgroundcolor": "#E5ECF6",
            "gridcolor": "white",
            "gridwidth": 2,
            "linecolor": "white",
            "showbackground": true,
            "ticks": "",
            "zerolinecolor": "white"
           }
          },
          "shapedefaults": {
           "line": {
            "color": "#2a3f5f"
           }
          },
          "ternary": {
           "aaxis": {
            "gridcolor": "white",
            "linecolor": "white",
            "ticks": ""
           },
           "baxis": {
            "gridcolor": "white",
            "linecolor": "white",
            "ticks": ""
           },
           "bgcolor": "#E5ECF6",
           "caxis": {
            "gridcolor": "white",
            "linecolor": "white",
            "ticks": ""
           }
          },
          "title": {
           "x": 0.05
          },
          "xaxis": {
           "automargin": true,
           "gridcolor": "white",
           "linecolor": "white",
           "ticks": "",
           "title": {
            "standoff": 15
           },
           "zerolinecolor": "white",
           "zerolinewidth": 2
          },
          "yaxis": {
           "automargin": true,
           "gridcolor": "white",
           "linecolor": "white",
           "ticks": "",
           "title": {
            "standoff": 15
           },
           "zerolinecolor": "white",
           "zerolinewidth": 2
          }
         }
        },
        "title": {
         "text": "Top 20 des articles en CA et leur nombre de ventes"
        },
        "xaxis": {
         "anchor": "y",
         "domain": [
          0,
          1
         ],
         "tickangle": -45,
         "title": {
          "text": "Articles"
         }
        },
        "yaxis": {
         "anchor": "x",
         "domain": [
          0,
          1
         ],
         "title": {
          "text": "CA (€)"
         }
        }
       }
      }
     },
     "metadata": {},
     "output_type": "display_data"
    }
   ],
   "source": [
    "###############################\n",
    "# Palmares des articles en CA #\n",
    "###############################\n",
    "\n",
    "#Effectuer le tri dans l'ordre décroissant du CA du dataset donnees\n",
    "donnees = donnees.sort_values(by='ca_par_article', ascending=False)\n",
    "\n",
    "#Réinitialiser l'index du dataset par un reset_index\n",
    "donnees.reset_index(drop=True, inplace=True)\n",
    "\n",
    "#Afficher les 20 premier articles en CA\n",
    "top_20_articles = donnees.head(20)\n",
    "print(top_20_articles[['product_id', 'ca_par_article', 'post_title', 'total_sales']])\n",
    "\n",
    "#Tronquer les 'post_title' pour ne garder que les premières lettres + ajouter l'index pour que chaque article reste unique\n",
    "top_20_articles['post_title_tronque'] = top_20_articles['product_id'].astype(str) + '-' + top_20_articles['post_title'].str.slice(0, 12)\n",
    "\n",
    "#Graphique en barres des 20 premiers articles avec plotly express\n",
    "fig = px.bar(top_20_articles, \n",
    "             x='post_title_tronque',\n",
    "             y='ca_par_article', \n",
    "             title=\"Top 20 des articles en CA et leur nombre de ventes\",\n",
    "             text='total_sales',\n",
    "             labels={'ca_par_article': \"CA (€)\", 'post_title_tronque': 'Articles'},\n",
    "             color='ca_par_article',\n",
    "             color_continuous_scale='Plasma')\n",
    "\n",
    "#Ajuster l'axe x pour éviter que les titres se chevauchent\n",
    "fig.update_layout(xaxis_tickangle=-45)\n",
    "\n",
    "#Afficher le graphique\n",
    "fig.show()"
   ]
  },
  {
   "cell_type": "code",
   "execution_count": 138,
   "id": "398311dd",
   "metadata": {},
   "outputs": [
    {
     "data": {
      "text/plain": [
       "product_type\n",
       "Champagne    45.0\n",
       "Vin          45.0\n",
       "Cognac       10.0\n",
       "Name: count, dtype: float64"
      ]
     },
     "execution_count": 138,
     "metadata": {},
     "output_type": "execute_result"
    }
   ],
   "source": [
    "#Proportion pour chaque type de produit dans ce Top 20\n",
    "top_20_articles_par_type = top_20_articles['product_type'].value_counts()\n",
    "top_20_articles_par_type_pourcentage = (top_20_articles_par_type / len(top_20_articles)) * 100\n",
    "top_20_articles_par_type_pourcentage"
   ]
  },
  {
   "cell_type": "code",
   "execution_count": 139,
   "id": "ea4ada85",
   "metadata": {},
   "outputs": [
    {
     "name": "stdout",
     "output_type": "stream",
     "text": [
      "  Type de Produit        CA  Pourcentage\n",
      "0          Cadeau     175.0         0.12\n",
      "1       Champagne   12928.6         9.00\n",
      "2          Cognac    3170.2         2.21\n",
      "3             Gin     504.0         0.35\n",
      "4   Huile d'olive     497.7         0.35\n",
      "5             Vin  123518.0        85.97\n",
      "6          Whisky    2886.6         2.01\n"
     ]
    }
   ],
   "source": [
    "#Analyse du CA par type de produit\n",
    "#Regrouper par 'product_type' et calculer la somme des ventes\n",
    "donnees_CA_par_categorie = donnees.groupby('product_type')['ca_par_article'].sum().reset_index()\n",
    "\n",
    "#Renommer la colonne pour plus de clarté\n",
    "donnees_CA_par_categorie.columns = ['Type de Produit', 'CA']\n",
    "\n",
    "#Calculer le pourcentage pour chaque catégorie\n",
    "donnees_CA_par_categorie['Pourcentage'] = round((donnees_CA_par_categorie['CA'] / donnees_web_ca_total) * 100,2)\n",
    "\n",
    "#Afficher le résultat\n",
    "print(donnees_CA_par_categorie)"
   ]
  },
  {
   "cell_type": "code",
   "execution_count": 140,
   "id": "d7e5e87b",
   "metadata": {},
   "outputs": [
    {
     "name": "stdout",
     "output_type": "stream",
     "text": [
      "Proportion d'articles représentant 80 % du CA du site web : 60.64 %\n",
      "Certaines données étant manquantes, nous ne pouvons afficher le CA hors site web (nous n'avons pas les quantités vendues)\n"
     ]
    }
   ],
   "source": [
    "#############################\n",
    "# Calculer le 20 / 80 en CA #\n",
    "#############################\n",
    "\n",
    "#Créer une colonne calculant la part du CA de la ligne dans le dataset\n",
    "donnees_total_ca = donnees['ca_par_article'].sum()\n",
    "donnees['part_ca'] = round(donnees['ca_par_article'] / donnees_total_ca * 100,2)\n",
    "\n",
    "#Créer une colonne réalisant la somme cumulative de la colonne précedemment créée\n",
    "donnees['cumul_ca'] = donnees['part_ca'].cumsum()\n",
    "\n",
    "#Grâce aux deux colonnes créées précedemment, calculer le nombre d'articles représentant 80% du CA\n",
    "donnees_80_ca = donnees[donnees['cumul_ca'] <= 80]\n",
    "donnees_80_ca_somme = len(donnees_80_ca)\n",
    "\n",
    "#Afficher la proportion que représentent ce groupe d'articles dans le catalogue entier du site web\n",
    "donnees_web_nb_articles = len(donnees_web)\n",
    "donnees_80_CA_proportion_articles = (donnees_80_ca_somme / donnees_web_nb_articles) *100\n",
    "print(f\"Proportion d'articles représentant 80 % du CA du site web : {donnees_80_CA_proportion_articles:.2f} %\")\n",
    "\n",
    "#Afficher la proportion que représentent ce groupe d'articles dans le catalogue entier\n",
    "print(\"Certaines données étant manquantes, nous ne pouvons afficher le CA hors site web (nous n'avons pas les quantités vendues)\")"
   ]
  },
  {
   "cell_type": "markdown",
   "id": "97d67fbf",
   "metadata": {},
   "source": [
    "<div style=\"font-size: 18px;\">Le champagne représente près de la moitié du chiffre d'affaires du TOP 20 mais moins de 10% du CA total<br>\n",
    "L'effet pareto n'est pas pertinant pour analyser ces données\n",
    "</div>"
   ]
  },
  {
   "cell_type": "markdown",
   "id": "8de7af87",
   "metadata": {},
   "source": [
    "<div style=\"border: 1px solid RGB(51,165,182);\" >\n",
    "<h3 style=\"margin: auto; padding: 20px; color: RGB(51,165,182); \">Etape 5.2 - Analyse des ventes en Quantités</h3>\n",
    "</div>"
   ]
  },
  {
   "cell_type": "code",
   "execution_count": 141,
   "id": "ab222e08",
   "metadata": {},
   "outputs": [
    {
     "name": "stdout",
     "output_type": "stream",
     "text": [
      "    product_id  total_sales  ca_par_article  \\\n",
      "0         4867         36.0           356.4   \n",
      "1         4203         27.0           267.3   \n",
      "2         4275         24.0           357.6   \n",
      "3         4726         22.0           279.4   \n",
      "4         4647         22.0           627.0   \n",
      "5         5826         20.0           824.0   \n",
      "6         6129         20.0           104.0   \n",
      "7         4220         18.0           208.8   \n",
      "8         5803         17.0           290.7   \n",
      "9         6569         17.0           493.0   \n",
      "10        5778         17.0            98.6   \n",
      "11        5695         16.0           104.0   \n",
      "12        5777         16.0            91.2   \n",
      "13        4059         16.0           139.2   \n",
      "14        4863         16.0           131.2   \n",
      "15        4188         16.0           152.0   \n",
      "16        4870         16.0           148.8   \n",
      "17        4105         16.0           108.8   \n",
      "18        4204         15.0           169.5   \n",
      "19        4159         15.0           139.5   \n",
      "\n",
      "                                           post_title  \n",
      "0   Château De La Selve IGP Coteaux de l'Ardèche M...  \n",
      "1   Mas Laval IGP Pays d'Hérault Les Pampres Blanc...  \n",
      "2               I Fabbri Chianti Classico Lamole 2017  \n",
      "3            François Baur Pinot Noir Schlittweg 2017  \n",
      "4   Bernard Baudry Chinon Rouge La Croix Boissée 2017  \n",
      "5               Agnès Levet Côte Rôtie Améthyste 2017  \n",
      "6   Moulin de Gassac IGP Pays d'Hérault Guilhem Bl...  \n",
      "7   Xavier Frissant Touraine Amboise Chenin Les Pi...  \n",
      "8                Château Tour Haut-Caussan Médoc 2015  \n",
      "9                Decelle-Villa Chorey-Lès-Beaune 2016  \n",
      "10                       Maurel Pays d'Oc Merlot 2018  \n",
      "11    Philippe Nusswitz IGP Cévènnes Rosé O Pale 2019  \n",
      "12           Maurel Pays d'Oc Cabernet-Sauvignon 2017  \n",
      "13  Mourgues du Grès Costières de Nîmes Galets Ros...  \n",
      "14  Château Ollieux Romanis Corbières Rosé Classiq...  \n",
      "15  Château de La Liquière Languedoc Blanc Les Ama...  \n",
      "16                Triennes IGP Méditerranée Rosé 2019  \n",
      "17        Emile Boeckel Sylvaner Vieilles Vignes 2019  \n",
      "18  Mas Laval IGP Pays d'Hérault Les Pampres Rouge...  \n",
      "19             Planeta Sicilia La Segreta Bianco 2017  \n"
     ]
    },
    {
     "name": "stderr",
     "output_type": "stream",
     "text": [
      "/var/folders/k4/rxs7cpkn25x36yd1rknb1pvc0000gn/T/ipykernel_48881/792771055.py:16: SettingWithCopyWarning:\n",
      "\n",
      "\n",
      "A value is trying to be set on a copy of a slice from a DataFrame.\n",
      "Try using .loc[row_indexer,col_indexer] = value instead\n",
      "\n",
      "See the caveats in the documentation: https://pandas.pydata.org/pandas-docs/stable/user_guide/indexing.html#returning-a-view-versus-a-copy\n",
      "\n",
      "/var/folders/k4/rxs7cpkn25x36yd1rknb1pvc0000gn/T/ipykernel_48881/792771055.py:19: SettingWithCopyWarning:\n",
      "\n",
      "\n",
      "A value is trying to be set on a copy of a slice from a DataFrame.\n",
      "Try using .loc[row_indexer,col_indexer] = value instead\n",
      "\n",
      "See the caveats in the documentation: https://pandas.pydata.org/pandas-docs/stable/user_guide/indexing.html#returning-a-view-versus-a-copy\n",
      "\n"
     ]
    },
    {
     "data": {
      "application/vnd.plotly.v1+json": {
       "config": {
        "plotlyServerURL": "https://plot.ly"
       },
       "data": [
        {
         "alignmentgroup": "True",
         "customdata": [
          [
           "356 €"
          ],
          [
           "267 €"
          ],
          [
           "357 €"
          ],
          [
           "279 €"
          ],
          [
           "627 €"
          ],
          [
           "824 €"
          ],
          [
           "104 €"
          ],
          [
           "208 €"
          ],
          [
           "290 €"
          ],
          [
           "493 €"
          ],
          [
           "98 €"
          ],
          [
           "104 €"
          ],
          [
           "91 €"
          ],
          [
           "139 €"
          ],
          [
           "131 €"
          ],
          [
           "152 €"
          ],
          [
           "148 €"
          ],
          [
           "108 €"
          ],
          [
           "169 €"
          ],
          [
           "139 €"
          ]
         ],
         "hovertemplate": "Articles=%{x}<br>Quantité vendue=%{marker.color}<br>ca_par_article_formate=%{customdata[0]}<extra></extra>",
         "legendgroup": "",
         "marker": {
          "color": [
           36,
           27,
           24,
           22,
           22,
           20,
           20,
           18,
           17,
           17,
           17,
           16,
           16,
           16,
           16,
           16,
           16,
           16,
           15,
           15
          ],
          "coloraxis": "coloraxis",
          "pattern": {
           "shape": ""
          }
         },
         "name": "",
         "offsetgroup": "",
         "orientation": "v",
         "showlegend": false,
         "text": [
          "356 €",
          "267 €",
          "357 €",
          "279 €",
          "627 €",
          "824 €",
          "104 €",
          "208 €",
          "290 €",
          "493 €",
          "98 €",
          "104 €",
          "91 €",
          "139 €",
          "131 €",
          "152 €",
          "148 €",
          "108 €",
          "169 €",
          "139 €"
         ],
         "textposition": "auto",
         "type": "bar",
         "x": [
          "4867-Château De L",
          "4203-Mas Laval IG",
          "4275-I Fabbri Chi",
          "4726-François Bau",
          "4647-Bernard Baud",
          "5826-Agnès Levet ",
          "6129-Moulin de Ga",
          "4220-Xavier Friss",
          "5803-Château Tour",
          "6569-Decelle-Vill",
          "5778-Maurel Pays ",
          "5695-Philippe Nus",
          "5777-Maurel Pays ",
          "4059-Mourgues du ",
          "4863-Château Olli",
          "4188-Château de L",
          "4870-Triennes IGP",
          "4105-Emile Boecke",
          "4204-Mas Laval IG",
          "4159-Planeta Sici"
         ],
         "xaxis": "x",
         "y": [
          36,
          27,
          24,
          22,
          22,
          20,
          20,
          18,
          17,
          17,
          17,
          16,
          16,
          16,
          16,
          16,
          16,
          16,
          15,
          15
         ],
         "yaxis": "y"
        }
       ],
       "layout": {
        "barmode": "relative",
        "coloraxis": {
         "colorbar": {
          "title": {
           "text": "Quantité vendue"
          }
         },
         "colorscale": [
          [
           0,
           "#440154"
          ],
          [
           0.1111111111111111,
           "#482878"
          ],
          [
           0.2222222222222222,
           "#3e4989"
          ],
          [
           0.3333333333333333,
           "#31688e"
          ],
          [
           0.4444444444444444,
           "#26828e"
          ],
          [
           0.5555555555555556,
           "#1f9e89"
          ],
          [
           0.6666666666666666,
           "#35b779"
          ],
          [
           0.7777777777777778,
           "#6ece58"
          ],
          [
           0.8888888888888888,
           "#b5de2b"
          ],
          [
           1,
           "#fde725"
          ]
         ]
        },
        "legend": {
         "tracegroupgap": 0
        },
        "template": {
         "data": {
          "bar": [
           {
            "error_x": {
             "color": "#2a3f5f"
            },
            "error_y": {
             "color": "#2a3f5f"
            },
            "marker": {
             "line": {
              "color": "#E5ECF6",
              "width": 0.5
             },
             "pattern": {
              "fillmode": "overlay",
              "size": 10,
              "solidity": 0.2
             }
            },
            "type": "bar"
           }
          ],
          "barpolar": [
           {
            "marker": {
             "line": {
              "color": "#E5ECF6",
              "width": 0.5
             },
             "pattern": {
              "fillmode": "overlay",
              "size": 10,
              "solidity": 0.2
             }
            },
            "type": "barpolar"
           }
          ],
          "carpet": [
           {
            "aaxis": {
             "endlinecolor": "#2a3f5f",
             "gridcolor": "white",
             "linecolor": "white",
             "minorgridcolor": "white",
             "startlinecolor": "#2a3f5f"
            },
            "baxis": {
             "endlinecolor": "#2a3f5f",
             "gridcolor": "white",
             "linecolor": "white",
             "minorgridcolor": "white",
             "startlinecolor": "#2a3f5f"
            },
            "type": "carpet"
           }
          ],
          "choropleth": [
           {
            "colorbar": {
             "outlinewidth": 0,
             "ticks": ""
            },
            "type": "choropleth"
           }
          ],
          "contour": [
           {
            "colorbar": {
             "outlinewidth": 0,
             "ticks": ""
            },
            "colorscale": [
             [
              0,
              "#0d0887"
             ],
             [
              0.1111111111111111,
              "#46039f"
             ],
             [
              0.2222222222222222,
              "#7201a8"
             ],
             [
              0.3333333333333333,
              "#9c179e"
             ],
             [
              0.4444444444444444,
              "#bd3786"
             ],
             [
              0.5555555555555556,
              "#d8576b"
             ],
             [
              0.6666666666666666,
              "#ed7953"
             ],
             [
              0.7777777777777778,
              "#fb9f3a"
             ],
             [
              0.8888888888888888,
              "#fdca26"
             ],
             [
              1,
              "#f0f921"
             ]
            ],
            "type": "contour"
           }
          ],
          "contourcarpet": [
           {
            "colorbar": {
             "outlinewidth": 0,
             "ticks": ""
            },
            "type": "contourcarpet"
           }
          ],
          "heatmap": [
           {
            "colorbar": {
             "outlinewidth": 0,
             "ticks": ""
            },
            "colorscale": [
             [
              0,
              "#0d0887"
             ],
             [
              0.1111111111111111,
              "#46039f"
             ],
             [
              0.2222222222222222,
              "#7201a8"
             ],
             [
              0.3333333333333333,
              "#9c179e"
             ],
             [
              0.4444444444444444,
              "#bd3786"
             ],
             [
              0.5555555555555556,
              "#d8576b"
             ],
             [
              0.6666666666666666,
              "#ed7953"
             ],
             [
              0.7777777777777778,
              "#fb9f3a"
             ],
             [
              0.8888888888888888,
              "#fdca26"
             ],
             [
              1,
              "#f0f921"
             ]
            ],
            "type": "heatmap"
           }
          ],
          "heatmapgl": [
           {
            "colorbar": {
             "outlinewidth": 0,
             "ticks": ""
            },
            "colorscale": [
             [
              0,
              "#0d0887"
             ],
             [
              0.1111111111111111,
              "#46039f"
             ],
             [
              0.2222222222222222,
              "#7201a8"
             ],
             [
              0.3333333333333333,
              "#9c179e"
             ],
             [
              0.4444444444444444,
              "#bd3786"
             ],
             [
              0.5555555555555556,
              "#d8576b"
             ],
             [
              0.6666666666666666,
              "#ed7953"
             ],
             [
              0.7777777777777778,
              "#fb9f3a"
             ],
             [
              0.8888888888888888,
              "#fdca26"
             ],
             [
              1,
              "#f0f921"
             ]
            ],
            "type": "heatmapgl"
           }
          ],
          "histogram": [
           {
            "marker": {
             "pattern": {
              "fillmode": "overlay",
              "size": 10,
              "solidity": 0.2
             }
            },
            "type": "histogram"
           }
          ],
          "histogram2d": [
           {
            "colorbar": {
             "outlinewidth": 0,
             "ticks": ""
            },
            "colorscale": [
             [
              0,
              "#0d0887"
             ],
             [
              0.1111111111111111,
              "#46039f"
             ],
             [
              0.2222222222222222,
              "#7201a8"
             ],
             [
              0.3333333333333333,
              "#9c179e"
             ],
             [
              0.4444444444444444,
              "#bd3786"
             ],
             [
              0.5555555555555556,
              "#d8576b"
             ],
             [
              0.6666666666666666,
              "#ed7953"
             ],
             [
              0.7777777777777778,
              "#fb9f3a"
             ],
             [
              0.8888888888888888,
              "#fdca26"
             ],
             [
              1,
              "#f0f921"
             ]
            ],
            "type": "histogram2d"
           }
          ],
          "histogram2dcontour": [
           {
            "colorbar": {
             "outlinewidth": 0,
             "ticks": ""
            },
            "colorscale": [
             [
              0,
              "#0d0887"
             ],
             [
              0.1111111111111111,
              "#46039f"
             ],
             [
              0.2222222222222222,
              "#7201a8"
             ],
             [
              0.3333333333333333,
              "#9c179e"
             ],
             [
              0.4444444444444444,
              "#bd3786"
             ],
             [
              0.5555555555555556,
              "#d8576b"
             ],
             [
              0.6666666666666666,
              "#ed7953"
             ],
             [
              0.7777777777777778,
              "#fb9f3a"
             ],
             [
              0.8888888888888888,
              "#fdca26"
             ],
             [
              1,
              "#f0f921"
             ]
            ],
            "type": "histogram2dcontour"
           }
          ],
          "mesh3d": [
           {
            "colorbar": {
             "outlinewidth": 0,
             "ticks": ""
            },
            "type": "mesh3d"
           }
          ],
          "parcoords": [
           {
            "line": {
             "colorbar": {
              "outlinewidth": 0,
              "ticks": ""
             }
            },
            "type": "parcoords"
           }
          ],
          "pie": [
           {
            "automargin": true,
            "type": "pie"
           }
          ],
          "scatter": [
           {
            "fillpattern": {
             "fillmode": "overlay",
             "size": 10,
             "solidity": 0.2
            },
            "type": "scatter"
           }
          ],
          "scatter3d": [
           {
            "line": {
             "colorbar": {
              "outlinewidth": 0,
              "ticks": ""
             }
            },
            "marker": {
             "colorbar": {
              "outlinewidth": 0,
              "ticks": ""
             }
            },
            "type": "scatter3d"
           }
          ],
          "scattercarpet": [
           {
            "marker": {
             "colorbar": {
              "outlinewidth": 0,
              "ticks": ""
             }
            },
            "type": "scattercarpet"
           }
          ],
          "scattergeo": [
           {
            "marker": {
             "colorbar": {
              "outlinewidth": 0,
              "ticks": ""
             }
            },
            "type": "scattergeo"
           }
          ],
          "scattergl": [
           {
            "marker": {
             "colorbar": {
              "outlinewidth": 0,
              "ticks": ""
             }
            },
            "type": "scattergl"
           }
          ],
          "scattermapbox": [
           {
            "marker": {
             "colorbar": {
              "outlinewidth": 0,
              "ticks": ""
             }
            },
            "type": "scattermapbox"
           }
          ],
          "scatterpolar": [
           {
            "marker": {
             "colorbar": {
              "outlinewidth": 0,
              "ticks": ""
             }
            },
            "type": "scatterpolar"
           }
          ],
          "scatterpolargl": [
           {
            "marker": {
             "colorbar": {
              "outlinewidth": 0,
              "ticks": ""
             }
            },
            "type": "scatterpolargl"
           }
          ],
          "scatterternary": [
           {
            "marker": {
             "colorbar": {
              "outlinewidth": 0,
              "ticks": ""
             }
            },
            "type": "scatterternary"
           }
          ],
          "surface": [
           {
            "colorbar": {
             "outlinewidth": 0,
             "ticks": ""
            },
            "colorscale": [
             [
              0,
              "#0d0887"
             ],
             [
              0.1111111111111111,
              "#46039f"
             ],
             [
              0.2222222222222222,
              "#7201a8"
             ],
             [
              0.3333333333333333,
              "#9c179e"
             ],
             [
              0.4444444444444444,
              "#bd3786"
             ],
             [
              0.5555555555555556,
              "#d8576b"
             ],
             [
              0.6666666666666666,
              "#ed7953"
             ],
             [
              0.7777777777777778,
              "#fb9f3a"
             ],
             [
              0.8888888888888888,
              "#fdca26"
             ],
             [
              1,
              "#f0f921"
             ]
            ],
            "type": "surface"
           }
          ],
          "table": [
           {
            "cells": {
             "fill": {
              "color": "#EBF0F8"
             },
             "line": {
              "color": "white"
             }
            },
            "header": {
             "fill": {
              "color": "#C8D4E3"
             },
             "line": {
              "color": "white"
             }
            },
            "type": "table"
           }
          ]
         },
         "layout": {
          "annotationdefaults": {
           "arrowcolor": "#2a3f5f",
           "arrowhead": 0,
           "arrowwidth": 1
          },
          "autotypenumbers": "strict",
          "coloraxis": {
           "colorbar": {
            "outlinewidth": 0,
            "ticks": ""
           }
          },
          "colorscale": {
           "diverging": [
            [
             0,
             "#8e0152"
            ],
            [
             0.1,
             "#c51b7d"
            ],
            [
             0.2,
             "#de77ae"
            ],
            [
             0.3,
             "#f1b6da"
            ],
            [
             0.4,
             "#fde0ef"
            ],
            [
             0.5,
             "#f7f7f7"
            ],
            [
             0.6,
             "#e6f5d0"
            ],
            [
             0.7,
             "#b8e186"
            ],
            [
             0.8,
             "#7fbc41"
            ],
            [
             0.9,
             "#4d9221"
            ],
            [
             1,
             "#276419"
            ]
           ],
           "sequential": [
            [
             0,
             "#0d0887"
            ],
            [
             0.1111111111111111,
             "#46039f"
            ],
            [
             0.2222222222222222,
             "#7201a8"
            ],
            [
             0.3333333333333333,
             "#9c179e"
            ],
            [
             0.4444444444444444,
             "#bd3786"
            ],
            [
             0.5555555555555556,
             "#d8576b"
            ],
            [
             0.6666666666666666,
             "#ed7953"
            ],
            [
             0.7777777777777778,
             "#fb9f3a"
            ],
            [
             0.8888888888888888,
             "#fdca26"
            ],
            [
             1,
             "#f0f921"
            ]
           ],
           "sequentialminus": [
            [
             0,
             "#0d0887"
            ],
            [
             0.1111111111111111,
             "#46039f"
            ],
            [
             0.2222222222222222,
             "#7201a8"
            ],
            [
             0.3333333333333333,
             "#9c179e"
            ],
            [
             0.4444444444444444,
             "#bd3786"
            ],
            [
             0.5555555555555556,
             "#d8576b"
            ],
            [
             0.6666666666666666,
             "#ed7953"
            ],
            [
             0.7777777777777778,
             "#fb9f3a"
            ],
            [
             0.8888888888888888,
             "#fdca26"
            ],
            [
             1,
             "#f0f921"
            ]
           ]
          },
          "colorway": [
           "#636efa",
           "#EF553B",
           "#00cc96",
           "#ab63fa",
           "#FFA15A",
           "#19d3f3",
           "#FF6692",
           "#B6E880",
           "#FF97FF",
           "#FECB52"
          ],
          "font": {
           "color": "#2a3f5f"
          },
          "geo": {
           "bgcolor": "white",
           "lakecolor": "white",
           "landcolor": "#E5ECF6",
           "showlakes": true,
           "showland": true,
           "subunitcolor": "white"
          },
          "hoverlabel": {
           "align": "left"
          },
          "hovermode": "closest",
          "mapbox": {
           "style": "light"
          },
          "paper_bgcolor": "white",
          "plot_bgcolor": "#E5ECF6",
          "polar": {
           "angularaxis": {
            "gridcolor": "white",
            "linecolor": "white",
            "ticks": ""
           },
           "bgcolor": "#E5ECF6",
           "radialaxis": {
            "gridcolor": "white",
            "linecolor": "white",
            "ticks": ""
           }
          },
          "scene": {
           "xaxis": {
            "backgroundcolor": "#E5ECF6",
            "gridcolor": "white",
            "gridwidth": 2,
            "linecolor": "white",
            "showbackground": true,
            "ticks": "",
            "zerolinecolor": "white"
           },
           "yaxis": {
            "backgroundcolor": "#E5ECF6",
            "gridcolor": "white",
            "gridwidth": 2,
            "linecolor": "white",
            "showbackground": true,
            "ticks": "",
            "zerolinecolor": "white"
           },
           "zaxis": {
            "backgroundcolor": "#E5ECF6",
            "gridcolor": "white",
            "gridwidth": 2,
            "linecolor": "white",
            "showbackground": true,
            "ticks": "",
            "zerolinecolor": "white"
           }
          },
          "shapedefaults": {
           "line": {
            "color": "#2a3f5f"
           }
          },
          "ternary": {
           "aaxis": {
            "gridcolor": "white",
            "linecolor": "white",
            "ticks": ""
           },
           "baxis": {
            "gridcolor": "white",
            "linecolor": "white",
            "ticks": ""
           },
           "bgcolor": "#E5ECF6",
           "caxis": {
            "gridcolor": "white",
            "linecolor": "white",
            "ticks": ""
           }
          },
          "title": {
           "x": 0.05
          },
          "xaxis": {
           "automargin": true,
           "gridcolor": "white",
           "linecolor": "white",
           "ticks": "",
           "title": {
            "standoff": 15
           },
           "zerolinecolor": "white",
           "zerolinewidth": 2
          },
          "yaxis": {
           "automargin": true,
           "gridcolor": "white",
           "linecolor": "white",
           "ticks": "",
           "title": {
            "standoff": 15
           },
           "zerolinecolor": "white",
           "zerolinewidth": 2
          }
         }
        },
        "title": {
         "text": "Top 20 des articles en quantité et leur CA"
        },
        "xaxis": {
         "anchor": "y",
         "domain": [
          0,
          1
         ],
         "tickangle": -45,
         "title": {
          "text": "Articles"
         }
        },
        "yaxis": {
         "anchor": "x",
         "domain": [
          0,
          1
         ],
         "title": {
          "text": "Quantité vendue"
         }
        }
       }
      }
     },
     "metadata": {},
     "output_type": "display_data"
    }
   ],
   "source": [
    "#####################################\n",
    "# Palmares des articles en quantité #\n",
    "#####################################\n",
    "\n",
    "#Effectuer le tri dans l'ordre décroissant de quantités vendues du dataset\n",
    "donnees = donnees.sort_values(by='total_sales', ascending=False)\n",
    "\n",
    "#Réinitialiser l'index du dataset par un reset_index\n",
    "donnees.reset_index(drop=True, inplace=True)\n",
    "\n",
    "#Afficher les 20 premier articles en quantité\n",
    "top_20_ventes = donnees.head(20)\n",
    "print(top_20_ventes[['product_id', 'total_sales', 'ca_par_article', 'post_title']])\n",
    "\n",
    "#Tronquer les 'post_title' pour ne garder que les premières lettres + ajouter l'index pour que chaque article reste unique\n",
    "top_20_ventes['post_title_tronque'] = top_20_ventes['product_id'].astype(str) + '-' + top_20_ventes['post_title'].str.slice(0, 12)\n",
    "\n",
    "#Créer une nouvelle colonne formatée pour 'ca_par_article' en euros sans décimales\n",
    "top_20_ventes['ca_par_article_formate'] = top_20_ventes['ca_par_article'].apply(lambda x: f\"{int(x)} €\")\n",
    "\n",
    "#Graphique en barre des 20 premiers articles avec plotly express\n",
    "fig = px.bar(top_20_ventes, \n",
    "             x='post_title_tronque',\n",
    "             y='total_sales', \n",
    "             title=\"Top 20 des articles en quantité et leur CA\",\n",
    "             text='ca_par_article_formate',\n",
    "             labels={'total_sales': \"Quantité vendue\", 'post_title_tronque': 'Articles'},\n",
    "             color='total_sales',\n",
    "             color_continuous_scale='Viridis',\n",
    "             hover_data={'ca_par_article_formate': True})\n",
    "\n",
    "#Ajuster l'axe x pour éviter que les titres se chevauchent\n",
    "fig.update_layout(xaxis_tickangle=-45)\n",
    "\n",
    "#Afficher le graphique\n",
    "fig.show()"
   ]
  },
  {
   "cell_type": "code",
   "execution_count": 142,
   "id": "5bbbc4cf",
   "metadata": {},
   "outputs": [
    {
     "name": "stdout",
     "output_type": "stream",
     "text": [
      "Proportion d'articles représentant 80 % du CA du site web : 60.50 %\n",
      "Certaines données étant manquantes, nous ne pouvons afficher le CA hors site web (nous n'avons pas les quantités vendues)\n"
     ]
    }
   ],
   "source": [
    "#############################\n",
    "# Calculer le 20 / 80 en CA #\n",
    "#############################\n",
    "\n",
    "#Créer une colonne calculant la part en quantité de la ligne dans le dataset\n",
    "donnees_total_ventes_quantite = donnees['total_sales'].sum()\n",
    "donnees['part_ventes_quantite'] = round(donnees['total_sales'] / donnees_total_ventes_quantite * 100,2)\n",
    "\n",
    "#Créer une colonne réalisant la somme cumulative de la colonne précedemment créée\n",
    "donnees['cumul_ventes_quantite'] = donnees['part_ventes_quantite'].cumsum()\n",
    "\n",
    "#Grâce au deux colonnes créées précedemment, calculer le nombre d'articles représentant 80% des ventes en quantité\n",
    "donnees_80_ventes = donnees[donnees['cumul_ventes_quantite'] <= 80]\n",
    "donnees_80_ventes_somme = len(donnees_80_ventes)\n",
    "\n",
    "#Afficher la proportion que représentent ce groupe d'articles dans le catalogue entier du site web\n",
    "donnees_80_ventes_proportion_articles = (donnees_80_ventes_somme / donnees_web_nb_articles) *100\n",
    "print(f\"Proportion d'articles représentant 80 % du CA du site web : {donnees_80_ventes_proportion_articles:.2f} %\")\n",
    "#Afficher la proportion que représentent ce groupe d'articles dans le catalogue entier\n",
    "print(\"Certaines données étant manquantes, nous ne pouvons afficher le CA hors site web (nous n'avons pas les quantités vendues)\")"
   ]
  },
  {
   "cell_type": "code",
   "execution_count": 143,
   "id": "b7af0fb4",
   "metadata": {},
   "outputs": [
    {
     "name": "stdout",
     "output_type": "stream",
     "text": [
      "  Type de Produit  Nombre de Ventes  Pourcentage\n",
      "0          Cadeau               7.0         0.12\n",
      "1       Champagne             169.0         2.94\n",
      "2          Cognac              35.0         0.61\n",
      "3             Gin              14.0         0.24\n",
      "4   Huile d'olive              22.0         0.38\n",
      "5             Vin            5456.0        94.87\n",
      "6          Whisky              48.0         0.83\n"
     ]
    }
   ],
   "source": [
    "#Analyse des ventes par type de produit\n",
    "# #Calculer la somme de la colonne 'total_sales'\n",
    "donnees_nombre_ventes = donnees['total_sales'].sum()\n",
    "\n",
    "#Regrouper par 'product_type' et calculer la somme des ventes\n",
    "donnees_ventes_par_categorie = donnees.groupby('product_type')['total_sales'].sum().reset_index()\n",
    "\n",
    "#Renommer la colonne pour plus de clarté\n",
    "donnees_ventes_par_categorie.columns = ['Type de Produit', 'Nombre de Ventes']\n",
    "\n",
    "#Calculer le pourcentage pour chaque catégorie\n",
    "donnees_ventes_par_categorie['Pourcentage'] = round((donnees_ventes_par_categorie['Nombre de Ventes'] / donnees_nombre_ventes) * 100,2)\n",
    "\n",
    "#Afficher le résultat\n",
    "print(donnees_ventes_par_categorie)"
   ]
  },
  {
   "cell_type": "markdown",
   "id": "5efaf851",
   "metadata": {},
   "source": [
    "<div style=\"font-size: 18px;\">Le vin représente 94,87 % du nombre de ventes<br>\n",
    "Le champagne en représente 2,94 %<br>\n",
    "L'effet pareto n'est pas pertinant pour analyser ces données\n",
    "</div>"
   ]
  },
  {
   "cell_type": "markdown",
   "id": "077789b1",
   "metadata": {},
   "source": [
    "<div style=\"border: 1px solid RGB(51,165,182);\" >\n",
    "<h3 style=\"margin: auto; padding: 20px; color: RGB(51,165,182); \">Etape 5.3 - Analyse des stocks</h3>\n",
    "</div>"
   ]
  },
  {
   "cell_type": "code",
   "execution_count": 144,
   "id": "14e45472",
   "metadata": {},
   "outputs": [
    {
     "name": "stdout",
     "output_type": "stream",
     "text": [
      "    product_id                                         post_title  \\\n",
      "0         4142              Champagne Gosset Grand Millésime 2006   \n",
      "1         6126             Champagne Gosset Célébris Vintage 2007   \n",
      "2         4356  Champagne Egly-Ouriet Premier Cru Les Vignes d...   \n",
      "3         4348     Champagne Egly-Ouriet Grand Cru Brut Tradition   \n",
      "4         4148               Champagne Mailly Grand Cru Brut Rosé   \n",
      "5         4357              Champagne Larmandier-Bernier Latitude   \n",
      "6         4144                        Champagne Gosset Grand Rosé   \n",
      "7         5025  Champagne Agrapart &amp; Fils L'Avizoise Extra...   \n",
      "8         4350    Champagne Egly-Ouriet Grand Cru Extra Brut V.P.   \n",
      "9         4150       Champagne Mailly Grand Cru Intemporelle 2010   \n",
      "10        4334             Champagne Gosset Grand Blanc de Blancs   \n",
      "11        4149  Champagne Mailly Grand Cru Intemporelle Rosé 2009   \n",
      "12        5612  Domaine Weinbach Gewurztraminer Grand Cru Furs...   \n",
      "13        4582  Château de Meursault Puligny-Montrachet 1er Cr...   \n",
      "14        5024  Champagne Agrapart &amp; Fils Les 7 Crus Brut ...   \n",
      "15        4970  Champagne Larmandier-Bernier Terre de Vertus P...   \n",
      "16        5892  Coteaux Champenois Egly-Ouriet Ambonnay Rouge ...   \n",
      "17        4359  Champagne Larmandier-Bernier Grand Cru Les Che...   \n",
      "18        4141                    Champagne Gosset Grande Réserve   \n",
      "19        4146            Champagne Mailly Grand Cru Brut Réserve   \n",
      "\n",
      "    rotation_stock  price  total_sales  ca_par_article  \n",
      "0             31.0   53.0          4.0           212.0  \n",
      "1             28.0  135.0          5.0           675.0  \n",
      "2             27.0   52.0          3.0           155.0  \n",
      "3             25.0   59.0          5.0           295.0  \n",
      "4             24.0   38.0          3.0           112.0  \n",
      "5             23.0   39.0          5.0           195.0  \n",
      "6             23.0   49.0          4.0           196.0  \n",
      "7             23.0  112.0          6.0           672.0  \n",
      "8             21.0   80.0          7.0           556.0  \n",
      "9             20.0   59.0          6.0           354.0  \n",
      "10            20.0   49.0          7.0           343.0  \n",
      "11            20.0   69.0          5.0           345.0  \n",
      "12            19.0  125.0          1.0           125.0  \n",
      "13            18.0  110.0          1.0           110.0  \n",
      "14            17.0   45.0          6.0           270.0  \n",
      "15            17.0   50.0          6.0           297.0  \n",
      "16            16.0  191.0          6.0          1148.0  \n",
      "17            16.0   86.0          7.0           599.0  \n",
      "18            15.0   39.0          8.0           312.0  \n",
      "19            14.0   30.0          6.0           177.0  \n"
     ]
    },
    {
     "name": "stderr",
     "output_type": "stream",
     "text": [
      "/var/folders/k4/rxs7cpkn25x36yd1rknb1pvc0000gn/T/ipykernel_48881/3211326857.py:12: FutureWarning:\n",
      "\n",
      "A value is trying to be set on a copy of a DataFrame or Series through chained assignment using an inplace method.\n",
      "The behavior will change in pandas 3.0. This inplace method will never work because the intermediate object on which we are setting values always behaves as a copy.\n",
      "\n",
      "For example, when doing 'df[col].method(value, inplace=True)', try using 'df.method({col: value}, inplace=True)' or df[col] = df[col].method(value) instead, to perform the operation inplace on the original object.\n",
      "\n",
      "\n",
      "\n"
     ]
    },
    {
     "data": {
      "application/vnd.plotly.v1+json": {
       "config": {
        "plotlyServerURL": "https://plot.ly"
       },
       "data": [
        {
         "alignmentgroup": "True",
         "hovertemplate": "Articles=%{x}<br>Temps (en mois)=%{marker.color}<br>total_sales=%{text}<extra></extra>",
         "legendgroup": "",
         "marker": {
          "color": [
           31,
           28,
           27,
           25,
           24,
           23,
           23,
           23,
           21,
           20,
           20,
           20,
           19,
           18,
           17,
           17,
           16,
           16,
           15,
           14
          ],
          "coloraxis": "coloraxis",
          "pattern": {
           "shape": ""
          }
         },
         "name": "",
         "offsetgroup": "",
         "orientation": "v",
         "showlegend": false,
         "text": [
          4,
          5,
          3,
          5,
          3,
          5,
          4,
          6,
          7,
          6,
          7,
          5,
          1,
          1,
          6,
          6,
          6,
          7,
          8,
          6
         ],
         "textposition": "auto",
         "type": "bar",
         "x": [
          "4142-Château De L",
          "6126-Mas Laval IG",
          "4356-I Fabbri Chi",
          "4348-François Bau",
          "4148-Bernard Baud",
          "4357-Agnès Levet ",
          "4144-Moulin de Ga",
          "5025-Xavier Friss",
          "4350-Château Tour",
          "4150-Decelle-Vill",
          "4334-Maurel Pays ",
          "4149-Philippe Nus",
          "5612-Maurel Pays ",
          "4582-Mourgues du ",
          "5024-Château Olli",
          "4970-Château de L",
          "5892-Triennes IGP",
          "4359-Emile Boecke",
          "4141-Mas Laval IG",
          "4146-Planeta Sici"
         ],
         "xaxis": "x",
         "y": [
          31,
          28,
          27,
          25,
          24,
          23,
          23,
          23,
          21,
          20,
          20,
          20,
          19,
          18,
          17,
          17,
          16,
          16,
          15,
          14
         ],
         "yaxis": "y"
        }
       ],
       "layout": {
        "barmode": "relative",
        "coloraxis": {
         "colorbar": {
          "title": {
           "text": "Temps (en mois)"
          }
         },
         "colorscale": [
          [
           0,
           "#000004"
          ],
          [
           0.1111111111111111,
           "#1b0c41"
          ],
          [
           0.2222222222222222,
           "#4a0c6b"
          ],
          [
           0.3333333333333333,
           "#781c6d"
          ],
          [
           0.4444444444444444,
           "#a52c60"
          ],
          [
           0.5555555555555556,
           "#cf4446"
          ],
          [
           0.6666666666666666,
           "#ed6925"
          ],
          [
           0.7777777777777778,
           "#fb9b06"
          ],
          [
           0.8888888888888888,
           "#f7d13d"
          ],
          [
           1,
           "#fcffa4"
          ]
         ]
        },
        "legend": {
         "tracegroupgap": 0
        },
        "template": {
         "data": {
          "bar": [
           {
            "error_x": {
             "color": "#2a3f5f"
            },
            "error_y": {
             "color": "#2a3f5f"
            },
            "marker": {
             "line": {
              "color": "#E5ECF6",
              "width": 0.5
             },
             "pattern": {
              "fillmode": "overlay",
              "size": 10,
              "solidity": 0.2
             }
            },
            "type": "bar"
           }
          ],
          "barpolar": [
           {
            "marker": {
             "line": {
              "color": "#E5ECF6",
              "width": 0.5
             },
             "pattern": {
              "fillmode": "overlay",
              "size": 10,
              "solidity": 0.2
             }
            },
            "type": "barpolar"
           }
          ],
          "carpet": [
           {
            "aaxis": {
             "endlinecolor": "#2a3f5f",
             "gridcolor": "white",
             "linecolor": "white",
             "minorgridcolor": "white",
             "startlinecolor": "#2a3f5f"
            },
            "baxis": {
             "endlinecolor": "#2a3f5f",
             "gridcolor": "white",
             "linecolor": "white",
             "minorgridcolor": "white",
             "startlinecolor": "#2a3f5f"
            },
            "type": "carpet"
           }
          ],
          "choropleth": [
           {
            "colorbar": {
             "outlinewidth": 0,
             "ticks": ""
            },
            "type": "choropleth"
           }
          ],
          "contour": [
           {
            "colorbar": {
             "outlinewidth": 0,
             "ticks": ""
            },
            "colorscale": [
             [
              0,
              "#0d0887"
             ],
             [
              0.1111111111111111,
              "#46039f"
             ],
             [
              0.2222222222222222,
              "#7201a8"
             ],
             [
              0.3333333333333333,
              "#9c179e"
             ],
             [
              0.4444444444444444,
              "#bd3786"
             ],
             [
              0.5555555555555556,
              "#d8576b"
             ],
             [
              0.6666666666666666,
              "#ed7953"
             ],
             [
              0.7777777777777778,
              "#fb9f3a"
             ],
             [
              0.8888888888888888,
              "#fdca26"
             ],
             [
              1,
              "#f0f921"
             ]
            ],
            "type": "contour"
           }
          ],
          "contourcarpet": [
           {
            "colorbar": {
             "outlinewidth": 0,
             "ticks": ""
            },
            "type": "contourcarpet"
           }
          ],
          "heatmap": [
           {
            "colorbar": {
             "outlinewidth": 0,
             "ticks": ""
            },
            "colorscale": [
             [
              0,
              "#0d0887"
             ],
             [
              0.1111111111111111,
              "#46039f"
             ],
             [
              0.2222222222222222,
              "#7201a8"
             ],
             [
              0.3333333333333333,
              "#9c179e"
             ],
             [
              0.4444444444444444,
              "#bd3786"
             ],
             [
              0.5555555555555556,
              "#d8576b"
             ],
             [
              0.6666666666666666,
              "#ed7953"
             ],
             [
              0.7777777777777778,
              "#fb9f3a"
             ],
             [
              0.8888888888888888,
              "#fdca26"
             ],
             [
              1,
              "#f0f921"
             ]
            ],
            "type": "heatmap"
           }
          ],
          "heatmapgl": [
           {
            "colorbar": {
             "outlinewidth": 0,
             "ticks": ""
            },
            "colorscale": [
             [
              0,
              "#0d0887"
             ],
             [
              0.1111111111111111,
              "#46039f"
             ],
             [
              0.2222222222222222,
              "#7201a8"
             ],
             [
              0.3333333333333333,
              "#9c179e"
             ],
             [
              0.4444444444444444,
              "#bd3786"
             ],
             [
              0.5555555555555556,
              "#d8576b"
             ],
             [
              0.6666666666666666,
              "#ed7953"
             ],
             [
              0.7777777777777778,
              "#fb9f3a"
             ],
             [
              0.8888888888888888,
              "#fdca26"
             ],
             [
              1,
              "#f0f921"
             ]
            ],
            "type": "heatmapgl"
           }
          ],
          "histogram": [
           {
            "marker": {
             "pattern": {
              "fillmode": "overlay",
              "size": 10,
              "solidity": 0.2
             }
            },
            "type": "histogram"
           }
          ],
          "histogram2d": [
           {
            "colorbar": {
             "outlinewidth": 0,
             "ticks": ""
            },
            "colorscale": [
             [
              0,
              "#0d0887"
             ],
             [
              0.1111111111111111,
              "#46039f"
             ],
             [
              0.2222222222222222,
              "#7201a8"
             ],
             [
              0.3333333333333333,
              "#9c179e"
             ],
             [
              0.4444444444444444,
              "#bd3786"
             ],
             [
              0.5555555555555556,
              "#d8576b"
             ],
             [
              0.6666666666666666,
              "#ed7953"
             ],
             [
              0.7777777777777778,
              "#fb9f3a"
             ],
             [
              0.8888888888888888,
              "#fdca26"
             ],
             [
              1,
              "#f0f921"
             ]
            ],
            "type": "histogram2d"
           }
          ],
          "histogram2dcontour": [
           {
            "colorbar": {
             "outlinewidth": 0,
             "ticks": ""
            },
            "colorscale": [
             [
              0,
              "#0d0887"
             ],
             [
              0.1111111111111111,
              "#46039f"
             ],
             [
              0.2222222222222222,
              "#7201a8"
             ],
             [
              0.3333333333333333,
              "#9c179e"
             ],
             [
              0.4444444444444444,
              "#bd3786"
             ],
             [
              0.5555555555555556,
              "#d8576b"
             ],
             [
              0.6666666666666666,
              "#ed7953"
             ],
             [
              0.7777777777777778,
              "#fb9f3a"
             ],
             [
              0.8888888888888888,
              "#fdca26"
             ],
             [
              1,
              "#f0f921"
             ]
            ],
            "type": "histogram2dcontour"
           }
          ],
          "mesh3d": [
           {
            "colorbar": {
             "outlinewidth": 0,
             "ticks": ""
            },
            "type": "mesh3d"
           }
          ],
          "parcoords": [
           {
            "line": {
             "colorbar": {
              "outlinewidth": 0,
              "ticks": ""
             }
            },
            "type": "parcoords"
           }
          ],
          "pie": [
           {
            "automargin": true,
            "type": "pie"
           }
          ],
          "scatter": [
           {
            "fillpattern": {
             "fillmode": "overlay",
             "size": 10,
             "solidity": 0.2
            },
            "type": "scatter"
           }
          ],
          "scatter3d": [
           {
            "line": {
             "colorbar": {
              "outlinewidth": 0,
              "ticks": ""
             }
            },
            "marker": {
             "colorbar": {
              "outlinewidth": 0,
              "ticks": ""
             }
            },
            "type": "scatter3d"
           }
          ],
          "scattercarpet": [
           {
            "marker": {
             "colorbar": {
              "outlinewidth": 0,
              "ticks": ""
             }
            },
            "type": "scattercarpet"
           }
          ],
          "scattergeo": [
           {
            "marker": {
             "colorbar": {
              "outlinewidth": 0,
              "ticks": ""
             }
            },
            "type": "scattergeo"
           }
          ],
          "scattergl": [
           {
            "marker": {
             "colorbar": {
              "outlinewidth": 0,
              "ticks": ""
             }
            },
            "type": "scattergl"
           }
          ],
          "scattermapbox": [
           {
            "marker": {
             "colorbar": {
              "outlinewidth": 0,
              "ticks": ""
             }
            },
            "type": "scattermapbox"
           }
          ],
          "scatterpolar": [
           {
            "marker": {
             "colorbar": {
              "outlinewidth": 0,
              "ticks": ""
             }
            },
            "type": "scatterpolar"
           }
          ],
          "scatterpolargl": [
           {
            "marker": {
             "colorbar": {
              "outlinewidth": 0,
              "ticks": ""
             }
            },
            "type": "scatterpolargl"
           }
          ],
          "scatterternary": [
           {
            "marker": {
             "colorbar": {
              "outlinewidth": 0,
              "ticks": ""
             }
            },
            "type": "scatterternary"
           }
          ],
          "surface": [
           {
            "colorbar": {
             "outlinewidth": 0,
             "ticks": ""
            },
            "colorscale": [
             [
              0,
              "#0d0887"
             ],
             [
              0.1111111111111111,
              "#46039f"
             ],
             [
              0.2222222222222222,
              "#7201a8"
             ],
             [
              0.3333333333333333,
              "#9c179e"
             ],
             [
              0.4444444444444444,
              "#bd3786"
             ],
             [
              0.5555555555555556,
              "#d8576b"
             ],
             [
              0.6666666666666666,
              "#ed7953"
             ],
             [
              0.7777777777777778,
              "#fb9f3a"
             ],
             [
              0.8888888888888888,
              "#fdca26"
             ],
             [
              1,
              "#f0f921"
             ]
            ],
            "type": "surface"
           }
          ],
          "table": [
           {
            "cells": {
             "fill": {
              "color": "#EBF0F8"
             },
             "line": {
              "color": "white"
             }
            },
            "header": {
             "fill": {
              "color": "#C8D4E3"
             },
             "line": {
              "color": "white"
             }
            },
            "type": "table"
           }
          ]
         },
         "layout": {
          "annotationdefaults": {
           "arrowcolor": "#2a3f5f",
           "arrowhead": 0,
           "arrowwidth": 1
          },
          "autotypenumbers": "strict",
          "coloraxis": {
           "colorbar": {
            "outlinewidth": 0,
            "ticks": ""
           }
          },
          "colorscale": {
           "diverging": [
            [
             0,
             "#8e0152"
            ],
            [
             0.1,
             "#c51b7d"
            ],
            [
             0.2,
             "#de77ae"
            ],
            [
             0.3,
             "#f1b6da"
            ],
            [
             0.4,
             "#fde0ef"
            ],
            [
             0.5,
             "#f7f7f7"
            ],
            [
             0.6,
             "#e6f5d0"
            ],
            [
             0.7,
             "#b8e186"
            ],
            [
             0.8,
             "#7fbc41"
            ],
            [
             0.9,
             "#4d9221"
            ],
            [
             1,
             "#276419"
            ]
           ],
           "sequential": [
            [
             0,
             "#0d0887"
            ],
            [
             0.1111111111111111,
             "#46039f"
            ],
            [
             0.2222222222222222,
             "#7201a8"
            ],
            [
             0.3333333333333333,
             "#9c179e"
            ],
            [
             0.4444444444444444,
             "#bd3786"
            ],
            [
             0.5555555555555556,
             "#d8576b"
            ],
            [
             0.6666666666666666,
             "#ed7953"
            ],
            [
             0.7777777777777778,
             "#fb9f3a"
            ],
            [
             0.8888888888888888,
             "#fdca26"
            ],
            [
             1,
             "#f0f921"
            ]
           ],
           "sequentialminus": [
            [
             0,
             "#0d0887"
            ],
            [
             0.1111111111111111,
             "#46039f"
            ],
            [
             0.2222222222222222,
             "#7201a8"
            ],
            [
             0.3333333333333333,
             "#9c179e"
            ],
            [
             0.4444444444444444,
             "#bd3786"
            ],
            [
             0.5555555555555556,
             "#d8576b"
            ],
            [
             0.6666666666666666,
             "#ed7953"
            ],
            [
             0.7777777777777778,
             "#fb9f3a"
            ],
            [
             0.8888888888888888,
             "#fdca26"
            ],
            [
             1,
             "#f0f921"
            ]
           ]
          },
          "colorway": [
           "#636efa",
           "#EF553B",
           "#00cc96",
           "#ab63fa",
           "#FFA15A",
           "#19d3f3",
           "#FF6692",
           "#B6E880",
           "#FF97FF",
           "#FECB52"
          ],
          "font": {
           "color": "#2a3f5f"
          },
          "geo": {
           "bgcolor": "white",
           "lakecolor": "white",
           "landcolor": "#E5ECF6",
           "showlakes": true,
           "showland": true,
           "subunitcolor": "white"
          },
          "hoverlabel": {
           "align": "left"
          },
          "hovermode": "closest",
          "mapbox": {
           "style": "light"
          },
          "paper_bgcolor": "white",
          "plot_bgcolor": "#E5ECF6",
          "polar": {
           "angularaxis": {
            "gridcolor": "white",
            "linecolor": "white",
            "ticks": ""
           },
           "bgcolor": "#E5ECF6",
           "radialaxis": {
            "gridcolor": "white",
            "linecolor": "white",
            "ticks": ""
           }
          },
          "scene": {
           "xaxis": {
            "backgroundcolor": "#E5ECF6",
            "gridcolor": "white",
            "gridwidth": 2,
            "linecolor": "white",
            "showbackground": true,
            "ticks": "",
            "zerolinecolor": "white"
           },
           "yaxis": {
            "backgroundcolor": "#E5ECF6",
            "gridcolor": "white",
            "gridwidth": 2,
            "linecolor": "white",
            "showbackground": true,
            "ticks": "",
            "zerolinecolor": "white"
           },
           "zaxis": {
            "backgroundcolor": "#E5ECF6",
            "gridcolor": "white",
            "gridwidth": 2,
            "linecolor": "white",
            "showbackground": true,
            "ticks": "",
            "zerolinecolor": "white"
           }
          },
          "shapedefaults": {
           "line": {
            "color": "#2a3f5f"
           }
          },
          "ternary": {
           "aaxis": {
            "gridcolor": "white",
            "linecolor": "white",
            "ticks": ""
           },
           "baxis": {
            "gridcolor": "white",
            "linecolor": "white",
            "ticks": ""
           },
           "bgcolor": "#E5ECF6",
           "caxis": {
            "gridcolor": "white",
            "linecolor": "white",
            "ticks": ""
           }
          },
          "title": {
           "x": 0.05
          },
          "xaxis": {
           "automargin": true,
           "gridcolor": "white",
           "linecolor": "white",
           "ticks": "",
           "title": {
            "standoff": 15
           },
           "zerolinecolor": "white",
           "zerolinewidth": 2
          },
          "yaxis": {
           "automargin": true,
           "gridcolor": "white",
           "linecolor": "white",
           "ticks": "",
           "title": {
            "standoff": 15
           },
           "zerolinecolor": "white",
           "zerolinewidth": 2
          }
         }
        },
        "title": {
         "text": "Flop20 des pires rotations de stock et leur nombre de vente"
        },
        "xaxis": {
         "anchor": "y",
         "domain": [
          0,
          1
         ],
         "tickangle": -45,
         "title": {
          "text": "Articles"
         }
        },
        "yaxis": {
         "anchor": "x",
         "domain": [
          0,
          1
         ],
         "title": {
          "text": "Temps (en mois)"
         }
        }
       }
      }
     },
     "metadata": {},
     "output_type": "display_data"
    }
   ],
   "source": [
    "######################################\n",
    "# Calcule le nombre de mois de stock #\n",
    "######################################\n",
    "\n",
    "#Import de numpy \n",
    "import numpy as np\n",
    "\n",
    "#Création de la colonne Rotation de stock (mois d'octobre)\n",
    "donnees['rotation_stock'] = round(donnees['stock_quantity'] / donnees['total_sales'],2)\n",
    "\n",
    "#Remplacement des \"inf\" par 0\n",
    "donnees['rotation_stock'].replace([np.inf, -np.inf], 0, inplace=True)\n",
    "\n",
    "#Effectuer le tri dans l'ordre décroissant de quantités vendues du dataset\n",
    "donnees = donnees.sort_values(by='rotation_stock', ascending=False)\n",
    "\n",
    "#Réinitialiser l'index du dataset par un reset_index\n",
    "donnees.reset_index(drop=True, inplace=True)\n",
    "\n",
    "#Affichage du flop 20 des produits qui ont le plus de mois de stock\n",
    "flop_20_rotation_stock = round(donnees[['product_id', 'post_title','rotation_stock', 'price', 'total_sales','ca_par_article']].head(20))\n",
    "print(flop_20_rotation_stock)\n",
    "\n",
    "#Tronquer les 'post_title' pour ne garder que les premières lettres + ajouter l'index pour que chaque article reste unique\n",
    "flop_20_rotation_stock['post_title_tronque'] = flop_20_rotation_stock['product_id'].astype(str) + '-' + top_20_ventes['post_title'].str.slice(0, 12)\n",
    "\n",
    "#Graphique en barre du flop 20 des produits qui ont le plus de temps de stock\n",
    "fig = px.bar(flop_20_rotation_stock, \n",
    "             x='post_title_tronque',\n",
    "             y='rotation_stock', \n",
    "             title=\"Flop20 des pires rotations de stock et leur nombre de vente\",\n",
    "             text='total_sales',\n",
    "             color='rotation_stock', \n",
    "             color_continuous_scale='Inferno',\n",
    "             labels={'rotation_stock': \"Temps (en mois)\", 'post_title_tronque': 'Articles'})\n",
    "\n",
    "#Ajuster l'axe x pour éviter que les titres se chevauchent\n",
    "fig.update_layout(xaxis_tickangle=-45)\n",
    "\n",
    "#Afficher le graphique\n",
    "fig.show()"
   ]
  },
  {
   "cell_type": "code",
   "execution_count": 145,
   "id": "0cd6696c",
   "metadata": {},
   "outputs": [
    {
     "name": "stdout",
     "output_type": "stream",
     "text": [
      "La somme de la valorisation des stocks en euros est de : 494637.90 €\n"
     ]
    }
   ],
   "source": [
    "####################################\n",
    "# Valorisation des stocks en euros #\n",
    "####################################\n",
    "\n",
    "#Création de la colonne Valorisation des stocks en euros\n",
    "donnees['valorisation_stock'] = round(donnees['stock_quantity'] * donnees['price'],2)\n",
    "\n",
    "#Calculer la somme de la colonne \"Valorisation_stock_euros\"\n",
    "somme_valorisation_stock = donnees['valorisation_stock'].sum()\n",
    "\n",
    "#Afficher le résultat\n",
    "print(\"La somme de la valorisation des stocks en euros est de : {:.2f} €\".format(somme_valorisation_stock))"
   ]
  },
  {
   "cell_type": "code",
   "execution_count": 146,
   "id": "4a3dd99d",
   "metadata": {},
   "outputs": [
    {
     "name": "stdout",
     "output_type": "stream",
     "text": [
      "La somme du nombre de produits en stock est de : 16740\n"
     ]
    }
   ],
   "source": [
    "##############################################\n",
    "# Valorisation du nombre de produit en stock #\n",
    "##############################################\n",
    "\n",
    "#Calculer la somme de la colonne stock quantity\n",
    "stock_quantity_somme = donnees['stock_quantity'].sum()\n",
    "print(\"La somme du nombre de produits en stock est de : {:.0f}\".format(stock_quantity_somme))"
   ]
  },
  {
   "cell_type": "code",
   "execution_count": 147,
   "id": "900b8c3a",
   "metadata": {},
   "outputs": [
    {
     "name": "stdout",
     "output_type": "stream",
     "text": [
      "  Type de Produit  Stock  Valorisation stock (€)  Pourcentage Stock  \\\n",
      "0          Cadeau     23                  575.00               0.14   \n",
      "1       Champagne   2894               192482.95              17.29   \n",
      "2          Cognac     99                 9761.20               0.59   \n",
      "3             Gin     11                  396.00               0.07   \n",
      "4   Huile d'olive    158                 3131.70               0.94   \n",
      "5             Vin  13470               282258.15              80.47   \n",
      "6          Whisky     85                 6032.90               0.51   \n",
      "\n",
      "   Pourcentage Valorisation  \n",
      "0                      0.12  \n",
      "1                     38.91  \n",
      "2                      1.97  \n",
      "3                      0.08  \n",
      "4                      0.63  \n",
      "5                     57.06  \n",
      "6                      1.22  \n"
     ]
    }
   ],
   "source": [
    "# Analyse du stock par type de produit\n",
    "# Regrouper par 'product_type', calculer le nombre de produits et la valorisation du stock\n",
    "donnees_stock_par_categorie = donnees.groupby('product_type').agg({\n",
    "    'stock_quantity': 'sum',\n",
    "    'valorisation_stock': 'sum'\n",
    "}).reset_index()\n",
    "\n",
    "# Renommer les colonnes pour plus de clarté\n",
    "donnees_stock_par_categorie.columns = ['Type de Produit', 'Stock', 'Valorisation stock (€)']\n",
    "\n",
    "# Calculer le pourcentage pour chaque catégorie\n",
    "donnees_stock_par_categorie['Pourcentage Stock'] = round((donnees_stock_par_categorie['Stock'] / stock_quantity_somme) * 100, 2)\n",
    "donnees_stock_par_categorie['Pourcentage Valorisation'] = round((donnees_stock_par_categorie['Valorisation stock (€)'] / somme_valorisation_stock) * 100, 2)\n",
    "\n",
    "# Afficher le résultat\n",
    "print(donnees_stock_par_categorie)"
   ]
  },
  {
   "cell_type": "markdown",
   "id": "b13bb230",
   "metadata": {},
   "source": [
    "<div style=\"font-size: 18px;\">Le champagne représente 38,91 % de la valorisation du stock pour 2,94 % du nombre de ventes\n",
    "</div>"
   ]
  },
  {
   "cell_type": "markdown",
   "id": "9e48f6dc",
   "metadata": {},
   "source": [
    "<div style=\"border: 1px solid RGB(51,165,182);\" >\n",
    "<h3 style=\"margin: auto; padding: 20px; color: RGB(51,165,182); \">Etape 5.4 - Analyse du taux de marge</h3>\n",
    "</div>"
   ]
  },
  {
   "cell_type": "code",
   "execution_count": 148,
   "id": "7de5ca46",
   "metadata": {},
   "outputs": [
    {
     "name": "stdout",
     "output_type": "stream",
     "text": [
      "Le prix minimum de la colonne 'taux_marge' est de : -635.10%\n",
      "Le prix maximum de la colonne 'taux_marge' est de : 47.75%\n"
     ]
    }
   ],
   "source": [
    "############################\n",
    "# Analyse du taux de marge #\n",
    "############################\n",
    "\n",
    "#Création de la colonne prix HT\n",
    "#La taxe sur les boissons alcoolisées est de 20%\n",
    "tva = 0.2\n",
    "donnees['prix_ht'] = round(donnees['price'] / (1 + tva),2)\n",
    "\n",
    "#Création de la colonne Taux de marge\n",
    "donnees['taux_marge'] = round((donnees['prix_ht'] - donnees['purchase_price']) / donnees['prix_ht'] * 100,2)\n",
    "\n",
    "\n",
    "#Afficher le prix minimum de la colonne \"taux_marge\"\n",
    "donnees_taux_marge_min = donnees['taux_marge'].min()\n",
    "print(\"Le prix minimum de la colonne 'taux_marge' est de : {:.2f}%\".format(donnees_taux_marge_min))\n",
    "\n",
    "#Afficher le prix maximum de la colonne \"taux_marge\"\n",
    "donnees_taux_marge_max = donnees['taux_marge'].max()\n",
    "print(\"Le prix maximum de la colonne 'taux_marge' est de : {:.2f}%\".format(donnees_taux_marge_max))"
   ]
  },
  {
   "cell_type": "code",
   "execution_count": 149,
   "id": "6082d42b",
   "metadata": {},
   "outputs": [
    {
     "data": {
      "text/html": [
       "<div>\n",
       "<style scoped>\n",
       "    .dataframe tbody tr th:only-of-type {\n",
       "        vertical-align: middle;\n",
       "    }\n",
       "\n",
       "    .dataframe tbody tr th {\n",
       "        vertical-align: top;\n",
       "    }\n",
       "\n",
       "    .dataframe thead th {\n",
       "        text-align: right;\n",
       "    }\n",
       "</style>\n",
       "<table border=\"1\" class=\"dataframe\">\n",
       "  <thead>\n",
       "    <tr style=\"text-align: right;\">\n",
       "      <th></th>\n",
       "      <th>product_id</th>\n",
       "      <th>price</th>\n",
       "      <th>purchase_price</th>\n",
       "      <th>onsale_web</th>\n",
       "      <th>stock_quantity</th>\n",
       "      <th>stock_status</th>\n",
       "      <th>id_web</th>\n",
       "      <th>total_sales</th>\n",
       "      <th>product_type</th>\n",
       "      <th>post_title</th>\n",
       "      <th>...</th>\n",
       "      <th>z_score</th>\n",
       "      <th>ca_par_article</th>\n",
       "      <th>part_ca</th>\n",
       "      <th>cumul_ca</th>\n",
       "      <th>part_ventes_quantite</th>\n",
       "      <th>cumul_ventes_quantite</th>\n",
       "      <th>rotation_stock</th>\n",
       "      <th>valorisation_stock</th>\n",
       "      <th>prix_ht</th>\n",
       "      <th>taux_marge</th>\n",
       "    </tr>\n",
       "  </thead>\n",
       "  <tbody>\n",
       "    <tr>\n",
       "      <th>691</th>\n",
       "      <td>4355</td>\n",
       "      <td>12.65</td>\n",
       "      <td>77.48</td>\n",
       "      <td>1</td>\n",
       "      <td>97</td>\n",
       "      <td>instock</td>\n",
       "      <td>12589</td>\n",
       "      <td>0.0</td>\n",
       "      <td>Champagne</td>\n",
       "      <td>Champagne Egly-Ouriet Grand Cru Blanc de Noirs</td>\n",
       "      <td>...</td>\n",
       "      <td>-0.71</td>\n",
       "      <td>0.0</td>\n",
       "      <td>0.0</td>\n",
       "      <td>100.12</td>\n",
       "      <td>0.0</td>\n",
       "      <td>99.84</td>\n",
       "      <td>0.0</td>\n",
       "      <td>1227.05</td>\n",
       "      <td>10.54</td>\n",
       "      <td>-635.1</td>\n",
       "    </tr>\n",
       "  </tbody>\n",
       "</table>\n",
       "<p>1 rows × 27 columns</p>\n",
       "</div>"
      ],
      "text/plain": [
       "     product_id  price  purchase_price  onsale_web  stock_quantity  \\\n",
       "691        4355  12.65           77.48           1              97   \n",
       "\n",
       "    stock_status id_web  total_sales product_type  \\\n",
       "691      instock  12589          0.0    Champagne   \n",
       "\n",
       "                                         post_title  ... z_score  \\\n",
       "691  Champagne Egly-Ouriet Grand Cru Blanc de Noirs  ...   -0.71   \n",
       "\n",
       "    ca_par_article part_ca  cumul_ca part_ventes_quantite  \\\n",
       "691            0.0     0.0    100.12                  0.0   \n",
       "\n",
       "    cumul_ventes_quantite rotation_stock  valorisation_stock  prix_ht  \\\n",
       "691                 99.84            0.0             1227.05    10.54   \n",
       "\n",
       "     taux_marge  \n",
       "691      -635.1  \n",
       "\n",
       "[1 rows x 27 columns]"
      ]
     },
     "execution_count": 149,
     "metadata": {},
     "output_type": "execute_result"
    }
   ],
   "source": [
    "#Affichage de la ligne avec un taux de marge inférieur à 0\n",
    "donnees_taux_marge_negatif = donnees[donnees['taux_marge'] < 0]\n",
    "donnees_taux_marge_negatif"
   ]
  },
  {
   "cell_type": "code",
   "execution_count": 150,
   "id": "d756037c",
   "metadata": {},
   "outputs": [
    {
     "name": "stdout",
     "output_type": "stream",
     "text": [
      "Le prix minimum de la colonne 'taux_marge' est de : 22.80%\n",
      "Le prix minimum de la colonne 'taux_marge' est de : 47.75%\n"
     ]
    }
   ],
   "source": [
    "#Création d'un dataframe avec les taux positifs\n",
    "donnees_taux_marge__positif = donnees[donnees['taux_marge'] > 0]\n",
    "\n",
    "#Afficher le prix minimum de la colonne \"taux_marge\"\n",
    "donnees_taux_marge__positif_min = donnees_taux_marge__positif['taux_marge'].min()\n",
    "print(\"Le prix minimum de la colonne 'taux_marge' est de : {:.2f}%\".format(donnees_taux_marge__positif_min))\n",
    "\n",
    "#Afficher le prix maximum de la colonne \"taux_marge\"\n",
    "donnees_taux_marge__positif_max = donnees_taux_marge__positif['taux_marge'].max()\n",
    "print(\"Le prix minimum de la colonne 'taux_marge' est de : {:.2f}%\".format(donnees_taux_marge__positif_max))\n"
   ]
  },
  {
   "cell_type": "code",
   "execution_count": 151,
   "id": "b24042f8",
   "metadata": {},
   "outputs": [
    {
     "data": {
      "application/vnd.plotly.v1+json": {
       "config": {
        "plotlyServerURL": "https://plot.ly"
       },
       "data": [
        {
         "alignmentgroup": "True",
         "hovertemplate": "Type de produit=%{x}<br>Taux de marge moyen=%{marker.color}<br>price=%{text}<extra></extra>",
         "legendgroup": "",
         "marker": {
          "color": [
           45.07,
           44.92,
           42.8,
           38.01,
           36.15,
           25.01,
           4.79
          ],
          "coloraxis": "coloraxis",
          "pattern": {
           "shape": ""
          }
         },
         "name": "",
         "offsetgroup": "",
         "orientation": "v",
         "showlegend": false,
         "text": [
          "97.50 €",
          "65.56 €",
          "36.00 €",
          "29.28 €",
          "25.00 €",
          "24.93 €",
          "69.63 €"
         ],
         "textposition": "auto",
         "type": "bar",
         "x": [
          "Cognac",
          "Whisky",
          "Gin",
          "Vin",
          "Cadeau",
          "Huile d'olive",
          "Champagne"
         ],
         "xaxis": "x",
         "y": [
          45.07,
          44.92,
          42.8,
          38.01,
          36.15,
          25.01,
          4.79
         ],
         "yaxis": "y"
        }
       ],
       "layout": {
        "barmode": "relative",
        "coloraxis": {
         "colorbar": {
          "title": {
           "text": "Taux de marge moyen"
          }
         },
         "colorscale": [
          [
           0,
           "rgb(103,0,31)"
          ],
          [
           0.1,
           "rgb(178,24,43)"
          ],
          [
           0.2,
           "rgb(214,96,77)"
          ],
          [
           0.3,
           "rgb(244,165,130)"
          ],
          [
           0.4,
           "rgb(253,219,199)"
          ],
          [
           0.5,
           "rgb(247,247,247)"
          ],
          [
           0.6,
           "rgb(209,229,240)"
          ],
          [
           0.7,
           "rgb(146,197,222)"
          ],
          [
           0.8,
           "rgb(67,147,195)"
          ],
          [
           0.9,
           "rgb(33,102,172)"
          ],
          [
           1,
           "rgb(5,48,97)"
          ]
         ]
        },
        "legend": {
         "tracegroupgap": 0
        },
        "template": {
         "data": {
          "bar": [
           {
            "error_x": {
             "color": "#2a3f5f"
            },
            "error_y": {
             "color": "#2a3f5f"
            },
            "marker": {
             "line": {
              "color": "#E5ECF6",
              "width": 0.5
             },
             "pattern": {
              "fillmode": "overlay",
              "size": 10,
              "solidity": 0.2
             }
            },
            "type": "bar"
           }
          ],
          "barpolar": [
           {
            "marker": {
             "line": {
              "color": "#E5ECF6",
              "width": 0.5
             },
             "pattern": {
              "fillmode": "overlay",
              "size": 10,
              "solidity": 0.2
             }
            },
            "type": "barpolar"
           }
          ],
          "carpet": [
           {
            "aaxis": {
             "endlinecolor": "#2a3f5f",
             "gridcolor": "white",
             "linecolor": "white",
             "minorgridcolor": "white",
             "startlinecolor": "#2a3f5f"
            },
            "baxis": {
             "endlinecolor": "#2a3f5f",
             "gridcolor": "white",
             "linecolor": "white",
             "minorgridcolor": "white",
             "startlinecolor": "#2a3f5f"
            },
            "type": "carpet"
           }
          ],
          "choropleth": [
           {
            "colorbar": {
             "outlinewidth": 0,
             "ticks": ""
            },
            "type": "choropleth"
           }
          ],
          "contour": [
           {
            "colorbar": {
             "outlinewidth": 0,
             "ticks": ""
            },
            "colorscale": [
             [
              0,
              "#0d0887"
             ],
             [
              0.1111111111111111,
              "#46039f"
             ],
             [
              0.2222222222222222,
              "#7201a8"
             ],
             [
              0.3333333333333333,
              "#9c179e"
             ],
             [
              0.4444444444444444,
              "#bd3786"
             ],
             [
              0.5555555555555556,
              "#d8576b"
             ],
             [
              0.6666666666666666,
              "#ed7953"
             ],
             [
              0.7777777777777778,
              "#fb9f3a"
             ],
             [
              0.8888888888888888,
              "#fdca26"
             ],
             [
              1,
              "#f0f921"
             ]
            ],
            "type": "contour"
           }
          ],
          "contourcarpet": [
           {
            "colorbar": {
             "outlinewidth": 0,
             "ticks": ""
            },
            "type": "contourcarpet"
           }
          ],
          "heatmap": [
           {
            "colorbar": {
             "outlinewidth": 0,
             "ticks": ""
            },
            "colorscale": [
             [
              0,
              "#0d0887"
             ],
             [
              0.1111111111111111,
              "#46039f"
             ],
             [
              0.2222222222222222,
              "#7201a8"
             ],
             [
              0.3333333333333333,
              "#9c179e"
             ],
             [
              0.4444444444444444,
              "#bd3786"
             ],
             [
              0.5555555555555556,
              "#d8576b"
             ],
             [
              0.6666666666666666,
              "#ed7953"
             ],
             [
              0.7777777777777778,
              "#fb9f3a"
             ],
             [
              0.8888888888888888,
              "#fdca26"
             ],
             [
              1,
              "#f0f921"
             ]
            ],
            "type": "heatmap"
           }
          ],
          "heatmapgl": [
           {
            "colorbar": {
             "outlinewidth": 0,
             "ticks": ""
            },
            "colorscale": [
             [
              0,
              "#0d0887"
             ],
             [
              0.1111111111111111,
              "#46039f"
             ],
             [
              0.2222222222222222,
              "#7201a8"
             ],
             [
              0.3333333333333333,
              "#9c179e"
             ],
             [
              0.4444444444444444,
              "#bd3786"
             ],
             [
              0.5555555555555556,
              "#d8576b"
             ],
             [
              0.6666666666666666,
              "#ed7953"
             ],
             [
              0.7777777777777778,
              "#fb9f3a"
             ],
             [
              0.8888888888888888,
              "#fdca26"
             ],
             [
              1,
              "#f0f921"
             ]
            ],
            "type": "heatmapgl"
           }
          ],
          "histogram": [
           {
            "marker": {
             "pattern": {
              "fillmode": "overlay",
              "size": 10,
              "solidity": 0.2
             }
            },
            "type": "histogram"
           }
          ],
          "histogram2d": [
           {
            "colorbar": {
             "outlinewidth": 0,
             "ticks": ""
            },
            "colorscale": [
             [
              0,
              "#0d0887"
             ],
             [
              0.1111111111111111,
              "#46039f"
             ],
             [
              0.2222222222222222,
              "#7201a8"
             ],
             [
              0.3333333333333333,
              "#9c179e"
             ],
             [
              0.4444444444444444,
              "#bd3786"
             ],
             [
              0.5555555555555556,
              "#d8576b"
             ],
             [
              0.6666666666666666,
              "#ed7953"
             ],
             [
              0.7777777777777778,
              "#fb9f3a"
             ],
             [
              0.8888888888888888,
              "#fdca26"
             ],
             [
              1,
              "#f0f921"
             ]
            ],
            "type": "histogram2d"
           }
          ],
          "histogram2dcontour": [
           {
            "colorbar": {
             "outlinewidth": 0,
             "ticks": ""
            },
            "colorscale": [
             [
              0,
              "#0d0887"
             ],
             [
              0.1111111111111111,
              "#46039f"
             ],
             [
              0.2222222222222222,
              "#7201a8"
             ],
             [
              0.3333333333333333,
              "#9c179e"
             ],
             [
              0.4444444444444444,
              "#bd3786"
             ],
             [
              0.5555555555555556,
              "#d8576b"
             ],
             [
              0.6666666666666666,
              "#ed7953"
             ],
             [
              0.7777777777777778,
              "#fb9f3a"
             ],
             [
              0.8888888888888888,
              "#fdca26"
             ],
             [
              1,
              "#f0f921"
             ]
            ],
            "type": "histogram2dcontour"
           }
          ],
          "mesh3d": [
           {
            "colorbar": {
             "outlinewidth": 0,
             "ticks": ""
            },
            "type": "mesh3d"
           }
          ],
          "parcoords": [
           {
            "line": {
             "colorbar": {
              "outlinewidth": 0,
              "ticks": ""
             }
            },
            "type": "parcoords"
           }
          ],
          "pie": [
           {
            "automargin": true,
            "type": "pie"
           }
          ],
          "scatter": [
           {
            "fillpattern": {
             "fillmode": "overlay",
             "size": 10,
             "solidity": 0.2
            },
            "type": "scatter"
           }
          ],
          "scatter3d": [
           {
            "line": {
             "colorbar": {
              "outlinewidth": 0,
              "ticks": ""
             }
            },
            "marker": {
             "colorbar": {
              "outlinewidth": 0,
              "ticks": ""
             }
            },
            "type": "scatter3d"
           }
          ],
          "scattercarpet": [
           {
            "marker": {
             "colorbar": {
              "outlinewidth": 0,
              "ticks": ""
             }
            },
            "type": "scattercarpet"
           }
          ],
          "scattergeo": [
           {
            "marker": {
             "colorbar": {
              "outlinewidth": 0,
              "ticks": ""
             }
            },
            "type": "scattergeo"
           }
          ],
          "scattergl": [
           {
            "marker": {
             "colorbar": {
              "outlinewidth": 0,
              "ticks": ""
             }
            },
            "type": "scattergl"
           }
          ],
          "scattermapbox": [
           {
            "marker": {
             "colorbar": {
              "outlinewidth": 0,
              "ticks": ""
             }
            },
            "type": "scattermapbox"
           }
          ],
          "scatterpolar": [
           {
            "marker": {
             "colorbar": {
              "outlinewidth": 0,
              "ticks": ""
             }
            },
            "type": "scatterpolar"
           }
          ],
          "scatterpolargl": [
           {
            "marker": {
             "colorbar": {
              "outlinewidth": 0,
              "ticks": ""
             }
            },
            "type": "scatterpolargl"
           }
          ],
          "scatterternary": [
           {
            "marker": {
             "colorbar": {
              "outlinewidth": 0,
              "ticks": ""
             }
            },
            "type": "scatterternary"
           }
          ],
          "surface": [
           {
            "colorbar": {
             "outlinewidth": 0,
             "ticks": ""
            },
            "colorscale": [
             [
              0,
              "#0d0887"
             ],
             [
              0.1111111111111111,
              "#46039f"
             ],
             [
              0.2222222222222222,
              "#7201a8"
             ],
             [
              0.3333333333333333,
              "#9c179e"
             ],
             [
              0.4444444444444444,
              "#bd3786"
             ],
             [
              0.5555555555555556,
              "#d8576b"
             ],
             [
              0.6666666666666666,
              "#ed7953"
             ],
             [
              0.7777777777777778,
              "#fb9f3a"
             ],
             [
              0.8888888888888888,
              "#fdca26"
             ],
             [
              1,
              "#f0f921"
             ]
            ],
            "type": "surface"
           }
          ],
          "table": [
           {
            "cells": {
             "fill": {
              "color": "#EBF0F8"
             },
             "line": {
              "color": "white"
             }
            },
            "header": {
             "fill": {
              "color": "#C8D4E3"
             },
             "line": {
              "color": "white"
             }
            },
            "type": "table"
           }
          ]
         },
         "layout": {
          "annotationdefaults": {
           "arrowcolor": "#2a3f5f",
           "arrowhead": 0,
           "arrowwidth": 1
          },
          "autotypenumbers": "strict",
          "coloraxis": {
           "colorbar": {
            "outlinewidth": 0,
            "ticks": ""
           }
          },
          "colorscale": {
           "diverging": [
            [
             0,
             "#8e0152"
            ],
            [
             0.1,
             "#c51b7d"
            ],
            [
             0.2,
             "#de77ae"
            ],
            [
             0.3,
             "#f1b6da"
            ],
            [
             0.4,
             "#fde0ef"
            ],
            [
             0.5,
             "#f7f7f7"
            ],
            [
             0.6,
             "#e6f5d0"
            ],
            [
             0.7,
             "#b8e186"
            ],
            [
             0.8,
             "#7fbc41"
            ],
            [
             0.9,
             "#4d9221"
            ],
            [
             1,
             "#276419"
            ]
           ],
           "sequential": [
            [
             0,
             "#0d0887"
            ],
            [
             0.1111111111111111,
             "#46039f"
            ],
            [
             0.2222222222222222,
             "#7201a8"
            ],
            [
             0.3333333333333333,
             "#9c179e"
            ],
            [
             0.4444444444444444,
             "#bd3786"
            ],
            [
             0.5555555555555556,
             "#d8576b"
            ],
            [
             0.6666666666666666,
             "#ed7953"
            ],
            [
             0.7777777777777778,
             "#fb9f3a"
            ],
            [
             0.8888888888888888,
             "#fdca26"
            ],
            [
             1,
             "#f0f921"
            ]
           ],
           "sequentialminus": [
            [
             0,
             "#0d0887"
            ],
            [
             0.1111111111111111,
             "#46039f"
            ],
            [
             0.2222222222222222,
             "#7201a8"
            ],
            [
             0.3333333333333333,
             "#9c179e"
            ],
            [
             0.4444444444444444,
             "#bd3786"
            ],
            [
             0.5555555555555556,
             "#d8576b"
            ],
            [
             0.6666666666666666,
             "#ed7953"
            ],
            [
             0.7777777777777778,
             "#fb9f3a"
            ],
            [
             0.8888888888888888,
             "#fdca26"
            ],
            [
             1,
             "#f0f921"
            ]
           ]
          },
          "colorway": [
           "#636efa",
           "#EF553B",
           "#00cc96",
           "#ab63fa",
           "#FFA15A",
           "#19d3f3",
           "#FF6692",
           "#B6E880",
           "#FF97FF",
           "#FECB52"
          ],
          "font": {
           "color": "#2a3f5f"
          },
          "geo": {
           "bgcolor": "white",
           "lakecolor": "white",
           "landcolor": "#E5ECF6",
           "showlakes": true,
           "showland": true,
           "subunitcolor": "white"
          },
          "hoverlabel": {
           "align": "left"
          },
          "hovermode": "closest",
          "mapbox": {
           "style": "light"
          },
          "paper_bgcolor": "white",
          "plot_bgcolor": "#E5ECF6",
          "polar": {
           "angularaxis": {
            "gridcolor": "white",
            "linecolor": "white",
            "ticks": ""
           },
           "bgcolor": "#E5ECF6",
           "radialaxis": {
            "gridcolor": "white",
            "linecolor": "white",
            "ticks": ""
           }
          },
          "scene": {
           "xaxis": {
            "backgroundcolor": "#E5ECF6",
            "gridcolor": "white",
            "gridwidth": 2,
            "linecolor": "white",
            "showbackground": true,
            "ticks": "",
            "zerolinecolor": "white"
           },
           "yaxis": {
            "backgroundcolor": "#E5ECF6",
            "gridcolor": "white",
            "gridwidth": 2,
            "linecolor": "white",
            "showbackground": true,
            "ticks": "",
            "zerolinecolor": "white"
           },
           "zaxis": {
            "backgroundcolor": "#E5ECF6",
            "gridcolor": "white",
            "gridwidth": 2,
            "linecolor": "white",
            "showbackground": true,
            "ticks": "",
            "zerolinecolor": "white"
           }
          },
          "shapedefaults": {
           "line": {
            "color": "#2a3f5f"
           }
          },
          "ternary": {
           "aaxis": {
            "gridcolor": "white",
            "linecolor": "white",
            "ticks": ""
           },
           "baxis": {
            "gridcolor": "white",
            "linecolor": "white",
            "ticks": ""
           },
           "bgcolor": "#E5ECF6",
           "caxis": {
            "gridcolor": "white",
            "linecolor": "white",
            "ticks": ""
           }
          },
          "title": {
           "x": 0.05
          },
          "xaxis": {
           "automargin": true,
           "gridcolor": "white",
           "linecolor": "white",
           "ticks": "",
           "title": {
            "standoff": 15
           },
           "zerolinecolor": "white",
           "zerolinewidth": 2
          },
          "yaxis": {
           "automargin": true,
           "gridcolor": "white",
           "linecolor": "white",
           "ticks": "",
           "title": {
            "standoff": 15
           },
           "zerolinecolor": "white",
           "zerolinewidth": 2
          }
         }
        },
        "title": {
         "text": "Taux de marge et prix moyen par type de produit"
        },
        "xaxis": {
         "anchor": "y",
         "domain": [
          0,
          1
         ],
         "title": {
          "text": "Type de produit"
         }
        },
        "yaxis": {
         "anchor": "x",
         "domain": [
          0,
          1
         ],
         "title": {
          "text": "Taux de marge moyen"
         }
        }
       }
      }
     },
     "metadata": {},
     "output_type": "display_data"
    }
   ],
   "source": [
    "#Création d'un dataframe avec le taux de marge moyen par type de produit\n",
    "donnees_taux_marge_moyen = round(donnees.groupby('product_type')['taux_marge'].mean().reset_index(),2)\n",
    "\n",
    "#Les trier du plus grand au plus petit\n",
    "donnees_taux_marge_moyen = donnees_taux_marge_moyen.sort_values(by='taux_marge', ascending=False)\n",
    "\n",
    "#Fusionner le dataframe avec celui des prix moyens par catégories sur 'product_type'\n",
    "donnees_taux_marge_moyen = donnees_taux_marge_moyen.merge(donnees_price_moyenne_par_type, on='product_type')\n",
    "\n",
    "#Graphique affichant le taux de marge par type de produit\n",
    "fig = px.bar(donnees_taux_marge_moyen, x='product_type', y='taux_marge',\n",
    "             title='Taux de marge et prix moyen par type de produit',\n",
    "             labels={'product_type': 'Type de produit', 'taux_marge': 'Taux de marge moyen'},\n",
    "             color='taux_marge', \n",
    "             color_continuous_scale='RdBu',\n",
    "             text='price')  \n",
    "\n",
    "#Ajuster le texte pour afficher en euros avec 2 décimales\n",
    "fig.for_each_trace(lambda t: t.update(text=[f'{v:.2f} €' for v in t.text]))\n",
    "\n",
    "#Afficher le graphique\n",
    "fig.show()"
   ]
  },
  {
   "cell_type": "markdown",
   "id": "e4d4415e",
   "metadata": {},
   "source": [
    "<div style=\"font-size: 18px;\">Le champagne représente 9 % du chiffre d'affaires mais sa marge n'est que de 4,79 % <br>\n",
    "Il semble y avoir une erreur de saisie pour un produit ayant un taux de marge de -635.10 %\n",
    "</div>"
   ]
  },
  {
   "cell_type": "markdown",
   "id": "ce216060",
   "metadata": {},
   "source": [
    "<div style=\"border: 1px solid RGB(51,165,182);\" >\n",
    "<h3 style=\"margin: auto; padding: 20px; color: RGB(51,165,182); \">Etape 5.5 - Analyse des correlations entre les variables stock, sales et price</h3>\n",
    "</div>"
   ]
  },
  {
   "cell_type": "code",
   "execution_count": 152,
   "id": "12e4a540",
   "metadata": {},
   "outputs": [],
   "source": [
    "############################\n",
    "# Analyse des correlations #\n",
    "############################\n",
    "#Importation de Seaborn\n",
    "\n",
    "#Création d'un heatmap de correlation avec les variables stock, sales et price\n",
    "#On peut également créer un mask pour n'afficher qu'une demi heatmap"
   ]
  },
  {
   "cell_type": "code",
   "execution_count": 153,
   "id": "41ca8b66",
   "metadata": {},
   "outputs": [
    {
     "data": {
      "image/png": "[encoded data removed]",
      "text/plain": [
       "<Figure size 1000x400 with 2 Axes>"
      ]
     },
     "metadata": {},
     "output_type": "display_data"
    }
   ],
   "source": [
    "#Sélection des colonnes pour l'analyse de corrélation\n",
    "correlation_colonnes = ['stock_quantity', 'total_sales', 'price']\n",
    "\n",
    "#Créer une matrice de corrélation\n",
    "sns.set(rc={'figure.figsize':(10,4)})\n",
    "\n",
    "#Calcul de la matrice de corrélation\n",
    "correlation_matrice = donnees[correlation_colonnes].corr()\n",
    "\n",
    "ax = sns.heatmap(correlation_matrice, xticklabels = correlation_matrice.columns , \n",
    "                 yticklabels = correlation_matrice.columns, cmap = 'coolwarm')"
   ]
  },
  {
   "cell_type": "code",
   "execution_count": 154,
   "id": "e0a25a1a",
   "metadata": {},
   "outputs": [
    {
     "name": "stderr",
     "output_type": "stream",
     "text": [
      "/opt/anaconda3/lib/python3.11/site-packages/seaborn/matrix.py:260: FutureWarning:\n",
      "\n",
      "Format strings passed to MaskedConstant are ignored, but in future may error or produce different behavior\n",
      "\n"
     ]
    },
    {
     "data": {
      "image/png": "[encoded data removed]",
      "text/plain": [
       "<Figure size 800x600 with 2 Axes>"
      ]
     },
     "metadata": {},
     "output_type": "display_data"
    }
   ],
   "source": [
    "#Créer un masque pour n'afficher que la moitié de la heatmap\n",
    "mask = np.triu(np.ones_like(correlation_matrice, dtype=bool))\n",
    "\n",
    "#Créer la heatmap avec Seaborn\n",
    "plt.figure(figsize=(8, 6))\n",
    "sns.heatmap(correlation_matrice, annot=True, fmt=\".2f\", mask=mask, cmap='coolwarm', linewidths=0.5, cbar_kws={\"shrink\": .8})\n",
    "\n",
    "#Afficher le titre\n",
    "plt.title('Demie heatmap de corrélation entre Stock, Ventes et Prix')\n",
    "\n",
    "#Affichage de la heatmap\n",
    "plt.show()"
   ]
  },
  {
   "cell_type": "code",
   "execution_count": 155,
   "id": "b59a6333",
   "metadata": {},
   "outputs": [
    {
     "data": {
      "image/png": "[encoded data removed]",
      "text/plain": [
       "<Figure size 800x600 with 2 Axes>"
      ]
     },
     "metadata": {},
     "output_type": "display_data"
    }
   ],
   "source": [
    "#Créer la heatmap en utilisant une corrélation de Pearson \n",
    "from scipy.stats import pearsonr\n",
    "\n",
    "#Calculer la matrice de corrélation avec la méthode Pearson\n",
    "correlation_matrice_pearson = donnees[correlation_colonnes].corr(method='pearson')\n",
    "\n",
    "#Fonction pour calculer les p-values avec pearsonr\n",
    "def calcul_p_values_pearson(df):\n",
    "    p_values = pd.DataFrame(np.zeros((df.shape[1], df.shape[1])), columns=df.columns, index=df.columns)\n",
    "    for i in df.columns:\n",
    "        for j in df.columns:\n",
    "            if i != j:\n",
    "                corr_test = pearsonr(df[i], df[j])\n",
    "                p_values.loc[i, j] = corr_test[1]\n",
    "            else:\n",
    "                p_values.loc[i, j] = np.nan\n",
    "    return p_values\n",
    "\n",
    "#Calculer les p-values pour les colonnes sélectionnées\n",
    "p_value_matrice_pearson = calcul_p_values_pearson(donnees[correlation_colonnes])\n",
    "\n",
    "#Créer la heatmap avec les coefficients de corrélation et les annotations\n",
    "plt.figure(figsize=(8, 6))\n",
    "sns.heatmap(correlation_matrice_pearson, annot=True, fmt=\".2f\", cmap='Blues', linewidths=0.5, cbar_kws={\"shrink\": .8})\n",
    "\n",
    "#Ajouter le titre\n",
    "plt.title('Heatmap des corrélations (Pearson)')\n",
    "\n",
    "#Afficher la heatmap\n",
    "plt.show()"
   ]
  },
  {
   "cell_type": "code",
   "execution_count": 156,
   "id": "e5d98c0c",
   "metadata": {},
   "outputs": [
    {
     "data": {
      "image/png": "[encoded data removed]",
      "text/plain": [
       "<Figure size 800x600 with 2 Axes>"
      ]
     },
     "metadata": {},
     "output_type": "display_data"
    }
   ],
   "source": [
    "#Créer la heatmap en utilisant une corrélation de Spearman :\n",
    "from scipy.stats import spearmanr\n",
    "\n",
    "#Calculer de la matrice de corrélation avec .corr() en utilisant la méthode Spearman\n",
    "correlation_matrice_spearman = donnees[correlation_colonnes].corr(method='spearman')\n",
    "\n",
    "#Fonction pour calculer les p-values avec spearmanr\n",
    "def calcul_p_values_spearman(df):\n",
    "    p_values = pd.DataFrame(np.zeros((df.shape[1], df.shape[1])), columns=df.columns, index=df.columns)\n",
    "    for i in df.columns:\n",
    "        for j in df.columns:\n",
    "            if i != j:\n",
    "                corr_test = spearmanr(df[i], df[j])\n",
    "                p_values.loc[i, j] = corr_test[1]  # La p-value est le deuxième élément retourné par spearmanr\n",
    "            else:\n",
    "                p_values.loc[i, j] = np.nan  # On ne calcule pas la p-value pour une corrélation avec elle-même\n",
    "    return p_values\n",
    "\n",
    "#Calculer des p-values pour les colonnes sélectionnées en utilisant le test de Spearman\n",
    "p_value_matrice_spearman = calcul_p_values_spearman(donnees[correlation_colonnes])\n",
    "\n",
    "#Créer d'un masque pour n'afficher qu'une demi heatmap\n",
    "mask = np.triu(np.ones_like(correlation_matrice_spearman, dtype=bool))\n",
    "\n",
    "#Créer la heatmap avec les coefficients de corrélation et les annotations\n",
    "plt.figure(figsize=(8, 6))\n",
    "sns.heatmap(correlation_matrice_spearman, annot=True, fmt=\".2f\", cmap='RdBu', center=0, linewidths=1, vmin=-1, vmax=1, cbar_kws={\"shrink\": .8})\n",
    "\n",
    "#Ajouter le titre\n",
    "plt.title('Heatmap des corrélations (Spearman)')\n",
    "\n",
    "#Afficher la heatmap\n",
    "plt.show()"
   ]
  },
  {
   "cell_type": "markdown",
   "id": "f7fc997e",
   "metadata": {},
   "source": [
    "<div style=\"font-size: 18px;\">La heatmap la plus pertinente est celle créée en utilisant la méthode de Spearman<br>\n",
    "Il y a une très forte corrélation entre <strong>stock_quantity</strong> et <strong>total_sales</strong><br>\n",
    "Il ya aussi une corrélation négative assez forte entre <strong>price</strong> et <strong>total_sales</strong>, ce qui signifie que les ventes baissent lorsque les prix sont élevés\n",
    "</div>"
   ]
  },
  {
   "cell_type": "markdown",
   "id": "f1d22f1d",
   "metadata": {},
   "source": [
    "<div style=\"border: 1px solid RGB(51,165,182);\" >\n",
    "<h3 style=\"margin: auto; padding: 20px; color: RGB(51,165,182); \">Etape 5.6 - Mettre à disposition la nouvelle table sur un fichier Excel</h3>\n",
    "</div>"
   ]
  },
  {
   "cell_type": "code",
   "execution_count": 157,
   "id": "09bfe632",
   "metadata": {},
   "outputs": [],
   "source": [
    "#Mettre le dataset sur un fichier Excel\n",
    "#Cette étape peut-être utile pour partager le résultat du dataset obtenu pour le partager avec les équipes.  \n",
    "\n",
    "chemin_fichier_excel = '/Users/adrianaguilera/Desktop/P6/donnees.xlsx'\n",
    "donnees.to_excel(chemin_fichier_excel, index=False)"
   ]
  }
 ],
 "metadata": {
  "kernelspec": {
   "display_name": "Python 3 (ipykernel)",
   "language": "python",
   "name": "python3"
  },
  "language_info": {
   "codemirror_mode": {
    "name": "ipython",
    "version": 3
   },
   "file_extension": ".py",
   "mimetype": "text/x-python",
   "name": "python",
   "nbconvert_exporter": "python",
   "pygments_lexer": "ipython3",
   "version": "3.11.7"
  }
 },
 "nbformat": 4,
 "nbformat_minor": 5
}
